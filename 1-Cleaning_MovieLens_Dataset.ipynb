{
 "cells": [
  {
   "cell_type": "markdown",
   "id": "b978f614-2672-46df-af23-638855270196",
   "metadata": {},
   "source": [
    "## Table of Contents\n",
    "\n",
    "1. [Introduction](#intro)\n",
    "2. [Data Loading & Cleaning](#data-loading)\n",
    "    - [Load & Inspect Movies Dataset](#movies-loading)\n",
    "    - [Clean Movies Dataset](#movies-cleaning)\n",
    "    - [Load & Inspect Reviews Dataset](#reviews-loading)\n",
    "    - [Clean Reviews Dataset](#reviews-cleaning)\n",
    "    - [Load & Clean Extra Reviews Dataset](#extra-reviews)\n",
    "3. [Create List of Final `imdb_id`s](#final-list)\n",
    "4. [Checkpoint & Recap](#checkpoint)\n",
    "5. [Load & Clean Metadata](#metadata)\n",
    "6. [Filtering Final Reivews Dataframe](#final-reviews)\n",
    "7. [Next Up](#next-up)"
   ]
  },
  {
   "cell_type": "markdown",
   "id": "85c72ca9-599b-4256-99ab-b39b2952a0cc",
   "metadata": {
    "tags": []
   },
   "source": [
    "## Introduction\n",
    "\n",
    "The overarching objective of this analysis is to **predict a movie's IMDb star rating using both review text and various metadata features such as genre, actors, director, budget, and revenue**. This notebook is specifically devoted to the tasks of data cleaning and data wrangling, preparing our main datasets for analysis."
   ]
  },
  {
   "cell_type": "markdown",
   "id": "5ee9153e-dfb0-4df2-bfaf-7dc9fefcd2fe",
   "metadata": {
    "tags": []
   },
   "source": [
    "## Data Sources\n",
    "\n",
    "We will be using several different datasets throughout our analysis. It was challenging to find a dataset that contained both sufficient review text for a large enough set of movies in addition to metadata about those movies. Thus, we will be joining together 3 datasets from different sources in order to create a final dataset that we can use for this analysis. \n",
    "\n",
    "What makes this possible is the common IMDb ID across all three datasets.\n",
    "\n",
    "#### Dataset 1 - MovieLens Review Data\n",
    "Movies and Review Text - This dataset (2 files) was taken from MovieLens and contains the IMDb review text, along with basic features such as title, director, actor, and the average rating given by MovieLens users. We will not be using this rating, since our goal is to predict IMDb rating, and our reivew text comes from IMDb. \n",
    "- The review dataset contains ~52k unique movies, and the movies dataset contains ~84k unique movies \n",
    "- Review text dataset contains just the user review text, and an `item_id` per movie. \n",
    "- The other contains some movie data and corresponding `item_id` along with `imdb_id`. The main purpose of this dataset is to be able to assign an `imdb_id` to each row of user review text that wek have.\n",
    "- Dataset link: https://grouplens.org/datasets/movielens/tag-genome-2021/\n",
    "\n",
    "#### Dataset 2 - Spoilers Review Data \n",
    "We will supplement our user review text with an additional dataset that also contains user review text and basic movie information. Vey similar structure to the MovieLens dataset. However, while this dataset contains a large number of user reivews, it has only ~1500 unique movies. Luckily, the 1500 movies here are contained within the MovieLens dataset, so we will use these additional reviews to supplement our corpus of user review text. \n",
    "- Contains `imdb_id` that can be easily joined to the MovieLens reviews\n",
    "- Dataset link: https://www.kaggle.com/datasets/rmisra/imdb-spoiler-dataset\n",
    "\n",
    "#### Dataset 3 - TMDB Metadata \n",
    "Movie Metadata - This dataset was taken from TMDB and contains 100k movies and 27 features of movie metadata, such as budget, director, actor, production company, budget, revenue, original language, etc. We will be using as many of these features as we can. This dataset contains most of the movies from our MovieLens dataset. Thus, once we have cleaned this dataset (done in another notebook), we will join it to our MovieLens reviews data to get our final dataframe.\n",
    "- This dataset also includes the `imdb_id`, allowing us to easily filter it to our desired set of IDs \n",
    "- This dataset will be cleaned in a separate notebook, and the finished product used in this notebook \n",
    "- Dataset link: https://www.kaggle.com/datasets/kakarlaramcharan/tmdb-data-0920\n",
    "\n",
    "Ultimately, for our final dataframe, the goal is to have just one row per movie containing all metadata and review text."
   ]
  },
  {
   "cell_type": "markdown",
   "id": "5273a1ec-f19d-4d2d-9efb-d7e17796ba23",
   "metadata": {
    "tags": []
   },
   "source": [
    "### Data Loading <a name=\"data-loading\"></a>"
   ]
  },
  {
   "cell_type": "code",
   "execution_count": 1,
   "id": "6d4ed1ac-ad02-4b3b-b208-32b256ca9e9d",
   "metadata": {
    "tags": []
   },
   "outputs": [],
   "source": [
    "# Importing libraries we will likely need for EDA\n",
    "import pandas as pd\n",
    "import numpy as np\n",
    "\n",
    "import seaborn as sns\n",
    "import matplotlib.pyplot as plt\n",
    "\n",
    "# To read dataset in JSON format\n",
    "import json"
   ]
  },
  {
   "cell_type": "markdown",
   "id": "0fd19d4d-3bbc-4e91-862d-9586f390a750",
   "metadata": {
    "tags": []
   },
   "source": [
    "### Load & Inspect Movies Dataset <a name=\"movies-loading\"></a>"
   ]
  },
  {
   "cell_type": "markdown",
   "id": "5f57dc19-49c8-4761-81e5-e2f37f8912e8",
   "metadata": {},
   "source": [
    "This is our first dataset from the MovieLens pair of datasets, and contains basic movie information. The main feature of interest here is the IMDb ID, which we need in order to join multiple dataset together."
   ]
  },
  {
   "cell_type": "code",
   "execution_count": 2,
   "id": "fa3ed7ae-60de-4444-81ee-23490171f9b5",
   "metadata": {
    "tags": []
   },
   "outputs": [],
   "source": [
    "# Load movies JSON file\n",
    "movies_df = pd.read_json('data/movie_dataset_public_final/raw/metadata_updated.json', lines=True)"
   ]
  },
  {
   "cell_type": "code",
   "execution_count": 3,
   "id": "e1c5f935-f209-413b-8bab-9a7eab18714e",
   "metadata": {
    "tags": []
   },
   "outputs": [
    {
     "data": {
      "text/html": [
       "<div>\n",
       "<style scoped>\n",
       "    .dataframe tbody tr th:only-of-type {\n",
       "        vertical-align: middle;\n",
       "    }\n",
       "\n",
       "    .dataframe tbody tr th {\n",
       "        vertical-align: top;\n",
       "    }\n",
       "\n",
       "    .dataframe thead th {\n",
       "        text-align: right;\n",
       "    }\n",
       "</style>\n",
       "<table border=\"1\" class=\"dataframe\">\n",
       "  <thead>\n",
       "    <tr style=\"text-align: right;\">\n",
       "      <th></th>\n",
       "      <th>title</th>\n",
       "      <th>directedBy</th>\n",
       "      <th>starring</th>\n",
       "      <th>avgRating</th>\n",
       "      <th>imdbId</th>\n",
       "      <th>item_id</th>\n",
       "    </tr>\n",
       "  </thead>\n",
       "  <tbody>\n",
       "    <tr>\n",
       "      <th>0</th>\n",
       "      <td>Toy Story (1995)</td>\n",
       "      <td>John Lasseter</td>\n",
       "      <td>Tim Allen, Tom Hanks, Don Rickles, Jim Varney,...</td>\n",
       "      <td>3.89146</td>\n",
       "      <td>114709</td>\n",
       "      <td>1</td>\n",
       "    </tr>\n",
       "    <tr>\n",
       "      <th>1</th>\n",
       "      <td>Jumanji (1995)</td>\n",
       "      <td>Joe Johnston</td>\n",
       "      <td>Jonathan Hyde, Bradley Pierce, Robin Williams,...</td>\n",
       "      <td>3.26605</td>\n",
       "      <td>113497</td>\n",
       "      <td>2</td>\n",
       "    </tr>\n",
       "    <tr>\n",
       "      <th>2</th>\n",
       "      <td>Grumpier Old Men (1995)</td>\n",
       "      <td>Howard Deutch</td>\n",
       "      <td>Jack Lemmon, Walter Matthau, Ann-Margret , Sop...</td>\n",
       "      <td>3.17146</td>\n",
       "      <td>113228</td>\n",
       "      <td>3</td>\n",
       "    </tr>\n",
       "    <tr>\n",
       "      <th>3</th>\n",
       "      <td>Waiting to Exhale (1995)</td>\n",
       "      <td>Forest Whitaker</td>\n",
       "      <td>Angela Bassett, Loretta Devine, Whitney Housto...</td>\n",
       "      <td>2.86824</td>\n",
       "      <td>114885</td>\n",
       "      <td>4</td>\n",
       "    </tr>\n",
       "    <tr>\n",
       "      <th>4</th>\n",
       "      <td>Father of the Bride Part II (1995)</td>\n",
       "      <td>Charles Shyer</td>\n",
       "      <td>Steve Martin, Martin Short, Diane Keaton, Kimb...</td>\n",
       "      <td>3.07620</td>\n",
       "      <td>113041</td>\n",
       "      <td>5</td>\n",
       "    </tr>\n",
       "  </tbody>\n",
       "</table>\n",
       "</div>"
      ],
      "text/plain": [
       "                                title       directedBy  \\\n",
       "0                    Toy Story (1995)    John Lasseter   \n",
       "1                      Jumanji (1995)     Joe Johnston   \n",
       "2             Grumpier Old Men (1995)    Howard Deutch   \n",
       "3            Waiting to Exhale (1995)  Forest Whitaker   \n",
       "4  Father of the Bride Part II (1995)    Charles Shyer   \n",
       "\n",
       "                                            starring  avgRating  imdbId  \\\n",
       "0  Tim Allen, Tom Hanks, Don Rickles, Jim Varney,...    3.89146  114709   \n",
       "1  Jonathan Hyde, Bradley Pierce, Robin Williams,...    3.26605  113497   \n",
       "2  Jack Lemmon, Walter Matthau, Ann-Margret , Sop...    3.17146  113228   \n",
       "3  Angela Bassett, Loretta Devine, Whitney Housto...    2.86824  114885   \n",
       "4  Steve Martin, Martin Short, Diane Keaton, Kimb...    3.07620  113041   \n",
       "\n",
       "   item_id  \n",
       "0        1  \n",
       "1        2  \n",
       "2        3  \n",
       "3        4  \n",
       "4        5  "
      ]
     },
     "execution_count": 3,
     "metadata": {},
     "output_type": "execute_result"
    }
   ],
   "source": [
    "# Inspect the dataframe\n",
    "movies_df.head()"
   ]
  },
  {
   "cell_type": "markdown",
   "id": "52d46c06-e7e5-4149-90e6-cd81b749fa30",
   "metadata": {},
   "source": [
    "After looking up some of the `imdbId`s on IMDB, we can see they are missing \"tt\" and potentially \"0\" before the number in the column. For example, the IMDb URL for Toy Story is https://www.imdb.com/title/tt0114709/, so the true IMDb ID is tt0114709. However, in the dataset it's stored as '11709'. We'll need to take a closer look at this column and decide how to make changes. \n",
    "\n",
    "If we want to get information on additional features about movies from other datasets, we will need to join this dataset on the true IMDb ID, so we'll need to transform our IDs here to make that possible. "
   ]
  },
  {
   "cell_type": "code",
   "execution_count": 4,
   "id": "6f77a2d7-9572-4464-8807-47179c5c9f19",
   "metadata": {
    "tags": []
   },
   "outputs": [
    {
     "name": "stdout",
     "output_type": "stream",
     "text": [
      "<class 'pandas.core.frame.DataFrame'>\n",
      "RangeIndex: 84661 entries, 0 to 84660\n",
      "Data columns (total 6 columns):\n",
      " #   Column      Non-Null Count  Dtype  \n",
      "---  ------      --------------  -----  \n",
      " 0   title       84661 non-null  object \n",
      " 1   directedBy  84661 non-null  object \n",
      " 2   starring    84661 non-null  object \n",
      " 3   avgRating   84661 non-null  float64\n",
      " 4   imdbId      84661 non-null  int64  \n",
      " 5   item_id     84661 non-null  int64  \n",
      "dtypes: float64(1), int64(2), object(3)\n",
      "memory usage: 3.9+ MB\n"
     ]
    }
   ],
   "source": [
    "# Check the shape and dtypes\n",
    "movies_df.info()"
   ]
  },
  {
   "cell_type": "markdown",
   "id": "0bf95c16-4ae1-44e6-bb74-ea4991729e6c",
   "metadata": {},
   "source": [
    "We see that `imdbId` is stored as an integer. In order to figure out how we need to change each of the IDs, let's look at a sample of the unique values. We can convert the column to a string, then save and sort the unique values."
   ]
  },
  {
   "cell_type": "code",
   "execution_count": 5,
   "id": "575a9076-36e6-457d-aa24-efff44dd3f5f",
   "metadata": {
    "tags": []
   },
   "outputs": [
    {
     "name": "stdout",
     "output_type": "stream",
     "text": [
      "['1', '10', '100004', '1000095', '100014', '100024', '100029', '10003008', '100031', '100033', '100034', '100038', '10003978', '10004368', '100045', '100046', '100047', '100048', '100049', '10004944', '100050', '100052', '100053', '100054', '100056', '100057', '100058', '10006006', '10006122', '100063', '100065', '100070', '100071', '1000764', '1000768', '1000769', '1000771', '1000774', '1000775', '1000786', '100079', '100087', '10008784', '100089', '10009030', '10009148', '100093', '10009434', '100095', '100097']\n"
     ]
    }
   ],
   "source": [
    "# Convert to string and get unique values \n",
    "id_values = movies_df['imdbId'].astype(str).unique()\n",
    "sorted_id_values = sorted(id_values)\n",
    "\n",
    "print(sorted_id_values[:50])"
   ]
  },
  {
   "cell_type": "markdown",
   "id": "1810fa10-ad3c-4940-bde9-ac427ca42637",
   "metadata": {},
   "source": [
    "Let's examine the movie that has `imdbId` of 1:"
   ]
  },
  {
   "cell_type": "code",
   "execution_count": 6,
   "id": "1b78cf9e-0a5f-4deb-8350-2a437d755c0b",
   "metadata": {
    "tags": []
   },
   "outputs": [
    {
     "name": "stdout",
     "output_type": "stream",
     "text": [
      "                   title             directedBy    starring  avgRating  \\\n",
      "51108  Carmencita (1894)  William K.L. Dickson   Carmencita    2.34375   \n",
      "\n",
      "       imdbId  item_id  \n",
      "51108       1   172063  \n"
     ]
    }
   ],
   "source": [
    "# Filter for imdbId of 1 \n",
    "filtered_row = movies_df[movies_df['imdbId'] == 1]\n",
    "\n",
    "print(filtered_row)"
   ]
  },
  {
   "cell_type": "markdown",
   "id": "cabf9f0c-d2f5-4837-8d50-5615f7489230",
   "metadata": {},
   "source": [
    "If we look up this title on IMDb, we can see that the true IMDb ID is tt0000001. We can also see that some IDs have 8 or more characters. Let's double check what the maximum length of our `imdbId` column is. "
   ]
  },
  {
   "cell_type": "code",
   "execution_count": 7,
   "id": "a7e51485-bd72-4b1b-8cfb-07054f6b0105",
   "metadata": {
    "tags": []
   },
   "outputs": [
    {
     "name": "stdout",
     "output_type": "stream",
     "text": [
      "The maximum number of characters in imdbId is: 8\n"
     ]
    }
   ],
   "source": [
    "max_length = movies_df['imdbId'].astype(str).str.len().max()\n",
    "print(\"The maximum number of characters in imdbId is:\", max_length)"
   ]
  },
  {
   "cell_type": "markdown",
   "id": "b77d1930-564d-486f-88f9-f1c9af1e5a99",
   "metadata": {},
   "source": [
    "So, the maximum number of characters in `imdbId` column is 8. We know the true IMDb IDs should have either 7 or 8 characters. So we'll need to make changes as follows:\n",
    "- For any `imdbId`s with 6 or fewer characters, append 'tt' to front of string, plus enough zeros to bring the total character count to 7 \n",
    "- For any `imdbId`s with 7 or 8 characters: append 'tt' to front of string \n",
    "\n",
    "We'll finish checking out the rest of the data before making any changes."
   ]
  },
  {
   "cell_type": "code",
   "execution_count": 8,
   "id": "d55d0881-364b-4f4e-b42c-37053a2ab71d",
   "metadata": {
    "tags": []
   },
   "outputs": [
    {
     "data": {
      "text/plain": [
       "title         0\n",
       "directedBy    0\n",
       "starring      0\n",
       "avgRating     0\n",
       "imdbId        0\n",
       "item_id       0\n",
       "dtype: int64"
      ]
     },
     "execution_count": 8,
     "metadata": {},
     "output_type": "execute_result"
    }
   ],
   "source": [
    "# Double check for null values\n",
    "movies_df.isna().sum()"
   ]
  },
  {
   "cell_type": "code",
   "execution_count": 9,
   "id": "d44f0776-97ac-412f-b97b-19cbdd2c19ac",
   "metadata": {
    "tags": []
   },
   "outputs": [
    {
     "data": {
      "text/plain": [
       "0"
      ]
     },
     "execution_count": 9,
     "metadata": {},
     "output_type": "execute_result"
    }
   ],
   "source": [
    "# Check for duplciate rows\n",
    "movies_df.duplicated().sum()"
   ]
  },
  {
   "cell_type": "code",
   "execution_count": 10,
   "id": "72ea15dc-cb7a-4296-bfb6-22715c861a3f",
   "metadata": {
    "tags": []
   },
   "outputs": [
    {
     "data": {
      "text/plain": [
       "84661"
      ]
     },
     "execution_count": 10,
     "metadata": {},
     "output_type": "execute_result"
    }
   ],
   "source": [
    "# Check unique number of movies (by item id)\n",
    "movies_df['item_id'].nunique()"
   ]
  },
  {
   "cell_type": "code",
   "execution_count": 11,
   "id": "67be7b35-67e9-46cf-bfae-55b27d3d2d4b",
   "metadata": {
    "tags": []
   },
   "outputs": [
    {
     "data": {
      "text/plain": [
       "84661"
      ]
     },
     "execution_count": 11,
     "metadata": {},
     "output_type": "execute_result"
    }
   ],
   "source": [
    "# Confirm unique IMDb IDs matches unique item IDs\n",
    "movies_df['imdbId'].nunique()"
   ]
  },
  {
   "cell_type": "markdown",
   "id": "65cf3382-7ed8-4255-8c79-31d2ba0b1d32",
   "metadata": {},
   "source": [
    "**Movies Data Inspection Summary**\n",
    "<br>We've successfully loaded our movies dataset and \n",
    "- verified there are no duplicate or null values \n",
    "- verified the number of unique movies represented in the dataset, as this will be key to ensuring we have enough data for modelling\n",
    "- confirmed the datatypes for each column are appropriate, except for `imdbId`, which we will need to change (as mentioned earlier) in order to join with another dataset\n",
    "- confirmed that the count of `item_id` matches the count of `imdbId`, since we want to join additional datasets on the IMDb ID\n",
    "\n",
    "**Cleaning Notes:** \n",
    "- convert `imdbId` to string/object and append tt0 to all entries"
   ]
  },
  {
   "cell_type": "markdown",
   "id": "f7aee7e8-3f9c-4240-a04e-35557296b438",
   "metadata": {
    "tags": []
   },
   "source": [
    "### Clean Movies Dataset <a name=\"movies-cleaning\"></a>"
   ]
  },
  {
   "cell_type": "markdown",
   "id": "116d7e3a-5f18-407f-9b0f-ca146585e94c",
   "metadata": {},
   "source": [
    "Our major cleaning task for `movies_df` will be to convert the `imdbId` as discussed above. The best way to do this will be to define a function that appends the appropriate characters based on the string length. Since `imdbId` is currently stored as an integer, we'll first convert to a string, then define our function, and apply the transformation."
   ]
  },
  {
   "cell_type": "code",
   "execution_count": 12,
   "id": "42431cc4-db1a-4a57-b6af-6510100970a7",
   "metadata": {},
   "outputs": [],
   "source": [
    "# Convert 'imdbId' to string\n",
    "\n",
    "movies_df['imdbId'] = movies_df['imdbId'].astype(str)\n",
    "\n",
    "# Define a function \n",
    "\n",
    "def transform_imdbId(id_str):\n",
    "    length = len(id_str)\n",
    "    \n",
    "    if length <= 6:\n",
    "        \n",
    "        # Append 'tt' and enough zeros to make it 7 characters\n",
    "        \n",
    "        return 'tt' + '0' * (7 - length) + id_str\n",
    "    elif length == 7 or length == 8:\n",
    "        \n",
    "        # Append 'tt' to the front\n",
    "        return 'tt' + id_str\n",
    "\n",
    "# Apply transform_imdbId function to 'imdbId' column\n",
    "\n",
    "movies_df['imdbId'] = movies_df['imdbId'].apply(transform_imdbId)"
   ]
  },
  {
   "cell_type": "code",
   "execution_count": 13,
   "id": "e29e02b9-c7b3-4e7d-a170-caf5fc5169b9",
   "metadata": {
    "tags": []
   },
   "outputs": [
    {
     "data": {
      "text/html": [
       "<div>\n",
       "<style scoped>\n",
       "    .dataframe tbody tr th:only-of-type {\n",
       "        vertical-align: middle;\n",
       "    }\n",
       "\n",
       "    .dataframe tbody tr th {\n",
       "        vertical-align: top;\n",
       "    }\n",
       "\n",
       "    .dataframe thead th {\n",
       "        text-align: right;\n",
       "    }\n",
       "</style>\n",
       "<table border=\"1\" class=\"dataframe\">\n",
       "  <thead>\n",
       "    <tr style=\"text-align: right;\">\n",
       "      <th></th>\n",
       "      <th>title</th>\n",
       "      <th>directedBy</th>\n",
       "      <th>starring</th>\n",
       "      <th>avgRating</th>\n",
       "      <th>imdbId</th>\n",
       "      <th>item_id</th>\n",
       "    </tr>\n",
       "  </thead>\n",
       "  <tbody>\n",
       "    <tr>\n",
       "      <th>45473</th>\n",
       "      <td>Dobbiamo parlare (2015)</td>\n",
       "      <td>Sergio Rubini</td>\n",
       "      <td>Sergio Rubini,Fabrizio Bentivoglio,Maria Pia C...</td>\n",
       "      <td>3.00000</td>\n",
       "      <td>tt5217644</td>\n",
       "      <td>160658</td>\n",
       "    </tr>\n",
       "    <tr>\n",
       "      <th>20600</th>\n",
       "      <td>Crossfire Hurricane (2012)</td>\n",
       "      <td>Brett Morgen</td>\n",
       "      <td>Mick Jagger, Keith Richards, Charlie Watts, Ro...</td>\n",
       "      <td>3.52381</td>\n",
       "      <td>tt2370140</td>\n",
       "      <td>100036</td>\n",
       "    </tr>\n",
       "    <tr>\n",
       "      <th>50494</th>\n",
       "      <td>From a House on Willow Street (2017)</td>\n",
       "      <td>Alastair Orr</td>\n",
       "      <td>Sharni Vinson,Carlyn Burchell,Steve John Ward,...</td>\n",
       "      <td>2.37879</td>\n",
       "      <td>tt4961380</td>\n",
       "      <td>170835</td>\n",
       "    </tr>\n",
       "    <tr>\n",
       "      <th>30521</th>\n",
       "      <td>Demonic (2015)</td>\n",
       "      <td>Will Canon</td>\n",
       "      <td>Maria Bello,Frank Grillo,Cody Horn,Dustin Mill...</td>\n",
       "      <td>2.61000</td>\n",
       "      <td>tt1841642</td>\n",
       "      <td>129372</td>\n",
       "    </tr>\n",
       "    <tr>\n",
       "      <th>1127</th>\n",
       "      <td>Return of Martin Guerre, The (Retour de Martin...</td>\n",
       "      <td>Daniel Vigne</td>\n",
       "      <td>Gérard Depardieu, Nathalie Baye, Maurice Barri...</td>\n",
       "      <td>3.88517</td>\n",
       "      <td>tt0084589</td>\n",
       "      <td>1150</td>\n",
       "    </tr>\n",
       "    <tr>\n",
       "      <th>33646</th>\n",
       "      <td>Double Wedding (2010)</td>\n",
       "      <td>Craig Pryce</td>\n",
       "      <td>Tia Mowry,Tamera Mowry,Ardon Bess,Robin Brûlé,...</td>\n",
       "      <td>3.16667</td>\n",
       "      <td>tt1586740</td>\n",
       "      <td>135963</td>\n",
       "    </tr>\n",
       "    <tr>\n",
       "      <th>4554</th>\n",
       "      <td>Monkey's Mask, The (2000)</td>\n",
       "      <td>Samantha Lang</td>\n",
       "      <td>Marton Csokas, Abbie Cornish, Kelly McGillis, ...</td>\n",
       "      <td>2.36957</td>\n",
       "      <td>tt0259442</td>\n",
       "      <td>4648</td>\n",
       "    </tr>\n",
       "    <tr>\n",
       "      <th>34281</th>\n",
       "      <td>Spilt Milk (2010)</td>\n",
       "      <td></td>\n",
       "      <td></td>\n",
       "      <td>4.25000</td>\n",
       "      <td>tt1507351</td>\n",
       "      <td>137242</td>\n",
       "    </tr>\n",
       "    <tr>\n",
       "      <th>32347</th>\n",
       "      <td>Variety (1983)</td>\n",
       "      <td>Bette Gordon</td>\n",
       "      <td>Sandy McLeod,Luis Guzmán,Will Patton,Richard D...</td>\n",
       "      <td>3.60000</td>\n",
       "      <td>tt0090251</td>\n",
       "      <td>133293</td>\n",
       "    </tr>\n",
       "    <tr>\n",
       "      <th>42398</th>\n",
       "      <td>Spike Island (2012)</td>\n",
       "      <td>Mat Whitecross</td>\n",
       "      <td>Elliott Tittensor,Emilia Clarke,Nico Mirallegr...</td>\n",
       "      <td>3.22222</td>\n",
       "      <td>tt1827579</td>\n",
       "      <td>154178</td>\n",
       "    </tr>\n",
       "  </tbody>\n",
       "</table>\n",
       "</div>"
      ],
      "text/plain": [
       "                                                   title      directedBy  \\\n",
       "45473                            Dobbiamo parlare (2015)   Sergio Rubini   \n",
       "20600                         Crossfire Hurricane (2012)    Brett Morgen   \n",
       "50494               From a House on Willow Street (2017)    Alastair Orr   \n",
       "30521                                     Demonic (2015)      Will Canon   \n",
       "1127   Return of Martin Guerre, The (Retour de Martin...    Daniel Vigne   \n",
       "33646                              Double Wedding (2010)     Craig Pryce   \n",
       "4554                           Monkey's Mask, The (2000)   Samantha Lang   \n",
       "34281                                  Spilt Milk (2010)                   \n",
       "32347                                     Variety (1983)    Bette Gordon   \n",
       "42398                                Spike Island (2012)  Mat Whitecross   \n",
       "\n",
       "                                                starring  avgRating  \\\n",
       "45473  Sergio Rubini,Fabrizio Bentivoglio,Maria Pia C...    3.00000   \n",
       "20600  Mick Jagger, Keith Richards, Charlie Watts, Ro...    3.52381   \n",
       "50494  Sharni Vinson,Carlyn Burchell,Steve John Ward,...    2.37879   \n",
       "30521  Maria Bello,Frank Grillo,Cody Horn,Dustin Mill...    2.61000   \n",
       "1127   Gérard Depardieu, Nathalie Baye, Maurice Barri...    3.88517   \n",
       "33646  Tia Mowry,Tamera Mowry,Ardon Bess,Robin Brûlé,...    3.16667   \n",
       "4554   Marton Csokas, Abbie Cornish, Kelly McGillis, ...    2.36957   \n",
       "34281                                                       4.25000   \n",
       "32347  Sandy McLeod,Luis Guzmán,Will Patton,Richard D...    3.60000   \n",
       "42398  Elliott Tittensor,Emilia Clarke,Nico Mirallegr...    3.22222   \n",
       "\n",
       "          imdbId  item_id  \n",
       "45473  tt5217644   160658  \n",
       "20600  tt2370140   100036  \n",
       "50494  tt4961380   170835  \n",
       "30521  tt1841642   129372  \n",
       "1127   tt0084589     1150  \n",
       "33646  tt1586740   135963  \n",
       "4554   tt0259442     4648  \n",
       "34281  tt1507351   137242  \n",
       "32347  tt0090251   133293  \n",
       "42398  tt1827579   154178  "
      ]
     },
     "execution_count": 13,
     "metadata": {},
     "output_type": "execute_result"
    }
   ],
   "source": [
    "# Check a sample to make sure our transformation worked \n",
    "\n",
    "movies_df.sample(10)"
   ]
  },
  {
   "cell_type": "markdown",
   "id": "c4692fd3-a01f-477b-9635-67ea754c4eb4",
   "metadata": {},
   "source": [
    "Great! It looks like our transformation worked! After spot checking a few samples of the transformed `imdbId`s, all of them pull up correctly using the IMDb URL format.\n",
    "\n",
    "Let's re-name the imdbId column to `imdb_id`."
   ]
  },
  {
   "cell_type": "code",
   "execution_count": 14,
   "id": "16b2d4eb-1d83-40a6-9c2d-61c1c26dae26",
   "metadata": {
    "tags": []
   },
   "outputs": [],
   "source": [
    "# Rename imdbId column\n",
    "movies_df.rename(columns={'imdbId': 'imdb_id'}, inplace=True)"
   ]
  },
  {
   "cell_type": "code",
   "execution_count": 15,
   "id": "4d2f2f7b-57c0-4efd-84bf-fc0b02fa9bcb",
   "metadata": {
    "tags": []
   },
   "outputs": [
    {
     "name": "stdout",
     "output_type": "stream",
     "text": [
      "<class 'pandas.core.frame.DataFrame'>\n",
      "RangeIndex: 84661 entries, 0 to 84660\n",
      "Data columns (total 6 columns):\n",
      " #   Column      Non-Null Count  Dtype  \n",
      "---  ------      --------------  -----  \n",
      " 0   title       84661 non-null  object \n",
      " 1   directedBy  84661 non-null  object \n",
      " 2   starring    84661 non-null  object \n",
      " 3   avgRating   84661 non-null  float64\n",
      " 4   imdb_id     84661 non-null  object \n",
      " 5   item_id     84661 non-null  int64  \n",
      "dtypes: float64(1), int64(1), object(4)\n",
      "memory usage: 3.9+ MB\n"
     ]
    }
   ],
   "source": [
    "# Sanity check\n",
    "movies_df.info()"
   ]
  },
  {
   "cell_type": "markdown",
   "id": "e3a8bb02-ed6e-4f06-8f34-3e93d61ebab2",
   "metadata": {},
   "source": [
    "We can go ahead and drop the `avgRating` column since this contains ratings from a website other than IMDb, and we will be using the rating from IMDb. "
   ]
  },
  {
   "cell_type": "code",
   "execution_count": 16,
   "id": "ca0fe369-008b-4d8f-8736-d217b2082616",
   "metadata": {
    "tags": []
   },
   "outputs": [],
   "source": [
    "# Drop avgRating column \n",
    "movies_df = movies_df.drop(['avgRating'], axis=1)"
   ]
  },
  {
   "cell_type": "code",
   "execution_count": 17,
   "id": "7c1339df-ca77-4452-9d3b-71cb84e3c5f2",
   "metadata": {
    "tags": []
   },
   "outputs": [
    {
     "name": "stdout",
     "output_type": "stream",
     "text": [
      "<class 'pandas.core.frame.DataFrame'>\n",
      "RangeIndex: 84661 entries, 0 to 84660\n",
      "Data columns (total 5 columns):\n",
      " #   Column      Non-Null Count  Dtype \n",
      "---  ------      --------------  ----- \n",
      " 0   title       84661 non-null  object\n",
      " 1   directedBy  84661 non-null  object\n",
      " 2   starring    84661 non-null  object\n",
      " 3   imdb_id     84661 non-null  object\n",
      " 4   item_id     84661 non-null  int64 \n",
      "dtypes: int64(1), object(4)\n",
      "memory usage: 3.2+ MB\n"
     ]
    }
   ],
   "source": [
    "# Sanity check \n",
    "movies_df.info()"
   ]
  },
  {
   "cell_type": "markdown",
   "id": "0f620738-c6b2-411e-a3f5-8ed8a63307e5",
   "metadata": {},
   "source": [
    "Now we will extract the release year from the title column and save it as a new column."
   ]
  },
  {
   "cell_type": "code",
   "execution_count": 63,
   "id": "cc655979-ea5c-4afd-9b31-f35e2d7d6a25",
   "metadata": {
    "tags": []
   },
   "outputs": [],
   "source": [
    "# Extract year using regex\n",
    "movies_df['year'] = movies_df['title'].str.extract(r'\\((\\d{4})\\)')\n",
    "\n",
    "# Remove the year from the title column\n",
    "movies_df['title'] = movies_df['title'].str.replace(r'\\(\\d{4}\\)', '', regex=True).str.strip()"
   ]
  },
  {
   "cell_type": "code",
   "execution_count": 64,
   "id": "bfac7c0f-5e0a-4ca7-b4ca-598732a1c7e8",
   "metadata": {
    "tags": []
   },
   "outputs": [
    {
     "name": "stdout",
     "output_type": "stream",
     "text": [
      "<class 'pandas.core.frame.DataFrame'>\n",
      "RangeIndex: 84661 entries, 0 to 84660\n",
      "Data columns (total 6 columns):\n",
      " #   Column      Non-Null Count  Dtype \n",
      "---  ------      --------------  ----- \n",
      " 0   title       84661 non-null  object\n",
      " 1   directedBy  84661 non-null  object\n",
      " 2   starring    84661 non-null  object\n",
      " 3   imdb_id     84661 non-null  object\n",
      " 4   item_id     84661 non-null  int64 \n",
      " 5   year        83994 non-null  object\n",
      "dtypes: int64(1), object(5)\n",
      "memory usage: 3.9+ MB\n"
     ]
    }
   ],
   "source": [
    "movies_df.info()"
   ]
  },
  {
   "cell_type": "code",
   "execution_count": 65,
   "id": "f108fa5d-7e00-430a-8d89-8b795b8be9fc",
   "metadata": {
    "tags": []
   },
   "outputs": [
    {
     "data": {
      "text/html": [
       "<div>\n",
       "<style scoped>\n",
       "    .dataframe tbody tr th:only-of-type {\n",
       "        vertical-align: middle;\n",
       "    }\n",
       "\n",
       "    .dataframe tbody tr th {\n",
       "        vertical-align: top;\n",
       "    }\n",
       "\n",
       "    .dataframe thead th {\n",
       "        text-align: right;\n",
       "    }\n",
       "</style>\n",
       "<table border=\"1\" class=\"dataframe\">\n",
       "  <thead>\n",
       "    <tr style=\"text-align: right;\">\n",
       "      <th></th>\n",
       "      <th>title</th>\n",
       "      <th>directedBy</th>\n",
       "      <th>starring</th>\n",
       "      <th>imdb_id</th>\n",
       "      <th>item_id</th>\n",
       "      <th>year</th>\n",
       "    </tr>\n",
       "  </thead>\n",
       "  <tbody>\n",
       "    <tr>\n",
       "      <th>0</th>\n",
       "      <td>Toy Story</td>\n",
       "      <td>John Lasseter</td>\n",
       "      <td>Tim Allen, Tom Hanks, Don Rickles, Jim Varney,...</td>\n",
       "      <td>tt0114709</td>\n",
       "      <td>1</td>\n",
       "      <td>1995</td>\n",
       "    </tr>\n",
       "    <tr>\n",
       "      <th>1</th>\n",
       "      <td>Jumanji</td>\n",
       "      <td>Joe Johnston</td>\n",
       "      <td>Jonathan Hyde, Bradley Pierce, Robin Williams,...</td>\n",
       "      <td>tt0113497</td>\n",
       "      <td>2</td>\n",
       "      <td>1995</td>\n",
       "    </tr>\n",
       "    <tr>\n",
       "      <th>2</th>\n",
       "      <td>Grumpier Old Men</td>\n",
       "      <td>Howard Deutch</td>\n",
       "      <td>Jack Lemmon, Walter Matthau, Ann-Margret , Sop...</td>\n",
       "      <td>tt0113228</td>\n",
       "      <td>3</td>\n",
       "      <td>1995</td>\n",
       "    </tr>\n",
       "    <tr>\n",
       "      <th>3</th>\n",
       "      <td>Waiting to Exhale</td>\n",
       "      <td>Forest Whitaker</td>\n",
       "      <td>Angela Bassett, Loretta Devine, Whitney Housto...</td>\n",
       "      <td>tt0114885</td>\n",
       "      <td>4</td>\n",
       "      <td>1995</td>\n",
       "    </tr>\n",
       "    <tr>\n",
       "      <th>4</th>\n",
       "      <td>Father of the Bride Part II</td>\n",
       "      <td>Charles Shyer</td>\n",
       "      <td>Steve Martin, Martin Short, Diane Keaton, Kimb...</td>\n",
       "      <td>tt0113041</td>\n",
       "      <td>5</td>\n",
       "      <td>1995</td>\n",
       "    </tr>\n",
       "  </tbody>\n",
       "</table>\n",
       "</div>"
      ],
      "text/plain": [
       "                         title       directedBy  \\\n",
       "0                    Toy Story    John Lasseter   \n",
       "1                      Jumanji     Joe Johnston   \n",
       "2             Grumpier Old Men    Howard Deutch   \n",
       "3            Waiting to Exhale  Forest Whitaker   \n",
       "4  Father of the Bride Part II    Charles Shyer   \n",
       "\n",
       "                                            starring    imdb_id  item_id  year  \n",
       "0  Tim Allen, Tom Hanks, Don Rickles, Jim Varney,...  tt0114709        1  1995  \n",
       "1  Jonathan Hyde, Bradley Pierce, Robin Williams,...  tt0113497        2  1995  \n",
       "2  Jack Lemmon, Walter Matthau, Ann-Margret , Sop...  tt0113228        3  1995  \n",
       "3  Angela Bassett, Loretta Devine, Whitney Housto...  tt0114885        4  1995  \n",
       "4  Steve Martin, Martin Short, Diane Keaton, Kimb...  tt0113041        5  1995  "
      ]
     },
     "execution_count": 65,
     "metadata": {},
     "output_type": "execute_result"
    }
   ],
   "source": [
    "movies_df.head()"
   ]
  },
  {
   "cell_type": "markdown",
   "id": "e9323405-4c21-4078-a7ee-62b6778c3c48",
   "metadata": {},
   "source": [
    "We should store the year as an integer datatype."
   ]
  },
  {
   "cell_type": "code",
   "execution_count": 71,
   "id": "5b1f5e95-f285-441a-bba2-d58613e5a112",
   "metadata": {
    "tags": []
   },
   "outputs": [],
   "source": [
    "# Convert to numeric, then to integer\n",
    "movies_df['year'] = pd.to_numeric(movies_df['year'], errors='coerce').fillna(0).astype(int)"
   ]
  },
  {
   "cell_type": "code",
   "execution_count": 72,
   "id": "ce01bc94-9c8c-46cf-8094-fddc13da5753",
   "metadata": {
    "tags": []
   },
   "outputs": [
    {
     "name": "stdout",
     "output_type": "stream",
     "text": [
      "<class 'pandas.core.frame.DataFrame'>\n",
      "RangeIndex: 84661 entries, 0 to 84660\n",
      "Data columns (total 6 columns):\n",
      " #   Column      Non-Null Count  Dtype \n",
      "---  ------      --------------  ----- \n",
      " 0   title       84661 non-null  object\n",
      " 1   directedBy  84661 non-null  object\n",
      " 2   starring    84661 non-null  object\n",
      " 3   imdb_id     84661 non-null  object\n",
      " 4   item_id     84661 non-null  int64 \n",
      " 5   year        84661 non-null  int64 \n",
      "dtypes: int64(2), object(4)\n",
      "memory usage: 3.9+ MB\n"
     ]
    }
   ],
   "source": [
    "movies_df.info()"
   ]
  },
  {
   "cell_type": "markdown",
   "id": "d8d44494-b886-43ce-9a70-38a83d77803b",
   "metadata": {},
   "source": [
    "We will need to keep in mind that there are likely some '0' values for year here, since we saw some nulls when we initially extracted them. We will likely have to drop these rows, but we'll determine this later. "
   ]
  },
  {
   "cell_type": "code",
   "execution_count": 73,
   "id": "6620b62e-9e74-4ec4-9e2b-b718b536416a",
   "metadata": {
    "tags": []
   },
   "outputs": [],
   "source": [
    "# Save to a json file to preserve lists of actors and directors\n",
    "movies_df.to_json('data/cleaned_csv/clean_movies_df.json', orient='records', lines=True)"
   ]
  },
  {
   "cell_type": "markdown",
   "id": "f8b4910f-fe78-4a83-ba2f-a6616b0c2502",
   "metadata": {},
   "source": [
    "---"
   ]
  },
  {
   "cell_type": "markdown",
   "id": "90bf4dfe-125f-48a8-a5ff-f003ea29bf93",
   "metadata": {
    "tags": []
   },
   "source": [
    "### Load & Inspect Reviews Dataset <a name=\"reviews-loading\"></a>"
   ]
  },
  {
   "cell_type": "markdown",
   "id": "f40ebbe7-73ad-4dd7-b73e-d1c560de5184",
   "metadata": {},
   "source": [
    "Now we'll load and inspect our dataset that contains movie reviews. This is another JSON file, so we'll read it in using pd.read_json."
   ]
  },
  {
   "cell_type": "code",
   "execution_count": 19,
   "id": "992b7b91-308b-4aca-9aee-6877619f28c0",
   "metadata": {
    "tags": []
   },
   "outputs": [],
   "source": [
    "# Load reivews JSON file\n",
    "reviews_df = pd.read_json('data/movie_dataset_public_final/raw/reviews.json', lines=True)"
   ]
  },
  {
   "cell_type": "code",
   "execution_count": 20,
   "id": "c10e45bd-4bd2-4974-9106-0eee2c84d4b4",
   "metadata": {
    "tags": []
   },
   "outputs": [
    {
     "data": {
      "text/html": [
       "<div>\n",
       "<style scoped>\n",
       "    .dataframe tbody tr th:only-of-type {\n",
       "        vertical-align: middle;\n",
       "    }\n",
       "\n",
       "    .dataframe tbody tr th {\n",
       "        vertical-align: top;\n",
       "    }\n",
       "\n",
       "    .dataframe thead th {\n",
       "        text-align: right;\n",
       "    }\n",
       "</style>\n",
       "<table border=\"1\" class=\"dataframe\">\n",
       "  <thead>\n",
       "    <tr style=\"text-align: right;\">\n",
       "      <th></th>\n",
       "      <th>item_id</th>\n",
       "      <th>txt</th>\n",
       "    </tr>\n",
       "  </thead>\n",
       "  <tbody>\n",
       "    <tr>\n",
       "      <th>0</th>\n",
       "      <td>172063</td>\n",
       "      <td>one-shot record of a belly dancer; \"Carmencita...</td>\n",
       "    </tr>\n",
       "    <tr>\n",
       "      <th>1</th>\n",
       "      <td>95541</td>\n",
       "      <td>Banging Away..; Thomas Edison and William K.L....</td>\n",
       "    </tr>\n",
       "    <tr>\n",
       "      <th>2</th>\n",
       "      <td>7065</td>\n",
       "      <td>unbelievable; I cannot understand how anyone c...</td>\n",
       "    </tr>\n",
       "    <tr>\n",
       "      <th>3</th>\n",
       "      <td>3739</td>\n",
       "      <td>I'm still starry-eyed from it; I saw this last...</td>\n",
       "    </tr>\n",
       "    <tr>\n",
       "      <th>4</th>\n",
       "      <td>1562</td>\n",
       "      <td>Failed on every Front; Joel Schumacher who did...</td>\n",
       "    </tr>\n",
       "  </tbody>\n",
       "</table>\n",
       "</div>"
      ],
      "text/plain": [
       "   item_id                                                txt\n",
       "0   172063  one-shot record of a belly dancer; \"Carmencita...\n",
       "1    95541  Banging Away..; Thomas Edison and William K.L....\n",
       "2     7065  unbelievable; I cannot understand how anyone c...\n",
       "3     3739  I'm still starry-eyed from it; I saw this last...\n",
       "4     1562  Failed on every Front; Joel Schumacher who did..."
      ]
     },
     "execution_count": 20,
     "metadata": {},
     "output_type": "execute_result"
    }
   ],
   "source": [
    "# Inspect the dataframe\n",
    "reviews_df.head()"
   ]
  },
  {
   "cell_type": "code",
   "execution_count": 21,
   "id": "ab7ed505-e1cf-4d38-94ca-e334fed69d28",
   "metadata": {
    "tags": []
   },
   "outputs": [
    {
     "name": "stdout",
     "output_type": "stream",
     "text": [
      "<class 'pandas.core.frame.DataFrame'>\n",
      "RangeIndex: 2624608 entries, 0 to 2624607\n",
      "Data columns (total 2 columns):\n",
      " #   Column   Dtype \n",
      "---  ------   ----- \n",
      " 0   item_id  int64 \n",
      " 1   txt      object\n",
      "dtypes: int64(1), object(1)\n",
      "memory usage: 40.0+ MB\n"
     ]
    }
   ],
   "source": [
    "# Check the shape and dtypes\n",
    "reviews_df.info()"
   ]
  },
  {
   "cell_type": "code",
   "execution_count": 22,
   "id": "7f3447c3-b724-429b-b6a4-cb337363e4dd",
   "metadata": {
    "tags": []
   },
   "outputs": [
    {
     "data": {
      "text/plain": [
       "item_id    0\n",
       "txt        0\n",
       "dtype: int64"
      ]
     },
     "execution_count": 22,
     "metadata": {},
     "output_type": "execute_result"
    }
   ],
   "source": [
    "# Check for null values\n",
    "reviews_df.isna().sum()"
   ]
  },
  {
   "cell_type": "code",
   "execution_count": 23,
   "id": "ef18231d-c2e0-4a39-ba9a-a59025dbee75",
   "metadata": {
    "tags": []
   },
   "outputs": [
    {
     "data": {
      "text/plain": [
       "4727"
      ]
     },
     "execution_count": 23,
     "metadata": {},
     "output_type": "execute_result"
    }
   ],
   "source": [
    "# Check for duplicated rows \n",
    "reviews_df.duplicated().sum()"
   ]
  },
  {
   "cell_type": "code",
   "execution_count": 24,
   "id": "649487cf-3a87-45ed-a624-67e64dd3847e",
   "metadata": {
    "tags": []
   },
   "outputs": [
    {
     "name": "stdout",
     "output_type": "stream",
     "text": [
      "0.1801030858703471 % of our rows are duplicates\n"
     ]
    }
   ],
   "source": [
    "print(reviews_df.duplicated().sum()/reviews_df.shape[0]*100,\"% of our rows are duplicates\")"
   ]
  },
  {
   "cell_type": "markdown",
   "id": "2e4b25fb-5746-403d-94cc-5e59f9208d25",
   "metadata": {},
   "source": [
    "It looks like we do have 4,727 duplicate rows, which is less than 1%. Let's check some of them to see if we can spot a pattern. Since our dataset is not very complex, it's likely these are true duplicates."
   ]
  },
  {
   "cell_type": "code",
   "execution_count": 178,
   "id": "cf44915f-3a7d-4748-8aa7-f696f17d943b",
   "metadata": {
    "tags": []
   },
   "outputs": [
    {
     "data": {
      "text/html": [
       "<div>\n",
       "<style scoped>\n",
       "    .dataframe tbody tr th:only-of-type {\n",
       "        vertical-align: middle;\n",
       "    }\n",
       "\n",
       "    .dataframe tbody tr th {\n",
       "        vertical-align: top;\n",
       "    }\n",
       "\n",
       "    .dataframe thead th {\n",
       "        text-align: right;\n",
       "    }\n",
       "</style>\n",
       "<table border=\"1\" class=\"dataframe\">\n",
       "  <thead>\n",
       "    <tr style=\"text-align: right;\">\n",
       "      <th></th>\n",
       "      <th>item_id</th>\n",
       "      <th>txt</th>\n",
       "    </tr>\n",
       "  </thead>\n",
       "  <tbody>\n",
       "    <tr>\n",
       "      <th>1686988</th>\n",
       "      <td>1</td>\n",
       "      <td>A good start to Pixar's film studio; TOY STORY...</td>\n",
       "    </tr>\n",
       "    <tr>\n",
       "      <th>1746360</th>\n",
       "      <td>1</td>\n",
       "      <td>A good start to Pixar's film studio; TOY STORY...</td>\n",
       "    </tr>\n",
       "    <tr>\n",
       "      <th>1977040</th>\n",
       "      <td>6</td>\n",
       "      <td>Michael Mann; Robert DeNiro, Al Pacino... ques...</td>\n",
       "    </tr>\n",
       "    <tr>\n",
       "      <th>2582224</th>\n",
       "      <td>6</td>\n",
       "      <td>Michael Mann; Robert DeNiro, Al Pacino... ques...</td>\n",
       "    </tr>\n",
       "    <tr>\n",
       "      <th>1979567</th>\n",
       "      <td>6</td>\n",
       "      <td>The Coffee shop scene: Al Pacino holds himself...</td>\n",
       "    </tr>\n",
       "    <tr>\n",
       "      <th>1979575</th>\n",
       "      <td>6</td>\n",
       "      <td>The Coffee shop scene: Al Pacino holds himself...</td>\n",
       "    </tr>\n",
       "    <tr>\n",
       "      <th>1970895</th>\n",
       "      <td>10</td>\n",
       "      <td>Best of the new Bond movies.; Goldeneye is the...</td>\n",
       "    </tr>\n",
       "    <tr>\n",
       "      <th>1970899</th>\n",
       "      <td>10</td>\n",
       "      <td>Best of the new Bond movies.; Goldeneye is the...</td>\n",
       "    </tr>\n",
       "    <tr>\n",
       "      <th>1970513</th>\n",
       "      <td>10</td>\n",
       "      <td>One of the Finest of 007's Career!; I am still...</td>\n",
       "    </tr>\n",
       "    <tr>\n",
       "      <th>1970521</th>\n",
       "      <td>10</td>\n",
       "      <td>One of the Finest of 007's Career!; I am still...</td>\n",
       "    </tr>\n",
       "  </tbody>\n",
       "</table>\n",
       "</div>"
      ],
      "text/plain": [
       "         item_id                                                txt\n",
       "1686988        1  A good start to Pixar's film studio; TOY STORY...\n",
       "1746360        1  A good start to Pixar's film studio; TOY STORY...\n",
       "1977040        6  Michael Mann; Robert DeNiro, Al Pacino... ques...\n",
       "2582224        6  Michael Mann; Robert DeNiro, Al Pacino... ques...\n",
       "1979567        6  The Coffee shop scene: Al Pacino holds himself...\n",
       "1979575        6  The Coffee shop scene: Al Pacino holds himself...\n",
       "1970895       10  Best of the new Bond movies.; Goldeneye is the...\n",
       "1970899       10  Best of the new Bond movies.; Goldeneye is the...\n",
       "1970513       10  One of the Finest of 007's Career!; I am still...\n",
       "1970521       10  One of the Finest of 007's Career!; I am still..."
      ]
     },
     "execution_count": 178,
     "metadata": {},
     "output_type": "execute_result"
    }
   ],
   "source": [
    "# Find duplicate rows based on all columns\n",
    "duplicate_reviews_df = reviews_df[reviews_df.duplicated(keep=False)]\n",
    "\n",
    "# Sort by all columns\n",
    "sorted_duplicate_reviews_df = duplicate_reviews_df.sort_values(by=list(reviews_df.columns))\n",
    "\n",
    "# Display sorted duplicate rows\n",
    "sorted_duplicate_reviews_df.head(10)"
   ]
  },
  {
   "cell_type": "markdown",
   "id": "72be4fd4-507e-4074-b489-91dd2a2e951f",
   "metadata": {},
   "source": [
    "These do appear to be true duplicates, with identical `item_id` and `txt` fields. Since the duplicates are less than 1% of our total data, we should be able to safely drop these rows."
   ]
  },
  {
   "cell_type": "markdown",
   "id": "dabe9108-8b62-46bf-b13f-f0899d3b506b",
   "metadata": {},
   "source": [
    "Let's verify that we have the same large number of unique movie IDs in this dataset, which we can tell by coutning the `item_id`s. "
   ]
  },
  {
   "cell_type": "code",
   "execution_count": 25,
   "id": "3bfdc4c4-3590-4d20-b57b-513bc240400a",
   "metadata": {
    "tags": []
   },
   "outputs": [
    {
     "data": {
      "text/plain": [
       "52081"
      ]
     },
     "execution_count": 25,
     "metadata": {},
     "output_type": "execute_result"
    }
   ],
   "source": [
    "# Check unique number of movies (by item id)\n",
    "reviews_df['item_id'].nunique()"
   ]
  },
  {
   "cell_type": "markdown",
   "id": "a0ed2c29-7c41-41a7-b1fc-3ce8bb44d6e0",
   "metadata": {},
   "source": [
    "**Reviews Data Inspection Summary**\n",
    "<br>We've successfully loaded our reivews dataset into a dataframe and: \n",
    "- confirmed we have no null values\n",
    "- datatypes are appropriate for each column\n",
    "- confirmed we have >50k unique movies in our data\n",
    "- discovered that we have 4,727 duplicate rows (0.18% of total), which can be dropped\n",
    "\n",
    "**Cleaning Notes**\n",
    "- drop duplicate rows"
   ]
  },
  {
   "cell_type": "markdown",
   "id": "a828421e-29d8-443e-8c5d-bfcab3fcf521",
   "metadata": {
    "tags": []
   },
   "source": [
    "### Clean Reviews Dataset <a name=\"reviews-cleaning\"></a>"
   ]
  },
  {
   "cell_type": "markdown",
   "id": "2330e47b-c239-476e-b9e0-a43d3e88f419",
   "metadata": {},
   "source": [
    "This dataset is very simple, so our only cleaning action for now is to drop the duplicate rows and add `imdb_id`."
   ]
  },
  {
   "cell_type": "code",
   "execution_count": 26,
   "id": "05435d78-d9d6-4402-8271-3e73f967187f",
   "metadata": {
    "tags": []
   },
   "outputs": [],
   "source": [
    "# Make a copy to store clean data\n",
    "clean_reviews_df = reviews_df.copy()"
   ]
  },
  {
   "cell_type": "code",
   "execution_count": 27,
   "id": "80841d83-51b7-4fb1-a19a-c906ebd228bd",
   "metadata": {
    "tags": []
   },
   "outputs": [],
   "source": [
    "# Drop duplicates\n",
    "clean_reviews_df.drop_duplicates(inplace=True)"
   ]
  },
  {
   "cell_type": "code",
   "execution_count": 28,
   "id": "47ee8571-e985-4e31-85f3-bbe629cbf0d0",
   "metadata": {
    "tags": []
   },
   "outputs": [
    {
     "data": {
      "text/plain": [
       "0"
      ]
     },
     "execution_count": 28,
     "metadata": {},
     "output_type": "execute_result"
    }
   ],
   "source": [
    "# Sanity check\n",
    "clean_reviews_df.duplicated().sum()"
   ]
  },
  {
   "cell_type": "markdown",
   "id": "cf8f73c3-dfc1-4771-ac11-a85a61e5dcc9",
   "metadata": {},
   "source": [
    "Now, let's add an `imdb_id` column to `clean_reviews_df`, based on the corresponding `item_id` from `movies_df`."
   ]
  },
  {
   "cell_type": "code",
   "execution_count": 29,
   "id": "a165a3b7-fe1e-42a7-be4f-f12789d89b4b",
   "metadata": {
    "tags": []
   },
   "outputs": [],
   "source": [
    "# Create a reduced movies_df containing only 'item_id' and 'imdb_id'\n",
    "movies_df_reduced = movies_df[['item_id', 'imdb_id']]"
   ]
  },
  {
   "cell_type": "code",
   "execution_count": 30,
   "id": "80380756-b399-45b9-a184-e22f5fd920c6",
   "metadata": {
    "tags": []
   },
   "outputs": [
    {
     "name": "stdout",
     "output_type": "stream",
     "text": [
      "<class 'pandas.core.frame.DataFrame'>\n",
      "RangeIndex: 84661 entries, 0 to 84660\n",
      "Data columns (total 2 columns):\n",
      " #   Column   Non-Null Count  Dtype \n",
      "---  ------   --------------  ----- \n",
      " 0   item_id  84661 non-null  int64 \n",
      " 1   imdb_id  84661 non-null  object\n",
      "dtypes: int64(1), object(1)\n",
      "memory usage: 1.3+ MB\n"
     ]
    }
   ],
   "source": [
    "# Sanity check\n",
    "movies_df_reduced.info()"
   ]
  },
  {
   "cell_type": "code",
   "execution_count": 31,
   "id": "6ae3a9fe-a879-46d8-98a0-46f65000154e",
   "metadata": {
    "tags": []
   },
   "outputs": [],
   "source": [
    "# Left join on item_id to add imdb_id column to clean_reviews_df\n",
    "clean_reviews_df = pd.merge(clean_reviews_df, movies_df_reduced, on='item_id', how='left')"
   ]
  },
  {
   "cell_type": "code",
   "execution_count": 32,
   "id": "ae179d51-6ec0-4e33-a7ac-aba8da3edce3",
   "metadata": {
    "tags": []
   },
   "outputs": [
    {
     "name": "stdout",
     "output_type": "stream",
     "text": [
      "<class 'pandas.core.frame.DataFrame'>\n",
      "RangeIndex: 2619881 entries, 0 to 2619880\n",
      "Data columns (total 3 columns):\n",
      " #   Column   Dtype \n",
      "---  ------   ----- \n",
      " 0   item_id  int64 \n",
      " 1   txt      object\n",
      " 2   imdb_id  object\n",
      "dtypes: int64(1), object(2)\n",
      "memory usage: 60.0+ MB\n"
     ]
    }
   ],
   "source": [
    "# Sanity check\n",
    "clean_reviews_df.info()"
   ]
  },
  {
   "cell_type": "code",
   "execution_count": 33,
   "id": "7c3bb299-a0ca-4cfe-804f-9f2b9651f814",
   "metadata": {
    "tags": []
   },
   "outputs": [
    {
     "data": {
      "text/plain": [
       "item_id      0\n",
       "txt          0\n",
       "imdb_id    783\n",
       "dtype: int64"
      ]
     },
     "execution_count": 33,
     "metadata": {},
     "output_type": "execute_result"
    }
   ],
   "source": [
    "# Check for nulls\n",
    "clean_reviews_df.isna().sum()"
   ]
  },
  {
   "cell_type": "markdown",
   "id": "907bd582-0b2e-4203-8b9a-6d846fa8f64b",
   "metadata": {},
   "source": [
    "We do have some null values for `imdb_id`. We'll drop these, since we don't have a way to identify the movie, and thus no way to join them to our other dataset."
   ]
  },
  {
   "cell_type": "code",
   "execution_count": 34,
   "id": "703bda8c-1360-48d6-8846-1c8bb315ca73",
   "metadata": {
    "tags": []
   },
   "outputs": [],
   "source": [
    "# Drop rows where 'imdb_id' is null since these aren't in our movies_df\n",
    "clean_reviews_df = clean_reviews_df.dropna(subset=['imdb_id'])"
   ]
  },
  {
   "cell_type": "code",
   "execution_count": 35,
   "id": "54604753-73a4-4bc0-9b2e-281e293c03b1",
   "metadata": {
    "tags": []
   },
   "outputs": [
    {
     "data": {
      "text/html": [
       "<div>\n",
       "<style scoped>\n",
       "    .dataframe tbody tr th:only-of-type {\n",
       "        vertical-align: middle;\n",
       "    }\n",
       "\n",
       "    .dataframe tbody tr th {\n",
       "        vertical-align: top;\n",
       "    }\n",
       "\n",
       "    .dataframe thead th {\n",
       "        text-align: right;\n",
       "    }\n",
       "</style>\n",
       "<table border=\"1\" class=\"dataframe\">\n",
       "  <thead>\n",
       "    <tr style=\"text-align: right;\">\n",
       "      <th></th>\n",
       "      <th>item_id</th>\n",
       "      <th>txt</th>\n",
       "      <th>imdb_id</th>\n",
       "    </tr>\n",
       "  </thead>\n",
       "  <tbody>\n",
       "    <tr>\n",
       "      <th>0</th>\n",
       "      <td>172063</td>\n",
       "      <td>one-shot record of a belly dancer; \"Carmencita...</td>\n",
       "      <td>tt0000001</td>\n",
       "    </tr>\n",
       "    <tr>\n",
       "      <th>1</th>\n",
       "      <td>95541</td>\n",
       "      <td>Banging Away..; Thomas Edison and William K.L....</td>\n",
       "      <td>tt0000005</td>\n",
       "    </tr>\n",
       "    <tr>\n",
       "      <th>2</th>\n",
       "      <td>7065</td>\n",
       "      <td>unbelievable; I cannot understand how anyone c...</td>\n",
       "      <td>tt0004972</td>\n",
       "    </tr>\n",
       "    <tr>\n",
       "      <th>3</th>\n",
       "      <td>3739</td>\n",
       "      <td>I'm still starry-eyed from it; I saw this last...</td>\n",
       "      <td>tt0023622</td>\n",
       "    </tr>\n",
       "    <tr>\n",
       "      <th>4</th>\n",
       "      <td>1562</td>\n",
       "      <td>Failed on every Front; Joel Schumacher who did...</td>\n",
       "      <td>tt0118688</td>\n",
       "    </tr>\n",
       "  </tbody>\n",
       "</table>\n",
       "</div>"
      ],
      "text/plain": [
       "   item_id                                                txt    imdb_id\n",
       "0   172063  one-shot record of a belly dancer; \"Carmencita...  tt0000001\n",
       "1    95541  Banging Away..; Thomas Edison and William K.L....  tt0000005\n",
       "2     7065  unbelievable; I cannot understand how anyone c...  tt0004972\n",
       "3     3739  I'm still starry-eyed from it; I saw this last...  tt0023622\n",
       "4     1562  Failed on every Front; Joel Schumacher who did...  tt0118688"
      ]
     },
     "execution_count": 35,
     "metadata": {},
     "output_type": "execute_result"
    }
   ],
   "source": [
    "clean_reviews_df.head()"
   ]
  },
  {
   "cell_type": "markdown",
   "id": "99342487-03e1-4ba2-9b51-a984b9696dbc",
   "metadata": {},
   "source": [
    "Now we'll rename and re-order our columns."
   ]
  },
  {
   "cell_type": "code",
   "execution_count": 36,
   "id": "5a4f0331-8cb6-47bc-998d-951f949dd1e8",
   "metadata": {
    "tags": []
   },
   "outputs": [],
   "source": [
    "# Rename columns\n",
    "clean_reviews_df.rename(columns={'txt': 'review_text'}, inplace=True)"
   ]
  },
  {
   "cell_type": "code",
   "execution_count": 37,
   "id": "a8ba1665-1861-40d8-9e69-dd3a46721500",
   "metadata": {
    "tags": []
   },
   "outputs": [],
   "source": [
    "# Save new column order to a list \n",
    "reviews_new_column_order = ['item_id', 'imdb_id', 'review_text']"
   ]
  },
  {
   "cell_type": "code",
   "execution_count": 38,
   "id": "788fd064-ad94-4e1e-90b5-59d3a8006f11",
   "metadata": {
    "tags": []
   },
   "outputs": [],
   "source": [
    "# Reordering the columns\n",
    "clean_reviews_df = clean_reviews_df.reindex(columns=reviews_new_column_order)"
   ]
  },
  {
   "cell_type": "code",
   "execution_count": 39,
   "id": "13de06f1-85a6-4ea3-b5ff-46ea1e8e958a",
   "metadata": {
    "tags": []
   },
   "outputs": [
    {
     "data": {
      "text/html": [
       "<div>\n",
       "<style scoped>\n",
       "    .dataframe tbody tr th:only-of-type {\n",
       "        vertical-align: middle;\n",
       "    }\n",
       "\n",
       "    .dataframe tbody tr th {\n",
       "        vertical-align: top;\n",
       "    }\n",
       "\n",
       "    .dataframe thead th {\n",
       "        text-align: right;\n",
       "    }\n",
       "</style>\n",
       "<table border=\"1\" class=\"dataframe\">\n",
       "  <thead>\n",
       "    <tr style=\"text-align: right;\">\n",
       "      <th></th>\n",
       "      <th>item_id</th>\n",
       "      <th>imdb_id</th>\n",
       "      <th>review_text</th>\n",
       "    </tr>\n",
       "  </thead>\n",
       "  <tbody>\n",
       "    <tr>\n",
       "      <th>0</th>\n",
       "      <td>172063</td>\n",
       "      <td>tt0000001</td>\n",
       "      <td>one-shot record of a belly dancer; \"Carmencita...</td>\n",
       "    </tr>\n",
       "    <tr>\n",
       "      <th>1</th>\n",
       "      <td>95541</td>\n",
       "      <td>tt0000005</td>\n",
       "      <td>Banging Away..; Thomas Edison and William K.L....</td>\n",
       "    </tr>\n",
       "    <tr>\n",
       "      <th>2</th>\n",
       "      <td>7065</td>\n",
       "      <td>tt0004972</td>\n",
       "      <td>unbelievable; I cannot understand how anyone c...</td>\n",
       "    </tr>\n",
       "    <tr>\n",
       "      <th>3</th>\n",
       "      <td>3739</td>\n",
       "      <td>tt0023622</td>\n",
       "      <td>I'm still starry-eyed from it; I saw this last...</td>\n",
       "    </tr>\n",
       "    <tr>\n",
       "      <th>4</th>\n",
       "      <td>1562</td>\n",
       "      <td>tt0118688</td>\n",
       "      <td>Failed on every Front; Joel Schumacher who did...</td>\n",
       "    </tr>\n",
       "  </tbody>\n",
       "</table>\n",
       "</div>"
      ],
      "text/plain": [
       "   item_id    imdb_id                                        review_text\n",
       "0   172063  tt0000001  one-shot record of a belly dancer; \"Carmencita...\n",
       "1    95541  tt0000005  Banging Away..; Thomas Edison and William K.L....\n",
       "2     7065  tt0004972  unbelievable; I cannot understand how anyone c...\n",
       "3     3739  tt0023622  I'm still starry-eyed from it; I saw this last...\n",
       "4     1562  tt0118688  Failed on every Front; Joel Schumacher who did..."
      ]
     },
     "execution_count": 39,
     "metadata": {},
     "output_type": "execute_result"
    }
   ],
   "source": [
    "clean_reviews_df.head()"
   ]
  },
  {
   "cell_type": "markdown",
   "id": "e6338139-3e4f-436b-b349-1764db95ab9c",
   "metadata": {},
   "source": [
    "Great, we can now drop the `item_id` column since we have already added `imdb_id`, and the rest of our data will be using `imdb_id`."
   ]
  },
  {
   "cell_type": "code",
   "execution_count": 40,
   "id": "4b0bf600-d8d9-4bc1-9b7d-cebcc775b4dd",
   "metadata": {
    "tags": []
   },
   "outputs": [],
   "source": [
    "# Drop the 'item_id' column\n",
    "clean_reviews_df = clean_reviews_df.drop('item_id', axis=1)"
   ]
  },
  {
   "cell_type": "code",
   "execution_count": 41,
   "id": "6b9fdd45-0e3d-4741-b3ac-a51064768db5",
   "metadata": {
    "tags": []
   },
   "outputs": [
    {
     "name": "stdout",
     "output_type": "stream",
     "text": [
      "<class 'pandas.core.frame.DataFrame'>\n",
      "Index: 2619098 entries, 0 to 2619880\n",
      "Data columns (total 2 columns):\n",
      " #   Column       Dtype \n",
      "---  ------       ----- \n",
      " 0   imdb_id      object\n",
      " 1   review_text  object\n",
      "dtypes: object(2)\n",
      "memory usage: 59.9+ MB\n"
     ]
    }
   ],
   "source": [
    "# Check\n",
    "clean_reviews_df.info()"
   ]
  },
  {
   "cell_type": "markdown",
   "id": "6cfe3483-d564-46b7-b73c-0db10dcb6c05",
   "metadata": {},
   "source": [
    "Great, we've confirmed that there are no duplicate rows in our new `clean_reviews_df`. We're done with this for now, and we'll save to json."
   ]
  },
  {
   "cell_type": "code",
   "execution_count": 42,
   "id": "18a84e2c-861c-4c80-b440-df1acd3c4af5",
   "metadata": {
    "tags": []
   },
   "outputs": [],
   "source": [
    "# Save to json\n",
    "clean_reviews_df.to_json('data/cleaned_csv/clean_reviews_df.json', orient='records', lines=True)"
   ]
  },
  {
   "cell_type": "markdown",
   "id": "26a6f952-8907-4bad-864a-15befcd107c3",
   "metadata": {},
   "source": [
    "Let's do a quick check on the number of common movies we have across our cleaned movie and review datasets."
   ]
  },
  {
   "cell_type": "code",
   "execution_count": 43,
   "id": "d5d4d1d2-082d-4db7-aeb2-020760daf5db",
   "metadata": {
    "tags": []
   },
   "outputs": [
    {
     "name": "stdout",
     "output_type": "stream",
     "text": [
      "The number of unique 'imdb_id's that match is: 52048\n"
     ]
    }
   ],
   "source": [
    "# Get unique 'imdb_id' values from movies_df\n",
    "unique_imdb_ids_movies = movies_df['imdb_id'].unique()\n",
    "\n",
    "# Convert unique 'imdb_id' values to series\n",
    "unique_imdb_ids_movies_series = pd.Series(unique_imdb_ids_movies)\n",
    "\n",
    "# Check which'imdb_id' values in movies_df are also in clean_reviews_df\n",
    "matching_unique_imdb_ids = unique_imdb_ids_movies_series[unique_imdb_ids_movies_series.isin(clean_reviews_df['imdb_id'])]\n",
    "\n",
    "# Count matching unique 'imdb_id's\n",
    "count_matching_unique_imdb_ids = len(matching_unique_imdb_ids)\n",
    "\n",
    "print(f\"The number of unique 'imdb_id's that match is: {count_matching_unique_imdb_ids}\")"
   ]
  },
  {
   "cell_type": "code",
   "execution_count": 44,
   "id": "0f38e784-b4c1-4c12-b36b-d9d34eacce35",
   "metadata": {
    "tags": []
   },
   "outputs": [
    {
     "name": "stdout",
     "output_type": "stream",
     "text": [
      "Number of unique 'item_id's in movies_df that match with reviews_df: 52048\n"
     ]
    }
   ],
   "source": [
    "# Count the number of unique 'item_id's in movies_df that also appear in reviews_df\n",
    "matching_item_count = movies_df[movies_df['item_id'].isin(reviews_df['item_id'])]['item_id'].nunique()\n",
    "\n",
    "print(f\"Number of unique 'item_id's in movies_df that match with reviews_df: {matching_item_count}\")"
   ]
  },
  {
   "cell_type": "markdown",
   "id": "0c294dfb-f41a-441e-8e67-11e17b8480a3",
   "metadata": {},
   "source": [
    "There are **52,048** unique movies in common among our movies and reviews datasets. This is a good number of movies."
   ]
  },
  {
   "cell_type": "markdown",
   "id": "9d18723f-3691-4d1c-af95-d487f9cc889e",
   "metadata": {
    "tags": []
   },
   "source": [
    "### Load & Clean Extra Reviews Dataset <a name=\"extra-reviews\"></a>"
   ]
  },
  {
   "cell_type": "markdown",
   "id": "fc81fe67-03f9-4ddf-8353-ff5d179820ce",
   "metadata": {},
   "source": [
    "Now, we can append the extra reviews that we have to create our `final_reviews_df`. These reviews are coming from the \"Spoilers\" dataset, as mentioned at the top of the notebook. The spoilers dataset contained only ~1500 unique movie IDs, but had an extensive amount of text data, which we are using to supplement our review text data."
   ]
  },
  {
   "cell_type": "code",
   "execution_count": 46,
   "id": "d9a81362-72bf-481d-a64f-5fdd639b30f6",
   "metadata": {
    "tags": []
   },
   "outputs": [],
   "source": [
    "extra_reviews_df = pd.read_json('data/spoilers_dataset/IMDB_reviews.json', lines=True)"
   ]
  },
  {
   "cell_type": "code",
   "execution_count": 47,
   "id": "315d2476-a979-4c5d-b0a4-619c217b4cb1",
   "metadata": {
    "tags": []
   },
   "outputs": [
    {
     "name": "stdout",
     "output_type": "stream",
     "text": [
      "<class 'pandas.core.frame.DataFrame'>\n",
      "RangeIndex: 573913 entries, 0 to 573912\n",
      "Data columns (total 7 columns):\n",
      " #   Column          Non-Null Count   Dtype \n",
      "---  ------          --------------   ----- \n",
      " 0   review_date     573913 non-null  object\n",
      " 1   movie_id        573913 non-null  object\n",
      " 2   user_id         573913 non-null  object\n",
      " 3   is_spoiler      573913 non-null  bool  \n",
      " 4   review_text     573913 non-null  object\n",
      " 5   rating          573913 non-null  int64 \n",
      " 6   review_summary  573913 non-null  object\n",
      "dtypes: bool(1), int64(1), object(5)\n",
      "memory usage: 26.8+ MB\n"
     ]
    }
   ],
   "source": [
    "# Sanity check\n",
    "extra_reviews_df.info()"
   ]
  },
  {
   "cell_type": "code",
   "execution_count": 49,
   "id": "8fcea4ee-3146-409b-864d-ccbf40538221",
   "metadata": {
    "tags": []
   },
   "outputs": [
    {
     "data": {
      "text/html": [
       "<div>\n",
       "<style scoped>\n",
       "    .dataframe tbody tr th:only-of-type {\n",
       "        vertical-align: middle;\n",
       "    }\n",
       "\n",
       "    .dataframe tbody tr th {\n",
       "        vertical-align: top;\n",
       "    }\n",
       "\n",
       "    .dataframe thead th {\n",
       "        text-align: right;\n",
       "    }\n",
       "</style>\n",
       "<table border=\"1\" class=\"dataframe\">\n",
       "  <thead>\n",
       "    <tr style=\"text-align: right;\">\n",
       "      <th></th>\n",
       "      <th>review_date</th>\n",
       "      <th>movie_id</th>\n",
       "      <th>user_id</th>\n",
       "      <th>is_spoiler</th>\n",
       "      <th>review_text</th>\n",
       "      <th>rating</th>\n",
       "      <th>review_summary</th>\n",
       "    </tr>\n",
       "  </thead>\n",
       "  <tbody>\n",
       "    <tr>\n",
       "      <th>0</th>\n",
       "      <td>10 February 2006</td>\n",
       "      <td>tt0111161</td>\n",
       "      <td>ur1898687</td>\n",
       "      <td>True</td>\n",
       "      <td>In its Oscar year, Shawshank Redemption (writt...</td>\n",
       "      <td>10</td>\n",
       "      <td>A classic piece of unforgettable film-making.</td>\n",
       "    </tr>\n",
       "    <tr>\n",
       "      <th>1</th>\n",
       "      <td>6 September 2000</td>\n",
       "      <td>tt0111161</td>\n",
       "      <td>ur0842118</td>\n",
       "      <td>True</td>\n",
       "      <td>The Shawshank Redemption is without a doubt on...</td>\n",
       "      <td>10</td>\n",
       "      <td>Simply amazing. The best film of the 90's.</td>\n",
       "    </tr>\n",
       "    <tr>\n",
       "      <th>2</th>\n",
       "      <td>3 August 2001</td>\n",
       "      <td>tt0111161</td>\n",
       "      <td>ur1285640</td>\n",
       "      <td>True</td>\n",
       "      <td>I believe that this film is the best story eve...</td>\n",
       "      <td>8</td>\n",
       "      <td>The best story ever told on film</td>\n",
       "    </tr>\n",
       "    <tr>\n",
       "      <th>3</th>\n",
       "      <td>1 September 2002</td>\n",
       "      <td>tt0111161</td>\n",
       "      <td>ur1003471</td>\n",
       "      <td>True</td>\n",
       "      <td>**Yes, there are SPOILERS here**This film has ...</td>\n",
       "      <td>10</td>\n",
       "      <td>Busy dying or busy living?</td>\n",
       "    </tr>\n",
       "    <tr>\n",
       "      <th>4</th>\n",
       "      <td>20 May 2004</td>\n",
       "      <td>tt0111161</td>\n",
       "      <td>ur0226855</td>\n",
       "      <td>True</td>\n",
       "      <td>At the heart of this extraordinary movie is a ...</td>\n",
       "      <td>8</td>\n",
       "      <td>Great story, wondrously told and acted</td>\n",
       "    </tr>\n",
       "  </tbody>\n",
       "</table>\n",
       "</div>"
      ],
      "text/plain": [
       "        review_date   movie_id    user_id  is_spoiler  \\\n",
       "0  10 February 2006  tt0111161  ur1898687        True   \n",
       "1  6 September 2000  tt0111161  ur0842118        True   \n",
       "2     3 August 2001  tt0111161  ur1285640        True   \n",
       "3  1 September 2002  tt0111161  ur1003471        True   \n",
       "4       20 May 2004  tt0111161  ur0226855        True   \n",
       "\n",
       "                                         review_text  rating  \\\n",
       "0  In its Oscar year, Shawshank Redemption (writt...      10   \n",
       "1  The Shawshank Redemption is without a doubt on...      10   \n",
       "2  I believe that this film is the best story eve...       8   \n",
       "3  **Yes, there are SPOILERS here**This film has ...      10   \n",
       "4  At the heart of this extraordinary movie is a ...       8   \n",
       "\n",
       "                                  review_summary  \n",
       "0  A classic piece of unforgettable film-making.  \n",
       "1     Simply amazing. The best film of the 90's.  \n",
       "2               The best story ever told on film  \n",
       "3                     Busy dying or busy living?  \n",
       "4         Great story, wondrously told and acted  "
      ]
     },
     "execution_count": 49,
     "metadata": {},
     "output_type": "execute_result"
    }
   ],
   "source": [
    "extra_reviews_df.head()"
   ]
  },
  {
   "cell_type": "markdown",
   "id": "ef56e623-0545-43e1-8976-3dc1f9fd75c3",
   "metadata": {},
   "source": [
    "We only need the `review_text` and `movie_id` columns from this dataset. And we will rename `movie_id` to match `imdb_id`. "
   ]
  },
  {
   "cell_type": "code",
   "execution_count": 50,
   "id": "1a8b8a65-7af5-4845-bb11-61a520392b96",
   "metadata": {
    "tags": []
   },
   "outputs": [],
   "source": [
    "# Drop unneccessary columns \n",
    "extra_reviews_df = extra_reviews_df.drop(['review_date', 'user_id', 'is_spoiler', 'rating', 'review_summary'], axis=1)"
   ]
  },
  {
   "cell_type": "code",
   "execution_count": 52,
   "id": "f48282a8-b18a-444f-ae09-7518219229ec",
   "metadata": {
    "tags": []
   },
   "outputs": [],
   "source": [
    "# Rename movie_id \n",
    "extra_reviews_df.rename(columns={'movie_id': 'imdb_id'}, inplace=True)"
   ]
  },
  {
   "cell_type": "code",
   "execution_count": 53,
   "id": "65df05a9-4071-4a1c-a5fb-bcbe39b7e7bf",
   "metadata": {
    "tags": []
   },
   "outputs": [
    {
     "name": "stdout",
     "output_type": "stream",
     "text": [
      "<class 'pandas.core.frame.DataFrame'>\n",
      "RangeIndex: 573913 entries, 0 to 573912\n",
      "Data columns (total 2 columns):\n",
      " #   Column       Non-Null Count   Dtype \n",
      "---  ------       --------------   ----- \n",
      " 0   imdb_id      573913 non-null  object\n",
      " 1   review_text  573913 non-null  object\n",
      "dtypes: object(2)\n",
      "memory usage: 8.8+ MB\n"
     ]
    }
   ],
   "source": [
    "# Sanity check \n",
    "extra_reviews_df.info()"
   ]
  },
  {
   "cell_type": "markdown",
   "id": "1ea91ca7-7071-49f0-8b17-09c0f0cc0b43",
   "metadata": {},
   "source": [
    "We've cleaned up our extra reviews, and are now ready to merge them with our existing reviews. We'll check again for any duplicates, and likely drop them, since we have over 3 million rows of review text."
   ]
  },
  {
   "cell_type": "code",
   "execution_count": 54,
   "id": "19c1aa6f-f44d-403d-9c8e-c431edb03ef8",
   "metadata": {
    "tags": []
   },
   "outputs": [],
   "source": [
    "# Append all text reviews together ine one df\n",
    "final_reviews_df = pd.concat([clean_reviews_df, extra_reviews_df]).reset_index(drop=True)"
   ]
  },
  {
   "cell_type": "code",
   "execution_count": 55,
   "id": "5c7ddeaf-8aa9-4c8f-a22b-badb80da6d4f",
   "metadata": {
    "tags": []
   },
   "outputs": [
    {
     "name": "stdout",
     "output_type": "stream",
     "text": [
      "<class 'pandas.core.frame.DataFrame'>\n",
      "RangeIndex: 3193011 entries, 0 to 3193010\n",
      "Data columns (total 2 columns):\n",
      " #   Column       Dtype \n",
      "---  ------       ----- \n",
      " 0   imdb_id      object\n",
      " 1   review_text  object\n",
      "dtypes: object(2)\n",
      "memory usage: 48.7+ MB\n"
     ]
    }
   ],
   "source": [
    "# Sanity check \n",
    "final_reviews_df.info()"
   ]
  },
  {
   "cell_type": "code",
   "execution_count": 56,
   "id": "08c0c5c0-0bc4-444c-9f26-9f8465ca0196",
   "metadata": {
    "tags": []
   },
   "outputs": [
    {
     "data": {
      "text/plain": [
       "429"
      ]
     },
     "execution_count": 56,
     "metadata": {},
     "output_type": "execute_result"
    }
   ],
   "source": [
    "# Check duplicates \n",
    "final_reviews_df.duplicated().sum()"
   ]
  },
  {
   "cell_type": "code",
   "execution_count": 57,
   "id": "97c1364b-28e3-488b-beea-38131b4e17e8",
   "metadata": {
    "tags": []
   },
   "outputs": [],
   "source": [
    "# Drop duplicates \n",
    "final_reviews_df = final_reviews_df.drop_duplicates()"
   ]
  },
  {
   "cell_type": "code",
   "execution_count": 58,
   "id": "c48c3e49-c5e2-4ace-b9a0-c3b19a218e28",
   "metadata": {
    "tags": []
   },
   "outputs": [
    {
     "data": {
      "text/plain": [
       "0"
      ]
     },
     "execution_count": 58,
     "metadata": {},
     "output_type": "execute_result"
    }
   ],
   "source": [
    "# Sanity check \n",
    "final_reviews_df.duplicated().sum()"
   ]
  },
  {
   "cell_type": "markdown",
   "id": "9a2ff755-d099-4c5c-952b-9e6c66741954",
   "metadata": {},
   "source": [
    "Let's double check for any suspicious `imdb_id`s. "
   ]
  },
  {
   "cell_type": "code",
   "execution_count": 60,
   "id": "008e8f5c-30bd-426a-9dfb-c9d81e4f672c",
   "metadata": {
    "tags": []
   },
   "outputs": [
    {
     "name": "stdout",
     "output_type": "stream",
     "text": [
      "Number of suspect rows: 0\n"
     ]
    }
   ],
   "source": [
    "# Identify rows where 'imdb_id' is either whitespace or an empty string\n",
    "suspect_rows = final_reviews_df[final_reviews_df['imdb_id'].str.strip() == '']\n",
    "\n",
    "# Count the bad rows\n",
    "suspect_count = len(suspect_rows)\n",
    "\n",
    "print(f\"Number of suspect rows: {suspect_count}\")"
   ]
  },
  {
   "cell_type": "code",
   "execution_count": 67,
   "id": "5c7895cd-7831-4f21-afc7-f6a88ce55e43",
   "metadata": {
    "tags": []
   },
   "outputs": [
    {
     "name": "stdout",
     "output_type": "stream",
     "text": [
      "Empty values in review column: 0\n"
     ]
    }
   ],
   "source": [
    "# Identify empty review text rows\n",
    "print(\"Empty values in review column:\", (final_reviews_df['review_text'] == \"\").sum())"
   ]
  },
  {
   "cell_type": "code",
   "execution_count": 110,
   "id": "88f7cc27-9189-4368-9079-45f67b0a06e7",
   "metadata": {
    "tags": []
   },
   "outputs": [
    {
     "name": "stdout",
     "output_type": "stream",
     "text": [
      "<class 'pandas.core.frame.DataFrame'>\n",
      "Index: 3192582 entries, 0 to 3193010\n",
      "Data columns (total 2 columns):\n",
      " #   Column       Dtype \n",
      "---  ------       ----- \n",
      " 0   imdb_id      object\n",
      " 1   review_text  object\n",
      "dtypes: object(2)\n",
      "memory usage: 137.6+ MB\n"
     ]
    }
   ],
   "source": [
    "final_reviews_df.info()"
   ]
  },
  {
   "cell_type": "markdown",
   "id": "00c8a21a-8f3c-400a-98a1-73057912737c",
   "metadata": {
    "tags": []
   },
   "source": [
    "Excellent! The IMDb IDs in this list will be the final list that we are looking at, since these are the IDs for which we have review data. Let's save this to a JSON file so we can load it easily into another notebook later."
   ]
  },
  {
   "cell_type": "code",
   "execution_count": 62,
   "id": "f29899ba-3696-4c0d-aa6e-492b705a7655",
   "metadata": {
    "tags": []
   },
   "outputs": [],
   "source": [
    "# Save to json \n",
    "final_reviews_df.to_json('data/cleaned_csv/final_reviews_df.json', orient='records', lines=True)"
   ]
  },
  {
   "cell_type": "markdown",
   "id": "9600aeff-e788-4aa8-aa3c-3a6410293507",
   "metadata": {},
   "source": [
    "Perfect, we will come back to pre-process our review text data at a later time."
   ]
  },
  {
   "cell_type": "markdown",
   "id": "6882db8e-75f8-43f8-a93b-3bd97bc0618a",
   "metadata": {},
   "source": [
    "---"
   ]
  },
  {
   "cell_type": "markdown",
   "id": "20842acc-8f88-426a-963d-a76d69646dfd",
   "metadata": {
    "tags": []
   },
   "source": [
    "### Create List of Final `imdb_id`s <a name=\"final-list\"></a>"
   ]
  },
  {
   "cell_type": "markdown",
   "id": "09e7b44a-0f6b-41ef-acb7-ccf8e3079ad5",
   "metadata": {
    "tags": []
   },
   "source": [
    "In order to be the most efficient, it makes sense to first filter our other dataframes by the list of unique `imdb_id`s from `final_reviews_df`, since we will only be analyzing movies with review text, and that dataset is our limiting factor, since it has the smallest number of IDs. "
   ]
  },
  {
   "cell_type": "markdown",
   "id": "bfe2cb57-19c7-4f8b-8dee-3f96904fbea0",
   "metadata": {},
   "source": [
    "We'll extract a list of these IDs and export them to a text file that we can use to filter in another notebook."
   ]
  },
  {
   "cell_type": "code",
   "execution_count": 108,
   "id": "46c3aa5a-bc94-40c2-bee2-e5b16dd562be",
   "metadata": {
    "tags": []
   },
   "outputs": [],
   "source": [
    "# Extract unique IMDb IDs from final_reviews_df\n",
    "final_ids = final_reviews_df['imdb_id'].unique()"
   ]
  },
  {
   "cell_type": "code",
   "execution_count": 164,
   "id": "b15e6366-ec00-43a7-bd92-82024c78f0d8",
   "metadata": {
    "tags": []
   },
   "outputs": [],
   "source": [
    "# Save to a text file\n",
    "np.savetxt('data/cleaned_csv/final_ids.txt', final_ids, fmt='%s')"
   ]
  },
  {
   "cell_type": "code",
   "execution_count": 461,
   "id": "e1c8e259-2cc9-4a9b-bcaa-e8eaea687c5a",
   "metadata": {
    "tags": []
   },
   "outputs": [
    {
     "name": "stdout",
     "output_type": "stream",
     "text": [
      "The count of unique IMDb IDs in final_ids is: 52116\n"
     ]
    }
   ],
   "source": [
    "# Count of unique IMDb IDs in final_ids\n",
    "count_final_ids = len(final_ids)\n",
    "\n",
    "print(f\"The count of unique IMDb IDs in final_ids is: {count_final_ids}\")"
   ]
  },
  {
   "cell_type": "markdown",
   "id": "9ba6d333-904a-44be-b088-9e903e91e3e4",
   "metadata": {},
   "source": [
    "---"
   ]
  },
  {
   "cell_type": "markdown",
   "id": "fcdcf36c-9e04-46f4-b144-06482c1654da",
   "metadata": {
    "tags": []
   },
   "source": [
    "### Checkpoint & Recap <a name=\"checkpoint\"></a>"
   ]
  },
  {
   "cell_type": "markdown",
   "id": "57798651-381e-41b7-a6d2-365bdc0bc051",
   "metadata": {},
   "source": [
    "To recap on what we have done so far, both in this notebook and in other notebooks: \n",
    "\n",
    "#### This Notebook\n",
    "- Inspected and cleaned our primary dataset, the MovieLens dataset pair\n",
    "    - This dataset contains 2 files: review text and movie details \n",
    "    - This dataset is our limiting factor, and the final list of movie IDs we use will be based on the final_reviews_df\n",
    "- Supplemented the MovieLens Reviews dataset with the IMDb Spoilers Dataset review text \n",
    "    - This dataset only contains 1527 unique movie IDs, but over 500k rows of user review text, so we used it as a supplement\n",
    "- Created `final_reviews_df` and `movies_df`\n",
    "\n",
    "#### Other Notebooks\n",
    "- Cleaning_Supplemental_Metadta notebooke: initial cleaning and filtered of TMDB metadata dataset, resulting in clean_metadata.json file  \n",
    "\n",
    "**Next Steps** \n",
    "- Import clean_metadata.json for final cleaning\n",
    "- After metadata is cleaned, we will get our final list of movie IDs and filter reviews dataset based on that list"
   ]
  },
  {
   "cell_type": "markdown",
   "id": "3c52afa8-4924-4707-a6d2-b8c2b2cca687",
   "metadata": {},
   "source": [
    "---"
   ]
  },
  {
   "cell_type": "markdown",
   "id": "0088487d-210e-46cb-bc41-0a92532b50b3",
   "metadata": {
    "tags": []
   },
   "source": [
    "### Load & Clean Metadata <a name=\"metadata\"></a>"
   ]
  },
  {
   "cell_type": "markdown",
   "id": "f2a2f14e-f93b-494b-83c6-b7a8a6d3d28e",
   "metadata": {},
   "source": [
    "Again, this data and file are coming from a TMBD dataset that was extensively cleaned and filtered in Cleaning_Supplemental_Metadata notebook. We are importing it here for final cleaning and will later join it to our reivews dataset."
   ]
  },
  {
   "cell_type": "code",
   "execution_count": 463,
   "id": "fc0a0d92-7598-4732-a1fc-31c403a6a001",
   "metadata": {
    "tags": []
   },
   "outputs": [],
   "source": [
    "# Load clean_metadata.json\n",
    "metadata_df = pd.read_json('data/cleaned_csv/clean_metadata.json', lines=True)"
   ]
  },
  {
   "cell_type": "code",
   "execution_count": 465,
   "id": "6f3617bb-e975-48aa-92a0-22ee1cc4c314",
   "metadata": {
    "tags": []
   },
   "outputs": [
    {
     "name": "stdout",
     "output_type": "stream",
     "text": [
      "<class 'pandas.core.frame.DataFrame'>\n",
      "RangeIndex: 52078 entries, 0 to 52077\n",
      "Data columns (total 13 columns):\n",
      " #   Column                Non-Null Count  Dtype  \n",
      "---  ------                --------------  -----  \n",
      " 0   imdb_id               52078 non-null  object \n",
      " 1   title                 52078 non-null  object \n",
      " 2   actors                51764 non-null  object \n",
      " 3   directors             52013 non-null  object \n",
      " 4   genres                52078 non-null  object \n",
      " 5   original_language     51346 non-null  object \n",
      " 6   year                  52077 non-null  float64\n",
      " 7   runtime               52030 non-null  float64\n",
      " 8   budget                18166 non-null  float64\n",
      " 9   box_office_gross      21525 non-null  float64\n",
      " 10  production_companies  50883 non-null  object \n",
      " 11  votes                 52078 non-null  int64  \n",
      " 12  rating                52078 non-null  float64\n",
      "dtypes: float64(5), int64(1), object(7)\n",
      "memory usage: 5.2+ MB\n"
     ]
    }
   ],
   "source": [
    "metadata_df.info()"
   ]
  },
  {
   "cell_type": "code",
   "execution_count": 512,
   "id": "a70f6ecd-4285-4634-8bb8-93a3a90325b1",
   "metadata": {
    "tags": []
   },
   "outputs": [
    {
     "data": {
      "text/plain": [
       "imdb_id                     0\n",
       "title                       0\n",
       "actors                    314\n",
       "directors                  65\n",
       "genres                      0\n",
       "original_language         732\n",
       "year                        1\n",
       "runtime                    48\n",
       "budget                  33912\n",
       "box_office_gross        30553\n",
       "production_companies     1195\n",
       "votes                       0\n",
       "rating                      0\n",
       "dtype: int64"
      ]
     },
     "execution_count": 512,
     "metadata": {},
     "output_type": "execute_result"
    }
   ],
   "source": [
    "metadata_df.isna().sum()"
   ]
  },
  {
   "cell_type": "markdown",
   "id": "9e617c61-cc02-46d2-b27b-3d319466cce8",
   "metadata": {},
   "source": [
    "Now that we've imported our metadata, we will do a final check and clean up.\n",
    "- Drop null rows, since we've narrowed the null values down to a reasonably small amount, give the total size of the dataset. This is most notable for production companies, as we are still missing over 1000.\n",
    "    - This excludes budget and box office gross, as we will be attempting to impute those values later\n",
    "- Check for 0s and empty strings"
   ]
  },
  {
   "cell_type": "code",
   "execution_count": 686,
   "id": "a08b4107-83f3-4315-a55c-ccb92b28b170",
   "metadata": {
    "tags": []
   },
   "outputs": [],
   "source": [
    "# Create clean copy of dataframe\n",
    "clean_metadata_df = metadata_df.copy()"
   ]
  },
  {
   "cell_type": "code",
   "execution_count": 687,
   "id": "d20cdda5-7d08-4139-b3bb-1657c51da3de",
   "metadata": {
    "tags": []
   },
   "outputs": [],
   "source": [
    "# Drop rows where production_companies is null \n",
    "clean_metadata_df = clean_metadata_df.dropna(subset=['production_companies'])"
   ]
  },
  {
   "cell_type": "code",
   "execution_count": 688,
   "id": "c9ff86bc-9ede-41d4-9138-e0bccdfdd694",
   "metadata": {
    "tags": []
   },
   "outputs": [],
   "source": [
    "# Drop rows where runtime is null \n",
    "clean_metadata_df = clean_metadata_df.dropna(subset=['runtime'])"
   ]
  },
  {
   "cell_type": "code",
   "execution_count": 689,
   "id": "d02fd293-40c1-4380-b470-14a8584827be",
   "metadata": {
    "tags": []
   },
   "outputs": [],
   "source": [
    "# Drop rows where original language is null \n",
    "clean_metadata_df = clean_metadata_df.dropna(subset=['original_language'])"
   ]
  },
  {
   "cell_type": "code",
   "execution_count": 690,
   "id": "854a9c74-8be9-49b7-9cc1-ae8f2dda2aee",
   "metadata": {
    "tags": []
   },
   "outputs": [],
   "source": [
    "# Drop rows where year is null\n",
    "clean_metadata_df = clean_metadata_df.dropna(subset=['year'])"
   ]
  },
  {
   "cell_type": "code",
   "execution_count": 691,
   "id": "5e99c57a-00d3-4ee3-9fc0-5a376b335c39",
   "metadata": {
    "tags": []
   },
   "outputs": [],
   "source": [
    "# Drop rows where directors is null\n",
    "clean_metadata_df = clean_metadata_df.dropna(subset=['directors'])"
   ]
  },
  {
   "cell_type": "code",
   "execution_count": 692,
   "id": "0b1e2a7f-8ee0-43a7-8c0a-1111053461e4",
   "metadata": {
    "tags": []
   },
   "outputs": [],
   "source": [
    "# Drop rows where year is null \n",
    "clean_metadata_df = clean_metadata_df.dropna(subset=['actors'])"
   ]
  },
  {
   "cell_type": "code",
   "execution_count": 693,
   "id": "97fcf39d-f7c9-4056-b680-b9ae6a6d2cd7",
   "metadata": {
    "tags": []
   },
   "outputs": [
    {
     "data": {
      "text/plain": [
       "imdb_id                     0\n",
       "title                       0\n",
       "actors                      0\n",
       "directors                   0\n",
       "genres                      0\n",
       "original_language           0\n",
       "year                        0\n",
       "runtime                     0\n",
       "budget                  32041\n",
       "box_office_gross        28641\n",
       "production_companies        0\n",
       "votes                       0\n",
       "rating                      0\n",
       "dtype: int64"
      ]
     },
     "execution_count": 693,
     "metadata": {},
     "output_type": "execute_result"
    }
   ],
   "source": [
    "# Sanity check \n",
    "clean_metadata_df.isna().sum()"
   ]
  },
  {
   "cell_type": "markdown",
   "id": "ad54844b-44c1-4923-8576-8e231aea132f",
   "metadata": {},
   "source": [
    "Great, now we have a `clean_metadata_df` with no null values. Now we'll check for 0s and empty strings."
   ]
  },
  {
   "cell_type": "code",
   "execution_count": 694,
   "id": "27ac5ee0-e23b-4579-be4d-2d58611cbb7d",
   "metadata": {
    "tags": []
   },
   "outputs": [
    {
     "name": "stdout",
     "output_type": "stream",
     "text": [
      "3\n"
     ]
    }
   ],
   "source": [
    "# Checking for 0s \n",
    "empty = clean_metadata_df[clean_metadata_df['budget'] == 0]\n",
    "print(len(empty))"
   ]
  },
  {
   "cell_type": "code",
   "execution_count": 695,
   "id": "6e90013a-3bfa-4798-b139-e654849c82f8",
   "metadata": {
    "tags": []
   },
   "outputs": [
    {
     "name": "stdout",
     "output_type": "stream",
     "text": [
      "0\n"
     ]
    }
   ],
   "source": [
    "# Checking for empty strings\n",
    "empty = clean_metadata_df[clean_metadata_df['budget'] == ''] \n",
    "print(len(empty))"
   ]
  },
  {
   "cell_type": "code",
   "execution_count": 696,
   "id": "22adf72a-6fa8-4872-9ea2-4fdbc2c09d1b",
   "metadata": {
    "tags": []
   },
   "outputs": [
    {
     "name": "stdout",
     "output_type": "stream",
     "text": [
      "32\n"
     ]
    }
   ],
   "source": [
    "# Checking for 0s \n",
    "empty = clean_metadata_df[clean_metadata_df['runtime'] == 0] \n",
    "print(len(empty))"
   ]
  },
  {
   "cell_type": "code",
   "execution_count": 697,
   "id": "531f69de-67e7-40f3-a6cf-9c4f273c65aa",
   "metadata": {
    "tags": []
   },
   "outputs": [
    {
     "name": "stdout",
     "output_type": "stream",
     "text": [
      "0\n"
     ]
    }
   ],
   "source": [
    "# Checking for empty strings\n",
    "empty = clean_metadata_df[clean_metadata_df['runtime'] == ''] \n",
    "print(len(empty))"
   ]
  },
  {
   "cell_type": "code",
   "execution_count": 698,
   "id": "907605b1-c7b8-4728-a933-96b08dfe291f",
   "metadata": {
    "tags": []
   },
   "outputs": [
    {
     "name": "stdout",
     "output_type": "stream",
     "text": [
      "0\n"
     ]
    }
   ],
   "source": [
    "# Checking for 0s \n",
    "empty = clean_metadata_df[clean_metadata_df['box_office_gross'] == 0]\n",
    "print(len(empty))"
   ]
  },
  {
   "cell_type": "code",
   "execution_count": 699,
   "id": "ea4558ca-8f59-4bfe-a9c2-97c25fca0383",
   "metadata": {
    "tags": []
   },
   "outputs": [
    {
     "name": "stdout",
     "output_type": "stream",
     "text": [
      "0\n"
     ]
    }
   ],
   "source": [
    "# Checking for empty strings\n",
    "empty = clean_metadata_df[clean_metadata_df['box_office_gross'] == '']\n",
    "print(len(empty))"
   ]
  },
  {
   "cell_type": "code",
   "execution_count": 700,
   "id": "2c34eeb0-24ed-4452-8ddd-7512cf13ada8",
   "metadata": {
    "tags": []
   },
   "outputs": [
    {
     "name": "stdout",
     "output_type": "stream",
     "text": [
      "0\n"
     ]
    }
   ],
   "source": [
    "# Checking for 0s \n",
    "empty = clean_metadata_df[clean_metadata_df['year'] == 0 ]\n",
    "print(len(empty))"
   ]
  },
  {
   "cell_type": "code",
   "execution_count": 701,
   "id": "a642204c-422c-4a34-a004-b8f019544aaa",
   "metadata": {
    "tags": []
   },
   "outputs": [
    {
     "name": "stdout",
     "output_type": "stream",
     "text": [
      "0\n"
     ]
    }
   ],
   "source": [
    "# Checking for empty strings\n",
    "empty = clean_metadata_df[clean_metadata_df['year'] == '']\n",
    "print(len(empty))"
   ]
  },
  {
   "cell_type": "code",
   "execution_count": 702,
   "id": "d0fb94d4-7094-4c09-8424-b19108a56d0e",
   "metadata": {
    "tags": []
   },
   "outputs": [
    {
     "name": "stdout",
     "output_type": "stream",
     "text": [
      "0\n"
     ]
    }
   ],
   "source": [
    "# Checking for empty strings\n",
    "empty = clean_metadata_df[clean_metadata_df['title'] == '']\n",
    "print(len(empty))"
   ]
  },
  {
   "cell_type": "code",
   "execution_count": 703,
   "id": "b55c576b-9daa-4c60-80f8-665ab240a1b9",
   "metadata": {
    "tags": []
   },
   "outputs": [
    {
     "name": "stdout",
     "output_type": "stream",
     "text": [
      "0\n"
     ]
    }
   ],
   "source": [
    "# Checking for empty strings\n",
    "empty = clean_metadata_df[clean_metadata_df['actors'] == '']\n",
    "print(len(empty))"
   ]
  },
  {
   "cell_type": "code",
   "execution_count": 704,
   "id": "1a9254f2-daf6-4569-9ead-21003d37206a",
   "metadata": {
    "tags": []
   },
   "outputs": [
    {
     "name": "stdout",
     "output_type": "stream",
     "text": [
      "0\n"
     ]
    }
   ],
   "source": [
    "# Checking for empty list\n",
    "empty = clean_metadata_df[clean_metadata_df['actors'] == '[]']\n",
    "print(len(empty))"
   ]
  },
  {
   "cell_type": "code",
   "execution_count": 705,
   "id": "5252e5dc-26fa-4573-ab49-cf3d28910a64",
   "metadata": {
    "tags": []
   },
   "outputs": [
    {
     "name": "stdout",
     "output_type": "stream",
     "text": [
      "0\n"
     ]
    }
   ],
   "source": [
    "# Checking for empty strings\n",
    "empty = clean_metadata_df[clean_metadata_df['directors'] == '']\n",
    "print(len(empty))"
   ]
  },
  {
   "cell_type": "code",
   "execution_count": 706,
   "id": "b1425f0f-a82b-4694-94a3-53f0435e5907",
   "metadata": {
    "tags": []
   },
   "outputs": [
    {
     "name": "stdout",
     "output_type": "stream",
     "text": [
      "0\n"
     ]
    }
   ],
   "source": [
    "# Checking for empty list\n",
    "empty = clean_metadata_df[clean_metadata_df['directors'] == '[]']\n",
    "print(len(empty))"
   ]
  },
  {
   "cell_type": "code",
   "execution_count": 707,
   "id": "454218c7-f9fd-4e18-be9b-01120bee6ce0",
   "metadata": {
    "tags": []
   },
   "outputs": [
    {
     "name": "stdout",
     "output_type": "stream",
     "text": [
      "0\n"
     ]
    }
   ],
   "source": [
    "# Checking for empty strings\n",
    "empty = clean_metadata_df[clean_metadata_df['genres'] == '']\n",
    "print(len(empty))"
   ]
  },
  {
   "cell_type": "code",
   "execution_count": 708,
   "id": "82c89080-64d4-4209-8178-eb35337e40a3",
   "metadata": {
    "tags": []
   },
   "outputs": [
    {
     "name": "stdout",
     "output_type": "stream",
     "text": [
      "0\n"
     ]
    }
   ],
   "source": [
    "# Checking for empty list\n",
    "empty = clean_metadata_df[clean_metadata_df['genres'] == '[]']\n",
    "print(len(empty))"
   ]
  },
  {
   "cell_type": "code",
   "execution_count": 709,
   "id": "c5ee2841-5536-4716-bdd1-eff4ebc7861c",
   "metadata": {
    "tags": []
   },
   "outputs": [
    {
     "name": "stdout",
     "output_type": "stream",
     "text": [
      "0\n"
     ]
    }
   ],
   "source": [
    "# Checking for empty strings\n",
    "empty = clean_metadata_df[clean_metadata_df['original_language'] == '']\n",
    "print(len(empty))"
   ]
  },
  {
   "cell_type": "markdown",
   "id": "d57a2a4b-5d90-46e6-982e-d66a6e462199",
   "metadata": {},
   "source": [
    "Not too bad! Looks like we just need to clean up a few budget and runtime rows. We'll convert the 0 values in budget to null values, so we can identify them more easily. We'll drop the 0 runtime rows."
   ]
  },
  {
   "cell_type": "code",
   "execution_count": 710,
   "id": "b0948174-335d-465a-8547-423619d9d48d",
   "metadata": {
    "tags": []
   },
   "outputs": [],
   "source": [
    "# Replace 0 with null\n",
    "clean_metadata_df['budget'].replace(0, np.nan, inplace=True)"
   ]
  },
  {
   "cell_type": "code",
   "execution_count": 711,
   "id": "09cffda6-0961-4374-8b88-da2fa26be925",
   "metadata": {
    "tags": []
   },
   "outputs": [],
   "source": [
    "# Drop rows with 0 runtime\n",
    "clean_metadata_df = clean_metadata_df[clean_metadata_df['runtime'] != 0]"
   ]
  },
  {
   "cell_type": "code",
   "execution_count": 712,
   "id": "6fe1d41f-4c53-4cc8-9466-5dfb3e3f9613",
   "metadata": {
    "tags": []
   },
   "outputs": [
    {
     "name": "stdout",
     "output_type": "stream",
     "text": [
      "<class 'pandas.core.frame.DataFrame'>\n",
      "Index: 49953 entries, 2 to 52077\n",
      "Data columns (total 13 columns):\n",
      " #   Column                Non-Null Count  Dtype  \n",
      "---  ------                --------------  -----  \n",
      " 0   imdb_id               49953 non-null  object \n",
      " 1   title                 49953 non-null  object \n",
      " 2   actors                49953 non-null  object \n",
      " 3   directors             49953 non-null  object \n",
      " 4   genres                49953 non-null  object \n",
      " 5   original_language     49953 non-null  object \n",
      " 6   year                  49953 non-null  float64\n",
      " 7   runtime               49953 non-null  float64\n",
      " 8   budget                17938 non-null  float64\n",
      " 9   box_office_gross      21335 non-null  float64\n",
      " 10  production_companies  49953 non-null  object \n",
      " 11  votes                 49953 non-null  int64  \n",
      " 12  rating                49953 non-null  float64\n",
      "dtypes: float64(5), int64(1), object(7)\n",
      "memory usage: 5.3+ MB\n"
     ]
    }
   ],
   "source": [
    "# Sanity check \n",
    "clean_metadata_df.info()"
   ]
  },
  {
   "cell_type": "code",
   "execution_count": 742,
   "id": "87e2109e-c92c-4cd1-95f4-8311815c019d",
   "metadata": {
    "tags": []
   },
   "outputs": [],
   "source": [
    "# Convert year to integer \n",
    "clean_metadata_df['year'] = clean_metadata_df['year'].astype(int)"
   ]
  },
  {
   "cell_type": "code",
   "execution_count": 736,
   "id": "92b9b18b-74fc-4b6b-91c0-ddc40d1bd1ad",
   "metadata": {
    "tags": []
   },
   "outputs": [
    {
     "name": "stdout",
     "output_type": "stream",
     "text": [
      "Number of matching 'imdb_id': 49953\n"
     ]
    }
   ],
   "source": [
    "# Find the matching 'imdb_id' between both dataframes\n",
    "matching_ids = clean_metadata_df['imdb_id'][clean_metadata_df['imdb_id'].isin(final_reviews_df['imdb_id'])]\n",
    "\n",
    "# Count the number of matching ids\n",
    "count_matching_ids = len(matching_ids)\n",
    "\n",
    "print(f\"Number of matching 'imdb_id': {count_matching_ids}\")"
   ]
  },
  {
   "cell_type": "markdown",
   "id": "5930a22e-178c-4ba4-8cc9-c1202e13f7d2",
   "metadata": {},
   "source": [
    "Great! Now we have the same number of non-null values for all columns except budget and box office gross. And we still have almost 50k movies between our dataframes that match.\n",
    "\n",
    "Now, let's clean up some of our columns like actors, directors, genres, and production companies that contain lists, or at least LOOK like lists, even though they might be stored as strings. Eventually, we will try to explode out the lists into separate columns, so having them in an actual list format will be helpful."
   ]
  },
  {
   "cell_type": "code",
   "execution_count": 713,
   "id": "823d89c3-80a8-400b-88e6-0de9f7cf70ce",
   "metadata": {
    "tags": []
   },
   "outputs": [
    {
     "data": {
      "text/html": [
       "<div>\n",
       "<style scoped>\n",
       "    .dataframe tbody tr th:only-of-type {\n",
       "        vertical-align: middle;\n",
       "    }\n",
       "\n",
       "    .dataframe tbody tr th {\n",
       "        vertical-align: top;\n",
       "    }\n",
       "\n",
       "    .dataframe thead th {\n",
       "        text-align: right;\n",
       "    }\n",
       "</style>\n",
       "<table border=\"1\" class=\"dataframe\">\n",
       "  <thead>\n",
       "    <tr style=\"text-align: right;\">\n",
       "      <th></th>\n",
       "      <th>imdb_id</th>\n",
       "      <th>title</th>\n",
       "      <th>actors</th>\n",
       "      <th>directors</th>\n",
       "      <th>genres</th>\n",
       "      <th>original_language</th>\n",
       "      <th>year</th>\n",
       "      <th>runtime</th>\n",
       "      <th>budget</th>\n",
       "      <th>box_office_gross</th>\n",
       "      <th>production_companies</th>\n",
       "      <th>votes</th>\n",
       "      <th>rating</th>\n",
       "    </tr>\n",
       "  </thead>\n",
       "  <tbody>\n",
       "    <tr>\n",
       "      <th>22932</th>\n",
       "      <td>tt0199444</td>\n",
       "      <td>Satan's Sword II</td>\n",
       "      <td>Raizô Ichikawa,Kôjirô Hongô,Tamao Nakamura,Fuj...</td>\n",
       "      <td>Kenji Misumi</td>\n",
       "      <td>['Drama', 'Action']</td>\n",
       "      <td>Japanese</td>\n",
       "      <td>1960.0</td>\n",
       "      <td>90.0</td>\n",
       "      <td>NaN</td>\n",
       "      <td>NaN</td>\n",
       "      <td>['Daiei Studios']</td>\n",
       "      <td>183</td>\n",
       "      <td>6.4</td>\n",
       "    </tr>\n",
       "    <tr>\n",
       "      <th>24384</th>\n",
       "      <td>tt0472582</td>\n",
       "      <td>2:37</td>\n",
       "      <td>Teresa Palmer, Frank Sweet, Sam Harris, Charle...</td>\n",
       "      <td>Murali K. Thalluri</td>\n",
       "      <td>['Drama']</td>\n",
       "      <td>en</td>\n",
       "      <td>2006.0</td>\n",
       "      <td>91.0</td>\n",
       "      <td>850000.0</td>\n",
       "      <td>NaN</td>\n",
       "      <td>[M2 Entertainment, Kojo Pictures]</td>\n",
       "      <td>7316</td>\n",
       "      <td>6.8</td>\n",
       "    </tr>\n",
       "    <tr>\n",
       "      <th>19770</th>\n",
       "      <td>tt0094730</td>\n",
       "      <td>The Visitors</td>\n",
       "      <td>Kjell Bergqvist,Lena Endre,Johannes Brost,Joan...</td>\n",
       "      <td>Jack Ersgard</td>\n",
       "      <td>['Horror']</td>\n",
       "      <td>sv</td>\n",
       "      <td>1988.0</td>\n",
       "      <td>109.0</td>\n",
       "      <td>855000.0</td>\n",
       "      <td>13893.0</td>\n",
       "      <td>[MVM Entertainment]</td>\n",
       "      <td>2332</td>\n",
       "      <td>5.7</td>\n",
       "    </tr>\n",
       "    <tr>\n",
       "      <th>7329</th>\n",
       "      <td>tt0042369</td>\n",
       "      <td>D.O.A.</td>\n",
       "      <td>Edmond O'Brien,Pamela Britton,Luther Adler,Bev...</td>\n",
       "      <td>Rudolph Maté</td>\n",
       "      <td>['Crime', 'Drama', 'Film-Noir', 'Mystery']</td>\n",
       "      <td>en</td>\n",
       "      <td>1950.0</td>\n",
       "      <td>83.0</td>\n",
       "      <td>NaN</td>\n",
       "      <td>2700000.0</td>\n",
       "      <td>[Cardinal Pictures, Harry Popkin Productions]</td>\n",
       "      <td>12674</td>\n",
       "      <td>7.2</td>\n",
       "    </tr>\n",
       "    <tr>\n",
       "      <th>40401</th>\n",
       "      <td>tt2126362</td>\n",
       "      <td>Stitches</td>\n",
       "      <td>Ross Noble,Tommy Knight,Eoghan McQuinn,Gemma-L...</td>\n",
       "      <td>Conor McMahon</td>\n",
       "      <td>['Comedy', 'Horror']</td>\n",
       "      <td>en</td>\n",
       "      <td>2012.0</td>\n",
       "      <td>86.0</td>\n",
       "      <td>100000.0</td>\n",
       "      <td>251000.0</td>\n",
       "      <td>[MPI Media Group, Tailored Films, Fantastic Fi...</td>\n",
       "      <td>10279</td>\n",
       "      <td>5.7</td>\n",
       "    </tr>\n",
       "  </tbody>\n",
       "</table>\n",
       "</div>"
      ],
      "text/plain": [
       "         imdb_id             title  \\\n",
       "22932  tt0199444  Satan's Sword II   \n",
       "24384  tt0472582              2:37   \n",
       "19770  tt0094730      The Visitors   \n",
       "7329   tt0042369            D.O.A.   \n",
       "40401  tt2126362          Stitches   \n",
       "\n",
       "                                                  actors           directors  \\\n",
       "22932  Raizô Ichikawa,Kôjirô Hongô,Tamao Nakamura,Fuj...        Kenji Misumi   \n",
       "24384  Teresa Palmer, Frank Sweet, Sam Harris, Charle...  Murali K. Thalluri   \n",
       "19770  Kjell Bergqvist,Lena Endre,Johannes Brost,Joan...        Jack Ersgard   \n",
       "7329   Edmond O'Brien,Pamela Britton,Luther Adler,Bev...        Rudolph Maté   \n",
       "40401  Ross Noble,Tommy Knight,Eoghan McQuinn,Gemma-L...       Conor McMahon   \n",
       "\n",
       "                                           genres original_language    year  \\\n",
       "22932                         ['Drama', 'Action']          Japanese  1960.0   \n",
       "24384                                   ['Drama']                en  2006.0   \n",
       "19770                                  ['Horror']                sv  1988.0   \n",
       "7329   ['Crime', 'Drama', 'Film-Noir', 'Mystery']                en  1950.0   \n",
       "40401                        ['Comedy', 'Horror']                en  2012.0   \n",
       "\n",
       "       runtime    budget  box_office_gross  \\\n",
       "22932     90.0       NaN               NaN   \n",
       "24384     91.0  850000.0               NaN   \n",
       "19770    109.0  855000.0           13893.0   \n",
       "7329      83.0       NaN         2700000.0   \n",
       "40401     86.0  100000.0          251000.0   \n",
       "\n",
       "                                    production_companies  votes  rating  \n",
       "22932                                  ['Daiei Studios']    183     6.4  \n",
       "24384                  [M2 Entertainment, Kojo Pictures]   7316     6.8  \n",
       "19770                                [MVM Entertainment]   2332     5.7  \n",
       "7329       [Cardinal Pictures, Harry Popkin Productions]  12674     7.2  \n",
       "40401  [MPI Media Group, Tailored Films, Fantastic Fi...  10279     5.7  "
      ]
     },
     "execution_count": 713,
     "metadata": {},
     "output_type": "execute_result"
    }
   ],
   "source": [
    "clean_metadata_df.sample(5)"
   ]
  },
  {
   "cell_type": "code",
   "execution_count": 714,
   "id": "0811c98a-d1e3-492c-818b-ba3837620f81",
   "metadata": {
    "tags": []
   },
   "outputs": [
    {
     "name": "stdout",
     "output_type": "stream",
     "text": [
      "actors\n",
      "<class 'str'>    49953\n",
      "Name: count, dtype: int64\n",
      "directors\n",
      "<class 'str'>    49953\n",
      "Name: count, dtype: int64\n",
      "genres\n",
      "<class 'str'>    49953\n",
      "Name: count, dtype: int64\n",
      "production_companies\n",
      "<class 'list'>    37115\n",
      "<class 'str'>     12838\n",
      "Name: count, dtype: int64\n"
     ]
    }
   ],
   "source": [
    "# Check the types of all rows in columns that look like lists \n",
    "\n",
    "type_counts_actors = clean_metadata_df['actors'].apply(type).value_counts()\n",
    "type_counts_directors = clean_metadata_df['directors'].apply(type).value_counts()\n",
    "type_counts_genres = clean_metadata_df['genres'].apply(type).value_counts()\n",
    "type_counts_production = clean_metadata_df['production_companies'].apply(type).value_counts()\n",
    "\n",
    "print(type_counts_actors)\n",
    "print(type_counts_directors)\n",
    "print(type_counts_genres)\n",
    "print(type_counts_production)"
   ]
  },
  {
   "cell_type": "markdown",
   "id": "6238686f-f92c-423b-8a8d-11fbce9dd081",
   "metadata": {},
   "source": [
    "Looks like most are strings, so we will strip them and convert to real lists."
   ]
  },
  {
   "cell_type": "code",
   "execution_count": 715,
   "id": "7e62d1a5-9720-4c8e-b464-a0517559f424",
   "metadata": {
    "tags": []
   },
   "outputs": [],
   "source": [
    "# Convert the 'actors' column to a string type if it's not already\n",
    "clean_metadata_df.loc[:, 'actors'] = clean_metadata_df['actors'].astype(str)\n",
    "\n",
    "# Remove square brackets and quotes and convert to list\n",
    "clean_metadata_df.loc[:, 'actors'] = clean_metadata_df['actors'].str.strip(\"[]\").str.replace(\"'\", \"\").str.split(\", \")"
   ]
  },
  {
   "cell_type": "code",
   "execution_count": 717,
   "id": "f0d97ec7-e2cc-4302-8645-8e0f3cef1d53",
   "metadata": {
    "tags": []
   },
   "outputs": [],
   "source": [
    "# Convert the 'directors' column to a string type if it's not already\n",
    "clean_metadata_df.loc[:, 'directors'] = clean_metadata_df['directors'].astype(str)\n",
    "\n",
    "# Remove square brackets and quotes and convert to list\n",
    "clean_metadata_df.loc[:, 'directors'] = clean_metadata_df['directors'].str.strip(\"[]\").str.replace(\"'\", \"\").str.split(\", \")"
   ]
  },
  {
   "cell_type": "code",
   "execution_count": 718,
   "id": "d466dc89-8977-4288-9def-9617cc55ef80",
   "metadata": {
    "tags": []
   },
   "outputs": [],
   "source": [
    "# Convert the 'genres' column to a string type if it's not already\n",
    "clean_metadata_df.loc[:, 'genres'] = clean_metadata_df['genres'].astype(str)\n",
    "\n",
    "# Remove square brackets and quotes and convert to list\n",
    "clean_metadata_df.loc[:, 'genres'] = clean_metadata_df['genres'].str.strip(\"[]\").str.replace(\"'\", \"\").str.split(\", \")"
   ]
  },
  {
   "cell_type": "code",
   "execution_count": 719,
   "id": "f5d3ef08-9382-4afa-9d5d-719f4063729c",
   "metadata": {
    "tags": []
   },
   "outputs": [],
   "source": [
    "# Convert the 'production companies' column to a string type if it's not already\n",
    "clean_metadata_df.loc[:, 'production_companies'] = clean_metadata_df['production_companies'].astype(str)\n",
    "\n",
    "# Remove square brackets and quotes and convert to list\n",
    "clean_metadata_df.loc[:, 'production_companies'] = clean_metadata_df['production_companies'].str.strip(\"[]\").str.replace(\"'\", \"\").str.split(\", \")"
   ]
  },
  {
   "cell_type": "code",
   "execution_count": 720,
   "id": "9a719856-4cd6-43f9-a857-6da6e5724b31",
   "metadata": {
    "tags": []
   },
   "outputs": [
    {
     "data": {
      "text/html": [
       "<div>\n",
       "<style scoped>\n",
       "    .dataframe tbody tr th:only-of-type {\n",
       "        vertical-align: middle;\n",
       "    }\n",
       "\n",
       "    .dataframe tbody tr th {\n",
       "        vertical-align: top;\n",
       "    }\n",
       "\n",
       "    .dataframe thead th {\n",
       "        text-align: right;\n",
       "    }\n",
       "</style>\n",
       "<table border=\"1\" class=\"dataframe\">\n",
       "  <thead>\n",
       "    <tr style=\"text-align: right;\">\n",
       "      <th></th>\n",
       "      <th>imdb_id</th>\n",
       "      <th>title</th>\n",
       "      <th>actors</th>\n",
       "      <th>directors</th>\n",
       "      <th>genres</th>\n",
       "      <th>original_language</th>\n",
       "      <th>year</th>\n",
       "      <th>runtime</th>\n",
       "      <th>budget</th>\n",
       "      <th>box_office_gross</th>\n",
       "      <th>production_companies</th>\n",
       "      <th>votes</th>\n",
       "      <th>rating</th>\n",
       "    </tr>\n",
       "  </thead>\n",
       "  <tbody>\n",
       "    <tr>\n",
       "      <th>2</th>\n",
       "      <td>tt0004972</td>\n",
       "      <td>The Birth of a Nation</td>\n",
       "      <td>[Lillian Gish,Mae Marsh,Henry B. Walthall,Miri...</td>\n",
       "      <td>[D.W. Griffith]</td>\n",
       "      <td>[Drama, History, War]</td>\n",
       "      <td>en</td>\n",
       "      <td>1915.0</td>\n",
       "      <td>195.0</td>\n",
       "      <td>100000.0</td>\n",
       "      <td>10000000.0</td>\n",
       "      <td>[Epoch Film Co.]</td>\n",
       "      <td>25782</td>\n",
       "      <td>6.2</td>\n",
       "    </tr>\n",
       "    <tr>\n",
       "      <th>3</th>\n",
       "      <td>tt0023622</td>\n",
       "      <td>Trouble in Paradise</td>\n",
       "      <td>[Miriam Hopkins,Kay Francis,Herbert Marshall,C...</td>\n",
       "      <td>[Ernst Lubitsch]</td>\n",
       "      <td>[Comedy, Crime, Romance]</td>\n",
       "      <td>en</td>\n",
       "      <td>1932.0</td>\n",
       "      <td>83.0</td>\n",
       "      <td>519706.0</td>\n",
       "      <td>1035500.0</td>\n",
       "      <td>[Paramount]</td>\n",
       "      <td>15707</td>\n",
       "      <td>8.0</td>\n",
       "    </tr>\n",
       "    <tr>\n",
       "      <th>4</th>\n",
       "      <td>tt0118688</td>\n",
       "      <td>Batman &amp; Robin</td>\n",
       "      <td>[Arnold Schwarzenegger,George Clooney,Chris OD...</td>\n",
       "      <td>[Joel Schumacher]</td>\n",
       "      <td>[Action, Sci-Fi]</td>\n",
       "      <td>en</td>\n",
       "      <td>1997.0</td>\n",
       "      <td>125.0</td>\n",
       "      <td>125000000.0</td>\n",
       "      <td>107325195.0</td>\n",
       "      <td>[DC Comics, PolyGram Filmed Entertainment, War...</td>\n",
       "      <td>263149</td>\n",
       "      <td>3.8</td>\n",
       "    </tr>\n",
       "    <tr>\n",
       "      <th>5</th>\n",
       "      <td>tt0346491</td>\n",
       "      <td>Alexander</td>\n",
       "      <td>[Colin Farrell,Anthony Hopkins,Rosario Dawson,...</td>\n",
       "      <td>[Oliver Stone]</td>\n",
       "      <td>[Action, Biography, Drama, History, War]</td>\n",
       "      <td>en</td>\n",
       "      <td>2004.0</td>\n",
       "      <td>175.0</td>\n",
       "      <td>155000000.0</td>\n",
       "      <td>34297191.0</td>\n",
       "      <td>[Warner Bros. Pictures, WR Universal Group, Fr...</td>\n",
       "      <td>173996</td>\n",
       "      <td>5.6</td>\n",
       "    </tr>\n",
       "    <tr>\n",
       "      <th>6</th>\n",
       "      <td>tt0094721</td>\n",
       "      <td>Beetlejuice</td>\n",
       "      <td>[Alec Baldwin,Geena Davis,Michael Keaton,Annie...</td>\n",
       "      <td>[Tim Burton]</td>\n",
       "      <td>[Comedy, Fantasy]</td>\n",
       "      <td>en</td>\n",
       "      <td>1988.0</td>\n",
       "      <td>92.0</td>\n",
       "      <td>15000000.0</td>\n",
       "      <td>73707461.0</td>\n",
       "      <td>[Geffen Pictures, Warner Bros. Pictures]</td>\n",
       "      <td>321436</td>\n",
       "      <td>7.5</td>\n",
       "    </tr>\n",
       "  </tbody>\n",
       "</table>\n",
       "</div>"
      ],
      "text/plain": [
       "     imdb_id                  title  \\\n",
       "2  tt0004972  The Birth of a Nation   \n",
       "3  tt0023622    Trouble in Paradise   \n",
       "4  tt0118688         Batman & Robin   \n",
       "5  tt0346491              Alexander   \n",
       "6  tt0094721            Beetlejuice   \n",
       "\n",
       "                                              actors          directors  \\\n",
       "2  [Lillian Gish,Mae Marsh,Henry B. Walthall,Miri...    [D.W. Griffith]   \n",
       "3  [Miriam Hopkins,Kay Francis,Herbert Marshall,C...   [Ernst Lubitsch]   \n",
       "4  [Arnold Schwarzenegger,George Clooney,Chris OD...  [Joel Schumacher]   \n",
       "5  [Colin Farrell,Anthony Hopkins,Rosario Dawson,...     [Oliver Stone]   \n",
       "6  [Alec Baldwin,Geena Davis,Michael Keaton,Annie...       [Tim Burton]   \n",
       "\n",
       "                                     genres original_language    year  \\\n",
       "2                     [Drama, History, War]                en  1915.0   \n",
       "3                  [Comedy, Crime, Romance]                en  1932.0   \n",
       "4                          [Action, Sci-Fi]                en  1997.0   \n",
       "5  [Action, Biography, Drama, History, War]                en  2004.0   \n",
       "6                         [Comedy, Fantasy]                en  1988.0   \n",
       "\n",
       "   runtime       budget  box_office_gross  \\\n",
       "2    195.0     100000.0        10000000.0   \n",
       "3     83.0     519706.0         1035500.0   \n",
       "4    125.0  125000000.0       107325195.0   \n",
       "5    175.0  155000000.0        34297191.0   \n",
       "6     92.0   15000000.0        73707461.0   \n",
       "\n",
       "                                production_companies   votes  rating  \n",
       "2                                   [Epoch Film Co.]   25782     6.2  \n",
       "3                                        [Paramount]   15707     8.0  \n",
       "4  [DC Comics, PolyGram Filmed Entertainment, War...  263149     3.8  \n",
       "5  [Warner Bros. Pictures, WR Universal Group, Fr...  173996     5.6  \n",
       "6           [Geffen Pictures, Warner Bros. Pictures]  321436     7.5  "
      ]
     },
     "execution_count": 720,
     "metadata": {},
     "output_type": "execute_result"
    }
   ],
   "source": [
    "clean_metadata_df.head()"
   ]
  },
  {
   "cell_type": "code",
   "execution_count": 721,
   "id": "14b57588-95c3-444b-a932-6c8c2e9078a7",
   "metadata": {
    "tags": []
   },
   "outputs": [
    {
     "name": "stdout",
     "output_type": "stream",
     "text": [
      "actors\n",
      "<class 'list'>    49953\n",
      "Name: count, dtype: int64\n",
      "directors\n",
      "<class 'list'>    49953\n",
      "Name: count, dtype: int64\n",
      "genres\n",
      "<class 'list'>    49953\n",
      "Name: count, dtype: int64\n",
      "production_companies\n",
      "<class 'list'>    49953\n",
      "Name: count, dtype: int64\n"
     ]
    }
   ],
   "source": [
    "# Check the types of all rows in columns that look like lists \n",
    "\n",
    "type_counts_actors = clean_metadata_df['actors'].apply(type).value_counts()\n",
    "type_counts_directors = clean_metadata_df['directors'].apply(type).value_counts()\n",
    "type_counts_genres = clean_metadata_df['genres'].apply(type).value_counts()\n",
    "type_counts_production = clean_metadata_df['production_companies'].apply(type).value_counts()\n",
    "\n",
    "print(type_counts_actors)\n",
    "print(type_counts_directors)\n",
    "print(type_counts_genres)\n",
    "print(type_counts_production)"
   ]
  },
  {
   "cell_type": "markdown",
   "id": "2f1d95de-7f7c-482c-968b-ecf8df8a7e31",
   "metadata": {
    "tags": []
   },
   "source": [
    "Great! Now all of our columns are lists. Let's proceed with checking the maximum length of each list. "
   ]
  },
  {
   "cell_type": "code",
   "execution_count": 744,
   "id": "6183d05a-108f-48d0-86fe-b07a32fa3395",
   "metadata": {
    "tags": []
   },
   "outputs": [
    {
     "name": "stdout",
     "output_type": "stream",
     "text": [
      "The maximum number of actors in a list is 57\n",
      "The maximum number of directors in a list is 36\n",
      "The maximum number of genres in a list is 10\n",
      "The maximum number of production companies in a list is 47\n"
     ]
    }
   ],
   "source": [
    "# For the 'actors' column\n",
    "max_actors = clean_metadata_df['actors'].apply(len).max()\n",
    "print(f\"The maximum number of actors in a list is {max_actors}\")\n",
    "\n",
    "# For the 'directors' column\n",
    "max_directors = clean_metadata_df['directors'].apply(len).max()\n",
    "print(f\"The maximum number of directors in a list is {max_directors}\")\n",
    "\n",
    "# For the 'genres' column\n",
    "max_genres = clean_metadata_df['genres'].apply(len).max()\n",
    "print(f\"The maximum number of genres in a list is {max_genres}\")\n",
    "\n",
    "# For the 'production_companies' column\n",
    "max_production_companies = clean_metadata_df['production_companies'].apply(len).max()\n",
    "print(f\"The maximum number of production companies in a list is {max_production_companies}\")"
   ]
  },
  {
   "cell_type": "markdown",
   "id": "3929419c-c545-41eb-ba88-0fb222f75f3b",
   "metadata": {
    "tags": []
   },
   "source": [
    "Wow, there are a huge number of max items in all of these categories! That will definitely add too much complexity to our model. We need to decide on a limit for reach category. Let's check the average number for each of the categories."
   ]
  },
  {
   "cell_type": "code",
   "execution_count": 747,
   "id": "66121fd4-105c-4a25-82a8-96c2c948b896",
   "metadata": {
    "tags": []
   },
   "outputs": [
    {
     "name": "stdout",
     "output_type": "stream",
     "text": [
      "The average number of actors per movie is 2.01\n",
      "The average number of directors per movie is 1.03\n",
      "The average number of genres per movie is 2.56\n",
      "The average number of production_companies per movie is 2.25\n"
     ]
    }
   ],
   "source": [
    "# Calculate the average number of items in each list\n",
    "\n",
    "for column in ['actors', 'directors', 'genres', 'production_companies']:\n",
    "    avg_length = clean_metadata_df[column].apply(len).mean()\n",
    "    print(f\"The average number of {column} per movie is {avg_length:.2f}\")"
   ]
  },
  {
   "cell_type": "markdown",
   "id": "584b8fef-89ed-4021-a498-a28971092f5b",
   "metadata": {},
   "source": [
    "For now, we'll limit the categories as follows: \n",
    "- `actors`: 10\n",
    "- `directors`: 5\n",
    "- `genres`: 3\n",
    "- `production_companies`: 3 "
   ]
  },
  {
   "cell_type": "code",
   "execution_count": 748,
   "id": "8b665764-47c1-471e-8327-e96051c2bf3e",
   "metadata": {
    "tags": []
   },
   "outputs": [],
   "source": [
    "# Limit the number of items in the 'actors' list to 10\n",
    "clean_metadata_df['actors'] = clean_metadata_df['actors'].apply(lambda x: x[:10] if isinstance(x, list) else x)\n",
    "\n",
    "# Limit the number of items in the 'directors' list to 5\n",
    "clean_metadata_df['directors'] = clean_metadata_df['directors'].apply(lambda x: x[:5] if isinstance(x, list) else x)\n",
    "\n",
    "# Limit the number of items in the 'genres' list to 3\n",
    "clean_metadata_df['genres'] = clean_metadata_df['genres'].apply(lambda x: x[:3] if isinstance(x, list) else x)\n",
    "\n",
    "# Limit the number of items in the 'production_companies' list to 3\n",
    "clean_metadata_df['production_companies'] = clean_metadata_df['production_companies'].apply(lambda x: x[:3] if isinstance(x, list) else x)"
   ]
  },
  {
   "cell_type": "markdown",
   "id": "aa32b229-6f61-4696-bcd4-b38e2284baa7",
   "metadata": {},
   "source": [
    "Next let's examine the `original_language` column, as we know there are non-standard values in there, e.g. both 'en' and 'English'."
   ]
  },
  {
   "cell_type": "code",
   "execution_count": 723,
   "id": "48ad2fb7-a504-43a5-b5e0-0bc651ead6f8",
   "metadata": {
    "tags": []
   },
   "outputs": [
    {
     "name": "stdout",
     "output_type": "stream",
     "text": [
      "['en' 'it' 'zh' 'ja' 'fr' 'German' 'ko' 'pt' 'sv' 'English' 'pl' 'da' 'cn'\n",
      " 'ru' 'th' 'aa' 'de' 'es' 'hi' 'Polish' 'tr' 'el' 'cs' 'ur' 'nl' 'he' 'no'\n",
      " 'Hindi' 'Japanese' 'French' 'ar' 'ml' 'la' 'Russian' 'sk' 'Spanish'\n",
      " 'Finnish' 'Hungarian' 'xx' 'Bosnian' 'mn' 'bo' 'Italian' 'hu' 'Romanian'\n",
      " 'dz' 'fa' 'sr' 'Cantonese' 'bn' 'fi' 'Mandarin' 'ro' 'id' 'Estonian' 'hr'\n",
      " 'bs' 'Bangla' 'Norwegian' 'Swedish' 'bm' 'ta' 'vi' 'ps' 'hy' 'xh' 'Urdu'\n",
      " 'zu' 'Greek' 'Swiss German' 'ka' 'is' 'mk' 'et' 'wo' 'Tajik' 'Portuguese'\n",
      " 'ab' 'Danish' 'sh' 'Filipino' 'ff' 'ca' 'Dutch' 'Icelandic' 'Persian'\n",
      " 'Arabic' 'Czech' 'Hokkien' 'eo' 'se' 'te' 'Slovak' 'nb' 'Vietnamese' 'tl'\n",
      " 'Thai' 'Serbian' 'Sinhala' 'lv' 'af' 'Croatian' 'Lithuanian' 'Flemish'\n",
      " 'uk' 'Turkish' 'Hebrew' 'Serbo-Croatian' 'lt' 'cy' 'Albanian' 'bg'\n",
      " 'Punjabi' 'Kurdish' 'Jola-Fonyi' 'Slovenian' 'Latvian' 'am' 'Guarani'\n",
      " 'ku' 'jv' 'Luxembourgish' 'Xhosa' 'Marathi' 'ms' 'ky' 'Basque' 'Tagalog'\n",
      " 'American Sign Language' 'Malayalam' 'Scots' 'Tarahumara' 'Macedonian'\n",
      " 'uz' 'eu' 'Wolof' 'sq' 'sl' 'Tswana' 'rw' 'Georgian' 'Malay' 'Pashto'\n",
      " 'tg' 'Zulu' 'mr' 'Tamil' 'kk' 'Nyaneka' 'Indonesian' 'Kikuyu' 'Odia' 'sm'\n",
      " 'Kyrgyz' 'Armenian' 'Chinese' 'Kashmiri' 'Korean' 'Khmer' 'lo' 'kn' 'ne'\n",
      " 'Swahili' 'Haitian Creole' 'Galician' 'iu' 'Kannada' 'Maori' 'ln'\n",
      " 'Maltese' 'Telugu' 'Dari' 'pa' 'Mandingo' 'Afrikaans' 'Inuktitut'\n",
      " 'Kazakh' 'yi' 'gl' 'gu' 'Bulgarian' 'Nenets' 'Western Frisian' 'Yiddish']\n"
     ]
    }
   ],
   "source": [
    "# Show unique values in the 'original_language' column\n",
    "unique_languages = clean_metadata_df['original_language'].unique()\n",
    "print(unique_languages)"
   ]
  },
  {
   "cell_type": "markdown",
   "id": "058ae382-d49c-4f0b-8418-4c46a54b9328",
   "metadata": {},
   "source": [
    "This is a lot of languages! Let's convert the abbreviations to the full names, since they are more informative."
   ]
  },
  {
   "cell_type": "code",
   "execution_count": 737,
   "id": "c60ca628-e490-4a9b-85bb-e8e71fe1a16b",
   "metadata": {
    "tags": []
   },
   "outputs": [],
   "source": [
    "# Dictionary to map abbreviations to full names\n",
    "language_dict = {\n",
    "    'en': 'English',\n",
    "    'it': 'Italian',\n",
    "    'zh': 'Chinese',\n",
    "    'ja': 'Japanese',\n",
    "    'fr': 'French',\n",
    "    'de': 'German',\n",
    "    'ko': 'Korean',\n",
    "    'pt': 'Portuguese',\n",
    "    'sv': 'Swedish',\n",
    "    'pl': 'Polish',\n",
    "    'da': 'Danish',\n",
    "    'cn': 'Chinese',\n",
    "    'ru': 'Russian',\n",
    "    'th': 'Thai',\n",
    "    'aa': 'Afar',\n",
    "    'es': 'Spanish',\n",
    "    'hi': 'Hindi',\n",
    "    'tr': 'Turkish',\n",
    "    'el': 'Greek',\n",
    "    'cs': 'Czech',\n",
    "    'ur': 'Urdu',\n",
    "    'nl': 'Dutch',\n",
    "    'he': 'Hebrew',\n",
    "    'no': 'Norwegian',\n",
    "    'ar': 'Arabic',\n",
    "    'ml': 'Malayalam',\n",
    "    'la': 'Latin',\n",
    "    'sk': 'Slovak',\n",
    "    'fi': 'Finnish',\n",
    "    'hu': 'Hungarian',\n",
    "    'mn': 'Mongolian',\n",
    "    'bo': 'Tibetan',\n",
    "    'ro': 'Romanian',\n",
    "    'id': 'Indonesian',\n",
    "    'et': 'Estonian',\n",
    "    'hr': 'Croatian',\n",
    "    'bs': 'Bosnian',\n",
    "    'bn': 'Bengali',\n",
    "    'vi': 'Vietnamese',\n",
    "    'ps': 'Pashto',\n",
    "    'hy': 'Armenian',\n",
    "    'xh': 'Xhosa',\n",
    "    'zu': 'Zulu',\n",
    "    'ka': 'Georgian',\n",
    "    'is': 'Icelandic',\n",
    "    'mk': 'Macedonian',\n",
    "    'wo': 'Wolof',\n",
    "    'ab': 'Abkhazian',\n",
    "    'sh': 'Serbo-Croatian',\n",
    "    'ff': 'Fula',\n",
    "    'ca': 'Catalan',\n",
    "    'eo': 'Esperanto',\n",
    "    'se': 'Northern Sami',\n",
    "    'te': 'Telugu',\n",
    "    'tl': 'Tagalog',\n",
    "    'ta': 'Tamil',\n",
    "    'lv': 'Latvian',\n",
    "    'af': 'Afrikaans',\n",
    "    'lt': 'Lithuanian',\n",
    "    'cy': 'Welsh',\n",
    "    'bg': 'Bulgarian',\n",
    "    'am': 'Amharic',\n",
    "    'ku': 'Kurdish',\n",
    "    'jv': 'Javanese',\n",
    "    'ms': 'Malay',\n",
    "    'ky': 'Kyrgyz',\n",
    "    'eu': 'Basque',\n",
    "    'sq': 'Albanian',\n",
    "    'sl': 'Slovenian',\n",
    "    'rw': 'Kinyarwanda',\n",
    "    'tg': 'Tajik',\n",
    "    'mr': 'Marathi',\n",
    "    'kk': 'Kazakh',\n",
    "    'sm': 'Samoan',\n",
    "    'lo': 'Lao',\n",
    "    'kn': 'Kannada',\n",
    "    'ne': 'Nepali',\n",
    "    'sw': 'Swahili',\n",
    "    'iu': 'Inuktitut',\n",
    "    'ln': 'Lingala',\n",
    "    'mt': 'Maltese',\n",
    "    'pa': 'Punjabi',\n",
    "    'uz': 'Uzbek',\n",
    "    'yi': 'Yiddish',\n",
    "    'gl': 'Galician',\n",
    "    'gu': 'Gujarati',\n",
    "    'dz': 'Dzongkha',\n",
    "    'fa': 'Farsi',\n",
    "    'sr': 'Serbian',\n",
    "    'bm': 'Bambara',\n",
    "    'xx': 'Other',\n",
    "    'uk': 'English'\n",
    "}\n",
    "\n",
    "# Standardize the 'original_language' column\n",
    "clean_metadata_df['original_language'].replace(language_dict, inplace=True)"
   ]
  },
  {
   "cell_type": "code",
   "execution_count": 738,
   "id": "a087f3bb-49be-40a0-9550-362b2ce9e99d",
   "metadata": {
    "tags": []
   },
   "outputs": [
    {
     "name": "stdout",
     "output_type": "stream",
     "text": [
      "['English' 'Italian' 'Chinese' 'Japanese' 'French' 'German' 'Korean'\n",
      " 'Portuguese' 'Swedish' 'Polish' 'Danish' 'Russian' 'Thai' 'Afar'\n",
      " 'Spanish' 'Hindi' 'Turkish' 'Greek' 'Czech' 'Urdu' 'Dutch' 'Hebrew'\n",
      " 'Norwegian' 'Arabic' 'Malayalam' 'Latin' 'Slovak' 'Finnish' 'Hungarian'\n",
      " 'Other' 'Bosnian' 'Mongolian' 'Tibetan' 'Romanian' 'Dzongkha' 'Farsi'\n",
      " 'Serbian' 'Cantonese' 'Bengali' 'Mandarin' 'Indonesian' 'Estonian'\n",
      " 'Croatian' 'Bangla' 'Bambara' 'Tamil' 'Vietnamese' 'Pashto' 'Armenian'\n",
      " 'Xhosa' 'Zulu' 'Swiss German' 'Georgian' 'Icelandic' 'Macedonian' 'Wolof'\n",
      " 'Tajik' 'Abkhazian' 'Serbo-Croatian' 'Filipino' 'Fula' 'Catalan'\n",
      " 'Persian' 'Hokkien' 'Esperanto' 'Northern Sami' 'Telugu' 'nb' 'Tagalog'\n",
      " 'Sinhala' 'Latvian' 'Afrikaans' 'Lithuanian' 'Flemish' 'Welsh' 'Albanian'\n",
      " 'Bulgarian' 'Punjabi' 'Kurdish' 'Jola-Fonyi' 'Slovenian' 'Amharic'\n",
      " 'Guarani' 'Javanese' 'Luxembourgish' 'Marathi' 'Malay' 'Kyrgyz' 'Basque'\n",
      " 'American Sign Language' 'Scots' 'Tarahumara' 'Uzbek' 'Tswana'\n",
      " 'Kinyarwanda' 'Kazakh' 'Nyaneka' 'Kikuyu' 'Odia' 'Samoan' 'Kashmiri'\n",
      " 'Khmer' 'Lao' 'Kannada' 'Nepali' 'Swahili' 'Haitian Creole' 'Galician'\n",
      " 'Inuktitut' 'Maori' 'Lingala' 'Maltese' 'Dari' 'Mandingo' 'Yiddish'\n",
      " 'Gujarati' 'Nenets' 'Western Frisian']\n"
     ]
    }
   ],
   "source": [
    "# Verify the changes\n",
    "unique_languages_after = clean_metadata_df['original_language'].unique()\n",
    "print(unique_languages_after)"
   ]
  },
  {
   "cell_type": "markdown",
   "id": "31ef686d-e323-4d73-b239-727018c2ce58",
   "metadata": {},
   "source": [
    "Now, let's look at how often each language occurs in the dataset."
   ]
  },
  {
   "cell_type": "code",
   "execution_count": 735,
   "id": "83f96e8e-0500-4a9a-8f93-9e4e951398e1",
   "metadata": {
    "tags": []
   },
   "outputs": [
    {
     "name": "stdout",
     "output_type": "stream",
     "text": [
      "Top 5 languages with the highest count of movies:\n",
      "original_language\n",
      "English     34659\n",
      "French       2799\n",
      "Italian      2237\n",
      "Japanese     1466\n",
      "Spanish      1153\n",
      "Name: count, dtype: int64\n"
     ]
    }
   ],
   "source": [
    "# Get the frequency of each unique language\n",
    "language_counts = clean_metadata_df['original_language'].value_counts()\n",
    "\n",
    "# Get the top 5 languages\n",
    "top_5_languages = language_counts.head(5)\n",
    "\n",
    "print(\"Top 5 languages with the highest count of movies:\")\n",
    "print(top_5_languages)"
   ]
  },
  {
   "cell_type": "markdown",
   "id": "ce91457d-4206-4567-830a-8bd355075454",
   "metadata": {},
   "source": [
    "Well, we probably should have checked this before converting all the language names 😅 \n",
    "\n",
    "Given that the majority of films are in English, we will change this column to be 'English' or 'Other' to reduce complexity. And given that we will need to encode numerically before modelling, we'll change the column name to language_en and replace the values with 1 for English or 0 for Other. "
   ]
  },
  {
   "cell_type": "code",
   "execution_count": 739,
   "id": "8a8b8e2a-8218-440d-ac95-abf05096fd02",
   "metadata": {
    "tags": []
   },
   "outputs": [],
   "source": [
    "# Convert original language to English or Other (1 or 0) \n",
    "clean_metadata_df['original_language'] = clean_metadata_df['original_language'].apply(lambda x: 1 if x == 'English' else 0)"
   ]
  },
  {
   "cell_type": "code",
   "execution_count": 741,
   "id": "39bff003-d65c-4587-94dc-72810a55f062",
   "metadata": {
    "tags": []
   },
   "outputs": [],
   "source": [
    "# Rename column \n",
    "clean_metadata_df.rename(columns={'original_language': 'language_en'}, inplace=True)"
   ]
  },
  {
   "cell_type": "code",
   "execution_count": 743,
   "id": "70132c62-a9d8-4046-8051-63d0a3d6608d",
   "metadata": {
    "tags": []
   },
   "outputs": [
    {
     "name": "stdout",
     "output_type": "stream",
     "text": [
      "<class 'pandas.core.frame.DataFrame'>\n",
      "Index: 49953 entries, 2 to 52077\n",
      "Data columns (total 13 columns):\n",
      " #   Column                Non-Null Count  Dtype  \n",
      "---  ------                --------------  -----  \n",
      " 0   imdb_id               49953 non-null  object \n",
      " 1   title                 49953 non-null  object \n",
      " 2   actors                49953 non-null  object \n",
      " 3   directors             49953 non-null  object \n",
      " 4   genres                49953 non-null  object \n",
      " 5   language_en           49953 non-null  int64  \n",
      " 6   year                  49953 non-null  int64  \n",
      " 7   runtime               49953 non-null  float64\n",
      " 8   budget                17938 non-null  float64\n",
      " 9   box_office_gross      21335 non-null  float64\n",
      " 10  production_companies  49953 non-null  object \n",
      " 11  votes                 49953 non-null  int64  \n",
      " 12  rating                49953 non-null  float64\n",
      "dtypes: float64(4), int64(3), object(6)\n",
      "memory usage: 5.3+ MB\n"
     ]
    }
   ],
   "source": [
    "clean_metadata_df.info()"
   ]
  },
  {
   "cell_type": "markdown",
   "id": "05d4889d-e880-49e7-a1f3-b26ba1c66ca7",
   "metadata": {},
   "source": [
    "Okay, we've cleaned our metadata as much as possible. Let's save it to a JSON file to be used later."
   ]
  },
  {
   "cell_type": "code",
   "execution_count": 750,
   "id": "a0bd959b-6d5c-42ad-a10a-de84dcb00043",
   "metadata": {
    "tags": []
   },
   "outputs": [],
   "source": [
    "# Save to json \n",
    "clean_metadata_df.to_json('data/cleaned_csv/final_metadata_clean.json', orient='records', lines=True)"
   ]
  },
  {
   "cell_type": "markdown",
   "id": "7882ea5a-db5f-4ab7-a2b4-1b7863c10a47",
   "metadata": {
    "tags": []
   },
   "source": [
    "### Filtering Final Reviews Dataframe <a name=\"final-reviews\"></a>"
   ]
  },
  {
   "cell_type": "markdown",
   "id": "ff2bdf96-5e79-4153-927d-a76a3bf73b4a",
   "metadata": {},
   "source": [
    "Additionally, we now need to filter our final_reviews_df to include only those imdb_ids that we have metadata for."
   ]
  },
  {
   "cell_type": "code",
   "execution_count": 751,
   "id": "b543992b-2656-45e0-9545-22cdb361a9b5",
   "metadata": {
    "tags": []
   },
   "outputs": [
    {
     "name": "stdout",
     "output_type": "stream",
     "text": [
      "<class 'pandas.core.frame.DataFrame'>\n",
      "Index: 3192582 entries, 0 to 3193010\n",
      "Data columns (total 2 columns):\n",
      " #   Column       Dtype \n",
      "---  ------       ----- \n",
      " 0   imdb_id      object\n",
      " 1   review_text  object\n",
      "dtypes: object(2)\n",
      "memory usage: 137.6+ MB\n"
     ]
    }
   ],
   "source": [
    "final_reviews_df.info()"
   ]
  },
  {
   "cell_type": "code",
   "execution_count": 752,
   "id": "867c5bee-008c-4ab0-bad7-68612ad0cbda",
   "metadata": {
    "tags": []
   },
   "outputs": [],
   "source": [
    "# Create a list of unique 'imdb_id' values from clean_metadata_df\n",
    "unique_imdb_ids = clean_metadata_df['imdb_id'].unique()\n",
    "\n",
    "# Filter final_reviews_df to only include rows with 'imdb_id' that also exist in clean_metadata_df\n",
    "final_reviews_df_filtered = final_reviews_df[final_reviews_df['imdb_id'].isin(unique_imdb_ids)]"
   ]
  },
  {
   "cell_type": "code",
   "execution_count": 753,
   "id": "84ed4bdc-700f-4d08-83fe-adade8fde17e",
   "metadata": {
    "tags": []
   },
   "outputs": [
    {
     "name": "stdout",
     "output_type": "stream",
     "text": [
      "<class 'pandas.core.frame.DataFrame'>\n",
      "Index: 3169190 entries, 2 to 3193010\n",
      "Data columns (total 2 columns):\n",
      " #   Column       Dtype \n",
      "---  ------       ----- \n",
      " 0   imdb_id      object\n",
      " 1   review_text  object\n",
      "dtypes: object(2)\n",
      "memory usage: 72.5+ MB\n"
     ]
    }
   ],
   "source": [
    "final_reviews_df_filtered.info()"
   ]
  },
  {
   "cell_type": "code",
   "execution_count": 761,
   "id": "d9b7cf2c-374d-4394-9e99-ec87bc5ef28c",
   "metadata": {
    "tags": []
   },
   "outputs": [
    {
     "name": "stdout",
     "output_type": "stream",
     "text": [
      "The number of common imdb_ids is 49953\n"
     ]
    }
   ],
   "source": [
    "# Create sets of unique 'imdb_id' values for each DataFrame\n",
    "set_imdb_ids_clean_metadata = set(clean_metadata_df['imdb_id'].unique())\n",
    "set_imdb_ids_final_reviews_filtered = set(final_reviews_df_filtered['imdb_id'].unique())\n",
    "\n",
    "# Find the intersection of the two sets\n",
    "common_imdb_ids = set_imdb_ids_clean_metadata.intersection(set_imdb_ids_final_reviews_filtered)\n",
    "\n",
    "# Count the number of common 'imdb_id's\n",
    "count_common_imdb_ids = len(common_imdb_ids)\n",
    "\n",
    "print(f\"The number of common imdb_ids is {count_common_imdb_ids}\")\n"
   ]
  },
  {
   "cell_type": "markdown",
   "id": "8c5218d8-b834-42ae-bd8d-a5f6c792b41b",
   "metadata": {
    "tags": []
   },
   "source": [
    "Excellent! We've filtered our `final_reviews_df` to contain only `imdb_ids` that are also in `clean_metadta_df`, and got the number we were expecting to see. "
   ]
  },
  {
   "cell_type": "markdown",
   "id": "e30848cd-122b-409b-b3c2-e982c2bf36f3",
   "metadata": {},
   "source": [
    "Now, as a final cleaning step, we need to verify that our text reviews are in English, and drop any that are not. To do this we can define a function and use the `langdetect` library to filter our reviews."
   ]
  },
  {
   "cell_type": "code",
   "execution_count": 4,
   "id": "50c5ca4d-3c9f-4a94-8e64-af34f7c589d4",
   "metadata": {
    "tags": []
   },
   "outputs": [],
   "source": [
    "from langdetect import detect\n",
    "\n",
    "def detect_language(text):\n",
    "    try:\n",
    "        return detect(text)\n",
    "    except:\n",
    "        return \"unknown\"\n",
    "\n",
    "# Applying language detection to the 'review_text' column\n",
    "final_reviews_df_filtered['language'] = final_reviews_df_filtered['review_text'].apply(detect_language)\n",
    "\n",
    "# Filter out the rows where the language is not 'en' (English)\n",
    "non_english_rows = final_reviews_df_filtered[final_reviews_df_filtered['language'] != 'en']"
   ]
  },
  {
   "cell_type": "code",
   "execution_count": 6,
   "id": "7f95f7ec-2ebe-4b75-9fef-c6ed8c5c16ee",
   "metadata": {
    "tags": []
   },
   "outputs": [
    {
     "data": {
      "text/plain": [
       "language\n",
       "en         3169025\n",
       "so              17\n",
       "fr              16\n",
       "af              14\n",
       "pt              13\n",
       "es              12\n",
       "de              11\n",
       "id               8\n",
       "ro               8\n",
       "nl               8\n",
       "ca               8\n",
       "da               7\n",
       "it               7\n",
       "no               5\n",
       "cy               5\n",
       "sk               3\n",
       "hu               3\n",
       "tr               3\n",
       "tl               3\n",
       "hr               2\n",
       "et               2\n",
       "unknown          2\n",
       "pl               2\n",
       "fi               2\n",
       "sv               2\n",
       "sl               1\n",
       "sq               1\n",
       "Name: count, dtype: int64"
      ]
     },
     "execution_count": 6,
     "metadata": {},
     "output_type": "execute_result"
    }
   ],
   "source": [
    "final_reviews_df_filtered['language'].value_counts()"
   ]
  },
  {
   "cell_type": "markdown",
   "id": "0bf0db3f-4863-44b4-a0b0-e378ac0020f6",
   "metadata": {},
   "source": [
    "After running our `langdetect` function, we can see that the vast majority of reviews are in English. We'll just need to drop a few rows. "
   ]
  },
  {
   "cell_type": "code",
   "execution_count": 7,
   "id": "1cfb41eb-616e-4fc0-ae92-81dea0968262",
   "metadata": {
    "tags": []
   },
   "outputs": [],
   "source": [
    "# Drop rows where language is not 'en'\n",
    "final_reviews_df_filtered = final_reviews_df_filtered[final_reviews_df_filtered['language'] == 'en']"
   ]
  },
  {
   "cell_type": "markdown",
   "id": "855c57d4-a4d5-49eb-88fa-32dff902d1cd",
   "metadata": {},
   "source": [
    "After dropping the rows, let's check again on the unique number of `imdb_id`s: "
   ]
  },
  {
   "cell_type": "code",
   "execution_count": 9,
   "id": "8d1d414f-e244-48c1-9a92-6b1251b8533a",
   "metadata": {
    "tags": []
   },
   "outputs": [
    {
     "name": "stdout",
     "output_type": "stream",
     "text": [
      "Number of unique imdb_id: 49953\n"
     ]
    }
   ],
   "source": [
    "unique_imdb_ids = df['imdb_id'].nunique()\n",
    "print(f\"Number of unique imdb_id: {unique_imdb_ids}\")"
   ]
  },
  {
   "cell_type": "markdown",
   "id": "98ada0c7-494f-477d-844a-b75537fcf5a1",
   "metadata": {},
   "source": [
    "Great! We still have the same number of unique movies even after dropping some of the rows. Let's save final_reviews_df_filtered to a JSON file, and we'll be done with our initial cleaning steps."
   ]
  },
  {
   "cell_type": "code",
   "execution_count": 763,
   "id": "2dd4bd18-3958-40a7-98bd-bbc2b69025a9",
   "metadata": {
    "tags": []
   },
   "outputs": [],
   "source": [
    "final_reviews_df_filtered.to_json('data/cleaned_csv/final_reviews_filtered.json', orient='records', lines=True)"
   ]
  },
  {
   "cell_type": "markdown",
   "id": "2ceea472-36f7-4923-9ead-c296698cbdb5",
   "metadata": {
    "tags": []
   },
   "source": [
    "### Next Up: EDA & Creating the Final Dataframe <a name=\"next-up\"></a>"
   ]
  },
  {
   "cell_type": "markdown",
   "id": "d0c31806-0a5d-4cf3-8896-4c20a3ff3b34",
   "metadata": {},
   "source": [
    "For the final dataframe the next steps are: \n",
    "- Add a `reviews` column to the dataframe to represent the total count of reviews with text. \n",
    "- Add a `review_text` column to dataframe and concat all review text by movie \n",
    "- Add rating \"bins\" for IMDb ratings\n",
    "- EDA!"
   ]
  },
  {
   "cell_type": "markdown",
   "id": "4e5985f8-8189-4c74-be59-50e053704138",
   "metadata": {},
   "source": [
    "---"
   ]
  }
 ],
 "metadata": {
  "kernelspec": {
   "display_name": "Python 3 (ipykernel)",
   "language": "python",
   "name": "python3"
  },
  "language_info": {
   "codemirror_mode": {
    "name": "ipython",
    "version": 3
   },
   "file_extension": ".py",
   "mimetype": "text/x-python",
   "name": "python",
   "nbconvert_exporter": "python",
   "pygments_lexer": "ipython3",
   "version": "3.11.3"
  }
 },
 "nbformat": 4,
 "nbformat_minor": 5
}
