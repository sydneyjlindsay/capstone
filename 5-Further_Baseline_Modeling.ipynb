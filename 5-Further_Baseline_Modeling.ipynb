{
 "cells": [
  {
   "cell_type": "markdown",
   "id": "ee07cabc-04ff-4909-b486-50eb2afe94c1",
   "metadata": {},
   "source": [
    "# Further Baseline Modeling"
   ]
  },
  {
   "cell_type": "markdown",
   "id": "df47889d-36e4-451d-be32-542eda186933",
   "metadata": {},
   "source": [
    "In this notebook, we will take a new approach to feature engineering and ways to reduce dimensionality in the dataset, as well as explore additional model algorithms."
   ]
  },
  {
   "cell_type": "markdown",
   "id": "de15f6f2-5871-4a14-9c72-3d9698935c4e",
   "metadata": {},
   "source": [
    "Let's start by importing our `final_df` that we created after data cleaning but *prior* to feature engineering in the previous notebook."
   ]
  },
  {
   "cell_type": "code",
   "execution_count": 1,
   "id": "4d4f8eb2-3039-48cc-9cde-e4e451686725",
   "metadata": {
    "tags": []
   },
   "outputs": [],
   "source": [
    "# Import basic packages \n",
    "import pandas as pd \n",
    "import numpy as np\n",
    "import matplotlib.pyplot as plt\n",
    "import seaborn as sns"
   ]
  },
  {
   "cell_type": "code",
   "execution_count": 2,
   "id": "ab54bb27-2123-4dbf-b78c-76664f24a8f0",
   "metadata": {
    "tags": []
   },
   "outputs": [],
   "source": [
    "# Load final_df\n",
    "final_df = pd.read_json('data/final_df.json', lines=True)"
   ]
  },
  {
   "cell_type": "code",
   "execution_count": 3,
   "id": "3acaf1bc-6f68-46e6-85df-d09302356e68",
   "metadata": {
    "tags": []
   },
   "outputs": [
    {
     "name": "stdout",
     "output_type": "stream",
     "text": [
      "<class 'pandas.core.frame.DataFrame'>\n",
      "RangeIndex: 49378 entries, 0 to 49377\n",
      "Data columns (total 17 columns):\n",
      " #   Column                Non-Null Count  Dtype  \n",
      "---  ------                --------------  -----  \n",
      " 0   imdb_id               49378 non-null  object \n",
      " 1   title                 49378 non-null  object \n",
      " 2   actors                49378 non-null  object \n",
      " 3   directors             49378 non-null  object \n",
      " 4   genres                49378 non-null  object \n",
      " 5   language_en           49378 non-null  int64  \n",
      " 6   year                  49378 non-null  int64  \n",
      " 7   runtime               49378 non-null  int64  \n",
      " 8   budget                17818 non-null  float64\n",
      " 9   box_office_gross      21049 non-null  float64\n",
      " 10  production_companies  49378 non-null  object \n",
      " 11  votes                 49378 non-null  int64  \n",
      " 12  rating                49378 non-null  float64\n",
      " 13  rating_category       49378 non-null  object \n",
      " 14  decade                49378 non-null  int64  \n",
      " 15  review_text           49378 non-null  object \n",
      " 16  review_count          49378 non-null  int64  \n",
      "dtypes: float64(3), int64(6), object(8)\n",
      "memory usage: 6.4+ MB\n"
     ]
    }
   ],
   "source": [
    "final_df.info()"
   ]
  },
  {
   "cell_type": "markdown",
   "id": "f2c49532-ddd8-4a18-b4d0-c53bdfcc2e7a",
   "metadata": {},
   "source": [
    "Great, we have loaded our final dataframe. Now, before we do any feature engineering, we will make some decisions about which data to drop before modeling, as we were not very aggressive with dropping outliers or other potentially noisy data.\n",
    "\n",
    "Firstly, let's check how many of our movies have less than 5 reviews."
   ]
  },
  {
   "cell_type": "code",
   "execution_count": 4,
   "id": "8569c28e-e1c9-4d25-aa3a-fc4d4711ce8d",
   "metadata": {
    "tags": []
   },
   "outputs": [
    {
     "name": "stdout",
     "output_type": "stream",
     "text": [
      "There are 11085 rows where the review_count is less than 5.\n"
     ]
    }
   ],
   "source": [
    "# Count the number of rows where review_count is less than 5\n",
    "count = len(final_df[final_df['review_count'] < 5])\n",
    "\n",
    "print(f\"There are {count} rows where the review_count is less than 5.\")"
   ]
  },
  {
   "cell_type": "markdown",
   "id": "9a9699e4-d0f9-41c2-a0db-7eb60d0f8332",
   "metadata": {},
   "source": [
    "Checking the distribution across classes:"
   ]
  },
  {
   "cell_type": "code",
   "execution_count": 5,
   "id": "3963d257-9a38-4e97-a0b5-a75a342fe3bd",
   "metadata": {
    "tags": []
   },
   "outputs": [
    {
     "name": "stdout",
     "output_type": "stream",
     "text": [
      "Distribution of classes for movies with fewer than 5 reviews:\n",
      "rating_category\n",
      "Average      3030\n",
      "Good         3027\n",
      "Poor         2696\n",
      "Excellent    2332\n",
      "Name: count, dtype: int64\n"
     ]
    }
   ],
   "source": [
    "# Filter for movies with fewer than 5 reviews\n",
    "filtered_df = final_df[final_df['review_count'] < 5]\n",
    "\n",
    "# Count of 'rating_category' in the filtered data\n",
    "class_distribution = filtered_df['rating_category'].value_counts()\n",
    "\n",
    "print(\"Distribution of classes for movies with fewer than 5 reviews:\")\n",
    "print(class_distribution)"
   ]
  },
  {
   "cell_type": "markdown",
   "id": "edf47a66-b448-4469-ab02-8a574ea73da1",
   "metadata": {},
   "source": [
    "Well, 11,000 movies is a good chunk of our dataset, but this could also help reduce noise and potentially speed up modeling time, so for now we'll go with the tradeoff. Additionally, the movies are fairly evenly split across the target variable classes, so this shouldn't introduce much bias in our final model."
   ]
  },
  {
   "cell_type": "code",
   "execution_count": 6,
   "id": "6060e0a8-d28b-425f-97b2-47f794f6b97d",
   "metadata": {
    "tags": []
   },
   "outputs": [],
   "source": [
    "# Filter final_df to keep only movies with 5 or more reviews\n",
    "final_df = final_df[final_df['review_count'] >= 5]"
   ]
  },
  {
   "cell_type": "code",
   "execution_count": 7,
   "id": "7d6cc567-5f1f-4c54-8b82-03f040daf579",
   "metadata": {
    "tags": []
   },
   "outputs": [
    {
     "name": "stdout",
     "output_type": "stream",
     "text": [
      "<class 'pandas.core.frame.DataFrame'>\n",
      "Index: 38293 entries, 0 to 49377\n",
      "Data columns (total 17 columns):\n",
      " #   Column                Non-Null Count  Dtype  \n",
      "---  ------                --------------  -----  \n",
      " 0   imdb_id               38293 non-null  object \n",
      " 1   title                 38293 non-null  object \n",
      " 2   actors                38293 non-null  object \n",
      " 3   directors             38293 non-null  object \n",
      " 4   genres                38293 non-null  object \n",
      " 5   language_en           38293 non-null  int64  \n",
      " 6   year                  38293 non-null  int64  \n",
      " 7   runtime               38293 non-null  int64  \n",
      " 8   budget                15937 non-null  float64\n",
      " 9   box_office_gross      19543 non-null  float64\n",
      " 10  production_companies  38293 non-null  object \n",
      " 11  votes                 38293 non-null  int64  \n",
      " 12  rating                38293 non-null  float64\n",
      " 13  rating_category       38293 non-null  object \n",
      " 14  decade                38293 non-null  int64  \n",
      " 15  review_text           38293 non-null  object \n",
      " 16  review_count          38293 non-null  int64  \n",
      "dtypes: float64(3), int64(6), object(8)\n",
      "memory usage: 5.3+ MB\n"
     ]
    }
   ],
   "source": [
    "final_df.info()"
   ]
  },
  {
   "cell_type": "markdown",
   "id": "791c8e1f-9b7d-4f39-ba13-c31f718950a6",
   "metadata": {},
   "source": [
    "We might also want to think about reducing the size of the dataset based on the number of votes per movie. Let's check to see how many movies have fewer than 100 votes for the rating."
   ]
  },
  {
   "cell_type": "code",
   "execution_count": 8,
   "id": "9fc7282b-8acc-47ba-8c3c-acc8dd22ef45",
   "metadata": {
    "tags": []
   },
   "outputs": [
    {
     "name": "stdout",
     "output_type": "stream",
     "text": [
      "There are 98 rows where the votes are less than 100.\n"
     ]
    }
   ],
   "source": [
    "# Count the number of rows where votes is less than 100\n",
    "count = len(final_df[final_df['votes'] < 100])\n",
    "\n",
    "print(f\"There are {count} rows where the votes are less than 100.\")"
   ]
  },
  {
   "cell_type": "markdown",
   "id": "2b37c641-06c5-458a-86b5-a866e7d40df7",
   "metadata": {},
   "source": [
    "Only 98 rows, so not a huge loss. Let's check to see how they are distibuted across classes."
   ]
  },
  {
   "cell_type": "code",
   "execution_count": 9,
   "id": "329a5fe3-2be7-40b9-b1c6-6eca42c803aa",
   "metadata": {
    "tags": []
   },
   "outputs": [
    {
     "name": "stdout",
     "output_type": "stream",
     "text": [
      "Distribution of classes for movies with fewer than 100 votes:\n",
      "rating_category\n",
      "Average      30\n",
      "Poor         30\n",
      "Good         20\n",
      "Excellent    18\n",
      "Name: count, dtype: int64\n"
     ]
    }
   ],
   "source": [
    "# Filter for movies with fewer than 100 votes\n",
    "filtered_df = final_df[final_df['votes'] < 100]\n",
    "\n",
    "# Count of 'rating_category' in the filtered data\n",
    "class_distribution = filtered_df['rating_category'].value_counts()\n",
    "\n",
    "print(\"Distribution of classes for movies with fewer than 100 votes:\")\n",
    "print(class_distribution)"
   ]
  },
  {
   "cell_type": "markdown",
   "id": "16041444-ad2e-4fc0-aae6-7088ce4572ab",
   "metadata": {},
   "source": [
    "The distribution is reasonably even, so let's go ahead and make this change, to drop rows with movies that have fewer than 100 votes for the rating."
   ]
  },
  {
   "cell_type": "code",
   "execution_count": 10,
   "id": "d62da6de-28ec-4aab-a483-030c0bc74534",
   "metadata": {
    "tags": []
   },
   "outputs": [],
   "source": [
    "# Filter final_df to keep only movies with 100 or more votes\n",
    "final_df = final_df[final_df['votes'] >= 100]"
   ]
  },
  {
   "cell_type": "code",
   "execution_count": 11,
   "id": "bde1ea1d-318a-4b0b-b010-5e2edf474246",
   "metadata": {
    "tags": []
   },
   "outputs": [
    {
     "name": "stdout",
     "output_type": "stream",
     "text": [
      "<class 'pandas.core.frame.DataFrame'>\n",
      "Index: 38195 entries, 0 to 49377\n",
      "Data columns (total 17 columns):\n",
      " #   Column                Non-Null Count  Dtype  \n",
      "---  ------                --------------  -----  \n",
      " 0   imdb_id               38195 non-null  object \n",
      " 1   title                 38195 non-null  object \n",
      " 2   actors                38195 non-null  object \n",
      " 3   directors             38195 non-null  object \n",
      " 4   genres                38195 non-null  object \n",
      " 5   language_en           38195 non-null  int64  \n",
      " 6   year                  38195 non-null  int64  \n",
      " 7   runtime               38195 non-null  int64  \n",
      " 8   budget                15924 non-null  float64\n",
      " 9   box_office_gross      19536 non-null  float64\n",
      " 10  production_companies  38195 non-null  object \n",
      " 11  votes                 38195 non-null  int64  \n",
      " 12  rating                38195 non-null  float64\n",
      " 13  rating_category       38195 non-null  object \n",
      " 14  decade                38195 non-null  int64  \n",
      " 15  review_text           38195 non-null  object \n",
      " 16  review_count          38195 non-null  int64  \n",
      "dtypes: float64(3), int64(6), object(8)\n",
      "memory usage: 5.2+ MB\n"
     ]
    }
   ],
   "source": [
    "final_df.info()"
   ]
  },
  {
   "cell_type": "markdown",
   "id": "7725cfa8-8523-410a-ad81-1172d0997143",
   "metadata": {},
   "source": [
    "Now that we've cut down the size of our dataset, let's also reconsider how we were using the decade column. We will try a different approach this time, and use a \"years since release\" column instead of binning the deacdes into different categories. This should help reduce dimensionality and may capture temporal trends better."
   ]
  },
  {
   "cell_type": "code",
   "execution_count": 12,
   "id": "7016d8b4-0342-45d1-942f-1ae1434decc6",
   "metadata": {
    "tags": []
   },
   "outputs": [],
   "source": [
    "from datetime import datetime\n",
    "\n",
    "# Get the current year\n",
    "current_year = datetime.now().year\n",
    "\n",
    "# Create a new column with the years since release\n",
    "final_df.loc[:, 'years_since_release'] = current_year - final_df['year']"
   ]
  },
  {
   "cell_type": "code",
   "execution_count": 13,
   "id": "9c67490a-a32e-470a-be33-d5c93181e8ab",
   "metadata": {
    "tags": []
   },
   "outputs": [
    {
     "name": "stdout",
     "output_type": "stream",
     "text": [
      "<class 'pandas.core.frame.DataFrame'>\n",
      "Index: 38195 entries, 0 to 49377\n",
      "Data columns (total 18 columns):\n",
      " #   Column                Non-Null Count  Dtype  \n",
      "---  ------                --------------  -----  \n",
      " 0   imdb_id               38195 non-null  object \n",
      " 1   title                 38195 non-null  object \n",
      " 2   actors                38195 non-null  object \n",
      " 3   directors             38195 non-null  object \n",
      " 4   genres                38195 non-null  object \n",
      " 5   language_en           38195 non-null  int64  \n",
      " 6   year                  38195 non-null  int64  \n",
      " 7   runtime               38195 non-null  int64  \n",
      " 8   budget                15924 non-null  float64\n",
      " 9   box_office_gross      19536 non-null  float64\n",
      " 10  production_companies  38195 non-null  object \n",
      " 11  votes                 38195 non-null  int64  \n",
      " 12  rating                38195 non-null  float64\n",
      " 13  rating_category       38195 non-null  object \n",
      " 14  decade                38195 non-null  int64  \n",
      " 15  review_text           38195 non-null  object \n",
      " 16  review_count          38195 non-null  int64  \n",
      " 17  years_since_release   38195 non-null  int64  \n",
      "dtypes: float64(3), int64(7), object(8)\n",
      "memory usage: 5.5+ MB\n"
     ]
    }
   ],
   "source": [
    "final_df.info()"
   ]
  },
  {
   "cell_type": "code",
   "execution_count": 14,
   "id": "24adf284-5019-4b48-8baf-d735b025d19c",
   "metadata": {
    "tags": []
   },
   "outputs": [
    {
     "data": {
      "text/html": [
       "<div>\n",
       "<style scoped>\n",
       "    .dataframe tbody tr th:only-of-type {\n",
       "        vertical-align: middle;\n",
       "    }\n",
       "\n",
       "    .dataframe tbody tr th {\n",
       "        vertical-align: top;\n",
       "    }\n",
       "\n",
       "    .dataframe thead th {\n",
       "        text-align: right;\n",
       "    }\n",
       "</style>\n",
       "<table border=\"1\" class=\"dataframe\">\n",
       "  <thead>\n",
       "    <tr style=\"text-align: right;\">\n",
       "      <th></th>\n",
       "      <th>imdb_id</th>\n",
       "      <th>title</th>\n",
       "      <th>actors</th>\n",
       "      <th>directors</th>\n",
       "      <th>genres</th>\n",
       "      <th>language_en</th>\n",
       "      <th>year</th>\n",
       "      <th>runtime</th>\n",
       "      <th>budget</th>\n",
       "      <th>box_office_gross</th>\n",
       "      <th>production_companies</th>\n",
       "      <th>votes</th>\n",
       "      <th>rating</th>\n",
       "      <th>rating_category</th>\n",
       "      <th>decade</th>\n",
       "      <th>review_text</th>\n",
       "      <th>review_count</th>\n",
       "      <th>years_since_release</th>\n",
       "    </tr>\n",
       "  </thead>\n",
       "  <tbody>\n",
       "    <tr>\n",
       "      <th>0</th>\n",
       "      <td>tt0004972</td>\n",
       "      <td>The Birth of a Nation</td>\n",
       "      <td>[Lillian Gish,Mae Marsh,Henry B. Walthall,Miri...</td>\n",
       "      <td>[D.W. Griffith]</td>\n",
       "      <td>[Drama, History, War]</td>\n",
       "      <td>1</td>\n",
       "      <td>1915</td>\n",
       "      <td>195</td>\n",
       "      <td>100000.0</td>\n",
       "      <td>10000000.0</td>\n",
       "      <td>[Epoch Film Co.]</td>\n",
       "      <td>25782</td>\n",
       "      <td>6.2</td>\n",
       "      <td>Average</td>\n",
       "      <td>1910</td>\n",
       "      <td>unbelievable; I cannot understand how anyone c...</td>\n",
       "      <td>329</td>\n",
       "      <td>108</td>\n",
       "    </tr>\n",
       "    <tr>\n",
       "      <th>1</th>\n",
       "      <td>tt0023622</td>\n",
       "      <td>Trouble in Paradise</td>\n",
       "      <td>[Miriam Hopkins,Kay Francis,Herbert Marshall,C...</td>\n",
       "      <td>[Ernst Lubitsch]</td>\n",
       "      <td>[Comedy, Crime, Romance]</td>\n",
       "      <td>1</td>\n",
       "      <td>1932</td>\n",
       "      <td>83</td>\n",
       "      <td>519706.0</td>\n",
       "      <td>1035500.0</td>\n",
       "      <td>[Paramount]</td>\n",
       "      <td>15707</td>\n",
       "      <td>8.0</td>\n",
       "      <td>Excellent</td>\n",
       "      <td>1930</td>\n",
       "      <td>I'm still starry-eyed from it; I saw this last...</td>\n",
       "      <td>64</td>\n",
       "      <td>91</td>\n",
       "    </tr>\n",
       "    <tr>\n",
       "      <th>2</th>\n",
       "      <td>tt0118688</td>\n",
       "      <td>Batman &amp; Robin</td>\n",
       "      <td>[Arnold Schwarzenegger,George Clooney,Chris OD...</td>\n",
       "      <td>[Joel Schumacher]</td>\n",
       "      <td>[Action, Sci-Fi]</td>\n",
       "      <td>1</td>\n",
       "      <td>1997</td>\n",
       "      <td>125</td>\n",
       "      <td>125000000.0</td>\n",
       "      <td>107325195.0</td>\n",
       "      <td>[DC Comics, PolyGram Filmed Entertainment, War...</td>\n",
       "      <td>263149</td>\n",
       "      <td>3.8</td>\n",
       "      <td>Poor</td>\n",
       "      <td>1990</td>\n",
       "      <td>Failed on every Front; Joel Schumacher who did...</td>\n",
       "      <td>1675</td>\n",
       "      <td>26</td>\n",
       "    </tr>\n",
       "    <tr>\n",
       "      <th>3</th>\n",
       "      <td>tt0346491</td>\n",
       "      <td>Alexander</td>\n",
       "      <td>[Colin Farrell,Anthony Hopkins,Rosario Dawson,...</td>\n",
       "      <td>[Oliver Stone]</td>\n",
       "      <td>[Action, Biography, Drama]</td>\n",
       "      <td>1</td>\n",
       "      <td>2004</td>\n",
       "      <td>175</td>\n",
       "      <td>155000000.0</td>\n",
       "      <td>34297191.0</td>\n",
       "      <td>[France 3 Cinéma, WR Universal Group, Warner B...</td>\n",
       "      <td>173996</td>\n",
       "      <td>5.6</td>\n",
       "      <td>Average</td>\n",
       "      <td>2000</td>\n",
       "      <td>Poor Casting, Poor script Poor direction.; I h...</td>\n",
       "      <td>1399</td>\n",
       "      <td>19</td>\n",
       "    </tr>\n",
       "    <tr>\n",
       "      <th>4</th>\n",
       "      <td>tt0094721</td>\n",
       "      <td>Beetlejuice</td>\n",
       "      <td>[Alec Baldwin,Geena Davis,Michael Keaton,Annie...</td>\n",
       "      <td>[Tim Burton]</td>\n",
       "      <td>[Comedy, Fantasy]</td>\n",
       "      <td>1</td>\n",
       "      <td>1988</td>\n",
       "      <td>92</td>\n",
       "      <td>15000000.0</td>\n",
       "      <td>73707461.0</td>\n",
       "      <td>[Warner Bros. Pictures, Geffen Pictures]</td>\n",
       "      <td>321436</td>\n",
       "      <td>7.5</td>\n",
       "      <td>Excellent</td>\n",
       "      <td>1980</td>\n",
       "      <td>An Accomplished Tim Burton Movie; A Great Idea...</td>\n",
       "      <td>320</td>\n",
       "      <td>35</td>\n",
       "    </tr>\n",
       "  </tbody>\n",
       "</table>\n",
       "</div>"
      ],
      "text/plain": [
       "     imdb_id                  title  \\\n",
       "0  tt0004972  The Birth of a Nation   \n",
       "1  tt0023622    Trouble in Paradise   \n",
       "2  tt0118688         Batman & Robin   \n",
       "3  tt0346491              Alexander   \n",
       "4  tt0094721            Beetlejuice   \n",
       "\n",
       "                                              actors          directors  \\\n",
       "0  [Lillian Gish,Mae Marsh,Henry B. Walthall,Miri...    [D.W. Griffith]   \n",
       "1  [Miriam Hopkins,Kay Francis,Herbert Marshall,C...   [Ernst Lubitsch]   \n",
       "2  [Arnold Schwarzenegger,George Clooney,Chris OD...  [Joel Schumacher]   \n",
       "3  [Colin Farrell,Anthony Hopkins,Rosario Dawson,...     [Oliver Stone]   \n",
       "4  [Alec Baldwin,Geena Davis,Michael Keaton,Annie...       [Tim Burton]   \n",
       "\n",
       "                       genres  language_en  year  runtime       budget  \\\n",
       "0       [Drama, History, War]            1  1915      195     100000.0   \n",
       "1    [Comedy, Crime, Romance]            1  1932       83     519706.0   \n",
       "2            [Action, Sci-Fi]            1  1997      125  125000000.0   \n",
       "3  [Action, Biography, Drama]            1  2004      175  155000000.0   \n",
       "4           [Comedy, Fantasy]            1  1988       92   15000000.0   \n",
       "\n",
       "   box_office_gross                               production_companies  \\\n",
       "0        10000000.0                                   [Epoch Film Co.]   \n",
       "1         1035500.0                                        [Paramount]   \n",
       "2       107325195.0  [DC Comics, PolyGram Filmed Entertainment, War...   \n",
       "3        34297191.0  [France 3 Cinéma, WR Universal Group, Warner B...   \n",
       "4        73707461.0           [Warner Bros. Pictures, Geffen Pictures]   \n",
       "\n",
       "    votes  rating rating_category  decade  \\\n",
       "0   25782     6.2         Average    1910   \n",
       "1   15707     8.0       Excellent    1930   \n",
       "2  263149     3.8            Poor    1990   \n",
       "3  173996     5.6         Average    2000   \n",
       "4  321436     7.5       Excellent    1980   \n",
       "\n",
       "                                         review_text  review_count  \\\n",
       "0  unbelievable; I cannot understand how anyone c...           329   \n",
       "1  I'm still starry-eyed from it; I saw this last...            64   \n",
       "2  Failed on every Front; Joel Schumacher who did...          1675   \n",
       "3  Poor Casting, Poor script Poor direction.; I h...          1399   \n",
       "4  An Accomplished Tim Burton Movie; A Great Idea...           320   \n",
       "\n",
       "   years_since_release  \n",
       "0                  108  \n",
       "1                   91  \n",
       "2                   26  \n",
       "3                   19  \n",
       "4                   35  "
      ]
     },
     "execution_count": 14,
     "metadata": {},
     "output_type": "execute_result"
    }
   ],
   "source": [
    "final_df.head()"
   ]
  },
  {
   "cell_type": "markdown",
   "id": "22928927-f319-402e-a320-887fb453a607",
   "metadata": {},
   "source": [
    "Great, looks like that worked as expected. At this point, let's save our reduced final dataframe again."
   ]
  },
  {
   "cell_type": "code",
   "execution_count": 15,
   "id": "8bc79ef9-257a-4c55-aa3d-da4e5cb24f0f",
   "metadata": {
    "tags": []
   },
   "outputs": [],
   "source": [
    "# Save final reduced df to csv\n",
    "final_df.to_json('data/final_df_reduced.json', orient='records', lines=True)"
   ]
  },
  {
   "cell_type": "markdown",
   "id": "f0023721-27c0-45da-b317-a692fd511ac6",
   "metadata": {},
   "source": [
    "Now we can drop the year and decade columns, since we won't use them for modeling. Additionally, we can also drop the title column, since we won't be using it for modeling. We'll keep the rating column for now, since we will use that for KNN Imputer when imputing the budget and box office gross information."
   ]
  },
  {
   "cell_type": "code",
   "execution_count": 15,
   "id": "507ae78b-d972-4963-a56d-89d54215f75f",
   "metadata": {
    "tags": []
   },
   "outputs": [],
   "source": [
    "# Drop uneeded columns\n",
    "final_df = final_df.drop(columns=['year', 'decade', 'title'])"
   ]
  },
  {
   "cell_type": "code",
   "execution_count": 16,
   "id": "ca0eea71-bc60-4157-96b8-bc529600ccf9",
   "metadata": {
    "tags": []
   },
   "outputs": [
    {
     "name": "stdout",
     "output_type": "stream",
     "text": [
      "<class 'pandas.core.frame.DataFrame'>\n",
      "Index: 38195 entries, 0 to 49377\n",
      "Data columns (total 15 columns):\n",
      " #   Column                Non-Null Count  Dtype  \n",
      "---  ------                --------------  -----  \n",
      " 0   imdb_id               38195 non-null  object \n",
      " 1   actors                38195 non-null  object \n",
      " 2   directors             38195 non-null  object \n",
      " 3   genres                38195 non-null  object \n",
      " 4   language_en           38195 non-null  int64  \n",
      " 5   runtime               38195 non-null  int64  \n",
      " 6   budget                15924 non-null  float64\n",
      " 7   box_office_gross      19536 non-null  float64\n",
      " 8   production_companies  38195 non-null  object \n",
      " 9   votes                 38195 non-null  int64  \n",
      " 10  rating                38195 non-null  float64\n",
      " 11  rating_category       38195 non-null  object \n",
      " 12  review_text           38195 non-null  object \n",
      " 13  review_count          38195 non-null  int64  \n",
      " 14  years_since_release   38195 non-null  int64  \n",
      "dtypes: float64(3), int64(5), object(7)\n",
      "memory usage: 4.7+ MB\n"
     ]
    }
   ],
   "source": [
    "final_df.info()"
   ]
  },
  {
   "cell_type": "markdown",
   "id": "e9ca15c4-211b-4f57-9eb0-dc509a1ce157",
   "metadata": {},
   "source": [
    "#### Summary \n",
    "For additional data pre-processing in this notebook we have: \n",
    "- Dropped 11k rows with less than 20 user text reviews (`reviews_count`)\n",
    "- Dropped 98 rows with less than 100 user ratings (`votes`)\n",
    "    - *Could* be more aggressive with both of these, but decided to make the tradeoff of losing almost 12k datapoints vs. 20k with more aggressive thresholds\n",
    "- Created a `years_since_release` column to replace our previous `year` and `decade` columns \n",
    "    - Hope this will capture temporal trends related to the age of the movie \n",
    "    -  Might be more interpretable, e.g. it's easier to grasp the significance of a one-year increase in the \"Years Since Release\" than to interpret what moving from one \"decade bin\" to another means.\n",
    "    - In a real-world scenario with a dynamic dataset that keeps getting updated with new movies, \"Years Since Release\" would automatically adjust"
   ]
  },
  {
   "cell_type": "markdown",
   "id": "bcd83b95-4228-4359-bced-04979a5e6897",
   "metadata": {},
   "source": [
    "---"
   ]
  },
  {
   "cell_type": "markdown",
   "id": "8f05d11e-5253-456d-b109-e0a4f06bb8f3",
   "metadata": {
    "tags": []
   },
   "source": [
    "#### Train Test Split \n",
    "Now that we have our final dataframe with concatenated review text for each movie, the next step is to complete our train test split before doing any feature engineering."
   ]
  },
  {
   "cell_type": "code",
   "execution_count": 17,
   "id": "1c83d22b-cd24-4d8b-913c-bee31dcf7de8",
   "metadata": {
    "tags": []
   },
   "outputs": [],
   "source": [
    "from sklearn.model_selection import train_test_split\n",
    "\n",
    "# Splitting the data into 80% training and 20% testing\n",
    "train_df, test_df = train_test_split(final_df, test_size=0.2, random_state=42)"
   ]
  },
  {
   "cell_type": "markdown",
   "id": "911f3ebf-c592-4ca3-ad7e-039d8779960b",
   "metadata": {
    "tags": []
   },
   "source": [
    "#### Trasnforming Actor, Director, and Production Companies. \n",
    "Now, we'll move on to encoding the top entities for actor, director and production companies. Previously, we one hot encoded the most frequently occurring entities in movies that were rated Good or Excellent. \n",
    "\n",
    "This time, we'll replace each director (or actor, or production company) with a score based on their track record in order to convert those categorical variables into a useful numerical form. Hopefully this will better capture the quality associated with each entity.\n",
    "\n",
    "To prevent over-weighting \"one-hit wonders,\" we will set the following parameters:\n",
    "\n",
    "- Set a minimum threshold of movies. \n",
    "- Different weights for 'Excellent', 'Good', 'Average', and 'Poor' ratings divided by the total number of movies they've been part of. This should ensure that consistent performance is rewarded over one-time hits.\n",
    "\n",
    "This shouldn't introduce any data leakage, since the scores will be calculated individually for each dataset."
   ]
  },
  {
   "cell_type": "code",
   "execution_count": 18,
   "id": "3bdd5eec-0ccb-4ec8-b558-c7bd7810d6ae",
   "metadata": {
    "tags": []
   },
   "outputs": [],
   "source": [
    "# Define function to calculate entity score\n",
    "\n",
    "def calculate_entity_score(df, entity_column, min_movies=2):\n",
    "    entity_scores = {}\n",
    "    \n",
    "    # Weights for different ratings\n",
    "    rating_weights = {'Excellent': 7, 'Good': 5, 'Average': 3, 'Poor': 1}\n",
    "    \n",
    "    entity_stats = df.explode(entity_column).groupby(entity_column).agg({\n",
    "        'rating_category': [\n",
    "            ('weighted_score', lambda x: sum(rating_weights.get(r, 0) for r in x)),\n",
    "            ('total_movies', 'count')\n",
    "        ]\n",
    "    }).reset_index()\n",
    "    \n",
    "    entity_stats.columns = [entity_column, 'weighted_score', 'total_movies']\n",
    "    \n",
    "    # Filter based on the minimum number of movies\n",
    "    entity_stats = entity_stats[entity_stats['total_movies'] >= min_movies]\n",
    "    \n",
    "    for idx, row in entity_stats.iterrows():\n",
    "        score = row['weighted_score'] / row['total_movies']\n",
    "        entity_scores[row[entity_column]] = score\n",
    "    \n",
    "    return entity_scores"
   ]
  },
  {
   "cell_type": "code",
   "execution_count": 19,
   "id": "e0688647-f57e-47b8-af88-69238e1e7dbb",
   "metadata": {
    "tags": []
   },
   "outputs": [],
   "source": [
    "# Use the function to generate director entity scores for train set\n",
    "\n",
    "entity_column = 'directors'  \n",
    "entity_scores = calculate_entity_score(train_df, entity_column)\n",
    "\n",
    "# Get the max score for the directors in the list\n",
    "train_df[entity_column + '_max_score'] = train_df[entity_column].apply(lambda x: max([entity_scores.get(i, 0) for i in x]) if isinstance(x, list) and x else 0)"
   ]
  },
  {
   "cell_type": "code",
   "execution_count": 20,
   "id": "598be4e4-f5c0-4cf3-bd7a-e583b6c9f57a",
   "metadata": {
    "tags": []
   },
   "outputs": [],
   "source": [
    "# Use the function to generate director entity scores for test set\n",
    "\n",
    "entity_column = 'directors'  \n",
    "entity_scores = calculate_entity_score(test_df, entity_column)\n",
    "\n",
    "# Get the max score for the directors in the list\n",
    "test_df[entity_column + '_max_score'] = test_df[entity_column].apply(lambda x: max([entity_scores.get(i, 0) for i in x]) if isinstance(x, list) and x else 0)"
   ]
  },
  {
   "cell_type": "markdown",
   "id": "8dcc01e8-42bf-4d4f-9a2b-c876adf51d0e",
   "metadata": {},
   "source": [
    "Let's check the summary stats of our column to see if it looks reasonable. "
   ]
  },
  {
   "cell_type": "code",
   "execution_count": 21,
   "id": "d0d6a0bf-0263-4589-a96e-d946f5441e3b",
   "metadata": {
    "tags": []
   },
   "outputs": [
    {
     "data": {
      "text/plain": [
       "count    30556.000000\n",
       "mean         2.934098\n",
       "std          2.270012\n",
       "min          0.000000\n",
       "25%          0.000000\n",
       "50%          3.076923\n",
       "75%          5.000000\n",
       "max          7.000000\n",
       "Name: directors_max_score, dtype: float64"
      ]
     },
     "execution_count": 21,
     "metadata": {},
     "output_type": "execute_result"
    }
   ],
   "source": [
    "train_df['directors_max_score'].describe()"
   ]
  },
  {
   "cell_type": "markdown",
   "id": "4f1f19b5-a7fa-4c3f-8c6f-0af6f55aa307",
   "metadata": {
    "tags": []
   },
   "source": [
    "There is a decent amount of variance, so we'll hope this will provide a more nuanced view of a director's influence on movie quality than the previous one hot encoding technique. We'll calculate the same score for actors and production companies. \n",
    "\n",
    "For actors, we'll use the average of all the actors scores in each movie. While a director often has a significant and singular impact on a movie, actors usually contribute as part of an ensemble. Therefore, calculating the average score for actors could be a more accurate representation of the collective talent/reputation of the cast. The average score should balance out cases where there may be one particularly high-scoring actor alongside others with lower scores. We'll also reduce/remove the minimum movie threshold, since we are taking the average. One-hit wonders or newcomers who have performed well can indicate potential for future success, especially in industries like filmmaking where careers often gain momentum after a single standout performance."
   ]
  },
  {
   "cell_type": "code",
   "execution_count": 22,
   "id": "79dd81e1-1ac4-405c-9f6c-0d9cd1274e4b",
   "metadata": {
    "tags": []
   },
   "outputs": [],
   "source": [
    "# Define function to calculae entity score\n",
    "\n",
    "def calculate_entity_score(df, entity_column, min_movies=1):\n",
    "    entity_scores = {}\n",
    "    \n",
    "    # Weights for different ratings\n",
    "    rating_weights = {'Excellent': 7, 'Good': 5, 'Average': 3, 'Poor': 1}\n",
    "    \n",
    "    entity_stats = df.explode(entity_column).groupby(entity_column).agg({\n",
    "        'rating_category': [\n",
    "            ('weighted_score', lambda x: sum(rating_weights.get(r, 0) for r in x)),\n",
    "            ('total_movies', 'count')\n",
    "        ]\n",
    "    }).reset_index()\n",
    "    \n",
    "    entity_stats.columns = [entity_column, 'weighted_score', 'total_movies']\n",
    "    \n",
    "    # Filter based on the minimum number of movies\n",
    "    entity_stats = entity_stats[entity_stats['total_movies'] >= min_movies]\n",
    "    \n",
    "    for idx, row in entity_stats.iterrows():\n",
    "        score = row['weighted_score'] / row['total_movies']\n",
    "        entity_scores[row[entity_column]] = score\n",
    "    \n",
    "    return entity_scores"
   ]
  },
  {
   "cell_type": "code",
   "execution_count": 23,
   "id": "e29c6ab2-30c7-49cd-abaf-16bb29c02326",
   "metadata": {
    "tags": []
   },
   "outputs": [],
   "source": [
    "# Use the function to generate actor entity scores for train set\n",
    "entity_column = 'actors' \n",
    "entity_scores = calculate_entity_score(train_df, entity_column)\n",
    "\n",
    "# Get the avg score for the actors in the list\n",
    "train_df[entity_column + '_avg_score'] = train_df[entity_column].apply(lambda x: sum([entity_scores.get(entity, 0) for entity in x]) / len(x) if isinstance(x, list) and len(x) > 0 else 0)"
   ]
  },
  {
   "cell_type": "code",
   "execution_count": 24,
   "id": "52c76827-38a0-4f1f-a8a9-fb445d4030cd",
   "metadata": {
    "tags": []
   },
   "outputs": [],
   "source": [
    "# Use the function to generate actor entity scores for test set\n",
    "entity_column = 'actors' \n",
    "entity_scores = calculate_entity_score(test_df, entity_column)\n",
    "\n",
    "# Get the avg score for the actors in the list\n",
    "test_df[entity_column + '_avg_score'] = test_df[entity_column].apply(lambda x: sum([entity_scores.get(entity, 0) for entity in x]) / len(x) if isinstance(x, list) and len(x) > 0 else 0)"
   ]
  },
  {
   "cell_type": "code",
   "execution_count": 25,
   "id": "ab2da62c-829f-4bc3-9f1b-8f7290d0ad03",
   "metadata": {
    "tags": []
   },
   "outputs": [
    {
     "data": {
      "text/plain": [
       "count    30556.000000\n",
       "mean         3.909798\n",
       "std          2.118257\n",
       "min          1.000000\n",
       "25%          2.548810\n",
       "50%          3.869400\n",
       "75%          5.000000\n",
       "max          7.000000\n",
       "Name: actors_avg_score, dtype: float64"
      ]
     },
     "execution_count": 25,
     "metadata": {},
     "output_type": "execute_result"
    }
   ],
   "source": [
    "# Check Distribution\n",
    "train_df['actors_avg_score'].describe()"
   ]
  },
  {
   "cell_type": "markdown",
   "id": "792a9c9f-2c44-4a0b-848f-fc435ad5c6ab",
   "metadata": {},
   "source": [
    "We can see the scores cover a broad range, and the standard deviation is 2.11. This seems like a good start for now, and we'll see how this feature performs in the model."
   ]
  },
  {
   "cell_type": "markdown",
   "id": "cec06e39-5309-4c89-87f0-6cf50d7d12f4",
   "metadata": {
    "tags": []
   },
   "source": [
    "Now, we'll calculate the entity score for production companies. We'll use 2 as the minimum threshold and take the max score instead of the average score, like we did for diretors. This should filter out companies that have only produced a single film, making the scores a bit more reliable while still allowing for newer or smaller companies to be represented."
   ]
  },
  {
   "cell_type": "code",
   "execution_count": 26,
   "id": "53b8389c-1b3c-42ca-b822-2451a62ff573",
   "metadata": {
    "tags": []
   },
   "outputs": [],
   "source": [
    "# Define function to calculate entity score\n",
    "\n",
    "def calculate_entity_score(df, entity_column, min_movies=2):\n",
    "    entity_scores = {}\n",
    "    \n",
    "    # Weights for different ratings\n",
    "    rating_weights = {'Excellent': 7, 'Good': 5, 'Average': 3, 'Poor': 1}\n",
    "    \n",
    "    entity_stats = df.explode(entity_column).groupby(entity_column).agg({\n",
    "        'rating_category': [\n",
    "            ('weighted_score', lambda x: sum(rating_weights.get(r, 0) for r in x)),\n",
    "            ('total_movies', 'count')\n",
    "        ]\n",
    "    }).reset_index()\n",
    "    \n",
    "    entity_stats.columns = [entity_column, 'weighted_score', 'total_movies']\n",
    "    \n",
    "    # Filter based on the minimum number of movies\n",
    "    entity_stats = entity_stats[entity_stats['total_movies'] >= min_movies]\n",
    "    \n",
    "    for idx, row in entity_stats.iterrows():\n",
    "        score = row['weighted_score'] / row['total_movies']\n",
    "        entity_scores[row[entity_column]] = score\n",
    "    \n",
    "    return entity_scores"
   ]
  },
  {
   "cell_type": "code",
   "execution_count": 27,
   "id": "97143c57-12ae-4661-af4c-1b958c6e9a8a",
   "metadata": {
    "tags": []
   },
   "outputs": [],
   "source": [
    "# Use the function to generate production entity scores for train set\n",
    "\n",
    "entity_column = 'production_companies'  \n",
    "entity_scores = calculate_entity_score(train_df, entity_column)\n",
    "\n",
    "# Get the max score for the companies in the list\n",
    "train_df[entity_column + '_max_score'] = train_df[entity_column].apply(lambda x: max([entity_scores.get(i, 0) for i in x]) if isinstance(x, list) and x else 0)"
   ]
  },
  {
   "cell_type": "code",
   "execution_count": 28,
   "id": "b782fe1c-561c-4fb3-880e-edb20e024450",
   "metadata": {
    "tags": []
   },
   "outputs": [],
   "source": [
    "# Use the function to generate production entity scores for test set\n",
    "\n",
    "entity_column = 'production_companies'  \n",
    "entity_scores = calculate_entity_score(test_df, entity_column)\n",
    "\n",
    "# Get the max score for the companies in the list\n",
    "test_df[entity_column + '_max_score'] = test_df[entity_column].apply(lambda x: max([entity_scores.get(i, 0) for i in x]) if isinstance(x, list) and x else 0)"
   ]
  },
  {
   "cell_type": "code",
   "execution_count": 29,
   "id": "2b0f9a5f-2a33-4bc1-8071-5bbb4bae5308",
   "metadata": {
    "tags": []
   },
   "outputs": [
    {
     "data": {
      "text/plain": [
       "count    30556.000000\n",
       "mean         3.638640\n",
       "std          1.999400\n",
       "min          0.000000\n",
       "25%          2.333333\n",
       "50%          4.230769\n",
       "75%          5.000000\n",
       "max          7.000000\n",
       "Name: production_companies_max_score, dtype: float64"
      ]
     },
     "execution_count": 29,
     "metadata": {},
     "output_type": "execute_result"
    }
   ],
   "source": [
    "# Check distribution\n",
    "train_df['production_companies_max_score'].describe()"
   ]
  },
  {
   "cell_type": "markdown",
   "id": "808bfff6-e2eb-4cd1-a5a4-648c5f04d949",
   "metadata": {
    "tags": []
   },
   "source": [
    "Great, now we have converted our actor, director, and production company categorical features into numerical features. These are ready for modeling, and we can drop the original columns."
   ]
  },
  {
   "cell_type": "code",
   "execution_count": 30,
   "id": "33c7463e-637a-4537-8de1-7e1b1105232d",
   "metadata": {
    "tags": []
   },
   "outputs": [
    {
     "name": "stdout",
     "output_type": "stream",
     "text": [
      "<class 'pandas.core.frame.DataFrame'>\n",
      "Index: 30556 entries, 10006 to 16465\n",
      "Data columns (total 18 columns):\n",
      " #   Column                          Non-Null Count  Dtype  \n",
      "---  ------                          --------------  -----  \n",
      " 0   imdb_id                         30556 non-null  object \n",
      " 1   actors                          30556 non-null  object \n",
      " 2   directors                       30556 non-null  object \n",
      " 3   genres                          30556 non-null  object \n",
      " 4   language_en                     30556 non-null  int64  \n",
      " 5   runtime                         30556 non-null  int64  \n",
      " 6   budget                          12764 non-null  float64\n",
      " 7   box_office_gross                15678 non-null  float64\n",
      " 8   production_companies            30556 non-null  object \n",
      " 9   votes                           30556 non-null  int64  \n",
      " 10  rating                          30556 non-null  float64\n",
      " 11  rating_category                 30556 non-null  object \n",
      " 12  review_text                     30556 non-null  object \n",
      " 13  review_count                    30556 non-null  int64  \n",
      " 14  years_since_release             30556 non-null  int64  \n",
      " 15  directors_max_score             30556 non-null  float64\n",
      " 16  actors_avg_score                30556 non-null  float64\n",
      " 17  production_companies_max_score  30556 non-null  float64\n",
      "dtypes: float64(6), int64(5), object(7)\n",
      "memory usage: 4.4+ MB\n"
     ]
    }
   ],
   "source": [
    "train_df.info()"
   ]
  },
  {
   "cell_type": "code",
   "execution_count": 31,
   "id": "7991c173-af18-471e-abeb-5a378cc31006",
   "metadata": {
    "tags": []
   },
   "outputs": [
    {
     "name": "stdout",
     "output_type": "stream",
     "text": [
      "<class 'pandas.core.frame.DataFrame'>\n",
      "Index: 7639 entries, 26731 to 43645\n",
      "Data columns (total 18 columns):\n",
      " #   Column                          Non-Null Count  Dtype  \n",
      "---  ------                          --------------  -----  \n",
      " 0   imdb_id                         7639 non-null   object \n",
      " 1   actors                          7639 non-null   object \n",
      " 2   directors                       7639 non-null   object \n",
      " 3   genres                          7639 non-null   object \n",
      " 4   language_en                     7639 non-null   int64  \n",
      " 5   runtime                         7639 non-null   int64  \n",
      " 6   budget                          3160 non-null   float64\n",
      " 7   box_office_gross                3858 non-null   float64\n",
      " 8   production_companies            7639 non-null   object \n",
      " 9   votes                           7639 non-null   int64  \n",
      " 10  rating                          7639 non-null   float64\n",
      " 11  rating_category                 7639 non-null   object \n",
      " 12  review_text                     7639 non-null   object \n",
      " 13  review_count                    7639 non-null   int64  \n",
      " 14  years_since_release             7639 non-null   int64  \n",
      " 15  directors_max_score             7639 non-null   float64\n",
      " 16  actors_avg_score                7639 non-null   float64\n",
      " 17  production_companies_max_score  7639 non-null   float64\n",
      "dtypes: float64(6), int64(5), object(7)\n",
      "memory usage: 1.1+ MB\n"
     ]
    }
   ],
   "source": [
    "test_df.info()"
   ]
  },
  {
   "cell_type": "markdown",
   "id": "6e11fc9b-0af6-456a-a75f-86c988cae122",
   "metadata": {
    "tags": []
   },
   "source": [
    "We can now drop the actors, directors, and production companies columns."
   ]
  },
  {
   "cell_type": "code",
   "execution_count": 32,
   "id": "99859634-b0ff-4145-9db8-8ff02a847fe2",
   "metadata": {
    "tags": []
   },
   "outputs": [],
   "source": [
    "# Drop original columns from both datasets \n",
    "train_df = train_df.drop(columns=['actors', 'directors', 'production_companies'])\n",
    "test_df = test_df.drop(columns=['actors', 'directors', 'production_companies'])"
   ]
  },
  {
   "cell_type": "code",
   "execution_count": 33,
   "id": "494abfd1-d52f-44b7-b45d-8576a443fafa",
   "metadata": {
    "tags": []
   },
   "outputs": [
    {
     "name": "stdout",
     "output_type": "stream",
     "text": [
      "<class 'pandas.core.frame.DataFrame'>\n",
      "Index: 30556 entries, 10006 to 16465\n",
      "Data columns (total 15 columns):\n",
      " #   Column                          Non-Null Count  Dtype  \n",
      "---  ------                          --------------  -----  \n",
      " 0   imdb_id                         30556 non-null  object \n",
      " 1   genres                          30556 non-null  object \n",
      " 2   language_en                     30556 non-null  int64  \n",
      " 3   runtime                         30556 non-null  int64  \n",
      " 4   budget                          12764 non-null  float64\n",
      " 5   box_office_gross                15678 non-null  float64\n",
      " 6   votes                           30556 non-null  int64  \n",
      " 7   rating                          30556 non-null  float64\n",
      " 8   rating_category                 30556 non-null  object \n",
      " 9   review_text                     30556 non-null  object \n",
      " 10  review_count                    30556 non-null  int64  \n",
      " 11  years_since_release             30556 non-null  int64  \n",
      " 12  directors_max_score             30556 non-null  float64\n",
      " 13  actors_avg_score                30556 non-null  float64\n",
      " 14  production_companies_max_score  30556 non-null  float64\n",
      "dtypes: float64(6), int64(5), object(4)\n",
      "memory usage: 3.7+ MB\n"
     ]
    }
   ],
   "source": [
    "train_df.info()"
   ]
  },
  {
   "cell_type": "markdown",
   "id": "368066ef-736d-4047-88a3-fc9c84e4acbf",
   "metadata": {},
   "source": [
    "##### Genres \n",
    "Now let's move on to encoding our genres. We've made the decision to include all genres from the dataset, and one hot encode them  because: \n",
    "- Genres on IMDb are assigned in alphabetical order, unlike the cast and crew, which are assigned in order of credit/importance. \n",
    "- Genres, while they could be predictive of a certain rating, don't have an inherent \"score\" or \"track record\" like directors, actors, and production companies."
   ]
  },
  {
   "cell_type": "code",
   "execution_count": 34,
   "id": "0221eb1d-3026-4c84-8d8f-7369348813f4",
   "metadata": {
    "tags": []
   },
   "outputs": [],
   "source": [
    "# One-hot encode genres for train_df\n",
    "genres_dummies_train = train_df['genres'].str.join('|').str.get_dummies()\n",
    "genres_dummies_train = genres_dummies_train.add_prefix('genre_')\n",
    "train_df = pd.concat([train_df, genres_dummies_train], axis=1)\n",
    "\n",
    "# One-hot encode genres for test_df\n",
    "genres_dummies_test = test_df['genres'].str.join('|').str.get_dummies()\n",
    "genres_dummies_test = genres_dummies_test.add_prefix('genre_')\n",
    "test_df = pd.concat([test_df, genres_dummies_test], axis=1)"
   ]
  },
  {
   "cell_type": "code",
   "execution_count": 35,
   "id": "a117f004-31bf-44a5-88dc-34b3a0f3e5ad",
   "metadata": {
    "tags": []
   },
   "outputs": [],
   "source": [
    "# Drop the original 'genres' column from train_df and test_df\n",
    "train_df.drop('genres', axis=1, inplace=True)\n",
    "test_df.drop('genres', axis=1, inplace=True)"
   ]
  },
  {
   "cell_type": "code",
   "execution_count": 36,
   "id": "dcd03bed-7935-4b68-bec0-95fd1b9259da",
   "metadata": {
    "tags": []
   },
   "outputs": [
    {
     "name": "stdout",
     "output_type": "stream",
     "text": [
      "<class 'pandas.core.frame.DataFrame'>\n",
      "Index: 30556 entries, 10006 to 16465\n",
      "Data columns (total 41 columns):\n",
      " #   Column                          Non-Null Count  Dtype  \n",
      "---  ------                          --------------  -----  \n",
      " 0   imdb_id                         30556 non-null  object \n",
      " 1   language_en                     30556 non-null  int64  \n",
      " 2   runtime                         30556 non-null  int64  \n",
      " 3   budget                          12764 non-null  float64\n",
      " 4   box_office_gross                15678 non-null  float64\n",
      " 5   votes                           30556 non-null  int64  \n",
      " 6   rating                          30556 non-null  float64\n",
      " 7   rating_category                 30556 non-null  object \n",
      " 8   review_text                     30556 non-null  object \n",
      " 9   review_count                    30556 non-null  int64  \n",
      " 10  years_since_release             30556 non-null  int64  \n",
      " 11  directors_max_score             30556 non-null  float64\n",
      " 12  actors_avg_score                30556 non-null  float64\n",
      " 13  production_companies_max_score  30556 non-null  float64\n",
      " 14  genre_Action                    30556 non-null  int64  \n",
      " 15  genre_Adventure                 30556 non-null  int64  \n",
      " 16  genre_Animation                 30556 non-null  int64  \n",
      " 17  genre_Biography                 30556 non-null  int64  \n",
      " 18  genre_Comedy                    30556 non-null  int64  \n",
      " 19  genre_Crime                     30556 non-null  int64  \n",
      " 20  genre_Documentary               30556 non-null  int64  \n",
      " 21  genre_Drama                     30556 non-null  int64  \n",
      " 22  genre_Family                    30556 non-null  int64  \n",
      " 23  genre_Fantasy                   30556 non-null  int64  \n",
      " 24  genre_Film-Noir                 30556 non-null  int64  \n",
      " 25  genre_History                   30556 non-null  int64  \n",
      " 26  genre_Horror                    30556 non-null  int64  \n",
      " 27  genre_Music                     30556 non-null  int64  \n",
      " 28  genre_Musical                   30556 non-null  int64  \n",
      " 29  genre_Mystery                   30556 non-null  int64  \n",
      " 30  genre_N/A                       30556 non-null  int64  \n",
      " 31  genre_News                      30556 non-null  int64  \n",
      " 32  genre_Reality-TV                30556 non-null  int64  \n",
      " 33  genre_Romance                   30556 non-null  int64  \n",
      " 34  genre_Sci-Fi                    30556 non-null  int64  \n",
      " 35  genre_Short                     30556 non-null  int64  \n",
      " 36  genre_Sport                     30556 non-null  int64  \n",
      " 37  genre_Talk-Show                 30556 non-null  int64  \n",
      " 38  genre_Thriller                  30556 non-null  int64  \n",
      " 39  genre_War                       30556 non-null  int64  \n",
      " 40  genre_Western                   30556 non-null  int64  \n",
      "dtypes: float64(6), int64(32), object(3)\n",
      "memory usage: 9.8+ MB\n"
     ]
    }
   ],
   "source": [
    "train_df.info()"
   ]
  },
  {
   "cell_type": "code",
   "execution_count": 37,
   "id": "a0717f72-6521-4db9-afde-36f8889f3a7b",
   "metadata": {
    "tags": []
   },
   "outputs": [
    {
     "name": "stdout",
     "output_type": "stream",
     "text": [
      "<class 'pandas.core.frame.DataFrame'>\n",
      "Index: 7639 entries, 26731 to 43645\n",
      "Data columns (total 40 columns):\n",
      " #   Column                          Non-Null Count  Dtype  \n",
      "---  ------                          --------------  -----  \n",
      " 0   imdb_id                         7639 non-null   object \n",
      " 1   language_en                     7639 non-null   int64  \n",
      " 2   runtime                         7639 non-null   int64  \n",
      " 3   budget                          3160 non-null   float64\n",
      " 4   box_office_gross                3858 non-null   float64\n",
      " 5   votes                           7639 non-null   int64  \n",
      " 6   rating                          7639 non-null   float64\n",
      " 7   rating_category                 7639 non-null   object \n",
      " 8   review_text                     7639 non-null   object \n",
      " 9   review_count                    7639 non-null   int64  \n",
      " 10  years_since_release             7639 non-null   int64  \n",
      " 11  directors_max_score             7639 non-null   float64\n",
      " 12  actors_avg_score                7639 non-null   float64\n",
      " 13  production_companies_max_score  7639 non-null   float64\n",
      " 14  genre_Action                    7639 non-null   int64  \n",
      " 15  genre_Adventure                 7639 non-null   int64  \n",
      " 16  genre_Animation                 7639 non-null   int64  \n",
      " 17  genre_Biography                 7639 non-null   int64  \n",
      " 18  genre_Comedy                    7639 non-null   int64  \n",
      " 19  genre_Crime                     7639 non-null   int64  \n",
      " 20  genre_Documentary               7639 non-null   int64  \n",
      " 21  genre_Drama                     7639 non-null   int64  \n",
      " 22  genre_Family                    7639 non-null   int64  \n",
      " 23  genre_Fantasy                   7639 non-null   int64  \n",
      " 24  genre_Film-Noir                 7639 non-null   int64  \n",
      " 25  genre_History                   7639 non-null   int64  \n",
      " 26  genre_Horror                    7639 non-null   int64  \n",
      " 27  genre_Music                     7639 non-null   int64  \n",
      " 28  genre_Musical                   7639 non-null   int64  \n",
      " 29  genre_Mystery                   7639 non-null   int64  \n",
      " 30  genre_N/A                       7639 non-null   int64  \n",
      " 31  genre_News                      7639 non-null   int64  \n",
      " 32  genre_Reality-TV                7639 non-null   int64  \n",
      " 33  genre_Romance                   7639 non-null   int64  \n",
      " 34  genre_Sci-Fi                    7639 non-null   int64  \n",
      " 35  genre_Short                     7639 non-null   int64  \n",
      " 36  genre_Sport                     7639 non-null   int64  \n",
      " 37  genre_Thriller                  7639 non-null   int64  \n",
      " 38  genre_War                       7639 non-null   int64  \n",
      " 39  genre_Western                   7639 non-null   int64  \n",
      "dtypes: float64(6), int64(31), object(3)\n",
      "memory usage: 2.4+ MB\n"
     ]
    }
   ],
   "source": [
    "test_df.info()"
   ]
  },
  {
   "cell_type": "markdown",
   "id": "887a67f0-ea4c-4f47-8ee3-b4f2ea2efb91",
   "metadata": {},
   "source": [
    "Despite doing extensive searches for missing genres in our previous cleaning and EDA steps, it seems that there are still missing genre data, and the rows are filled with N/A! Let's count the occurences in both datasets to see if it might be best to just drop them."
   ]
  },
  {
   "cell_type": "code",
   "execution_count": 38,
   "id": "26f0018a-a2d4-40d7-99b6-c176d8ab8608",
   "metadata": {
    "tags": []
   },
   "outputs": [
    {
     "name": "stdout",
     "output_type": "stream",
     "text": [
      "Number of 'genre_N/A' in train_df: 6\n",
      "Number of 'genre_N/A' in test_df: 3\n"
     ]
    }
   ],
   "source": [
    "# Count the number of 'genre_N/A' in train_df\n",
    "train_na_count = train_df['genre_N/A'].sum()\n",
    "print(f\"Number of 'genre_N/A' in train_df: {train_na_count}\")\n",
    "\n",
    "# Count the number of 'genre_N/A' in test_df\n",
    "test_na_count = test_df['genre_N/A'].sum()\n",
    "print(f\"Number of 'genre_N/A' in test_df: {test_na_count}\")"
   ]
  },
  {
   "cell_type": "markdown",
   "id": "e424bfa6-11ab-40a9-98e2-7cb15ec610ec",
   "metadata": {},
   "source": [
    "This is a small number, so we will go ahead and drop those rows from both train and test."
   ]
  },
  {
   "cell_type": "code",
   "execution_count": 39,
   "id": "98fb9520-4fdc-42b7-a4a7-1b637d185c9f",
   "metadata": {
    "tags": []
   },
   "outputs": [],
   "source": [
    "# Find index of rows where 'genre_N/A' is 1 in train_df\n",
    "train_na_indexes = train_df[train_df['genre_N/A'] == 1].index\n",
    "\n",
    "# Drop these rows\n",
    "train_df.drop(train_na_indexes, inplace=True)\n",
    "\n",
    "# Reset index \n",
    "train_df.reset_index(drop=True, inplace=True)"
   ]
  },
  {
   "cell_type": "code",
   "execution_count": 40,
   "id": "7b595eff-d651-46cd-aafd-d74ecf88efa0",
   "metadata": {
    "tags": []
   },
   "outputs": [],
   "source": [
    "# Find the index of rows where 'genre_N/A' is 1 in test_df\n",
    "test_na_indexes = test_df[test_df['genre_N/A'] == 1].index\n",
    "\n",
    "# Drop these rows\n",
    "test_df.drop(test_na_indexes, inplace=True)\n",
    "\n",
    "# Reset index \n",
    "test_df.reset_index(drop=True, inplace=True)"
   ]
  },
  {
   "cell_type": "code",
   "execution_count": 41,
   "id": "37771a3b-b999-47c3-9a49-d5477f67a3e0",
   "metadata": {
    "tags": []
   },
   "outputs": [
    {
     "data": {
      "text/plain": [
       "genre_N/A\n",
       "0    30550\n",
       "Name: count, dtype: int64"
      ]
     },
     "execution_count": 41,
     "metadata": {},
     "output_type": "execute_result"
    }
   ],
   "source": [
    "# Check value counts before dropping column\n",
    "train_df['genre_N/A'].value_counts()"
   ]
  },
  {
   "cell_type": "code",
   "execution_count": 42,
   "id": "0e726c19-444e-49ae-98e3-1b37d8188864",
   "metadata": {
    "tags": []
   },
   "outputs": [
    {
     "data": {
      "text/plain": [
       "genre_N/A\n",
       "0    7636\n",
       "Name: count, dtype: int64"
      ]
     },
     "execution_count": 42,
     "metadata": {},
     "output_type": "execute_result"
    }
   ],
   "source": [
    "# Check value counts before dropping column\n",
    "test_df['genre_N/A'].value_counts()"
   ]
  },
  {
   "cell_type": "code",
   "execution_count": 43,
   "id": "21da5731-36ed-4a52-97f1-898e2badd86a",
   "metadata": {
    "tags": []
   },
   "outputs": [],
   "source": [
    "# Drop genre_N/A column for both datasets \n",
    "train_df.drop('genre_N/A', axis=1, inplace=True)\n",
    "test_df.drop('genre_N/A', axis=1, inplace=True)"
   ]
  },
  {
   "cell_type": "code",
   "execution_count": 44,
   "id": "68b21207-4ce9-4899-ab56-3a724b559a2c",
   "metadata": {
    "tags": []
   },
   "outputs": [
    {
     "name": "stdout",
     "output_type": "stream",
     "text": [
      "<class 'pandas.core.frame.DataFrame'>\n",
      "RangeIndex: 30550 entries, 0 to 30549\n",
      "Data columns (total 40 columns):\n",
      " #   Column                          Non-Null Count  Dtype  \n",
      "---  ------                          --------------  -----  \n",
      " 0   imdb_id                         30550 non-null  object \n",
      " 1   language_en                     30550 non-null  int64  \n",
      " 2   runtime                         30550 non-null  int64  \n",
      " 3   budget                          12764 non-null  float64\n",
      " 4   box_office_gross                15678 non-null  float64\n",
      " 5   votes                           30550 non-null  int64  \n",
      " 6   rating                          30550 non-null  float64\n",
      " 7   rating_category                 30550 non-null  object \n",
      " 8   review_text                     30550 non-null  object \n",
      " 9   review_count                    30550 non-null  int64  \n",
      " 10  years_since_release             30550 non-null  int64  \n",
      " 11  directors_max_score             30550 non-null  float64\n",
      " 12  actors_avg_score                30550 non-null  float64\n",
      " 13  production_companies_max_score  30550 non-null  float64\n",
      " 14  genre_Action                    30550 non-null  int64  \n",
      " 15  genre_Adventure                 30550 non-null  int64  \n",
      " 16  genre_Animation                 30550 non-null  int64  \n",
      " 17  genre_Biography                 30550 non-null  int64  \n",
      " 18  genre_Comedy                    30550 non-null  int64  \n",
      " 19  genre_Crime                     30550 non-null  int64  \n",
      " 20  genre_Documentary               30550 non-null  int64  \n",
      " 21  genre_Drama                     30550 non-null  int64  \n",
      " 22  genre_Family                    30550 non-null  int64  \n",
      " 23  genre_Fantasy                   30550 non-null  int64  \n",
      " 24  genre_Film-Noir                 30550 non-null  int64  \n",
      " 25  genre_History                   30550 non-null  int64  \n",
      " 26  genre_Horror                    30550 non-null  int64  \n",
      " 27  genre_Music                     30550 non-null  int64  \n",
      " 28  genre_Musical                   30550 non-null  int64  \n",
      " 29  genre_Mystery                   30550 non-null  int64  \n",
      " 30  genre_News                      30550 non-null  int64  \n",
      " 31  genre_Reality-TV                30550 non-null  int64  \n",
      " 32  genre_Romance                   30550 non-null  int64  \n",
      " 33  genre_Sci-Fi                    30550 non-null  int64  \n",
      " 34  genre_Short                     30550 non-null  int64  \n",
      " 35  genre_Sport                     30550 non-null  int64  \n",
      " 36  genre_Talk-Show                 30550 non-null  int64  \n",
      " 37  genre_Thriller                  30550 non-null  int64  \n",
      " 38  genre_War                       30550 non-null  int64  \n",
      " 39  genre_Western                   30550 non-null  int64  \n",
      "dtypes: float64(6), int64(31), object(3)\n",
      "memory usage: 9.3+ MB\n"
     ]
    }
   ],
   "source": [
    "train_df.info()"
   ]
  },
  {
   "cell_type": "code",
   "execution_count": 45,
   "id": "dd682d8c-cc68-4d97-8495-deb2f0a9fe74",
   "metadata": {
    "tags": []
   },
   "outputs": [
    {
     "name": "stdout",
     "output_type": "stream",
     "text": [
      "<class 'pandas.core.frame.DataFrame'>\n",
      "RangeIndex: 7636 entries, 0 to 7635\n",
      "Data columns (total 39 columns):\n",
      " #   Column                          Non-Null Count  Dtype  \n",
      "---  ------                          --------------  -----  \n",
      " 0   imdb_id                         7636 non-null   object \n",
      " 1   language_en                     7636 non-null   int64  \n",
      " 2   runtime                         7636 non-null   int64  \n",
      " 3   budget                          3160 non-null   float64\n",
      " 4   box_office_gross                3858 non-null   float64\n",
      " 5   votes                           7636 non-null   int64  \n",
      " 6   rating                          7636 non-null   float64\n",
      " 7   rating_category                 7636 non-null   object \n",
      " 8   review_text                     7636 non-null   object \n",
      " 9   review_count                    7636 non-null   int64  \n",
      " 10  years_since_release             7636 non-null   int64  \n",
      " 11  directors_max_score             7636 non-null   float64\n",
      " 12  actors_avg_score                7636 non-null   float64\n",
      " 13  production_companies_max_score  7636 non-null   float64\n",
      " 14  genre_Action                    7636 non-null   int64  \n",
      " 15  genre_Adventure                 7636 non-null   int64  \n",
      " 16  genre_Animation                 7636 non-null   int64  \n",
      " 17  genre_Biography                 7636 non-null   int64  \n",
      " 18  genre_Comedy                    7636 non-null   int64  \n",
      " 19  genre_Crime                     7636 non-null   int64  \n",
      " 20  genre_Documentary               7636 non-null   int64  \n",
      " 21  genre_Drama                     7636 non-null   int64  \n",
      " 22  genre_Family                    7636 non-null   int64  \n",
      " 23  genre_Fantasy                   7636 non-null   int64  \n",
      " 24  genre_Film-Noir                 7636 non-null   int64  \n",
      " 25  genre_History                   7636 non-null   int64  \n",
      " 26  genre_Horror                    7636 non-null   int64  \n",
      " 27  genre_Music                     7636 non-null   int64  \n",
      " 28  genre_Musical                   7636 non-null   int64  \n",
      " 29  genre_Mystery                   7636 non-null   int64  \n",
      " 30  genre_News                      7636 non-null   int64  \n",
      " 31  genre_Reality-TV                7636 non-null   int64  \n",
      " 32  genre_Romance                   7636 non-null   int64  \n",
      " 33  genre_Sci-Fi                    7636 non-null   int64  \n",
      " 34  genre_Short                     7636 non-null   int64  \n",
      " 35  genre_Sport                     7636 non-null   int64  \n",
      " 36  genre_Thriller                  7636 non-null   int64  \n",
      " 37  genre_War                       7636 non-null   int64  \n",
      " 38  genre_Western                   7636 non-null   int64  \n",
      "dtypes: float64(6), int64(30), object(3)\n",
      "memory usage: 2.3+ MB\n"
     ]
    }
   ],
   "source": [
    "test_df.info()"
   ]
  },
  {
   "cell_type": "markdown",
   "id": "86690aa5-1e11-4ede-b9ee-a1d9d721abc9",
   "metadata": {},
   "source": [
    "We can see that our `train_df` has one additional column from `test_df`, which is `genre_Talk-Show`. Let's take a closer look at the value counts for this column. "
   ]
  },
  {
   "cell_type": "code",
   "execution_count": 46,
   "id": "9a2f4faa-fffc-42dc-bedc-b2f14812fdeb",
   "metadata": {
    "tags": []
   },
   "outputs": [
    {
     "data": {
      "text/plain": [
       "genre_Talk-Show\n",
       "0    30549\n",
       "1        1\n",
       "Name: count, dtype: int64"
      ]
     },
     "execution_count": 46,
     "metadata": {},
     "output_type": "execute_result"
    }
   ],
   "source": [
    "train_df['genre_Talk-Show'].value_counts()"
   ]
  },
  {
   "cell_type": "markdown",
   "id": "322064a0-edf3-4450-b653-76613bffbd24",
   "metadata": {},
   "source": [
    "Only one positive value for this column means we should just go ahead and drop it, since it's not going to add much value to our model. Let's go ahead and look at the value counts for each of our genre columns to see which others might have extremely low counts that aren't adding much information to our data. "
   ]
  },
  {
   "cell_type": "code",
   "execution_count": 47,
   "id": "7df5d888-4a23-46aa-bb5e-6a6e070f76b9",
   "metadata": {
    "tags": []
   },
   "outputs": [
    {
     "name": "stdout",
     "output_type": "stream",
     "text": [
      "Value counts for genre_News:\n",
      "genre_News\n",
      "0    30526\n",
      "1       24\n",
      "Name: count, dtype: int64\n",
      "-----\n",
      "Value counts for genre_Reality-TV:\n",
      "genre_Reality-TV\n",
      "0    30548\n",
      "1        2\n",
      "Name: count, dtype: int64\n",
      "-----\n",
      "Value counts for genre_Talk-Show:\n",
      "genre_Talk-Show\n",
      "0    30549\n",
      "1        1\n",
      "Name: count, dtype: int64\n",
      "-----\n"
     ]
    }
   ],
   "source": [
    "# Loop through each column\n",
    "# Print value counts if the column starts with genre_\n",
    "# Filter for count less than 100 \n",
    "for col in train_df.columns:\n",
    "    if col.startswith('genre_'):\n",
    "        value_count = train_df[col].value_counts()\n",
    "        if value_count.get(1, 0) < 100:\n",
    "            print(f\"Value counts for {col}:\")\n",
    "            print(value_count)\n",
    "            print(\"-----\")"
   ]
  },
  {
   "cell_type": "markdown",
   "id": "0e64325b-4053-4d94-884b-d3c4c4434ec5",
   "metadata": {},
   "source": [
    "Based on these numbers, we will go and and drop Talk-Show, Reality-Tv, and News. They are all under 50 total positive values for the dataset, which is not going to add any information to our model. Additionally, these are movies, so those genres seem like they may have been added in error, or might not be as \"important\" as other genres. "
   ]
  },
  {
   "cell_type": "code",
   "execution_count": 48,
   "id": "f7f7b035-e665-43a4-a9e1-11d016b858f9",
   "metadata": {
    "tags": []
   },
   "outputs": [],
   "source": [
    "# Drop columns from both train and test. \n",
    "train_df = train_df.drop(columns=['genre_News', 'genre_Reality-TV', 'genre_Talk-Show'])\n",
    "test_df = test_df.drop(columns=['genre_News', 'genre_Reality-TV'])"
   ]
  },
  {
   "cell_type": "markdown",
   "id": "2d951fd6-ffdd-4f7f-b921-a1b4b51e646a",
   "metadata": {
    "tags": []
   },
   "source": [
    "Great, now we should have the same columns in both datasets, and we have reduced dimensionality for columns that weren't adding any value."
   ]
  },
  {
   "cell_type": "code",
   "execution_count": 49,
   "id": "1a890a5e-fefc-40be-a897-fea490309445",
   "metadata": {
    "tags": []
   },
   "outputs": [],
   "source": [
    "# Checkpoint here for train_df and test_df\n",
    "train_df_copy = train_df.copy()\n",
    "test_df_copy = test_df.copy()"
   ]
  },
  {
   "cell_type": "markdown",
   "id": "66ddae93-5a57-4bfc-aab3-cf012a3d2e49",
   "metadata": {},
   "source": [
    "#### KNN Imputer for Budget and Gross Info \n",
    "Now that we've split our data into train and test, and one hot encoded the relevant features, we will be attempting to impute the missing values in our budget and box office gross columns using KNN imputer.\n",
    "\n",
    "Before we implement KNN, we will need to scale our numeric features, since KNN is a distance-based algorithm."
   ]
  },
  {
   "cell_type": "code",
   "execution_count": 50,
   "id": "8259cb72-d871-47d1-ba1a-6561338a71db",
   "metadata": {
    "tags": []
   },
   "outputs": [],
   "source": [
    "from sklearn.preprocessing import StandardScaler"
   ]
  },
  {
   "cell_type": "code",
   "execution_count": 51,
   "id": "dfb761b2-75ae-40f4-af80-4d5795f15001",
   "metadata": {
    "tags": []
   },
   "outputs": [],
   "source": [
    "# Initialize the scaler\n",
    "scaler = StandardScaler()"
   ]
  },
  {
   "cell_type": "code",
   "execution_count": 52,
   "id": "c83f2ce9-c70a-4c59-a1a9-2f99ad4be09e",
   "metadata": {
    "tags": []
   },
   "outputs": [],
   "source": [
    "# List of columns to scale\n",
    "columns_to_scale = ['runtime', 'votes', 'budget', 'box_office_gross', 'rating', 'review_count', 'years_since_release', 'directors_max_score', 'actors_avg_score', 'production_companies_max_score']"
   ]
  },
  {
   "cell_type": "code",
   "execution_count": 53,
   "id": "522b1ea2-a929-4d93-9969-9c22f077e01d",
   "metadata": {
    "tags": []
   },
   "outputs": [],
   "source": [
    "# Make a copy of scaled dataframes \n",
    "scaled_train_df = train_df.copy()\n",
    "scaled_test_df = test_df.copy()"
   ]
  },
  {
   "cell_type": "code",
   "execution_count": 54,
   "id": "603313a0-b3ee-404d-9e79-2f5daeb1adc8",
   "metadata": {
    "tags": []
   },
   "outputs": [],
   "source": [
    "# Fit and transform train\n",
    "scaled_train_df[columns_to_scale] = scaler.fit_transform(scaled_train_df[columns_to_scale])"
   ]
  },
  {
   "cell_type": "code",
   "execution_count": 55,
   "id": "e27c7701-e74c-489f-977a-392d1b96fa32",
   "metadata": {
    "tags": []
   },
   "outputs": [],
   "source": [
    "# Transform test\n",
    "scaled_test_df[columns_to_scale] = scaler.transform(scaled_test_df[columns_to_scale])"
   ]
  },
  {
   "cell_type": "markdown",
   "id": "3b7cf554-b9a7-4a36-b201-82f7eb079b84",
   "metadata": {},
   "source": [
    "Now that we've scaled our numeric features, we can go ahead and use k-nearest neighbors to estimate and fill in the missing values for budget and box office gross."
   ]
  },
  {
   "cell_type": "code",
   "execution_count": 56,
   "id": "652cc6be-faf7-4a60-ac61-bacb0744ade5",
   "metadata": {
    "tags": []
   },
   "outputs": [],
   "source": [
    "# Select only the numeric columns (excluding the text column)\n",
    "numeric_cols = scaled_train_df.select_dtypes(include=['float64', 'int64']).columns"
   ]
  },
  {
   "cell_type": "code",
   "execution_count": 57,
   "id": "e2c501c7-1a7a-498c-9213-937938c4897b",
   "metadata": {
    "tags": []
   },
   "outputs": [],
   "source": [
    "train_numeric = scaled_train_df[numeric_cols]\n",
    "test_numeric = scaled_test_df[numeric_cols]"
   ]
  },
  {
   "cell_type": "code",
   "execution_count": 58,
   "id": "957e2a58-b8b1-4bae-8a27-371fc997f9c2",
   "metadata": {
    "tags": []
   },
   "outputs": [],
   "source": [
    "# Import necessary libraries\n",
    "from sklearn.impute import KNNImputer"
   ]
  },
  {
   "cell_type": "code",
   "execution_count": 59,
   "id": "d53d8c6b-ef2f-4a5d-a2bd-639655db127a",
   "metadata": {},
   "outputs": [],
   "source": [
    "# Initialize KNNImputer\n",
    "imputer = KNNImputer(n_neighbors=5)"
   ]
  },
  {
   "cell_type": "code",
   "execution_count": 60,
   "id": "e9c32a64-7047-432a-8bae-cafbcb757773",
   "metadata": {},
   "outputs": [],
   "source": [
    "# Perform imputation on the numeric columns\n",
    "# Fit and transform train \n",
    "train_imputed = imputer.fit_transform(train_numeric)\n",
    "\n",
    "# Transform test\n",
    "test_imputed = imputer.transform(test_numeric)"
   ]
  },
  {
   "cell_type": "code",
   "execution_count": 61,
   "id": "73130ac2-7cfc-43a6-b146-222f32327984",
   "metadata": {
    "tags": []
   },
   "outputs": [],
   "source": [
    "# Convert the results back to DataFrames\n",
    "train_imputed_df = pd.DataFrame(train_imputed, columns=train_numeric.columns)\n",
    "test_imputed_df = pd.DataFrame(test_imputed, columns=train_numeric.columns)"
   ]
  },
  {
   "cell_type": "markdown",
   "id": "737a5148-e2ff-4056-96b3-311bcde6a8df",
   "metadata": {},
   "source": [
    "Now we need to join our imputed columns back with the original non-numeric features from our original train and test dataframes."
   ]
  },
  {
   "cell_type": "code",
   "execution_count": 62,
   "id": "43b1b3c8-3a56-4332-bc19-74be51701ea6",
   "metadata": {},
   "outputs": [],
   "source": [
    "# Identify non-numeric columns in original dataframe \n",
    "non_numeric_cols_train = train_df.select_dtypes(exclude=['float64', 'int64']).columns\n",
    "non_numeric_cols_test = test_df.select_dtypes(exclude=['float64', 'int64']).columns"
   ]
  },
  {
   "cell_type": "code",
   "execution_count": 63,
   "id": "bbee715a-48e1-4137-afac-25febc827953",
   "metadata": {
    "tags": []
   },
   "outputs": [],
   "source": [
    "# Concatenate imputed dataframe with the non-numeric columns from the original dataframe\n",
    "train_final_df = pd.concat([train_imputed_df, train_df[non_numeric_cols_train]], axis=1)\n",
    "test_final_df = pd.concat([test_imputed_df, test_df[non_numeric_cols_test]], axis=1)"
   ]
  },
  {
   "cell_type": "code",
   "execution_count": 64,
   "id": "a8a0bc5d-bb64-4039-abaa-075b16053772",
   "metadata": {
    "tags": []
   },
   "outputs": [
    {
     "name": "stdout",
     "output_type": "stream",
     "text": [
      "Shape of original DataFrame: (30550, 37)\n",
      "Shape of imputed DataFrame: (30550, 34)\n",
      "Shape of final DataFrame: (30550, 37)\n"
     ]
    }
   ],
   "source": [
    "# Check the shapes\n",
    "print(\"Shape of original DataFrame:\", train_df.shape)\n",
    "print(\"Shape of imputed DataFrame:\", train_imputed_df.shape)\n",
    "print(\"Shape of final DataFrame:\", train_final_df.shape)"
   ]
  },
  {
   "cell_type": "code",
   "execution_count": 65,
   "id": "5cf71cd3-cfb6-4c6c-aee0-2d0d176434ea",
   "metadata": {
    "tags": []
   },
   "outputs": [
    {
     "name": "stdout",
     "output_type": "stream",
     "text": [
      "True\n",
      "True\n"
     ]
    }
   ],
   "source": [
    "# Check indices align\n",
    "print((train_final_df.index == train_df.index).all())\n",
    "print((test_final_df.index == test_df.index).all())"
   ]
  },
  {
   "cell_type": "code",
   "execution_count": 66,
   "id": "4a8e05fe-d2cc-419d-8058-d3bb2a4de7eb",
   "metadata": {
    "tags": []
   },
   "outputs": [
    {
     "name": "stdout",
     "output_type": "stream",
     "text": [
      "<class 'pandas.core.frame.DataFrame'>\n",
      "RangeIndex: 30550 entries, 0 to 30549\n",
      "Data columns (total 37 columns):\n",
      " #   Column                          Non-Null Count  Dtype  \n",
      "---  ------                          --------------  -----  \n",
      " 0   language_en                     30550 non-null  float64\n",
      " 1   runtime                         30550 non-null  float64\n",
      " 2   budget                          30550 non-null  float64\n",
      " 3   box_office_gross                30550 non-null  float64\n",
      " 4   votes                           30550 non-null  float64\n",
      " 5   rating                          30550 non-null  float64\n",
      " 6   review_count                    30550 non-null  float64\n",
      " 7   years_since_release             30550 non-null  float64\n",
      " 8   directors_max_score             30550 non-null  float64\n",
      " 9   actors_avg_score                30550 non-null  float64\n",
      " 10  production_companies_max_score  30550 non-null  float64\n",
      " 11  genre_Action                    30550 non-null  float64\n",
      " 12  genre_Adventure                 30550 non-null  float64\n",
      " 13  genre_Animation                 30550 non-null  float64\n",
      " 14  genre_Biography                 30550 non-null  float64\n",
      " 15  genre_Comedy                    30550 non-null  float64\n",
      " 16  genre_Crime                     30550 non-null  float64\n",
      " 17  genre_Documentary               30550 non-null  float64\n",
      " 18  genre_Drama                     30550 non-null  float64\n",
      " 19  genre_Family                    30550 non-null  float64\n",
      " 20  genre_Fantasy                   30550 non-null  float64\n",
      " 21  genre_Film-Noir                 30550 non-null  float64\n",
      " 22  genre_History                   30550 non-null  float64\n",
      " 23  genre_Horror                    30550 non-null  float64\n",
      " 24  genre_Music                     30550 non-null  float64\n",
      " 25  genre_Musical                   30550 non-null  float64\n",
      " 26  genre_Mystery                   30550 non-null  float64\n",
      " 27  genre_Romance                   30550 non-null  float64\n",
      " 28  genre_Sci-Fi                    30550 non-null  float64\n",
      " 29  genre_Short                     30550 non-null  float64\n",
      " 30  genre_Sport                     30550 non-null  float64\n",
      " 31  genre_Thriller                  30550 non-null  float64\n",
      " 32  genre_War                       30550 non-null  float64\n",
      " 33  genre_Western                   30550 non-null  float64\n",
      " 34  imdb_id                         30550 non-null  object \n",
      " 35  rating_category                 30550 non-null  object \n",
      " 36  review_text                     30550 non-null  object \n",
      "dtypes: float64(34), object(3)\n",
      "memory usage: 8.6+ MB\n"
     ]
    }
   ],
   "source": [
    "train_final_df.info()"
   ]
  },
  {
   "cell_type": "markdown",
   "id": "ceab782b-ec86-4a76-9e2c-b86702d41d0f",
   "metadata": {},
   "source": [
    "Let's move our `imdb_id` and target feature, `rating_category` to the top of the feature list for both dataframes."
   ]
  },
  {
   "cell_type": "code",
   "execution_count": 67,
   "id": "96880df0-9c6e-465b-be9b-785cab23968f",
   "metadata": {
    "tags": []
   },
   "outputs": [],
   "source": [
    "# Get the list of all column names except 'rating_category' and 'imdb_id'\n",
    "cols = [col for col in train_final_df.columns if col not in ['rating_category', 'imdb_id']]\n",
    "\n",
    "# Reorder the columns so that 'rating_category' and 'imdb_id' are at the front\n",
    "train_final_df = train_final_df[['rating_category', 'imdb_id'] + cols]\n",
    "\n",
    "# Do the same for the test dataframe\n",
    "cols_test = [col for col in test_final_df.columns if col not in ['rating_category', 'imdb_id']]\n",
    "test_final_df = test_final_df[['rating_category', 'imdb_id'] + cols_test]"
   ]
  },
  {
   "cell_type": "markdown",
   "id": "f099db33-acfc-4d5f-a999-39d457a1d341",
   "metadata": {},
   "source": [
    "Now, since we're done with feature engineering, we'll go ahead and drop the rating feature, since we'll be predicting the rating category instead."
   ]
  },
  {
   "cell_type": "code",
   "execution_count": 68,
   "id": "6e0d73c9-0d8c-4e0e-b50d-0247118a33e7",
   "metadata": {
    "tags": []
   },
   "outputs": [],
   "source": [
    "# Drop rating feature\n",
    "train_final_df = train_final_df.drop(columns=['rating'])\n",
    "test_final_df = test_final_df.drop(columns=['rating'])"
   ]
  },
  {
   "cell_type": "code",
   "execution_count": 70,
   "id": "ee2e07e3-20d9-4164-a3c8-56830062459a",
   "metadata": {
    "tags": []
   },
   "outputs": [
    {
     "name": "stdout",
     "output_type": "stream",
     "text": [
      "<class 'pandas.core.frame.DataFrame'>\n",
      "RangeIndex: 30550 entries, 0 to 30549\n",
      "Data columns (total 36 columns):\n",
      " #   Column                          Non-Null Count  Dtype  \n",
      "---  ------                          --------------  -----  \n",
      " 0   rating_category                 30550 non-null  object \n",
      " 1   imdb_id                         30550 non-null  object \n",
      " 2   language_en                     30550 non-null  float64\n",
      " 3   runtime                         30550 non-null  float64\n",
      " 4   budget                          30550 non-null  float64\n",
      " 5   box_office_gross                30550 non-null  float64\n",
      " 6   votes                           30550 non-null  float64\n",
      " 7   review_count                    30550 non-null  float64\n",
      " 8   years_since_release             30550 non-null  float64\n",
      " 9   directors_max_score             30550 non-null  float64\n",
      " 10  actors_avg_score                30550 non-null  float64\n",
      " 11  production_companies_max_score  30550 non-null  float64\n",
      " 12  genre_Action                    30550 non-null  float64\n",
      " 13  genre_Adventure                 30550 non-null  float64\n",
      " 14  genre_Animation                 30550 non-null  float64\n",
      " 15  genre_Biography                 30550 non-null  float64\n",
      " 16  genre_Comedy                    30550 non-null  float64\n",
      " 17  genre_Crime                     30550 non-null  float64\n",
      " 18  genre_Documentary               30550 non-null  float64\n",
      " 19  genre_Drama                     30550 non-null  float64\n",
      " 20  genre_Family                    30550 non-null  float64\n",
      " 21  genre_Fantasy                   30550 non-null  float64\n",
      " 22  genre_Film-Noir                 30550 non-null  float64\n",
      " 23  genre_History                   30550 non-null  float64\n",
      " 24  genre_Horror                    30550 non-null  float64\n",
      " 25  genre_Music                     30550 non-null  float64\n",
      " 26  genre_Musical                   30550 non-null  float64\n",
      " 27  genre_Mystery                   30550 non-null  float64\n",
      " 28  genre_Romance                   30550 non-null  float64\n",
      " 29  genre_Sci-Fi                    30550 non-null  float64\n",
      " 30  genre_Short                     30550 non-null  float64\n",
      " 31  genre_Sport                     30550 non-null  float64\n",
      " 32  genre_Thriller                  30550 non-null  float64\n",
      " 33  genre_War                       30550 non-null  float64\n",
      " 34  genre_Western                   30550 non-null  float64\n",
      " 35  review_text                     30550 non-null  object \n",
      "dtypes: float64(33), object(3)\n",
      "memory usage: 8.4+ MB\n"
     ]
    }
   ],
   "source": [
    "train_final_df.info()"
   ]
  },
  {
   "cell_type": "code",
   "execution_count": 72,
   "id": "49788c6d-433a-41c7-bcc5-a0505877f19f",
   "metadata": {
    "tags": []
   },
   "outputs": [
    {
     "name": "stdout",
     "output_type": "stream",
     "text": [
      "<class 'pandas.core.frame.DataFrame'>\n",
      "RangeIndex: 7636 entries, 0 to 7635\n",
      "Data columns (total 36 columns):\n",
      " #   Column                          Non-Null Count  Dtype  \n",
      "---  ------                          --------------  -----  \n",
      " 0   rating_category                 7636 non-null   object \n",
      " 1   imdb_id                         7636 non-null   object \n",
      " 2   language_en                     7636 non-null   float64\n",
      " 3   runtime                         7636 non-null   float64\n",
      " 4   budget                          7636 non-null   float64\n",
      " 5   box_office_gross                7636 non-null   float64\n",
      " 6   votes                           7636 non-null   float64\n",
      " 7   review_count                    7636 non-null   float64\n",
      " 8   years_since_release             7636 non-null   float64\n",
      " 9   directors_max_score             7636 non-null   float64\n",
      " 10  actors_avg_score                7636 non-null   float64\n",
      " 11  production_companies_max_score  7636 non-null   float64\n",
      " 12  genre_Action                    7636 non-null   float64\n",
      " 13  genre_Adventure                 7636 non-null   float64\n",
      " 14  genre_Animation                 7636 non-null   float64\n",
      " 15  genre_Biography                 7636 non-null   float64\n",
      " 16  genre_Comedy                    7636 non-null   float64\n",
      " 17  genre_Crime                     7636 non-null   float64\n",
      " 18  genre_Documentary               7636 non-null   float64\n",
      " 19  genre_Drama                     7636 non-null   float64\n",
      " 20  genre_Family                    7636 non-null   float64\n",
      " 21  genre_Fantasy                   7636 non-null   float64\n",
      " 22  genre_Film-Noir                 7636 non-null   float64\n",
      " 23  genre_History                   7636 non-null   float64\n",
      " 24  genre_Horror                    7636 non-null   float64\n",
      " 25  genre_Music                     7636 non-null   float64\n",
      " 26  genre_Musical                   7636 non-null   float64\n",
      " 27  genre_Mystery                   7636 non-null   float64\n",
      " 28  genre_Romance                   7636 non-null   float64\n",
      " 29  genre_Sci-Fi                    7636 non-null   float64\n",
      " 30  genre_Short                     7636 non-null   float64\n",
      " 31  genre_Sport                     7636 non-null   float64\n",
      " 32  genre_Thriller                  7636 non-null   float64\n",
      " 33  genre_War                       7636 non-null   float64\n",
      " 34  genre_Western                   7636 non-null   float64\n",
      " 35  review_text                     7636 non-null   object \n",
      "dtypes: float64(33), object(3)\n",
      "memory usage: 2.1+ MB\n"
     ]
    }
   ],
   "source": [
    "test_final_df.info()"
   ]
  },
  {
   "cell_type": "markdown",
   "id": "c44902e6-6cff-475c-b1cb-7181619c05b1",
   "metadata": {
    "tags": []
   },
   "source": [
    "Great! Now we should be ready for modeling with our numeric data, and the next step is to pre-process our text data. However, before we do that, it might be useful to run a baseline logistic regression model. "
   ]
  },
  {
   "cell_type": "markdown",
   "id": "4a4698e5-30c3-417d-96bd-fdf82a9743bb",
   "metadata": {},
   "source": [
    "#### Baseline Models (Numeric Only)"
   ]
  },
  {
   "cell_type": "code",
   "execution_count": 73,
   "id": "b61c622d-d87f-416c-877a-501e73dc2e58",
   "metadata": {
    "tags": []
   },
   "outputs": [],
   "source": [
    "# Import libraries \n",
    "from sklearn.linear_model import LogisticRegression\n",
    "from sklearn.metrics import accuracy_score, confusion_matrix, classification_report"
   ]
  },
  {
   "cell_type": "code",
   "execution_count": 74,
   "id": "fab8678f-7d7f-4e45-905d-98d20b82850d",
   "metadata": {},
   "outputs": [
    {
     "name": "stdout",
     "output_type": "stream",
     "text": [
      "Training Accuracy: 0.9648117839607201\n",
      "Test Accuracy: 0.9884756416972237\n"
     ]
    }
   ],
   "source": [
    "X_train = train_final_df.drop(['rating_category', 'imdb_id', 'review_text'], axis=1)\n",
    "y_train = train_final_df['rating_category']\n",
    "\n",
    "X_test = test_final_df.drop(['rating_category', 'imdb_id', 'review_text'], axis=1)\n",
    "y_test = test_final_df['rating_category']\n",
    "\n",
    "# Instantiate model \n",
    "logreg = LogisticRegression(max_iter=1000, C=0.5)\n",
    "\n",
    "# Fit model \n",
    "logreg.fit(X_train, y_train)\n",
    "\n",
    "# Make predictions\n",
    "train_predictions = logreg.predict(X_train)\n",
    "y_pred = logreg.predict(X_test)\n",
    "\n",
    "# Evaluate\n",
    "train_accuracy = accuracy_score(y_train, train_predictions)\n",
    "test_accuracy = accuracy_score(y_test, y_pred)\n",
    "\n",
    "print(f\"Training Accuracy: {train_accuracy}\")\n",
    "print(f'Test Accuracy: {test_accuracy}')"
   ]
  },
  {
   "cell_type": "markdown",
   "id": "3b3e7b56-4e23-4509-bec2-1c260abf6d13",
   "metadata": {},
   "source": [
    "Wow, we got a very high accuracy! Hopefully this means the new feature engineering techniques have added valuable data to the dataset."
   ]
  },
  {
   "cell_type": "code",
   "execution_count": 75,
   "id": "433c3723-23c7-4fa8-a870-e30cc2899a77",
   "metadata": {
    "tags": []
   },
   "outputs": [],
   "source": [
    "# Classification report \n",
    "report = classification_report(y_test, y_pred, output_dict=True)\n",
    "\n",
    "# Convert to dataframe \n",
    "report_df = pd.DataFrame(report).transpose()"
   ]
  },
  {
   "cell_type": "code",
   "execution_count": 76,
   "id": "a08b59d5-33c2-4fb7-9604-3b99a5156034",
   "metadata": {
    "tags": []
   },
   "outputs": [
    {
     "data": {
      "text/html": [
       "<div>\n",
       "<style scoped>\n",
       "    .dataframe tbody tr th:only-of-type {\n",
       "        vertical-align: middle;\n",
       "    }\n",
       "\n",
       "    .dataframe tbody tr th {\n",
       "        vertical-align: top;\n",
       "    }\n",
       "\n",
       "    .dataframe thead th {\n",
       "        text-align: right;\n",
       "    }\n",
       "</style>\n",
       "<table border=\"1\" class=\"dataframe\">\n",
       "  <thead>\n",
       "    <tr style=\"text-align: right;\">\n",
       "      <th></th>\n",
       "      <th>precision</th>\n",
       "      <th>recall</th>\n",
       "      <th>f1-score</th>\n",
       "      <th>support</th>\n",
       "    </tr>\n",
       "  </thead>\n",
       "  <tbody>\n",
       "    <tr>\n",
       "      <th>Average</th>\n",
       "      <td>0.984785</td>\n",
       "      <td>0.988415</td>\n",
       "      <td>0.986597</td>\n",
       "      <td>1899.000000</td>\n",
       "    </tr>\n",
       "    <tr>\n",
       "      <th>Excellent</th>\n",
       "      <td>0.988675</td>\n",
       "      <td>0.990919</td>\n",
       "      <td>0.989796</td>\n",
       "      <td>1762.000000</td>\n",
       "    </tr>\n",
       "    <tr>\n",
       "      <th>Good</th>\n",
       "      <td>0.983830</td>\n",
       "      <td>0.983333</td>\n",
       "      <td>0.983582</td>\n",
       "      <td>1980.000000</td>\n",
       "    </tr>\n",
       "    <tr>\n",
       "      <th>Poor</th>\n",
       "      <td>0.996474</td>\n",
       "      <td>0.991479</td>\n",
       "      <td>0.993970</td>\n",
       "      <td>1995.000000</td>\n",
       "    </tr>\n",
       "    <tr>\n",
       "      <th>accuracy</th>\n",
       "      <td>0.988476</td>\n",
       "      <td>0.988476</td>\n",
       "      <td>0.988476</td>\n",
       "      <td>0.988476</td>\n",
       "    </tr>\n",
       "    <tr>\n",
       "      <th>macro avg</th>\n",
       "      <td>0.988441</td>\n",
       "      <td>0.988537</td>\n",
       "      <td>0.988486</td>\n",
       "      <td>7636.000000</td>\n",
       "    </tr>\n",
       "    <tr>\n",
       "      <th>weighted avg</th>\n",
       "      <td>0.988489</td>\n",
       "      <td>0.988476</td>\n",
       "      <td>0.988479</td>\n",
       "      <td>7636.000000</td>\n",
       "    </tr>\n",
       "  </tbody>\n",
       "</table>\n",
       "</div>"
      ],
      "text/plain": [
       "              precision    recall  f1-score      support\n",
       "Average        0.984785  0.988415  0.986597  1899.000000\n",
       "Excellent      0.988675  0.990919  0.989796  1762.000000\n",
       "Good           0.983830  0.983333  0.983582  1980.000000\n",
       "Poor           0.996474  0.991479  0.993970  1995.000000\n",
       "accuracy       0.988476  0.988476  0.988476     0.988476\n",
       "macro avg      0.988441  0.988537  0.988486  7636.000000\n",
       "weighted avg   0.988489  0.988476  0.988479  7636.000000"
      ]
     },
     "execution_count": 76,
     "metadata": {},
     "output_type": "execute_result"
    }
   ],
   "source": [
    "report_df"
   ]
  },
  {
   "cell_type": "code",
   "execution_count": 77,
   "id": "ecba737c-4ef2-4753-b339-4ae9adb84c84",
   "metadata": {
    "tags": []
   },
   "outputs": [
    {
     "data": {
      "image/png": "[encoded data removed]",
      "text/plain": [
       "<Figure size 1000x800 with 2 Axes>"
      ]
     },
     "metadata": {},
     "output_type": "display_data"
    }
   ],
   "source": [
    "# Plotting heatmap of confusion matrix \n",
    "\n",
    "import seaborn as sns\n",
    "import matplotlib.pyplot as plt\n",
    "\n",
    "# Confusion matrix\n",
    "conf_matrix = confusion_matrix(y_test, y_pred)\n",
    "\n",
    "# Class labels\n",
    "class_labels = ['Average', 'Excellent', 'Good', 'Poor']\n",
    "\n",
    "plt.figure(figsize=(10, 8))\n",
    "sns.heatmap(conf_matrix, annot=True, fmt='d', cmap='plasma', xticklabels=class_labels, yticklabels=class_labels)\n",
    "\n",
    "plt.ylabel('Actual')\n",
    "plt.xlabel('Predicted')\n",
    "plt.title('Confusion Matrix Heatmap')\n",
    "\n",
    "plt.show()"
   ]
  },
  {
   "cell_type": "markdown",
   "id": "9265afd8-5398-4dba-9184-1d7126d2330c",
   "metadata": {
    "tags": []
   },
   "source": [
    "Looking at the heatmap, we can see that all of our classes are being predicted correctly most of the time. The most conufsion is between Excellent and Good rated movies, which makes sense intuitively. Overall though, our model seems to be performing very well."
   ]
  },
  {
   "cell_type": "markdown",
   "id": "38914ae0-ffb8-40ea-945b-5b47b0582167",
   "metadata": {
    "tags": []
   },
   "source": [
    "Before we move on to pre-processing text data, let's try a couple other models on our numerical data to have a point of comparison to logistic regression results. We will try Random Forest first."
   ]
  },
  {
   "cell_type": "code",
   "execution_count": 78,
   "id": "7905cf49-b3bb-4481-a20f-578c84c0efa3",
   "metadata": {
    "tags": []
   },
   "outputs": [],
   "source": [
    "# Import libraries \n",
    "from sklearn.ensemble import RandomForestClassifier\n",
    "from sklearn.metrics import accuracy_score"
   ]
  },
  {
   "cell_type": "code",
   "execution_count": 79,
   "id": "4f40b7b6-78a2-4d2a-8a2e-db653208e024",
   "metadata": {
    "tags": []
   },
   "outputs": [
    {
     "name": "stdout",
     "output_type": "stream",
     "text": [
      "Random Forest Training Accuracy: 1.0\n",
      "Random Forest Test Accuracy: 0.9893923520167627\n"
     ]
    }
   ],
   "source": [
    "# Instantiate the Random Forest model\n",
    "rf_model = RandomForestClassifier(n_estimators=100, random_state=42)\n",
    "\n",
    "# Fit the model on training data\n",
    "rf_model.fit(X_train, y_train)\n",
    "\n",
    "# Make predictions on the training set and test set\n",
    "rf_train_predictions = rf_model.predict(X_train)\n",
    "rf_y_pred = rf_model.predict(X_test)\n",
    "\n",
    "# Evaluate the model\n",
    "rf_train_accuracy = accuracy_score(y_train, rf_train_predictions)\n",
    "rf_test_accuracy = accuracy_score(y_test, rf_y_pred)\n",
    "\n",
    "print(f\"Random Forest Training Accuracy: {rf_train_accuracy}\")\n",
    "print(f\"Random Forest Test Accuracy: {rf_test_accuracy}\")"
   ]
  },
  {
   "cell_type": "markdown",
   "id": "51743688-c0fc-4c8e-8b64-d2eeecb9ba38",
   "metadata": {},
   "source": [
    "Again, we are getting extremly high accuracy scores, perhaps with some overfitting on the train data, but still high scores on the test data, indicating that the features are indeed very informative for predicting the target variable. Let's also try a decision tree model. "
   ]
  },
  {
   "cell_type": "code",
   "execution_count": 80,
   "id": "f216e12b-0d04-48ce-be0e-5af44045b293",
   "metadata": {
    "tags": []
   },
   "outputs": [
    {
     "name": "stdout",
     "output_type": "stream",
     "text": [
      "Decision Tree Training Accuracy: 1.0\n",
      "Decision Tree Test Accuracy: 0.9787847040335254\n"
     ]
    }
   ],
   "source": [
    "from sklearn.tree import DecisionTreeClassifier\n",
    "from sklearn.metrics import accuracy_score\n",
    "\n",
    "# Instantiate the Decision Tree model\n",
    "dt_model = DecisionTreeClassifier()\n",
    "\n",
    "# Fit the model\n",
    "dt_model.fit(X_train, y_train)\n",
    "\n",
    "# Make predictions\n",
    "dt_train_predictions = dt_model.predict(X_train)\n",
    "dt_y_pred = dt_model.predict(X_test)\n",
    "\n",
    "# Evaluate the model\n",
    "dt_train_accuracy = accuracy_score(y_train, dt_train_predictions)\n",
    "dt_test_accuracy = accuracy_score(y_test, dt_y_pred)\n",
    "\n",
    "print(f\"Decision Tree Training Accuracy: {dt_train_accuracy}\")\n",
    "print(f\"Decision Tree Test Accuracy: {dt_test_accuracy}\")"
   ]
  },
  {
   "cell_type": "markdown",
   "id": "45f78227-42a6-4595-991f-8bb0af6d4268",
   "metadata": {},
   "source": [
    "The Decision Tree model has essentialy perfect training accuracy, which is expected because Decision Trees tend to fit the training data very well. The test accuracy is also quite high, although slightly lower than what we got from Logistic Regression and Random Forest."
   ]
  },
  {
   "cell_type": "markdown",
   "id": "21518736-b50b-43eb-80a5-e5980297ce91",
   "metadata": {},
   "source": [
    "Since it seems clear that our numeric features are fairly predictive of our target class, let's move on to text pre-processing."
   ]
  },
  {
   "cell_type": "markdown",
   "id": "050a688f-a106-4b55-a7a6-601ceb25c729",
   "metadata": {},
   "source": [
    "### Text Cleaning"
   ]
  },
  {
   "cell_type": "markdown",
   "id": "4787d8fd-2caf-4ee0-8599-dd5aec210d82",
   "metadata": {},
   "source": [
    "We're going to be taking a different approach than we did previously for pre-processing text data. This time, instead of concatenating the review text and then processing it, we will clean and tokenize the individual reviews, and then concatenate the resulting tokens (grouped by movie) into a column to be used for vectorization. This approach will make sure that each review is cleaned properly before they are combined. \n",
    "\n",
    "So essentially the process will be: \n",
    "- Clean, tokenize, and perform lemmatization on individual reviews \n",
    "- After pre-processing, concatenate tokens into a single string/list of tokens \n",
    "- Perform TF-IDF vectorization"
   ]
  },
  {
   "cell_type": "code",
   "execution_count": 81,
   "id": "aa97b6c2-b273-464d-9fc1-c87e005cc6ae",
   "metadata": {
    "tags": []
   },
   "outputs": [],
   "source": [
    "# Load reviews data\n",
    "reviews = pd.read_json('data/model_data/reviews.json', lines=True)"
   ]
  },
  {
   "cell_type": "code",
   "execution_count": 82,
   "id": "21b57e27-6779-4894-a1e8-5b004f58bcda",
   "metadata": {
    "tags": []
   },
   "outputs": [
    {
     "name": "stdout",
     "output_type": "stream",
     "text": [
      "<class 'pandas.core.frame.DataFrame'>\n",
      "RangeIndex: 3146437 entries, 0 to 3146436\n",
      "Data columns (total 5 columns):\n",
      " #   Column           Dtype  \n",
      "---  ------           -----  \n",
      " 0   imdb_id          object \n",
      " 1   review_text      object \n",
      " 2   rating           float64\n",
      " 3   rating_category  object \n",
      " 4   review_length    int64  \n",
      "dtypes: float64(1), int64(1), object(3)\n",
      "memory usage: 120.0+ MB\n"
     ]
    }
   ],
   "source": [
    "reviews.info()"
   ]
  },
  {
   "cell_type": "markdown",
   "id": "a81bda39-274c-4ea8-8b68-3be95f063a32",
   "metadata": {},
   "source": [
    "First, we'll split our reviews into the appropriate train and test sets, based on the `imdb_id`s from our train and test dataframes."
   ]
  },
  {
   "cell_type": "code",
   "execution_count": 83,
   "id": "7dfa4298-fbb5-4649-b471-635e1dfa9acc",
   "metadata": {
    "tags": []
   },
   "outputs": [],
   "source": [
    "# Save unique imdb_ids from train and test df to lists \n",
    "train_imdb_ids = train_final_df['imdb_id'].unique().tolist()\n",
    "test_imdb_ids = test_final_df['imdb_id'].unique().tolist()"
   ]
  },
  {
   "cell_type": "code",
   "execution_count": 84,
   "id": "f305dd7a-198f-4c97-8013-50725c0e83aa",
   "metadata": {
    "tags": []
   },
   "outputs": [],
   "source": [
    "# Filtering reviews based on imdb_ids\n",
    "train_reviews = reviews[reviews['imdb_id'].isin(train_imdb_ids)]\n",
    "test_reviews = reviews[reviews['imdb_id'].isin(test_imdb_ids)]"
   ]
  },
  {
   "cell_type": "code",
   "execution_count": 85,
   "id": "aea86e1d-86f0-4b62-8f21-30aed08c92ec",
   "metadata": {
    "tags": []
   },
   "outputs": [
    {
     "name": "stdout",
     "output_type": "stream",
     "text": [
      "<class 'pandas.core.frame.DataFrame'>\n",
      "Index: 2500798 entries, 0 to 3146436\n",
      "Data columns (total 5 columns):\n",
      " #   Column           Dtype  \n",
      "---  ------           -----  \n",
      " 0   imdb_id          object \n",
      " 1   review_text      object \n",
      " 2   rating           float64\n",
      " 3   rating_category  object \n",
      " 4   review_length    int64  \n",
      "dtypes: float64(1), int64(1), object(3)\n",
      "memory usage: 114.5+ MB\n"
     ]
    }
   ],
   "source": [
    "train_reviews.info()"
   ]
  },
  {
   "cell_type": "code",
   "execution_count": 86,
   "id": "8b732f3f-25cd-4ab8-9184-3d8f90eb2c2a",
   "metadata": {
    "tags": []
   },
   "outputs": [
    {
     "name": "stdout",
     "output_type": "stream",
     "text": [
      "<class 'pandas.core.frame.DataFrame'>\n",
      "Index: 618816 entries, 4 to 3134241\n",
      "Data columns (total 5 columns):\n",
      " #   Column           Non-Null Count   Dtype  \n",
      "---  ------           --------------   -----  \n",
      " 0   imdb_id          618816 non-null  object \n",
      " 1   review_text      618816 non-null  object \n",
      " 2   rating           618816 non-null  float64\n",
      " 3   rating_category  618816 non-null  object \n",
      " 4   review_length    618816 non-null  int64  \n",
      "dtypes: float64(1), int64(1), object(3)\n",
      "memory usage: 28.3+ MB\n"
     ]
    }
   ],
   "source": [
    "test_reviews.info()"
   ]
  },
  {
   "cell_type": "code",
   "execution_count": 87,
   "id": "ed0dbc69-190e-48d2-9ac5-0ce6e0de07a0",
   "metadata": {
    "tags": []
   },
   "outputs": [
    {
     "data": {
      "text/plain": [
       "7636"
      ]
     },
     "execution_count": 87,
     "metadata": {},
     "output_type": "execute_result"
    }
   ],
   "source": [
    "test_reviews['imdb_id'].nunique()"
   ]
  },
  {
   "cell_type": "code",
   "execution_count": 88,
   "id": "ad0bbc29-b0f5-443e-aefd-93bf1c37897c",
   "metadata": {
    "tags": []
   },
   "outputs": [
    {
     "data": {
      "text/plain": [
       "30550"
      ]
     },
     "execution_count": 88,
     "metadata": {},
     "output_type": "execute_result"
    }
   ],
   "source": [
    "train_reviews['imdb_id'].nunique()"
   ]
  },
  {
   "cell_type": "markdown",
   "id": "d5cfdc8e-1220-4324-9f33-03ab07835705",
   "metadata": {},
   "source": [
    "Now we have two dataframes with text reviews that correspond to the uniqe movies found in our train and test dataframes, and we have checked the unique number of IDs and confirmed they correspond to our dataframes."
   ]
  },
  {
   "cell_type": "code",
   "execution_count": 89,
   "id": "e9f31f15-c947-4cd0-8efa-9fe2b728cd7a",
   "metadata": {
    "tags": []
   },
   "outputs": [
    {
     "data": {
      "text/html": [
       "<div>\n",
       "<style scoped>\n",
       "    .dataframe tbody tr th:only-of-type {\n",
       "        vertical-align: middle;\n",
       "    }\n",
       "\n",
       "    .dataframe tbody tr th {\n",
       "        vertical-align: top;\n",
       "    }\n",
       "\n",
       "    .dataframe thead th {\n",
       "        text-align: right;\n",
       "    }\n",
       "</style>\n",
       "<table border=\"1\" class=\"dataframe\">\n",
       "  <thead>\n",
       "    <tr style=\"text-align: right;\">\n",
       "      <th></th>\n",
       "      <th>imdb_id</th>\n",
       "      <th>review_text</th>\n",
       "      <th>rating</th>\n",
       "      <th>rating_category</th>\n",
       "      <th>review_length</th>\n",
       "    </tr>\n",
       "  </thead>\n",
       "  <tbody>\n",
       "    <tr>\n",
       "      <th>4</th>\n",
       "      <td>tt0094721</td>\n",
       "      <td>An Accomplished Tim Burton Movie; A Great Idea...</td>\n",
       "      <td>7.5</td>\n",
       "      <td>Excellent</td>\n",
       "      <td>115</td>\n",
       "    </tr>\n",
       "    <tr>\n",
       "      <th>6</th>\n",
       "      <td>tt0426568</td>\n",
       "      <td>This movie was stupid.; This movie was totally...</td>\n",
       "      <td>6.1</td>\n",
       "      <td>Average</td>\n",
       "      <td>187</td>\n",
       "    </tr>\n",
       "    <tr>\n",
       "      <th>7</th>\n",
       "      <td>tt0426568</td>\n",
       "      <td>. . . is a great movie.; Amazing! Finally Disn...</td>\n",
       "      <td>6.1</td>\n",
       "      <td>Average</td>\n",
       "      <td>184</td>\n",
       "    </tr>\n",
       "    <tr>\n",
       "      <th>8</th>\n",
       "      <td>tt0426568</td>\n",
       "      <td>What a great change; Now, the stereotypical Di...</td>\n",
       "      <td>6.1</td>\n",
       "      <td>Average</td>\n",
       "      <td>259</td>\n",
       "    </tr>\n",
       "    <tr>\n",
       "      <th>16</th>\n",
       "      <td>tt0374900</td>\n",
       "      <td>A feel-good movie for the geek in any of us......</td>\n",
       "      <td>7.0</td>\n",
       "      <td>Good</td>\n",
       "      <td>256</td>\n",
       "    </tr>\n",
       "  </tbody>\n",
       "</table>\n",
       "</div>"
      ],
      "text/plain": [
       "      imdb_id                                        review_text  rating  \\\n",
       "4   tt0094721  An Accomplished Tim Burton Movie; A Great Idea...     7.5   \n",
       "6   tt0426568  This movie was stupid.; This movie was totally...     6.1   \n",
       "7   tt0426568  . . . is a great movie.; Amazing! Finally Disn...     6.1   \n",
       "8   tt0426568  What a great change; Now, the stereotypical Di...     6.1   \n",
       "16  tt0374900  A feel-good movie for the geek in any of us......     7.0   \n",
       "\n",
       "   rating_category  review_length  \n",
       "4        Excellent            115  \n",
       "6          Average            187  \n",
       "7          Average            184  \n",
       "8          Average            259  \n",
       "16            Good            256  "
      ]
     },
     "execution_count": 89,
     "metadata": {},
     "output_type": "execute_result"
    }
   ],
   "source": [
    "test_reviews.head()"
   ]
  },
  {
   "cell_type": "code",
   "execution_count": 90,
   "id": "d55289f2-931a-4ae7-a74e-8038dc104549",
   "metadata": {
    "tags": []
   },
   "outputs": [
    {
     "data": {
      "text/html": [
       "<div>\n",
       "<style scoped>\n",
       "    .dataframe tbody tr th:only-of-type {\n",
       "        vertical-align: middle;\n",
       "    }\n",
       "\n",
       "    .dataframe tbody tr th {\n",
       "        vertical-align: top;\n",
       "    }\n",
       "\n",
       "    .dataframe thead th {\n",
       "        text-align: right;\n",
       "    }\n",
       "</style>\n",
       "<table border=\"1\" class=\"dataframe\">\n",
       "  <thead>\n",
       "    <tr style=\"text-align: right;\">\n",
       "      <th></th>\n",
       "      <th>imdb_id</th>\n",
       "      <th>review_text</th>\n",
       "      <th>rating</th>\n",
       "      <th>rating_category</th>\n",
       "      <th>review_length</th>\n",
       "    </tr>\n",
       "  </thead>\n",
       "  <tbody>\n",
       "    <tr>\n",
       "      <th>0</th>\n",
       "      <td>tt0004972</td>\n",
       "      <td>unbelievable; I cannot understand how anyone c...</td>\n",
       "      <td>6.2</td>\n",
       "      <td>Average</td>\n",
       "      <td>42</td>\n",
       "    </tr>\n",
       "    <tr>\n",
       "      <th>1</th>\n",
       "      <td>tt0023622</td>\n",
       "      <td>I'm still starry-eyed from it; I saw this last...</td>\n",
       "      <td>8.0</td>\n",
       "      <td>Excellent</td>\n",
       "      <td>93</td>\n",
       "    </tr>\n",
       "    <tr>\n",
       "      <th>2</th>\n",
       "      <td>tt0118688</td>\n",
       "      <td>Failed on every Front; Joel Schumacher who did...</td>\n",
       "      <td>3.8</td>\n",
       "      <td>Poor</td>\n",
       "      <td>110</td>\n",
       "    </tr>\n",
       "    <tr>\n",
       "      <th>3</th>\n",
       "      <td>tt0346491</td>\n",
       "      <td>Poor Casting, Poor script Poor direction.; I h...</td>\n",
       "      <td>5.6</td>\n",
       "      <td>Average</td>\n",
       "      <td>502</td>\n",
       "    </tr>\n",
       "    <tr>\n",
       "      <th>5</th>\n",
       "      <td>tt0391198</td>\n",
       "      <td>Very good; I saw \"The Grudge\" yesterday, and w...</td>\n",
       "      <td>5.9</td>\n",
       "      <td>Average</td>\n",
       "      <td>135</td>\n",
       "    </tr>\n",
       "  </tbody>\n",
       "</table>\n",
       "</div>"
      ],
      "text/plain": [
       "     imdb_id                                        review_text  rating  \\\n",
       "0  tt0004972  unbelievable; I cannot understand how anyone c...     6.2   \n",
       "1  tt0023622  I'm still starry-eyed from it; I saw this last...     8.0   \n",
       "2  tt0118688  Failed on every Front; Joel Schumacher who did...     3.8   \n",
       "3  tt0346491  Poor Casting, Poor script Poor direction.; I h...     5.6   \n",
       "5  tt0391198  Very good; I saw \"The Grudge\" yesterday, and w...     5.9   \n",
       "\n",
       "  rating_category  review_length  \n",
       "0         Average             42  \n",
       "1       Excellent             93  \n",
       "2            Poor            110  \n",
       "3         Average            502  \n",
       "5         Average            135  "
      ]
     },
     "execution_count": 90,
     "metadata": {},
     "output_type": "execute_result"
    }
   ],
   "source": [
    "train_reviews.head()"
   ]
  },
  {
   "cell_type": "markdown",
   "id": "dbb878d2-502a-49d7-97ac-522c1cc5d300",
   "metadata": {},
   "source": [
    "Since we have already saved a word count for each review in our reviews dataframe, we'll also add an average review length column to our main dataframe. This may or may not be a useful feature, and we can always drop it later, but for now we'll add it."
   ]
  },
  {
   "cell_type": "code",
   "execution_count": 92,
   "id": "1fe3291b-f77a-4367-835e-37b14681403b",
   "metadata": {
    "tags": []
   },
   "outputs": [],
   "source": [
    "# Compute average review length per movie for both train and test\n",
    "avg_review_length_train = train_reviews.groupby('imdb_id')['review_length'].mean().reset_index()\n",
    "avg_review_length_test = test_reviews.groupby('imdb_id')['review_length'].mean().reset_index()\n",
    "\n",
    "# Merge dataframes back into original train and test dataframes\n",
    "train_final_df = pd.merge(train_final_df, avg_review_length_train, on='imdb_id', how='left')\n",
    "test_final_df = pd.merge(test_final_df, avg_review_length_test, on='imdb_id', how='left')"
   ]
  },
  {
   "cell_type": "code",
   "execution_count": 93,
   "id": "816a8be8-4406-4a5e-96b5-9b4fc4969605",
   "metadata": {
    "tags": []
   },
   "outputs": [
    {
     "data": {
      "text/html": [
       "<div>\n",
       "<style scoped>\n",
       "    .dataframe tbody tr th:only-of-type {\n",
       "        vertical-align: middle;\n",
       "    }\n",
       "\n",
       "    .dataframe tbody tr th {\n",
       "        vertical-align: top;\n",
       "    }\n",
       "\n",
       "    .dataframe thead th {\n",
       "        text-align: right;\n",
       "    }\n",
       "</style>\n",
       "<table border=\"1\" class=\"dataframe\">\n",
       "  <thead>\n",
       "    <tr style=\"text-align: right;\">\n",
       "      <th></th>\n",
       "      <th>rating_category</th>\n",
       "      <th>imdb_id</th>\n",
       "      <th>language_en</th>\n",
       "      <th>runtime</th>\n",
       "      <th>budget</th>\n",
       "      <th>box_office_gross</th>\n",
       "      <th>votes</th>\n",
       "      <th>review_count</th>\n",
       "      <th>years_since_release</th>\n",
       "      <th>directors_max_score</th>\n",
       "      <th>...</th>\n",
       "      <th>genre_Mystery</th>\n",
       "      <th>genre_Romance</th>\n",
       "      <th>genre_Sci-Fi</th>\n",
       "      <th>genre_Short</th>\n",
       "      <th>genre_Sport</th>\n",
       "      <th>genre_Thriller</th>\n",
       "      <th>genre_War</th>\n",
       "      <th>genre_Western</th>\n",
       "      <th>review_text</th>\n",
       "      <th>review_length</th>\n",
       "    </tr>\n",
       "  </thead>\n",
       "  <tbody>\n",
       "    <tr>\n",
       "      <th>0</th>\n",
       "      <td>Good</td>\n",
       "      <td>tt0062480</td>\n",
       "      <td>0.0</td>\n",
       "      <td>0.246814</td>\n",
       "      <td>-0.189800</td>\n",
       "      <td>-0.235621</td>\n",
       "      <td>-0.090130</td>\n",
       "      <td>0.072851</td>\n",
       "      <td>0.885833</td>\n",
       "      <td>0.849761</td>\n",
       "      <td>...</td>\n",
       "      <td>0.0</td>\n",
       "      <td>0.0</td>\n",
       "      <td>0.0</td>\n",
       "      <td>0.0</td>\n",
       "      <td>0.0</td>\n",
       "      <td>0.0</td>\n",
       "      <td>0.0</td>\n",
       "      <td>0.0</td>\n",
       "      <td>Old-fashioned social analysis; I went to see t...</td>\n",
       "      <td>308.010000</td>\n",
       "    </tr>\n",
       "    <tr>\n",
       "      <th>1</th>\n",
       "      <td>Average</td>\n",
       "      <td>tt0282659</td>\n",
       "      <td>1.0</td>\n",
       "      <td>-0.141276</td>\n",
       "      <td>-0.105998</td>\n",
       "      <td>-0.343326</td>\n",
       "      <td>-0.250771</td>\n",
       "      <td>-0.280546</td>\n",
       "      <td>-0.541694</td>\n",
       "      <td>0.518884</td>\n",
       "      <td>...</td>\n",
       "      <td>0.0</td>\n",
       "      <td>0.0</td>\n",
       "      <td>0.0</td>\n",
       "      <td>0.0</td>\n",
       "      <td>0.0</td>\n",
       "      <td>0.0</td>\n",
       "      <td>0.0</td>\n",
       "      <td>1.0</td>\n",
       "      <td>watch it for a laugh; Although the concept is ...</td>\n",
       "      <td>139.000000</td>\n",
       "    </tr>\n",
       "    <tr>\n",
       "      <th>2</th>\n",
       "      <td>Average</td>\n",
       "      <td>tt0273048</td>\n",
       "      <td>1.0</td>\n",
       "      <td>0.440859</td>\n",
       "      <td>-0.161827</td>\n",
       "      <td>-0.374109</td>\n",
       "      <td>-0.255562</td>\n",
       "      <td>-0.304641</td>\n",
       "      <td>-0.500907</td>\n",
       "      <td>-1.292498</td>\n",
       "      <td>...</td>\n",
       "      <td>0.0</td>\n",
       "      <td>1.0</td>\n",
       "      <td>0.0</td>\n",
       "      <td>0.0</td>\n",
       "      <td>0.0</td>\n",
       "      <td>0.0</td>\n",
       "      <td>0.0</td>\n",
       "      <td>0.0</td>\n",
       "      <td>Very nice movie; My boyfriend and I seen this ...</td>\n",
       "      <td>149.333333</td>\n",
       "    </tr>\n",
       "    <tr>\n",
       "      <th>3</th>\n",
       "      <td>Excellent</td>\n",
       "      <td>tt1630027</td>\n",
       "      <td>0.0</td>\n",
       "      <td>0.091578</td>\n",
       "      <td>-0.140771</td>\n",
       "      <td>-0.119638</td>\n",
       "      <td>-0.180553</td>\n",
       "      <td>-0.284562</td>\n",
       "      <td>-0.908772</td>\n",
       "      <td>-1.292498</td>\n",
       "      <td>...</td>\n",
       "      <td>0.0</td>\n",
       "      <td>0.0</td>\n",
       "      <td>0.0</td>\n",
       "      <td>0.0</td>\n",
       "      <td>0.0</td>\n",
       "      <td>0.0</td>\n",
       "      <td>0.0</td>\n",
       "      <td>0.0</td>\n",
       "      <td>Skip this one; I rate it 4.7. The trailer is v...</td>\n",
       "      <td>205.545455</td>\n",
       "    </tr>\n",
       "    <tr>\n",
       "      <th>4</th>\n",
       "      <td>Average</td>\n",
       "      <td>tt0899106</td>\n",
       "      <td>1.0</td>\n",
       "      <td>0.402050</td>\n",
       "      <td>0.034971</td>\n",
       "      <td>0.374944</td>\n",
       "      <td>0.109804</td>\n",
       "      <td>-0.015498</td>\n",
       "      <td>-0.827199</td>\n",
       "      <td>-1.292498</td>\n",
       "      <td>...</td>\n",
       "      <td>0.0</td>\n",
       "      <td>1.0</td>\n",
       "      <td>0.0</td>\n",
       "      <td>0.0</td>\n",
       "      <td>0.0</td>\n",
       "      <td>0.0</td>\n",
       "      <td>0.0</td>\n",
       "      <td>0.0</td>\n",
       "      <td>Pretty insulting and contrived; I was fairly s...</td>\n",
       "      <td>255.923077</td>\n",
       "    </tr>\n",
       "  </tbody>\n",
       "</table>\n",
       "<p>5 rows × 37 columns</p>\n",
       "</div>"
      ],
      "text/plain": [
       "  rating_category    imdb_id  language_en   runtime    budget  \\\n",
       "0            Good  tt0062480          0.0  0.246814 -0.189800   \n",
       "1         Average  tt0282659          1.0 -0.141276 -0.105998   \n",
       "2         Average  tt0273048          1.0  0.440859 -0.161827   \n",
       "3       Excellent  tt1630027          0.0  0.091578 -0.140771   \n",
       "4         Average  tt0899106          1.0  0.402050  0.034971   \n",
       "\n",
       "   box_office_gross     votes  review_count  years_since_release  \\\n",
       "0         -0.235621 -0.090130      0.072851             0.885833   \n",
       "1         -0.343326 -0.250771     -0.280546            -0.541694   \n",
       "2         -0.374109 -0.255562     -0.304641            -0.500907   \n",
       "3         -0.119638 -0.180553     -0.284562            -0.908772   \n",
       "4          0.374944  0.109804     -0.015498            -0.827199   \n",
       "\n",
       "   directors_max_score  ...  genre_Mystery  genre_Romance  genre_Sci-Fi  \\\n",
       "0             0.849761  ...            0.0            0.0           0.0   \n",
       "1             0.518884  ...            0.0            0.0           0.0   \n",
       "2            -1.292498  ...            0.0            1.0           0.0   \n",
       "3            -1.292498  ...            0.0            0.0           0.0   \n",
       "4            -1.292498  ...            0.0            1.0           0.0   \n",
       "\n",
       "   genre_Short  genre_Sport  genre_Thriller  genre_War  genre_Western  \\\n",
       "0          0.0          0.0             0.0        0.0            0.0   \n",
       "1          0.0          0.0             0.0        0.0            1.0   \n",
       "2          0.0          0.0             0.0        0.0            0.0   \n",
       "3          0.0          0.0             0.0        0.0            0.0   \n",
       "4          0.0          0.0             0.0        0.0            0.0   \n",
       "\n",
       "                                         review_text  review_length  \n",
       "0  Old-fashioned social analysis; I went to see t...     308.010000  \n",
       "1  watch it for a laugh; Although the concept is ...     139.000000  \n",
       "2  Very nice movie; My boyfriend and I seen this ...     149.333333  \n",
       "3  Skip this one; I rate it 4.7. The trailer is v...     205.545455  \n",
       "4  Pretty insulting and contrived; I was fairly s...     255.923077  \n",
       "\n",
       "[5 rows x 37 columns]"
      ]
     },
     "execution_count": 93,
     "metadata": {},
     "output_type": "execute_result"
    }
   ],
   "source": [
    "train_final_df.head()"
   ]
  },
  {
   "cell_type": "code",
   "execution_count": 94,
   "id": "d28fdfd5-08da-4a96-923d-a695aeab3f8c",
   "metadata": {
    "tags": []
   },
   "outputs": [],
   "source": [
    "# Rename the 'review_length' column to 'avg_review_length'\n",
    "train_final_df.rename(columns={'review_length': 'avg_review_length'}, inplace=True)\n",
    "test_final_df.rename(columns={'review_length': 'avg_review_length'}, inplace=True)"
   ]
  },
  {
   "cell_type": "markdown",
   "id": "4cd95e14-8d64-48ed-8347-fabe43d785dc",
   "metadata": {},
   "source": [
    "We'll also go ahead and scale our new feature since our other features have been scaled, in case we do use it later for modeling. "
   ]
  },
  {
   "cell_type": "code",
   "execution_count": 95,
   "id": "3efa4d13-0ac1-4d55-84e6-7027e2935787",
   "metadata": {
    "tags": []
   },
   "outputs": [],
   "source": [
    "# Initialize a new scaler just for avg_review_length\n",
    "scaler_avg_review_length = StandardScaler()\n",
    "\n",
    "# Fit and transform on the training set\n",
    "train_final_df['scaled_avg_review_length'] = scaler_avg_review_length.fit_transform(train_final_df[['avg_review_length']])\n",
    "\n",
    "# Transform on the test set\n",
    "test_final_df['scaled_avg_review_length'] = scaler_avg_review_length.transform(test_final_df[['avg_review_length']])\n",
    "\n",
    "# Drop the unscaled columns\n",
    "train_final_df.drop(['avg_review_length'], axis=1, inplace=True)\n",
    "test_final_df.drop(['avg_review_length'], axis=1, inplace=True)"
   ]
  },
  {
   "cell_type": "code",
   "execution_count": 117,
   "id": "5231f0c8-f9f4-4bca-adc4-a5f772f0dca1",
   "metadata": {
    "tags": []
   },
   "outputs": [],
   "source": [
    "# Copy dataframes\n",
    "train_reviews_cleaned = train_reviews.copy()\n",
    "test_reviews_cleaned = test_reviews.copy()"
   ]
  },
  {
   "cell_type": "markdown",
   "id": "14f16916-ed16-4a89-bcb9-a8115f7d918b",
   "metadata": {
    "tags": []
   },
   "source": [
    "Now we'll proceed to cleaning and tokenizing the review text. We will again use nltk to clean the text by removing standard and custom stopwords, non-alphabetic characters, lemmatization and POS tagging."
   ]
  },
  {
   "cell_type": "code",
   "execution_count": 118,
   "id": "887fe1c5-24e3-4d88-a7be-382bd86ca900",
   "metadata": {
    "tags": []
   },
   "outputs": [],
   "source": [
    "# Import libraries and packages \n",
    "from nltk.corpus import stopwords\n",
    "from nltk.tokenize import word_tokenize\n",
    "from nltk.stem import WordNetLemmatizer\n",
    "from nltk import pos_tag\n",
    "import re\n",
    "from collections import Counter"
   ]
  },
  {
   "cell_type": "code",
   "execution_count": 119,
   "id": "cc74f15b-bfde-4196-bb50-1cf67776b49c",
   "metadata": {
    "tags": []
   },
   "outputs": [],
   "source": [
    "# Initialize WordNetLemmatizer\n",
    "lemmatizer = WordNetLemmatizer()\n",
    "\n",
    "# Define additional stopwords\n",
    "additional_stopwords = ['movie', 'movies', 'film', 'films', 'one', 'like', 'see', 'get', 'watch', 'would', 'go', 'even', 'much', 'end']\n",
    "stop_words = set(stopwords.words('english') + additional_stopwords)"
   ]
  },
  {
   "cell_type": "code",
   "execution_count": 120,
   "id": "27526758-bfa0-49cd-a328-22f2752c84a8",
   "metadata": {
    "tags": []
   },
   "outputs": [],
   "source": [
    "# Function to convert POS tag to first character used in WordNetLemmatizer\n",
    "def get_wordnet_pos(treebank_tag):\n",
    "    if treebank_tag.startswith('J'):\n",
    "        return 'a'\n",
    "    elif treebank_tag.startswith('V'):\n",
    "        return 'v'\n",
    "    elif treebank_tag.startswith('N'):\n",
    "        return 'n'\n",
    "    elif treebank_tag.startswith('R'):\n",
    "        return 'r'\n",
    "    else:\n",
    "        return 'n'\n",
    "\n",
    "# Function to clean text\n",
    "def clean_text(text, idx, checkpoint=100000):\n",
    "    # Print progress\n",
    "    if idx % checkpoint == 0:\n",
    "        print(f\"Processing index: {idx}\")\n",
    "        \n",
    "    # Convert text to lowercase\n",
    "    text = text.lower()\n",
    "    \n",
    "    # Remove non-alphabetic characters\n",
    "    text = re.sub('[^a-zA-Z\\s]', '', text)\n",
    "    \n",
    "    # Tokenization\n",
    "    word_tokens = word_tokenize(text)\n",
    "    \n",
    "    # POS tagging\n",
    "    pos_tokens = pos_tag(word_tokens)\n",
    "    \n",
    "    # Lemmatization\n",
    "    lemmatized_words = [lemmatizer.lemmatize(w, get_wordnet_pos(pos)) for w, pos in pos_tokens]\n",
    "    \n",
    "    # Remove stopwords\n",
    "    filtered_words = [w for w in lemmatized_words if w not in stop_words]\n",
    "    \n",
    "    return \" \".join(filtered_words)"
   ]
  },
  {
   "cell_type": "code",
   "execution_count": 123,
   "id": "28b03bc1-f5f5-4354-8ac8-6d8dd25860ae",
   "metadata": {
    "tags": []
   },
   "outputs": [],
   "source": [
    "# Confirm dataframes are copies\n",
    "train_reviews_cleaned = train_reviews_cleaned.copy()\n",
    "test_reviews_cleaned = test_reviews_cleaned.copy()"
   ]
  },
  {
   "cell_type": "code",
   "execution_count": 124,
   "id": "5d5ed294-bdbb-45e3-b0d5-cbf051de9912",
   "metadata": {
    "tags": []
   },
   "outputs": [
    {
     "name": "stdout",
     "output_type": "stream",
     "text": [
      "Processing index: 0\n",
      "Processing index: 100000\n",
      "Processing index: 200000\n",
      "Processing index: 300000\n",
      "Processing index: 400000\n",
      "Processing index: 500000\n",
      "Processing index: 600000\n",
      "Processing index: 700000\n",
      "Processing index: 800000\n",
      "Processing index: 900000\n",
      "Processing index: 1000000\n",
      "Processing index: 1100000\n",
      "Processing index: 1200000\n",
      "Processing index: 1300000\n",
      "Processing index: 1400000\n",
      "Processing index: 1500000\n",
      "Processing index: 1600000\n",
      "Processing index: 1700000\n",
      "Processing index: 1800000\n",
      "Processing index: 1900000\n",
      "Processing index: 2000000\n",
      "Processing index: 2100000\n",
      "Processing index: 2200000\n",
      "Processing index: 2300000\n",
      "Processing index: 2400000\n",
      "Processing index: 2500000\n"
     ]
    },
    {
     "name": "stderr",
     "output_type": "stream",
     "text": [
      "/var/folders/1j/hd2smc354hl6d23sryyg3n400000gn/T/ipykernel_7386/28921295.py:2: SettingWithCopyWarning: \n",
      "A value is trying to be set on a copy of a slice from a DataFrame.\n",
      "Try using .loc[row_indexer,col_indexer] = value instead\n",
      "\n",
      "See the caveats in the documentation: https://pandas.pydata.org/pandas-docs/stable/user_guide/indexing.html#returning-a-view-versus-a-copy\n",
      "  train_reviews['cleaned_review'] = [clean_text(text, idx, checkpoint=100000) for idx, text in enumerate(train_reviews['review_text'])]\n"
     ]
    }
   ],
   "source": [
    "# Apply text cleaning to training set \n",
    "train_reviews['cleaned_review'] = [clean_text(text, idx, checkpoint=100000) for idx, text in enumerate(train_reviews['review_text'])]"
   ]
  },
  {
   "cell_type": "code",
   "execution_count": 125,
   "id": "c692a0cd-75b1-448c-b28b-b204752e3ee7",
   "metadata": {
    "tags": []
   },
   "outputs": [
    {
     "name": "stdout",
     "output_type": "stream",
     "text": [
      "Processing index: 0\n",
      "Processing index: 100000\n",
      "Processing index: 200000\n",
      "Processing index: 300000\n",
      "Processing index: 400000\n",
      "Processing index: 500000\n",
      "Processing index: 600000\n"
     ]
    },
    {
     "name": "stderr",
     "output_type": "stream",
     "text": [
      "/var/folders/1j/hd2smc354hl6d23sryyg3n400000gn/T/ipykernel_7386/3167524127.py:2: SettingWithCopyWarning: \n",
      "A value is trying to be set on a copy of a slice from a DataFrame.\n",
      "Try using .loc[row_indexer,col_indexer] = value instead\n",
      "\n",
      "See the caveats in the documentation: https://pandas.pydata.org/pandas-docs/stable/user_guide/indexing.html#returning-a-view-versus-a-copy\n",
      "  test_reviews['cleaned_review'] = [clean_text(text, idx, checkpoint=100000) for idx, text in enumerate(test_reviews['review_text'])]\n"
     ]
    }
   ],
   "source": [
    "# Apply text cleaning to test set \n",
    "test_reviews['cleaned_review'] = [clean_text(text, idx, checkpoint=100000) for idx, text in enumerate(test_reviews['review_text'])]"
   ]
  },
  {
   "cell_type": "code",
   "execution_count": 126,
   "id": "e5a908dd-5e24-4d04-a9bf-235ed00dfea5",
   "metadata": {
    "tags": []
   },
   "outputs": [],
   "source": [
    "# save to json files \n",
    "train_reviews.to_json('data/cleaned_train_reviews.json', orient='records', lines=True)\n",
    "test_reviews.to_json('data/cleaned_test_reviews.json', orient='records', lines=True)"
   ]
  },
  {
   "cell_type": "code",
   "execution_count": 127,
   "id": "f143d780-5ee6-4028-bd37-40c934d414f2",
   "metadata": {
    "tags": []
   },
   "outputs": [
    {
     "name": "stdout",
     "output_type": "stream",
     "text": [
      "<class 'pandas.core.frame.DataFrame'>\n",
      "Index: 2500798 entries, 0 to 3146436\n",
      "Data columns (total 6 columns):\n",
      " #   Column           Dtype  \n",
      "---  ------           -----  \n",
      " 0   imdb_id          object \n",
      " 1   review_text      object \n",
      " 2   rating           float64\n",
      " 3   rating_category  object \n",
      " 4   review_length    int64  \n",
      " 5   cleaned_review   object \n",
      "dtypes: float64(1), int64(1), object(4)\n",
      "memory usage: 198.1+ MB\n"
     ]
    }
   ],
   "source": [
    "train_reviews.info()"
   ]
  },
  {
   "cell_type": "code",
   "execution_count": 128,
   "id": "1d631c22-53a3-45ba-a524-03da5e57d7b2",
   "metadata": {
    "tags": []
   },
   "outputs": [
    {
     "data": {
      "text/html": [
       "<div>\n",
       "<style scoped>\n",
       "    .dataframe tbody tr th:only-of-type {\n",
       "        vertical-align: middle;\n",
       "    }\n",
       "\n",
       "    .dataframe tbody tr th {\n",
       "        vertical-align: top;\n",
       "    }\n",
       "\n",
       "    .dataframe thead th {\n",
       "        text-align: right;\n",
       "    }\n",
       "</style>\n",
       "<table border=\"1\" class=\"dataframe\">\n",
       "  <thead>\n",
       "    <tr style=\"text-align: right;\">\n",
       "      <th></th>\n",
       "      <th>imdb_id</th>\n",
       "      <th>review_text</th>\n",
       "      <th>rating</th>\n",
       "      <th>rating_category</th>\n",
       "      <th>review_length</th>\n",
       "      <th>cleaned_review</th>\n",
       "    </tr>\n",
       "  </thead>\n",
       "  <tbody>\n",
       "    <tr>\n",
       "      <th>0</th>\n",
       "      <td>tt0004972</td>\n",
       "      <td>unbelievable; I cannot understand how anyone c...</td>\n",
       "      <td>6.2</td>\n",
       "      <td>Average</td>\n",
       "      <td>42</td>\n",
       "      <td>unbelievable understand anyone call great ever...</td>\n",
       "    </tr>\n",
       "    <tr>\n",
       "      <th>1</th>\n",
       "      <td>tt0023622</td>\n",
       "      <td>I'm still starry-eyed from it; I saw this last...</td>\n",
       "      <td>8.0</td>\n",
       "      <td>Excellent</td>\n",
       "      <td>93</td>\n",
       "      <td>im still starryeyed saw last night turner clas...</td>\n",
       "    </tr>\n",
       "    <tr>\n",
       "      <th>2</th>\n",
       "      <td>tt0118688</td>\n",
       "      <td>Failed on every Front; Joel Schumacher who did...</td>\n",
       "      <td>3.8</td>\n",
       "      <td>Poor</td>\n",
       "      <td>110</td>\n",
       "      <td>fail every front joel schumacher ok job third ...</td>\n",
       "    </tr>\n",
       "    <tr>\n",
       "      <th>3</th>\n",
       "      <td>tt0346491</td>\n",
       "      <td>Poor Casting, Poor script Poor direction.; I h...</td>\n",
       "      <td>5.6</td>\n",
       "      <td>Average</td>\n",
       "      <td>502</td>\n",
       "      <td>poor cast poor script poor direction anticipat...</td>\n",
       "    </tr>\n",
       "    <tr>\n",
       "      <th>5</th>\n",
       "      <td>tt0391198</td>\n",
       "      <td>Very good; I saw \"The Grudge\" yesterday, and w...</td>\n",
       "      <td>5.9</td>\n",
       "      <td>Average</td>\n",
       "      <td>135</td>\n",
       "      <td>good saw grudge yesterday wow really scar good...</td>\n",
       "    </tr>\n",
       "  </tbody>\n",
       "</table>\n",
       "</div>"
      ],
      "text/plain": [
       "     imdb_id                                        review_text  rating  \\\n",
       "0  tt0004972  unbelievable; I cannot understand how anyone c...     6.2   \n",
       "1  tt0023622  I'm still starry-eyed from it; I saw this last...     8.0   \n",
       "2  tt0118688  Failed on every Front; Joel Schumacher who did...     3.8   \n",
       "3  tt0346491  Poor Casting, Poor script Poor direction.; I h...     5.6   \n",
       "5  tt0391198  Very good; I saw \"The Grudge\" yesterday, and w...     5.9   \n",
       "\n",
       "  rating_category  review_length  \\\n",
       "0         Average             42   \n",
       "1       Excellent             93   \n",
       "2            Poor            110   \n",
       "3         Average            502   \n",
       "5         Average            135   \n",
       "\n",
       "                                      cleaned_review  \n",
       "0  unbelievable understand anyone call great ever...  \n",
       "1  im still starryeyed saw last night turner clas...  \n",
       "2  fail every front joel schumacher ok job third ...  \n",
       "3  poor cast poor script poor direction anticipat...  \n",
       "5  good saw grudge yesterday wow really scar good...  "
      ]
     },
     "execution_count": 128,
     "metadata": {},
     "output_type": "execute_result"
    }
   ],
   "source": [
    "train_reviews.head()"
   ]
  },
  {
   "cell_type": "markdown",
   "id": "896542dd-3a7b-4abc-9120-cabaf2dfec06",
   "metadata": {},
   "source": [
    "Okay, great! Now we have our cleanked and tokenized review text, still saved as individual reviews. \n",
    "\n",
    "Next, we need to vectorize our text, decide what if any additional feature engineering should be done on the words, and then add it to our final data for modeling."
   ]
  },
  {
   "cell_type": "markdown",
   "id": "57fb7a7b-aadd-401d-9222-932871645f4b",
   "metadata": {},
   "source": [
    "### Sentiment Score"
   ]
  },
  {
   "cell_type": "markdown",
   "id": "52e92893-23ee-4237-bceb-5dfc52161f6f",
   "metadata": {},
   "source": [
    "However, before we do that, let's try calculating a sentiment score for each review. We can then get an average sentiment score that we can use in our final modeling. \n",
    "\n",
    "We will use nltk VADER, sine it's optimized for text that's conversational in nature."
   ]
  },
  {
   "cell_type": "code",
   "execution_count": 129,
   "id": "8f83d19f-d91e-48b2-bd42-7e9a4595706b",
   "metadata": {
    "tags": []
   },
   "outputs": [],
   "source": [
    "train_reviews_with_sentiment = train_reviews.copy()"
   ]
  },
  {
   "cell_type": "code",
   "execution_count": 136,
   "id": "f6e3c136-5bf7-4b5a-b02c-dc4c4c8502c2",
   "metadata": {
    "tags": []
   },
   "outputs": [],
   "source": [
    "test_reviews_with_sentiment = test_reviews.copy()"
   ]
  },
  {
   "cell_type": "code",
   "execution_count": 131,
   "id": "41878327-9ff3-4319-a31c-ee70fa0e3921",
   "metadata": {
    "tags": []
   },
   "outputs": [
    {
     "name": "stderr",
     "output_type": "stream",
     "text": [
      "[nltk_data] Downloading package vader_lexicon to\n",
      "[nltk_data]     /Users/sydneylindsay/nltk_data...\n"
     ]
    },
    {
     "data": {
      "text/plain": [
       "True"
      ]
     },
     "execution_count": 131,
     "metadata": {},
     "output_type": "execute_result"
    }
   ],
   "source": [
    "import nltk\n",
    "nltk.download('vader_lexicon')"
   ]
  },
  {
   "cell_type": "code",
   "execution_count": 134,
   "id": "e28fca88-8da5-4ff4-a9ce-31ea08a78c7b",
   "metadata": {},
   "outputs": [],
   "source": [
    "from nltk.sentiment.vader import SentimentIntensityAnalyzer\n",
    "\n",
    "sia = SentimentIntensityAnalyzer()\n",
    "\n",
    "counter = 0  # Initialize counter\n",
    "\n",
    "# Function to calculate sentiment score with check after 100k rows processed\n",
    "def calculate_sentiment(review_text):\n",
    "    global counter  \n",
    "    counter += 1  \n",
    "    \n",
    "    if counter % 100000 == 0:  \n",
    "        print(f\"Processed {counter} rows\")\n",
    "        \n",
    "    return sia.polarity_scores(review_text)['compound']"
   ]
  },
  {
   "cell_type": "code",
   "execution_count": 135,
   "id": "ae6665f4-d419-45eb-a3f2-4ca51070bc4b",
   "metadata": {
    "tags": []
   },
   "outputs": [
    {
     "name": "stdout",
     "output_type": "stream",
     "text": [
      "Processed 100000 rows\n",
      "Processed 200000 rows\n",
      "Processed 300000 rows\n",
      "Processed 400000 rows\n",
      "Processed 500000 rows\n",
      "Processed 600000 rows\n",
      "Processed 700000 rows\n",
      "Processed 800000 rows\n",
      "Processed 900000 rows\n",
      "Processed 1000000 rows\n",
      "Processed 1100000 rows\n",
      "Processed 1200000 rows\n",
      "Processed 1300000 rows\n",
      "Processed 1400000 rows\n",
      "Processed 1500000 rows\n",
      "Processed 1600000 rows\n",
      "Processed 1700000 rows\n",
      "Processed 1800000 rows\n",
      "Processed 1900000 rows\n",
      "Processed 2000000 rows\n",
      "Processed 2100000 rows\n",
      "Processed 2200000 rows\n",
      "Processed 2300000 rows\n",
      "Processed 2400000 rows\n",
      "Processed 2500000 rows\n"
     ]
    }
   ],
   "source": [
    "# Apply to train review data\n",
    "train_reviews_with_sentiment['sentiment_score'] = train_reviews_with_sentiment['review_text'].apply(calculate_sentiment)"
   ]
  },
  {
   "cell_type": "code",
   "execution_count": 137,
   "id": "0c3f283b-a42d-434e-a6d3-13c6f2b55e81",
   "metadata": {
    "tags": []
   },
   "outputs": [
    {
     "name": "stdout",
     "output_type": "stream",
     "text": [
      "Processed 2600000 rows\n",
      "Processed 2700000 rows\n",
      "Processed 2800000 rows\n",
      "Processed 2900000 rows\n",
      "Processed 3000000 rows\n",
      "Processed 3100000 rows\n"
     ]
    }
   ],
   "source": [
    "# Apply to test review data\n",
    "test_reviews_with_sentiment['sentiment_score'] = test_reviews_with_sentiment['review_text'].apply(calculate_sentiment)"
   ]
  },
  {
   "cell_type": "code",
   "execution_count": 138,
   "id": "1084f5e2-0f14-44c0-8223-529820b1e388",
   "metadata": {
    "tags": []
   },
   "outputs": [
    {
     "data": {
      "text/html": [
       "<div>\n",
       "<style scoped>\n",
       "    .dataframe tbody tr th:only-of-type {\n",
       "        vertical-align: middle;\n",
       "    }\n",
       "\n",
       "    .dataframe tbody tr th {\n",
       "        vertical-align: top;\n",
       "    }\n",
       "\n",
       "    .dataframe thead th {\n",
       "        text-align: right;\n",
       "    }\n",
       "</style>\n",
       "<table border=\"1\" class=\"dataframe\">\n",
       "  <thead>\n",
       "    <tr style=\"text-align: right;\">\n",
       "      <th></th>\n",
       "      <th>imdb_id</th>\n",
       "      <th>review_text</th>\n",
       "      <th>rating</th>\n",
       "      <th>rating_category</th>\n",
       "      <th>review_length</th>\n",
       "      <th>cleaned_review</th>\n",
       "      <th>sentiment_score</th>\n",
       "    </tr>\n",
       "  </thead>\n",
       "  <tbody>\n",
       "    <tr>\n",
       "      <th>4</th>\n",
       "      <td>tt0094721</td>\n",
       "      <td>An Accomplished Tim Burton Movie; A Great Idea...</td>\n",
       "      <td>7.5</td>\n",
       "      <td>Excellent</td>\n",
       "      <td>115</td>\n",
       "      <td>accomplished tim burton great idea good script...</td>\n",
       "      <td>0.9855</td>\n",
       "    </tr>\n",
       "    <tr>\n",
       "      <th>6</th>\n",
       "      <td>tt0426568</td>\n",
       "      <td>This movie was stupid.; This movie was totally...</td>\n",
       "      <td>6.1</td>\n",
       "      <td>Average</td>\n",
       "      <td>187</td>\n",
       "      <td>stupid totally ridiculous friend totally disap...</td>\n",
       "      <td>-0.9886</td>\n",
       "    </tr>\n",
       "    <tr>\n",
       "      <th>7</th>\n",
       "      <td>tt0426568</td>\n",
       "      <td>. . . is a great movie.; Amazing! Finally Disn...</td>\n",
       "      <td>6.1</td>\n",
       "      <td>Average</td>\n",
       "      <td>184</td>\n",
       "      <td>great amaze finally disney produce magic somet...</td>\n",
       "      <td>0.9789</td>\n",
       "    </tr>\n",
       "    <tr>\n",
       "      <th>8</th>\n",
       "      <td>tt0426568</td>\n",
       "      <td>What a great change; Now, the stereotypical Di...</td>\n",
       "      <td>6.1</td>\n",
       "      <td>Average</td>\n",
       "      <td>259</td>\n",
       "      <td>great change stereotypical disney channel hoor...</td>\n",
       "      <td>0.9779</td>\n",
       "    </tr>\n",
       "    <tr>\n",
       "      <th>16</th>\n",
       "      <td>tt0374900</td>\n",
       "      <td>A feel-good movie for the geek in any of us......</td>\n",
       "      <td>7.0</td>\n",
       "      <td>Good</td>\n",
       "      <td>256</td>\n",
       "      <td>feelgood geek u enjoy entirely initially first...</td>\n",
       "      <td>0.9577</td>\n",
       "    </tr>\n",
       "  </tbody>\n",
       "</table>\n",
       "</div>"
      ],
      "text/plain": [
       "      imdb_id                                        review_text  rating  \\\n",
       "4   tt0094721  An Accomplished Tim Burton Movie; A Great Idea...     7.5   \n",
       "6   tt0426568  This movie was stupid.; This movie was totally...     6.1   \n",
       "7   tt0426568  . . . is a great movie.; Amazing! Finally Disn...     6.1   \n",
       "8   tt0426568  What a great change; Now, the stereotypical Di...     6.1   \n",
       "16  tt0374900  A feel-good movie for the geek in any of us......     7.0   \n",
       "\n",
       "   rating_category  review_length  \\\n",
       "4        Excellent            115   \n",
       "6          Average            187   \n",
       "7          Average            184   \n",
       "8          Average            259   \n",
       "16            Good            256   \n",
       "\n",
       "                                       cleaned_review  sentiment_score  \n",
       "4   accomplished tim burton great idea good script...           0.9855  \n",
       "6   stupid totally ridiculous friend totally disap...          -0.9886  \n",
       "7   great amaze finally disney produce magic somet...           0.9789  \n",
       "8   great change stereotypical disney channel hoor...           0.9779  \n",
       "16  feelgood geek u enjoy entirely initially first...           0.9577  "
      ]
     },
     "execution_count": 138,
     "metadata": {},
     "output_type": "execute_result"
    }
   ],
   "source": [
    "test_reviews_with_sentiment.head()"
   ]
  },
  {
   "cell_type": "code",
   "execution_count": 143,
   "id": "d91f0567-70d6-4773-abb3-d0577ecff682",
   "metadata": {
    "tags": []
   },
   "outputs": [
    {
     "data": {
      "text/html": [
       "<div>\n",
       "<style scoped>\n",
       "    .dataframe tbody tr th:only-of-type {\n",
       "        vertical-align: middle;\n",
       "    }\n",
       "\n",
       "    .dataframe tbody tr th {\n",
       "        vertical-align: top;\n",
       "    }\n",
       "\n",
       "    .dataframe thead th {\n",
       "        text-align: right;\n",
       "    }\n",
       "</style>\n",
       "<table border=\"1\" class=\"dataframe\">\n",
       "  <thead>\n",
       "    <tr style=\"text-align: right;\">\n",
       "      <th></th>\n",
       "      <th>imdb_id</th>\n",
       "      <th>review_text</th>\n",
       "      <th>rating</th>\n",
       "      <th>rating_category</th>\n",
       "      <th>review_length</th>\n",
       "      <th>cleaned_review</th>\n",
       "      <th>sentiment_score</th>\n",
       "    </tr>\n",
       "  </thead>\n",
       "  <tbody>\n",
       "    <tr>\n",
       "      <th>1326647</th>\n",
       "      <td>tt1300854</td>\n",
       "      <td>This is a very spectacular movie.; I went in t...</td>\n",
       "      <td>7.1</td>\n",
       "      <td>Excellent</td>\n",
       "      <td>188</td>\n",
       "      <td>spectacular excite ive read review online mixe...</td>\n",
       "      <td>0.9854</td>\n",
       "    </tr>\n",
       "    <tr>\n",
       "      <th>2585248</th>\n",
       "      <td>tt0111161</td>\n",
       "      <td>Shawshank is among the very finest of movies I...</td>\n",
       "      <td>9.3</td>\n",
       "      <td>Excellent</td>\n",
       "      <td>249</td>\n",
       "      <td>shawshank among fine ive ever touch personally...</td>\n",
       "      <td>0.9361</td>\n",
       "    </tr>\n",
       "    <tr>\n",
       "      <th>1944403</th>\n",
       "      <td>tt1686821</td>\n",
       "      <td>Made me want to QUIT LIVING; ARE YOU KIDDING M...</td>\n",
       "      <td>5.4</td>\n",
       "      <td>Poor</td>\n",
       "      <td>164</td>\n",
       "      <td>make want quit living kid piece trash fund pay...</td>\n",
       "      <td>0.3438</td>\n",
       "    </tr>\n",
       "    <tr>\n",
       "      <th>688436</th>\n",
       "      <td>tt0418689</td>\n",
       "      <td>Good movie falls short of great; Visually stun...</td>\n",
       "      <td>7.1</td>\n",
       "      <td>Excellent</td>\n",
       "      <td>127</td>\n",
       "      <td>good fall short great visually stunning battle...</td>\n",
       "      <td>0.9371</td>\n",
       "    </tr>\n",
       "    <tr>\n",
       "      <th>2346319</th>\n",
       "      <td>tt0230838</td>\n",
       "      <td>There's nothing sweet about NOVEMBER...; SWEET...</td>\n",
       "      <td>6.7</td>\n",
       "      <td>Good</td>\n",
       "      <td>502</td>\n",
       "      <td>nothing sweet november sweet november sweet no...</td>\n",
       "      <td>-0.9781</td>\n",
       "    </tr>\n",
       "  </tbody>\n",
       "</table>\n",
       "</div>"
      ],
      "text/plain": [
       "           imdb_id                                        review_text  rating  \\\n",
       "1326647  tt1300854  This is a very spectacular movie.; I went in t...     7.1   \n",
       "2585248  tt0111161  Shawshank is among the very finest of movies I...     9.3   \n",
       "1944403  tt1686821  Made me want to QUIT LIVING; ARE YOU KIDDING M...     5.4   \n",
       "688436   tt0418689  Good movie falls short of great; Visually stun...     7.1   \n",
       "2346319  tt0230838  There's nothing sweet about NOVEMBER...; SWEET...     6.7   \n",
       "\n",
       "        rating_category  review_length  \\\n",
       "1326647       Excellent            188   \n",
       "2585248       Excellent            249   \n",
       "1944403            Poor            164   \n",
       "688436        Excellent            127   \n",
       "2346319            Good            502   \n",
       "\n",
       "                                            cleaned_review  sentiment_score  \n",
       "1326647  spectacular excite ive read review online mixe...           0.9854  \n",
       "2585248  shawshank among fine ive ever touch personally...           0.9361  \n",
       "1944403  make want quit living kid piece trash fund pay...           0.3438  \n",
       "688436   good fall short great visually stunning battle...           0.9371  \n",
       "2346319  nothing sweet november sweet november sweet no...          -0.9781  "
      ]
     },
     "execution_count": 143,
     "metadata": {},
     "output_type": "execute_result"
    }
   ],
   "source": [
    "train_reviews_with_sentiment.sample(5)"
   ]
  },
  {
   "cell_type": "code",
   "execution_count": 140,
   "id": "37aa1d75-78b7-4515-b797-a2a78d3d2e35",
   "metadata": {
    "tags": []
   },
   "outputs": [],
   "source": [
    "# Save to json file \n",
    "train_reviews_with_sentiment.to_json('data/train_reviews_with_sentiment.json', orient='records', lines=True)\n",
    "test_reviews_with_sentiment.to_json('data/test_reviews_with_sentiment.json', orient='records', lines=True)"
   ]
  },
  {
   "cell_type": "markdown",
   "id": "b84c48c4-1f92-41fa-857a-8562df0eecfe",
   "metadata": {},
   "source": [
    "Now, we have cleaned our text and calculated a sentiment score for reach review for our train and test data. Let's sanity check some samples of the sentiment score to ensure they align with our human interpretation of the text sentiment. Since we don't have labeled text data, we are relying entirely on the VADER algorithm to detect the sentiment, but there are limitations especially with complex emotions, sarcasm, etc."
   ]
  },
  {
   "cell_type": "code",
   "execution_count": 144,
   "id": "c27d6ad6-977d-40b8-a019-edbce2e8956d",
   "metadata": {
    "tags": []
   },
   "outputs": [],
   "source": [
    "# Set display option to show the entire review text\n",
    "pd.set_option('display.max_colwidth', None)"
   ]
  },
  {
   "cell_type": "code",
   "execution_count": 157,
   "id": "edc56113-feee-4df7-8a70-00d65eabe258",
   "metadata": {
    "tags": []
   },
   "outputs": [
    {
     "name": "stdout",
     "output_type": "stream",
     "text": [
      "                                                                                                                                                                                                                                                                                                                                                                                                                                                                                                                                                                                                                                                     review_text  \\\n",
      "2250781                                                                                                                                                                                                                                                          The Greatest Film of All Time!!!; The Lord of the Rings: The Return of the King is by far the greatest film of all time!!! It is a mixture of every genre imaginable. I plan to see it many more times. The battle scenes are epic and  the acting is just incredible. I cried like a baby at the end of the film. I must say to all, that once you see this movie, you will never be the same.   \n",
      "2733253  I have no idea, what I think about this movie. It's so weird seeing Hugh Jackmann singing. It's a bit annoying, that they sing every line. But the story was quite good. The worst part was after the movie had finished. I couldn't stop singing. And I sang every thought in my head (of course not out loud). It stayed on like that for about a week.....I especially liked the ending (mostly because then it was ending). I didn't like when the guy in the red jacket died, and also the little boy. That was so mean! That was the only part, where I cried :( But all in all the movie was okay. I've seen worse, but I've also seen better ;)   \n",
      "\n",
      "         sentiment_score  \n",
      "2250781           0.8227  \n",
      "2733253          -0.4399  \n"
     ]
    }
   ],
   "source": [
    "# Display a sample of rows to check the text and corresponding sentiment score\n",
    "print(train_reviews_with_sentiment[['review_text', 'sentiment_score']].sample(2))"
   ]
  },
  {
   "cell_type": "code",
   "execution_count": 158,
   "id": "125b481d-ed76-444c-a792-65410888f4a9",
   "metadata": {
    "tags": []
   },
   "outputs": [],
   "source": [
    "# Reset the display option back to default\n",
    "pd.reset_option('display.max_colwidth')"
   ]
  },
  {
   "cell_type": "markdown",
   "id": "705d6bba-2b06-40ca-8a71-76df73a3c6c7",
   "metadata": {},
   "source": [
    "After looking at several samples of sentiment scores and the corresponding review text, we find that the scores are only somewhat accurate, perhaps 80% of the time. We'll have to consider this before deciding whether or not to use sentiment score in our final model. "
   ]
  },
  {
   "cell_type": "markdown",
   "id": "3558c0d1-8257-45b8-898a-49d2d201ec7f",
   "metadata": {},
   "source": [
    "#### Summary: Text Cleaning\n",
    "\n",
    "Since we are re-exploring feature engineering and our data in this notebook, we also decided to take a slightly different approach to cleaning our text. Previously, we concatenated all full reviews to our final dataframe, then performed cleaning and vectorization on that text. Now, we have used our original reviews data, containing each review in a separate row, and cleaned each review. We also used nltk VADER to calculate a sentiment score for each review. Next steps are to: \n",
    "- Add average sentiment score to final dataframe, by calculating and average sentiment score for each movie \n",
    "- Concatenate cleaned review text to our final dataframe and then vectorize"
   ]
  },
  {
   "cell_type": "markdown",
   "id": "afcb80f8-df01-4f62-82d1-ebbd969ef06f",
   "metadata": {},
   "source": [
    "### Text Vectorization"
   ]
  },
  {
   "cell_type": "markdown",
   "id": "bbc98bcf-d0a2-449d-ae36-f6aeec127e22",
   "metadata": {},
   "source": [
    "Now that we've done some initial cleaning of our text, the next step is to vectorize it for use in final modeling. We'll start by loading up our final dataframes, and dropping the review_text column, since that is the full, non-cleaned review text that we started with at the beginning of this notebook. \n",
    "\n",
    "We'll replace it with the review text that we cleaned in this notebook. "
   ]
  },
  {
   "cell_type": "code",
   "execution_count": 163,
   "id": "ef6a25a0-db19-4fa7-b977-4133802af23b",
   "metadata": {
    "tags": []
   },
   "outputs": [],
   "source": [
    "# Drop old review_text columns \n",
    "train_final_df = train_final_df.drop(columns=['review_text'])\n",
    "test_final_df = test_final_df.drop(columns=['review_text'])"
   ]
  },
  {
   "cell_type": "markdown",
   "id": "00a9adc6-e8c4-4b6f-a7bd-15a8559f4706",
   "metadata": {
    "tags": []
   },
   "source": [
    "Okay, we've dropped the old column. Now let's concatenate our cleaned review text and add it to the final_dfs."
   ]
  },
  {
   "cell_type": "code",
   "execution_count": 166,
   "id": "50ace3b1-7c1c-45f6-9543-4ff0006648ec",
   "metadata": {
    "tags": []
   },
   "outputs": [],
   "source": [
    "# Group by imdb_id and concatenate cleaned_review for training set\n",
    "train_grouped_reviews = train_reviews_with_sentiment.groupby('imdb_id')['cleaned_review'].agg(lambda x: ' '.join(x)).reset_index()\n",
    "\n",
    "# Group by imdb_id and concatenate cleaned_review for test set\n",
    "test_grouped_reviews = test_reviews_with_sentiment.groupby('imdb_id')['cleaned_review'].agg(lambda x: ' '.join(x)).reset_index()"
   ]
  },
  {
   "cell_type": "code",
   "execution_count": 167,
   "id": "0bbdbecc-a35a-4a49-a439-a688bd034d45",
   "metadata": {
    "tags": []
   },
   "outputs": [],
   "source": [
    "# Merge with final dataframes\n",
    "train_final_df = pd.merge(train_final_df, train_grouped_reviews, on='imdb_id', how='left')\n",
    "test_final_df = pd.merge(test_final_df, test_grouped_reviews, on='imdb_id', how='left')"
   ]
  },
  {
   "cell_type": "code",
   "execution_count": 171,
   "id": "ef2686a5-75b9-46f6-be1f-93a5795ff16c",
   "metadata": {
    "tags": []
   },
   "outputs": [
    {
     "data": {
      "text/html": [
       "<div>\n",
       "<style scoped>\n",
       "    .dataframe tbody tr th:only-of-type {\n",
       "        vertical-align: middle;\n",
       "    }\n",
       "\n",
       "    .dataframe tbody tr th {\n",
       "        vertical-align: top;\n",
       "    }\n",
       "\n",
       "    .dataframe thead th {\n",
       "        text-align: right;\n",
       "    }\n",
       "</style>\n",
       "<table border=\"1\" class=\"dataframe\">\n",
       "  <thead>\n",
       "    <tr style=\"text-align: right;\">\n",
       "      <th></th>\n",
       "      <th>rating_category</th>\n",
       "      <th>imdb_id</th>\n",
       "      <th>language_en</th>\n",
       "      <th>runtime</th>\n",
       "      <th>budget</th>\n",
       "      <th>box_office_gross</th>\n",
       "      <th>votes</th>\n",
       "      <th>review_count</th>\n",
       "      <th>years_since_release</th>\n",
       "      <th>directors_max_score</th>\n",
       "      <th>...</th>\n",
       "      <th>genre_Mystery</th>\n",
       "      <th>genre_Romance</th>\n",
       "      <th>genre_Sci-Fi</th>\n",
       "      <th>genre_Short</th>\n",
       "      <th>genre_Sport</th>\n",
       "      <th>genre_Thriller</th>\n",
       "      <th>genre_War</th>\n",
       "      <th>genre_Western</th>\n",
       "      <th>scaled_avg_review_length</th>\n",
       "      <th>cleaned_review</th>\n",
       "    </tr>\n",
       "  </thead>\n",
       "  <tbody>\n",
       "    <tr>\n",
       "      <th>0</th>\n",
       "      <td>Good</td>\n",
       "      <td>tt0050405</td>\n",
       "      <td>1.0</td>\n",
       "      <td>-0.141276</td>\n",
       "      <td>-0.178912</td>\n",
       "      <td>-0.226741</td>\n",
       "      <td>-0.250093</td>\n",
       "      <td>-0.300626</td>\n",
       "      <td>1.293697</td>\n",
       "      <td>0.910534</td>\n",
       "      <td>...</td>\n",
       "      <td>0.0</td>\n",
       "      <td>0.0</td>\n",
       "      <td>0.0</td>\n",
       "      <td>0.0</td>\n",
       "      <td>0.0</td>\n",
       "      <td>0.0</td>\n",
       "      <td>0.0</td>\n",
       "      <td>0.0</td>\n",
       "      <td>0.508811</td>\n",
       "      <td>call british noir thank god turner classic you...</td>\n",
       "    </tr>\n",
       "    <tr>\n",
       "      <th>1</th>\n",
       "      <td>Poor</td>\n",
       "      <td>tt0056211</td>\n",
       "      <td>1.0</td>\n",
       "      <td>-0.723412</td>\n",
       "      <td>-0.191943</td>\n",
       "      <td>-0.274226</td>\n",
       "      <td>-0.231332</td>\n",
       "      <td>-0.119911</td>\n",
       "      <td>1.089765</td>\n",
       "      <td>-0.851891</td>\n",
       "      <td>...</td>\n",
       "      <td>0.0</td>\n",
       "      <td>0.0</td>\n",
       "      <td>0.0</td>\n",
       "      <td>0.0</td>\n",
       "      <td>0.0</td>\n",
       "      <td>0.0</td>\n",
       "      <td>0.0</td>\n",
       "      <td>0.0</td>\n",
       "      <td>-0.508705</td>\n",
       "      <td>magic lump people unkind funny fantasy adult t...</td>\n",
       "    </tr>\n",
       "    <tr>\n",
       "      <th>2</th>\n",
       "      <td>Average</td>\n",
       "      <td>tt0112896</td>\n",
       "      <td>1.0</td>\n",
       "      <td>-0.412939</td>\n",
       "      <td>0.186928</td>\n",
       "      <td>-0.153665</td>\n",
       "      <td>0.222795</td>\n",
       "      <td>0.201360</td>\n",
       "      <td>-0.256188</td>\n",
       "      <td>0.616797</td>\n",
       "      <td>...</td>\n",
       "      <td>0.0</td>\n",
       "      <td>0.0</td>\n",
       "      <td>0.0</td>\n",
       "      <td>0.0</td>\n",
       "      <td>0.0</td>\n",
       "      <td>0.0</td>\n",
       "      <td>0.0</td>\n",
       "      <td>0.0</td>\n",
       "      <td>-0.898205</td>\n",
       "      <td>yes nosferatu yes another brilliant work mel b...</td>\n",
       "    </tr>\n",
       "    <tr>\n",
       "      <th>3</th>\n",
       "      <td>Average</td>\n",
       "      <td>tt0051066</td>\n",
       "      <td>1.0</td>\n",
       "      <td>0.596095</td>\n",
       "      <td>-0.159929</td>\n",
       "      <td>-0.300665</td>\n",
       "      <td>-0.252915</td>\n",
       "      <td>-0.280546</td>\n",
       "      <td>1.293697</td>\n",
       "      <td>0.690231</td>\n",
       "      <td>...</td>\n",
       "      <td>0.0</td>\n",
       "      <td>1.0</td>\n",
       "      <td>0.0</td>\n",
       "      <td>0.0</td>\n",
       "      <td>0.0</td>\n",
       "      <td>0.0</td>\n",
       "      <td>0.0</td>\n",
       "      <td>0.0</td>\n",
       "      <td>-0.411365</td>\n",
       "      <td>dino solo ten thousand bedroom place history d...</td>\n",
       "    </tr>\n",
       "    <tr>\n",
       "      <th>4</th>\n",
       "      <td>Average</td>\n",
       "      <td>tt0037776</td>\n",
       "      <td>1.0</td>\n",
       "      <td>-1.150311</td>\n",
       "      <td>-0.187705</td>\n",
       "      <td>-0.372021</td>\n",
       "      <td>-0.254293</td>\n",
       "      <td>-0.288578</td>\n",
       "      <td>1.783135</td>\n",
       "      <td>0.469928</td>\n",
       "      <td>...</td>\n",
       "      <td>1.0</td>\n",
       "      <td>0.0</td>\n",
       "      <td>0.0</td>\n",
       "      <td>0.0</td>\n",
       "      <td>0.0</td>\n",
       "      <td>0.0</td>\n",
       "      <td>0.0</td>\n",
       "      <td>0.0</td>\n",
       "      <td>0.544694</td>\n",
       "      <td>disappoint b hope write real mystery writer ge...</td>\n",
       "    </tr>\n",
       "  </tbody>\n",
       "</table>\n",
       "<p>5 rows × 37 columns</p>\n",
       "</div>"
      ],
      "text/plain": [
       "  rating_category    imdb_id  language_en   runtime    budget  \\\n",
       "0            Good  tt0050405          1.0 -0.141276 -0.178912   \n",
       "1            Poor  tt0056211          1.0 -0.723412 -0.191943   \n",
       "2         Average  tt0112896          1.0 -0.412939  0.186928   \n",
       "3         Average  tt0051066          1.0  0.596095 -0.159929   \n",
       "4         Average  tt0037776          1.0 -1.150311 -0.187705   \n",
       "\n",
       "   box_office_gross     votes  review_count  years_since_release  \\\n",
       "0         -0.226741 -0.250093     -0.300626             1.293697   \n",
       "1         -0.274226 -0.231332     -0.119911             1.089765   \n",
       "2         -0.153665  0.222795      0.201360            -0.256188   \n",
       "3         -0.300665 -0.252915     -0.280546             1.293697   \n",
       "4         -0.372021 -0.254293     -0.288578             1.783135   \n",
       "\n",
       "   directors_max_score  ...  genre_Mystery  genre_Romance  genre_Sci-Fi  \\\n",
       "0             0.910534  ...            0.0            0.0           0.0   \n",
       "1            -0.851891  ...            0.0            0.0           0.0   \n",
       "2             0.616797  ...            0.0            0.0           0.0   \n",
       "3             0.690231  ...            0.0            1.0           0.0   \n",
       "4             0.469928  ...            1.0            0.0           0.0   \n",
       "\n",
       "   genre_Short  genre_Sport  genre_Thriller  genre_War  genre_Western  \\\n",
       "0          0.0          0.0             0.0        0.0            0.0   \n",
       "1          0.0          0.0             0.0        0.0            0.0   \n",
       "2          0.0          0.0             0.0        0.0            0.0   \n",
       "3          0.0          0.0             0.0        0.0            0.0   \n",
       "4          0.0          0.0             0.0        0.0            0.0   \n",
       "\n",
       "   scaled_avg_review_length                                     cleaned_review  \n",
       "0                  0.508811  call british noir thank god turner classic you...  \n",
       "1                 -0.508705  magic lump people unkind funny fantasy adult t...  \n",
       "2                 -0.898205  yes nosferatu yes another brilliant work mel b...  \n",
       "3                 -0.411365  dino solo ten thousand bedroom place history d...  \n",
       "4                  0.544694  disappoint b hope write real mystery writer ge...  \n",
       "\n",
       "[5 rows x 37 columns]"
      ]
     },
     "execution_count": 171,
     "metadata": {},
     "output_type": "execute_result"
    }
   ],
   "source": [
    "# Sanity check\n",
    "test_final_df.head()"
   ]
  },
  {
   "cell_type": "markdown",
   "id": "8b74e8c1-0214-46c1-9d48-8afd32930588",
   "metadata": {},
   "source": [
    "Let's also add the average sentiment score to our final dataframes and scale that number. We can decide whether or not to use it for modeling later."
   ]
  },
  {
   "cell_type": "code",
   "execution_count": 172,
   "id": "3f0f3e10-628d-4fc4-974d-82b8c0471d62",
   "metadata": {
    "tags": []
   },
   "outputs": [],
   "source": [
    "# Calculate the average sentiment score for each movie in the training set\n",
    "train_avg_sentiment = train_reviews_with_sentiment.groupby('imdb_id')['sentiment_score'].mean().reset_index()\n",
    "\n",
    "# Calculate the average sentiment score for each movie in the test set\n",
    "test_avg_sentiment = test_reviews_with_sentiment.groupby('imdb_id')['sentiment_score'].mean().reset_index()"
   ]
  },
  {
   "cell_type": "code",
   "execution_count": 173,
   "id": "81abd023-607b-445f-b9ff-685bc17c976e",
   "metadata": {
    "tags": []
   },
   "outputs": [],
   "source": [
    "# Merge with final dataframes\n",
    "train_final_df = pd.merge(train_final_df, train_avg_sentiment, on='imdb_id', how='left')\n",
    "test_final_df = pd.merge(test_final_df, test_avg_sentiment, on='imdb_id', how='left')"
   ]
  },
  {
   "cell_type": "code",
   "execution_count": 175,
   "id": "79649bab-29e0-4ed8-8e68-5c2daf11b6b1",
   "metadata": {
    "tags": []
   },
   "outputs": [],
   "source": [
    "# Scale the new column \n",
    "\n",
    "# Initialize the scaler\n",
    "scaler = StandardScaler()\n",
    "\n",
    "# Fit scaler on the training data and transform both the training and test\n",
    "train_final_df['scaled_avg_sentiment_score'] = scaler.fit_transform(train_final_df[['sentiment_score']])\n",
    "test_final_df['scaled_avg_sentiment_score'] = scaler.transform(test_final_df[['sentiment_score']])"
   ]
  },
  {
   "cell_type": "code",
   "execution_count": 178,
   "id": "d1f7af84-127a-4fdf-981a-c7f3471815c5",
   "metadata": {
    "tags": []
   },
   "outputs": [],
   "source": [
    "# Drop non-scaled sentiment score \n",
    "train_final_df = train_final_df.drop(columns=['sentiment_score'])\n",
    "test_final_df = test_final_df.drop(columns=['sentiment_score'])"
   ]
  },
  {
   "cell_type": "code",
   "execution_count": 181,
   "id": "9c0901b0-33f2-4790-a40b-f6815d29aeb0",
   "metadata": {
    "tags": []
   },
   "outputs": [
    {
     "name": "stdout",
     "output_type": "stream",
     "text": [
      "<class 'pandas.core.frame.DataFrame'>\n",
      "RangeIndex: 7636 entries, 0 to 7635\n",
      "Data columns (total 38 columns):\n",
      " #   Column                          Non-Null Count  Dtype  \n",
      "---  ------                          --------------  -----  \n",
      " 0   rating_category                 7636 non-null   object \n",
      " 1   imdb_id                         7636 non-null   object \n",
      " 2   language_en                     7636 non-null   float64\n",
      " 3   runtime                         7636 non-null   float64\n",
      " 4   budget                          7636 non-null   float64\n",
      " 5   box_office_gross                7636 non-null   float64\n",
      " 6   votes                           7636 non-null   float64\n",
      " 7   review_count                    7636 non-null   float64\n",
      " 8   years_since_release             7636 non-null   float64\n",
      " 9   directors_max_score             7636 non-null   float64\n",
      " 10  actors_avg_score                7636 non-null   float64\n",
      " 11  production_companies_max_score  7636 non-null   float64\n",
      " 12  genre_Action                    7636 non-null   float64\n",
      " 13  genre_Adventure                 7636 non-null   float64\n",
      " 14  genre_Animation                 7636 non-null   float64\n",
      " 15  genre_Biography                 7636 non-null   float64\n",
      " 16  genre_Comedy                    7636 non-null   float64\n",
      " 17  genre_Crime                     7636 non-null   float64\n",
      " 18  genre_Documentary               7636 non-null   float64\n",
      " 19  genre_Drama                     7636 non-null   float64\n",
      " 20  genre_Family                    7636 non-null   float64\n",
      " 21  genre_Fantasy                   7636 non-null   float64\n",
      " 22  genre_Film-Noir                 7636 non-null   float64\n",
      " 23  genre_History                   7636 non-null   float64\n",
      " 24  genre_Horror                    7636 non-null   float64\n",
      " 25  genre_Music                     7636 non-null   float64\n",
      " 26  genre_Musical                   7636 non-null   float64\n",
      " 27  genre_Mystery                   7636 non-null   float64\n",
      " 28  genre_Romance                   7636 non-null   float64\n",
      " 29  genre_Sci-Fi                    7636 non-null   float64\n",
      " 30  genre_Short                     7636 non-null   float64\n",
      " 31  genre_Sport                     7636 non-null   float64\n",
      " 32  genre_Thriller                  7636 non-null   float64\n",
      " 33  genre_War                       7636 non-null   float64\n",
      " 34  genre_Western                   7636 non-null   float64\n",
      " 35  scaled_avg_review_length        7636 non-null   float64\n",
      " 36  cleaned_review                  7636 non-null   object \n",
      " 37  scaled_avg_sentiment_score      7636 non-null   float64\n",
      "dtypes: float64(35), object(3)\n",
      "memory usage: 2.2+ MB\n"
     ]
    }
   ],
   "source": [
    "# Sanity check\n",
    "test_final_df.info()"
   ]
  },
  {
   "cell_type": "markdown",
   "id": "0d534271-119d-4c34-84a2-81b90ec664d3",
   "metadata": {},
   "source": [
    "Great, we've added and scaled the average sentiment score for each movie, as well as the concatenated clean review text for each movie. Now is a good time to save our final train and test dataframes once again."
   ]
  },
  {
   "cell_type": "code",
   "execution_count": 182,
   "id": "077b688e-d430-4214-957e-6467ffa76bda",
   "metadata": {
    "tags": []
   },
   "outputs": [],
   "source": [
    "# Save to json \n",
    "#train_final_df.to_json('data/train_final_data_with_clean_review_text_sentiment_score.json', orient='records', lines=True)\n",
    "#test_final_df.to_json('data/test_final_data_with_clean_review_text_sentiment_score.json', orient='records', lines=True)"
   ]
  },
  {
   "cell_type": "markdown",
   "id": "8ca39c31-9b15-4c9f-95d4-a012d06d3559",
   "metadata": {},
   "source": [
    "Work saved. Now we can officially move on to text vectorization. For now, we will vectorize only unigrams, and then will do a separate vectorizer for bi-grams and tri-grams. We will also add a token pattern to ensure that single letter words are not included, since we saw some of those in our most predictive features during the first round of baseline modeling. "
   ]
  },
  {
   "cell_type": "markdown",
   "id": "23aff173-f8ed-4978-99c7-5d7c28ee2b1c",
   "metadata": {
    "tags": []
   },
   "source": [
    "##### Unigrams"
   ]
  },
  {
   "cell_type": "code",
   "execution_count": 6,
   "id": "2b33b6d4-efb3-4e76-8252-1321cd81a88f",
   "metadata": {
    "tags": []
   },
   "outputs": [],
   "source": [
    "# Import Tfidf \n",
    "from sklearn.feature_extraction.text import TfidfVectorizer"
   ]
  },
  {
   "cell_type": "code",
   "execution_count": 7,
   "id": "b132f65c-26f1-41c7-8196-c90a858a1e5f",
   "metadata": {
    "tags": []
   },
   "outputs": [],
   "source": [
    "# Define vectorizer with min_df, max features, stop words, and token pattern\n",
    "vectorizer = TfidfVectorizer(min_df=100, max_features=1000, stop_words='english', token_pattern=r'\\b\\w+\\b')"
   ]
  },
  {
   "cell_type": "code",
   "execution_count": 8,
   "id": "456a94cc-de72-4e2d-8b54-173b09b3fe10",
   "metadata": {
    "tags": []
   },
   "outputs": [],
   "source": [
    "# Define function to monitor and print progress\n",
    "def print_progress(iterator, chunk_size=1000):\n",
    "    for i, item in enumerate(iterator):\n",
    "        if i % chunk_size == 0:\n",
    "            print(f\"Processed {i} rows\")\n",
    "        yield item"
   ]
  },
  {
   "cell_type": "code",
   "execution_count": 9,
   "id": "e28fc6d5-10e3-4bcf-92e8-84f9e1b41e36",
   "metadata": {
    "tags": []
   },
   "outputs": [
    {
     "name": "stdout",
     "output_type": "stream",
     "text": [
      "Processed 0 rows\n",
      "Processed 1000 rows\n",
      "Processed 2000 rows\n",
      "Processed 3000 rows\n",
      "Processed 4000 rows\n",
      "Processed 5000 rows\n",
      "Processed 6000 rows\n",
      "Processed 7000 rows\n",
      "Processed 8000 rows\n",
      "Processed 9000 rows\n",
      "Processed 10000 rows\n",
      "Processed 11000 rows\n",
      "Processed 12000 rows\n",
      "Processed 13000 rows\n",
      "Processed 14000 rows\n",
      "Processed 15000 rows\n",
      "Processed 16000 rows\n",
      "Processed 17000 rows\n",
      "Processed 18000 rows\n",
      "Processed 19000 rows\n",
      "Processed 20000 rows\n",
      "Processed 21000 rows\n",
      "Processed 22000 rows\n",
      "Processed 23000 rows\n",
      "Processed 24000 rows\n",
      "Processed 25000 rows\n",
      "Processed 26000 rows\n",
      "Processed 27000 rows\n",
      "Processed 28000 rows\n",
      "Processed 29000 rows\n",
      "Processed 30000 rows\n"
     ]
    }
   ],
   "source": [
    "# Vectorize train \n",
    "train_unigram_matrix = vectorizer.fit_transform(print_progress(train_final_df['cleaned_review']))"
   ]
  },
  {
   "cell_type": "code",
   "execution_count": 11,
   "id": "e317000a-7b37-4f8d-9026-52be1050bf72",
   "metadata": {
    "tags": []
   },
   "outputs": [],
   "source": [
    "from scipy.sparse import save_npz\n",
    "\n",
    "# Save the sparse matrix to a file\n",
    "save_npz('data/train_unigram_matrix.npz', train_unigram_matrix)"
   ]
  },
  {
   "cell_type": "code",
   "execution_count": 12,
   "id": "99378a06-fb53-4034-84e1-4edb125e2240",
   "metadata": {
    "tags": []
   },
   "outputs": [],
   "source": [
    "import pickle\n",
    "\n",
    "# Save feature names\n",
    "feature_names = vectorizer.get_feature_names_out()\n",
    "with open(\"data/train_unigram_feature_names.pkl\", \"wb\") as f:\n",
    "    pickle.dump(feature_names, f)"
   ]
  },
  {
   "cell_type": "code",
   "execution_count": 10,
   "id": "3f31b6f9-f0e1-4926-ac90-25bfabc573bf",
   "metadata": {
    "tags": []
   },
   "outputs": [
    {
     "name": "stdout",
     "output_type": "stream",
     "text": [
      "Processed 0 rows\n",
      "Processed 1000 rows\n",
      "Processed 2000 rows\n",
      "Processed 3000 rows\n",
      "Processed 4000 rows\n",
      "Processed 5000 rows\n",
      "Processed 6000 rows\n",
      "Processed 7000 rows\n"
     ]
    }
   ],
   "source": [
    "# Vectorize test \n",
    "test_unigram_matrix = vectorizer.transform(print_progress(test_final_df['cleaned_review']))"
   ]
  },
  {
   "cell_type": "code",
   "execution_count": 13,
   "id": "b41e8a90-b546-4fb1-abb6-5dc8de9bbebf",
   "metadata": {
    "tags": []
   },
   "outputs": [],
   "source": [
    "# Save the sparse matrix to a file\n",
    "save_npz('data/test_unigram_matrix.npz', test_unigram_matrix)"
   ]
  },
  {
   "cell_type": "markdown",
   "id": "6fe4a3a3-ab4a-4cf7-97e6-fe86510173b6",
   "metadata": {
    "tags": []
   },
   "source": [
    "##### Bigrams"
   ]
  },
  {
   "cell_type": "code",
   "execution_count": 14,
   "id": "88e0a056-3210-42c1-9ac6-797e8507204f",
   "metadata": {
    "tags": []
   },
   "outputs": [],
   "source": [
    "# Define bi-gram vectorizer\n",
    "vectorizer_bigram = TfidfVectorizer(min_df=100, max_features=1000, ngram_range=(2, 2), stop_words='english', token_pattern=r'\\b\\w+\\b')"
   ]
  },
  {
   "cell_type": "code",
   "execution_count": 15,
   "id": "c70dc410-faec-4c47-842b-3b1141543955",
   "metadata": {
    "tags": []
   },
   "outputs": [
    {
     "name": "stdout",
     "output_type": "stream",
     "text": [
      "Processed 0 rows\n",
      "Processed 1000 rows\n",
      "Processed 2000 rows\n",
      "Processed 3000 rows\n",
      "Processed 4000 rows\n",
      "Processed 5000 rows\n",
      "Processed 6000 rows\n",
      "Processed 7000 rows\n",
      "Processed 8000 rows\n",
      "Processed 9000 rows\n",
      "Processed 10000 rows\n",
      "Processed 11000 rows\n",
      "Processed 12000 rows\n",
      "Processed 13000 rows\n",
      "Processed 14000 rows\n",
      "Processed 15000 rows\n",
      "Processed 16000 rows\n",
      "Processed 17000 rows\n",
      "Processed 18000 rows\n",
      "Processed 19000 rows\n",
      "Processed 20000 rows\n",
      "Processed 21000 rows\n",
      "Processed 22000 rows\n",
      "Processed 23000 rows\n",
      "Processed 24000 rows\n",
      "Processed 25000 rows\n",
      "Processed 26000 rows\n",
      "Processed 27000 rows\n",
      "Processed 28000 rows\n",
      "Processed 29000 rows\n",
      "Processed 30000 rows\n"
     ]
    }
   ],
   "source": [
    "# Vectorize train bi-grams\n",
    "train_bigram_matrix = vectorizer_bigram.fit_transform(print_progress(train_final_df['cleaned_review']))"
   ]
  },
  {
   "cell_type": "code",
   "execution_count": 16,
   "id": "a57f6181-3a55-48ce-9276-8282e4993e75",
   "metadata": {
    "tags": []
   },
   "outputs": [],
   "source": [
    "# Save the sparse matrix to a file\n",
    "save_npz('data/train_bigram_matrix.npz', train_bigram_matrix)"
   ]
  },
  {
   "cell_type": "code",
   "execution_count": 17,
   "id": "fecaecc4-abb8-425c-9cc3-9068b336a498",
   "metadata": {
    "tags": []
   },
   "outputs": [],
   "source": [
    "# Save feature names\n",
    "feature_names = vectorizer.get_feature_names_out()\n",
    "with open(\"data/train_bigram_feature_names.pkl\", \"wb\") as f:\n",
    "    pickle.dump(feature_names, f)"
   ]
  },
  {
   "cell_type": "code",
   "execution_count": 18,
   "id": "bd77c01b-3509-49e0-9573-e92401326e5d",
   "metadata": {
    "tags": []
   },
   "outputs": [
    {
     "name": "stdout",
     "output_type": "stream",
     "text": [
      "Processed 0 rows\n",
      "Processed 1000 rows\n",
      "Processed 2000 rows\n",
      "Processed 3000 rows\n",
      "Processed 4000 rows\n",
      "Processed 5000 rows\n",
      "Processed 6000 rows\n",
      "Processed 7000 rows\n"
     ]
    }
   ],
   "source": [
    "# Vectorize test bi-grams \n",
    "test_bigram_matrix = vectorizer_bigram.transform(print_progress(test_final_df['cleaned_review']))"
   ]
  },
  {
   "cell_type": "code",
   "execution_count": 19,
   "id": "062ec2aa-61b4-4db9-863b-069a9a0d1ff6",
   "metadata": {
    "tags": []
   },
   "outputs": [],
   "source": [
    "# Save the sparse matrix to a file\n",
    "save_npz('data/test_bigram_matrix.npz', test_bigram_matrix)"
   ]
  },
  {
   "cell_type": "markdown",
   "id": "0ddfc085-e55e-4be1-8771-29e908a71e31",
   "metadata": {},
   "source": [
    "Now that we have our unigram and bigram matrices, let's take a look at the top feature names."
   ]
  },
  {
   "cell_type": "code",
   "execution_count": 55,
   "id": "ff1aac07-078f-469d-9c42-51401ea3f2f8",
   "metadata": {},
   "outputs": [
    {
     "name": "stdout",
     "output_type": "stream",
     "text": [
      "['ability' 'able' 'absolutely' 'accent' 'accept' 'achieve' 'act' 'acting'\n",
      " 'action' 'actor' 'actress' 'actual' 'actually' 'adam' 'adaptation' 'add'\n",
      " 'admit' 'adult' 'adventure' 'age' 'agent' 'ago' 'agree' 'air' 'alien'\n",
      " 'alive' 'allow' 'amaze' 'amazing' 'america' 'american' 'animal'\n",
      " 'animation' 'annoy' 'answer' 'apart' 'apparently' 'appeal' 'appear'\n",
      " 'appearance' 'appreciate' 'approach' 'arent' 'army' 'art' 'aside' 'ask'\n",
      " 'aspect' 'atmosphere' 'attack']\n"
     ]
    }
   ],
   "source": [
    "# Get feature names\n",
    "feature_names = vectorizer.get_feature_names_out()\n",
    "\n",
    "# Let's print first 10 features\n",
    "print(feature_names[:50])"
   ]
  },
  {
   "cell_type": "code",
   "execution_count": 54,
   "id": "d21cdda6-1ab8-4b11-af2b-25ead4d7db03",
   "metadata": {},
   "outputs": [
    {
     "name": "stdout",
     "output_type": "stream",
     "text": [
      "['absolutely love' 'academy award' 'act good' 'act great' 'acting good'\n",
      " 'acting great' 'acting superb' 'action comedy' 'action flick'\n",
      " 'action good' 'action hero' 'action pack' 'action scene'\n",
      " 'action sequence' 'action thriller' 'actor actress' 'actor good'\n",
      " 'actor great' 'actor make' 'actor play' 'actor really' 'actually good'\n",
      " 'actually happen' 'actually make' 'actually pretty' 'actually quite'\n",
      " 'actually think' 'adam sandler' 'ahead time' 'al pacino'\n",
      " 'alfred hitchcock' 'american beauty' 'american pie' 'ang lee'\n",
      " 'angelina jolie' 'answer question' 'anthony hopkins' 'art direction'\n",
      " 'ask question' 'attempt make' 'bad act' 'bad acting' 'bad actor'\n",
      " 'bad bad' 'bad good' 'bad guy' 'bad ive' 'bad make' 'bad people'\n",
      " 'bad really' 'bad review' 'bad thing' 'bad think' 'bad time' 'bad way'\n",
      " 'base book' 'base novel' 'base true' 'batman begin' 'battle scene'\n",
      " 'beautiful woman' 'ben affleck' 'ben stiller' 'best action' 'best actor'\n",
      " 'best actress' 'best best' 'best director' 'best friend' 'best horror'\n",
      " 'best ive' 'best know' 'best make' 'best performance' 'best picture'\n",
      " 'best role' 'best scene' 'best thing' 'best time' 'best way' 'best work'\n",
      " 'best year' 'big budget' 'big deal' 'big fan' 'big problem' 'big screen'\n",
      " 'big star' 'big time' 'black comedy' 'black white' 'blade runner'\n",
      " 'blah blah' 'blair witch' 'blood gore' 'blow away' 'box office'\n",
      " 'brad pitt' 'bring life' 'bring u']\n"
     ]
    }
   ],
   "source": [
    "# Get feature names\n",
    "bigram_feature_names = vectorizer_bigram.get_feature_names_out()\n",
    "\n",
    "# Let's print first 10 features\n",
    "print(bigram_feature_names[:100])"
   ]
  },
  {
   "cell_type": "markdown",
   "id": "308151b6-3c25-4e38-919b-b6726f39a3be",
   "metadata": {},
   "source": [
    "The bi-grams are fairly interesting. Now, let's get the data ready for modeling. "
   ]
  },
  {
   "cell_type": "markdown",
   "id": "5b971422-adf4-4613-a4fe-17b0d9db5609",
   "metadata": {
    "tags": []
   },
   "source": [
    "##### Save sparse matrices\n",
    "We're almost ready to move on to modeling, but first we'll save our sparse matrices to files just in case, since text pre-processing was computationally and time intensive."
   ]
  },
  {
   "cell_type": "code",
   "execution_count": 23,
   "id": "3f853e1f-f839-4293-a392-a7d855de5159",
   "metadata": {},
   "outputs": [],
   "source": [
    "# Drop columns from the training and testing data\n",
    "train_model_df = train_final_df.drop(['cleaned_review', 'imdb_id', 'rating_category'], axis=1)\n",
    "test_model_df = test_final_df.drop(['cleaned_review', 'imdb_id', 'rating_category'], axis=1)"
   ]
  },
  {
   "cell_type": "code",
   "execution_count": 26,
   "id": "a7c202ad-a189-4552-8ceb-7351424412f0",
   "metadata": {},
   "outputs": [],
   "source": [
    "# Convert dataframes to sparse matricies\n",
    "from scipy.sparse import csr_matrix\n",
    "\n",
    "train_final_sparse = csr_matrix(train_model_df.values)\n",
    "test_final_sparse = csr_matrix(test_model_df.values)"
   ]
  },
  {
   "cell_type": "code",
   "execution_count": 27,
   "id": "d7979ab9-4d49-4d3d-adc8-bc1c6691e788",
   "metadata": {},
   "outputs": [],
   "source": [
    "from scipy.sparse import hstack\n",
    "\n",
    "# Stack the matrices\n",
    "train_features = hstack([train_final_sparse, train_unigram_matrix, train_bigram_matrix])\n",
    "test_features = hstack([test_final_sparse, test_unigram_matrix, test_bigram_matrix])"
   ]
  },
  {
   "cell_type": "code",
   "execution_count": 39,
   "id": "95638eb5-7e7c-4ee6-a680-d10d512db6cd",
   "metadata": {
    "tags": []
   },
   "outputs": [],
   "source": [
    "# Save the sparse matrix to a file\n",
    "save_npz('data/train_features_matrix.npz', train_features)\n",
    "save_npz('data/test_features_matrix.npz', test_features)"
   ]
  },
  {
   "cell_type": "markdown",
   "id": "1f6102ee-c765-4d2b-9cc5-d28a78fd2789",
   "metadata": {
    "tags": []
   },
   "source": [
    "##### Create sparse matrices with all features for modeling\n",
    "Now let's prep all the data for modeling using sparse matrices, just in case we need to use them for modeling later. We'll convert our final dataframe we just created into a sparse matrix and combine it with the sparse matrices with unigrams and bigrams. "
   ]
  },
  {
   "cell_type": "code",
   "execution_count": 34,
   "id": "e62cc22c-f562-4318-8e49-96d74ba72b52",
   "metadata": {},
   "outputs": [],
   "source": [
    "# Drop columns to only keep numerical features\n",
    "X_train_numerical = train_final_df.drop(['cleaned_review', 'imdb_id', 'rating_category'], axis=1)\n",
    "X_test_numerical = test_final_df.drop(['cleaned_review', 'imdb_id', 'rating_category'], axis=1)\n",
    "\n",
    "# Convert numerical dataframe to sparse matrices\n",
    "X_train_numerical_sparse = scipy.sparse.csr_matrix(X_train_numerical.values)\n",
    "X_test_numerical_sparse = scipy.sparse.csr_matrix(X_test_numerical.values)\n",
    "\n",
    "# Combine numerical features with the unigram and bigram matrices\n",
    "X_train_final = hstack([X_train_numerical_sparse, train_unigram_matrix, train_bigram_matrix])\n",
    "X_test_final = hstack([X_test_numerical_sparse, test_unigram_matrix, test_bigram_matrix])"
   ]
  },
  {
   "cell_type": "code",
   "execution_count": 35,
   "id": "831bfff7-83ce-4e62-a0b7-eb9aeb1050cb",
   "metadata": {},
   "outputs": [],
   "source": [
    "# Prepare target variables\n",
    "y_train = train_final_df['rating_category'].values\n",
    "y_test = test_final_df['rating_category'].values"
   ]
  },
  {
   "cell_type": "markdown",
   "id": "267a2e58-7edf-4075-a66d-ef58332d5fd9",
   "metadata": {
    "tags": []
   },
   "source": [
    "##### Create Dataframes with text tokens for modeling"
   ]
  },
  {
   "cell_type": "markdown",
   "id": "ebdaa8fd-a8f4-49de-9ab6-dd03f6e4d895",
   "metadata": {},
   "source": [
    "Let's go ahead convert our sparse matrices to dataframes so we can look at the feature importance scores more easily."
   ]
  },
  {
   "cell_type": "code",
   "execution_count": 62,
   "id": "44d3d39a-4d82-4913-b712-2bfc65de300d",
   "metadata": {
    "tags": []
   },
   "outputs": [],
   "source": [
    "## Train data \n",
    "# Get feature names\n",
    "feature_names = vectorizer.get_feature_names_out()\n",
    "bigram_feature_names = vectorizer_bigram.get_feature_names_out()\n",
    "\n",
    "# Convert to dense numpy arrays\n",
    "train_unigram_dense = train_unigram_matrix.toarray()\n",
    "train_bigram_dense = train_bigram_matrix.toarray()\n",
    "\n",
    "# Convert to dataframes\n",
    "train_unigram_df = pd.DataFrame(train_unigram_dense, columns=[f\"unigram_{name}\" for name in feature_names])\n",
    "train_bigram_df = pd.DataFrame(train_bigram_dense, columns=[f\"bigram_{name}\" for name in bigram_feature_names])\n",
    "\n",
    "# Concatenate with original numerical features\n",
    "X_train_numerical.reset_index(drop=True, inplace=True)\n",
    "train_unigram_df.reset_index(drop=True, inplace=True)\n",
    "train_bigram_df.reset_index(drop=True, inplace=True)\n",
    "\n",
    "X_train_final_df = pd.concat([X_train_numerical, train_unigram_df, train_bigram_df], axis=1)"
   ]
  },
  {
   "cell_type": "code",
   "execution_count": 63,
   "id": "06869a6e-a891-4725-85c1-c23203401d29",
   "metadata": {
    "tags": []
   },
   "outputs": [
    {
     "data": {
      "text/html": [
       "<div>\n",
       "<style scoped>\n",
       "    .dataframe tbody tr th:only-of-type {\n",
       "        vertical-align: middle;\n",
       "    }\n",
       "\n",
       "    .dataframe tbody tr th {\n",
       "        vertical-align: top;\n",
       "    }\n",
       "\n",
       "    .dataframe thead th {\n",
       "        text-align: right;\n",
       "    }\n",
       "</style>\n",
       "<table border=\"1\" class=\"dataframe\">\n",
       "  <thead>\n",
       "    <tr style=\"text-align: right;\">\n",
       "      <th></th>\n",
       "      <th>language_en</th>\n",
       "      <th>runtime</th>\n",
       "      <th>budget</th>\n",
       "      <th>box_office_gross</th>\n",
       "      <th>votes</th>\n",
       "      <th>review_count</th>\n",
       "      <th>years_since_release</th>\n",
       "      <th>directors_max_score</th>\n",
       "      <th>actors_avg_score</th>\n",
       "      <th>production_companies_max_score</th>\n",
       "      <th>...</th>\n",
       "      <th>bigram_youll probably</th>\n",
       "      <th>bigram_young actor</th>\n",
       "      <th>bigram_young boy</th>\n",
       "      <th>bigram_young child</th>\n",
       "      <th>bigram_young girl</th>\n",
       "      <th>bigram_young man</th>\n",
       "      <th>bigram_young people</th>\n",
       "      <th>bigram_young woman</th>\n",
       "      <th>bigram_youre fan</th>\n",
       "      <th>bigram_youre look</th>\n",
       "    </tr>\n",
       "  </thead>\n",
       "  <tbody>\n",
       "    <tr>\n",
       "      <th>0</th>\n",
       "      <td>0</td>\n",
       "      <td>0.246814</td>\n",
       "      <td>-0.189800</td>\n",
       "      <td>-0.235621</td>\n",
       "      <td>-0.090130</td>\n",
       "      <td>0.072851</td>\n",
       "      <td>0.885833</td>\n",
       "      <td>0.849761</td>\n",
       "      <td>0.514926</td>\n",
       "      <td>-0.319189</td>\n",
       "      <td>...</td>\n",
       "      <td>0.000000</td>\n",
       "      <td>0.0</td>\n",
       "      <td>0.000000</td>\n",
       "      <td>0.0</td>\n",
       "      <td>0.0</td>\n",
       "      <td>0.086723</td>\n",
       "      <td>0.0</td>\n",
       "      <td>0.0</td>\n",
       "      <td>0.0</td>\n",
       "      <td>0.030876</td>\n",
       "    </tr>\n",
       "    <tr>\n",
       "      <th>1</th>\n",
       "      <td>1</td>\n",
       "      <td>-0.141276</td>\n",
       "      <td>-0.105998</td>\n",
       "      <td>-0.343326</td>\n",
       "      <td>-0.250771</td>\n",
       "      <td>-0.280546</td>\n",
       "      <td>-0.541694</td>\n",
       "      <td>0.518884</td>\n",
       "      <td>-0.429324</td>\n",
       "      <td>0.618723</td>\n",
       "      <td>...</td>\n",
       "      <td>0.000000</td>\n",
       "      <td>0.0</td>\n",
       "      <td>0.000000</td>\n",
       "      <td>0.0</td>\n",
       "      <td>0.0</td>\n",
       "      <td>0.000000</td>\n",
       "      <td>0.0</td>\n",
       "      <td>0.0</td>\n",
       "      <td>0.0</td>\n",
       "      <td>0.000000</td>\n",
       "    </tr>\n",
       "    <tr>\n",
       "      <th>2</th>\n",
       "      <td>1</td>\n",
       "      <td>0.440859</td>\n",
       "      <td>-0.161827</td>\n",
       "      <td>-0.374109</td>\n",
       "      <td>-0.255562</td>\n",
       "      <td>-0.304641</td>\n",
       "      <td>-0.500907</td>\n",
       "      <td>-1.292498</td>\n",
       "      <td>-0.606371</td>\n",
       "      <td>-1.819849</td>\n",
       "      <td>...</td>\n",
       "      <td>0.000000</td>\n",
       "      <td>0.0</td>\n",
       "      <td>0.000000</td>\n",
       "      <td>0.0</td>\n",
       "      <td>0.0</td>\n",
       "      <td>0.000000</td>\n",
       "      <td>0.0</td>\n",
       "      <td>0.0</td>\n",
       "      <td>0.0</td>\n",
       "      <td>0.000000</td>\n",
       "    </tr>\n",
       "    <tr>\n",
       "      <th>3</th>\n",
       "      <td>0</td>\n",
       "      <td>0.091578</td>\n",
       "      <td>-0.140771</td>\n",
       "      <td>-0.119638</td>\n",
       "      <td>-0.180553</td>\n",
       "      <td>-0.284562</td>\n",
       "      <td>-0.908772</td>\n",
       "      <td>-1.292498</td>\n",
       "      <td>1.459176</td>\n",
       "      <td>1.681690</td>\n",
       "      <td>...</td>\n",
       "      <td>0.000000</td>\n",
       "      <td>0.0</td>\n",
       "      <td>0.189996</td>\n",
       "      <td>0.0</td>\n",
       "      <td>0.0</td>\n",
       "      <td>0.000000</td>\n",
       "      <td>0.0</td>\n",
       "      <td>0.0</td>\n",
       "      <td>0.0</td>\n",
       "      <td>0.000000</td>\n",
       "    </tr>\n",
       "    <tr>\n",
       "      <th>4</th>\n",
       "      <td>1</td>\n",
       "      <td>0.402050</td>\n",
       "      <td>0.034971</td>\n",
       "      <td>0.374944</td>\n",
       "      <td>0.109804</td>\n",
       "      <td>-0.015498</td>\n",
       "      <td>-0.827199</td>\n",
       "      <td>-1.292498</td>\n",
       "      <td>-0.103435</td>\n",
       "      <td>0.222607</td>\n",
       "      <td>...</td>\n",
       "      <td>0.028498</td>\n",
       "      <td>0.0</td>\n",
       "      <td>0.000000</td>\n",
       "      <td>0.0</td>\n",
       "      <td>0.0</td>\n",
       "      <td>0.022325</td>\n",
       "      <td>0.0</td>\n",
       "      <td>0.0</td>\n",
       "      <td>0.0</td>\n",
       "      <td>0.023845</td>\n",
       "    </tr>\n",
       "  </tbody>\n",
       "</table>\n",
       "<p>5 rows × 2035 columns</p>\n",
       "</div>"
      ],
      "text/plain": [
       "   language_en   runtime    budget  box_office_gross     votes  review_count  \\\n",
       "0            0  0.246814 -0.189800         -0.235621 -0.090130      0.072851   \n",
       "1            1 -0.141276 -0.105998         -0.343326 -0.250771     -0.280546   \n",
       "2            1  0.440859 -0.161827         -0.374109 -0.255562     -0.304641   \n",
       "3            0  0.091578 -0.140771         -0.119638 -0.180553     -0.284562   \n",
       "4            1  0.402050  0.034971          0.374944  0.109804     -0.015498   \n",
       "\n",
       "   years_since_release  directors_max_score  actors_avg_score  \\\n",
       "0             0.885833             0.849761          0.514926   \n",
       "1            -0.541694             0.518884         -0.429324   \n",
       "2            -0.500907            -1.292498         -0.606371   \n",
       "3            -0.908772            -1.292498          1.459176   \n",
       "4            -0.827199            -1.292498         -0.103435   \n",
       "\n",
       "   production_companies_max_score  ...  bigram_youll probably  \\\n",
       "0                       -0.319189  ...               0.000000   \n",
       "1                        0.618723  ...               0.000000   \n",
       "2                       -1.819849  ...               0.000000   \n",
       "3                        1.681690  ...               0.000000   \n",
       "4                        0.222607  ...               0.028498   \n",
       "\n",
       "   bigram_young actor  bigram_young boy  bigram_young child  \\\n",
       "0                 0.0          0.000000                 0.0   \n",
       "1                 0.0          0.000000                 0.0   \n",
       "2                 0.0          0.000000                 0.0   \n",
       "3                 0.0          0.189996                 0.0   \n",
       "4                 0.0          0.000000                 0.0   \n",
       "\n",
       "   bigram_young girl  bigram_young man  bigram_young people  \\\n",
       "0                0.0          0.086723                  0.0   \n",
       "1                0.0          0.000000                  0.0   \n",
       "2                0.0          0.000000                  0.0   \n",
       "3                0.0          0.000000                  0.0   \n",
       "4                0.0          0.022325                  0.0   \n",
       "\n",
       "   bigram_young woman  bigram_youre fan  bigram_youre look  \n",
       "0                 0.0               0.0           0.030876  \n",
       "1                 0.0               0.0           0.000000  \n",
       "2                 0.0               0.0           0.000000  \n",
       "3                 0.0               0.0           0.000000  \n",
       "4                 0.0               0.0           0.023845  \n",
       "\n",
       "[5 rows x 2035 columns]"
      ]
     },
     "execution_count": 63,
     "metadata": {},
     "output_type": "execute_result"
    }
   ],
   "source": [
    "X_train_final_df.head()"
   ]
  },
  {
   "cell_type": "code",
   "execution_count": 64,
   "id": "0be6dd7a-ecce-48c1-b05f-bbd636e22628",
   "metadata": {
    "tags": []
   },
   "outputs": [],
   "source": [
    "## Test data \n",
    "# We already have the feature names\n",
    "# Convert to numpy arrays\n",
    "test_unigram_dense = test_unigram_matrix.toarray()\n",
    "test_bigram_dense = test_bigram_matrix.toarray()\n",
    "\n",
    "# Convert to dataframes\n",
    "test_unigram_df = pd.DataFrame(test_unigram_dense, columns=[f\"unigram_{name}\" for name in feature_names])\n",
    "test_bigram_df = pd.DataFrame(test_bigram_dense, columns=[f\"bigram_{name}\" for name in bigram_feature_names])\n",
    "\n",
    "# Concatenate with original numerical features\n",
    "X_test_numerical.reset_index(drop=True, inplace=True)\n",
    "test_unigram_df.reset_index(drop=True, inplace=True)\n",
    "test_bigram_df.reset_index(drop=True, inplace=True)\n",
    "\n",
    "X_test_final_df = pd.concat([X_test_numerical, test_unigram_df, test_bigram_df], axis=1)"
   ]
  },
  {
   "cell_type": "code",
   "execution_count": 65,
   "id": "d4c53eba-c308-4393-895a-429b2d3a8e97",
   "metadata": {
    "tags": []
   },
   "outputs": [
    {
     "data": {
      "text/html": [
       "<div>\n",
       "<style scoped>\n",
       "    .dataframe tbody tr th:only-of-type {\n",
       "        vertical-align: middle;\n",
       "    }\n",
       "\n",
       "    .dataframe tbody tr th {\n",
       "        vertical-align: top;\n",
       "    }\n",
       "\n",
       "    .dataframe thead th {\n",
       "        text-align: right;\n",
       "    }\n",
       "</style>\n",
       "<table border=\"1\" class=\"dataframe\">\n",
       "  <thead>\n",
       "    <tr style=\"text-align: right;\">\n",
       "      <th></th>\n",
       "      <th>language_en</th>\n",
       "      <th>runtime</th>\n",
       "      <th>budget</th>\n",
       "      <th>box_office_gross</th>\n",
       "      <th>votes</th>\n",
       "      <th>review_count</th>\n",
       "      <th>years_since_release</th>\n",
       "      <th>directors_max_score</th>\n",
       "      <th>actors_avg_score</th>\n",
       "      <th>production_companies_max_score</th>\n",
       "      <th>...</th>\n",
       "      <th>bigram_youll probably</th>\n",
       "      <th>bigram_young actor</th>\n",
       "      <th>bigram_young boy</th>\n",
       "      <th>bigram_young child</th>\n",
       "      <th>bigram_young girl</th>\n",
       "      <th>bigram_young man</th>\n",
       "      <th>bigram_young people</th>\n",
       "      <th>bigram_young woman</th>\n",
       "      <th>bigram_youre fan</th>\n",
       "      <th>bigram_youre look</th>\n",
       "    </tr>\n",
       "  </thead>\n",
       "  <tbody>\n",
       "    <tr>\n",
       "      <th>0</th>\n",
       "      <td>1</td>\n",
       "      <td>-0.141276</td>\n",
       "      <td>-0.178912</td>\n",
       "      <td>-0.226741</td>\n",
       "      <td>-0.250093</td>\n",
       "      <td>-0.300626</td>\n",
       "      <td>1.293697</td>\n",
       "      <td>0.910534</td>\n",
       "      <td>0.514926</td>\n",
       "      <td>0.681250</td>\n",
       "      <td>...</td>\n",
       "      <td>0.0</td>\n",
       "      <td>0.0</td>\n",
       "      <td>0.0</td>\n",
       "      <td>0.00000</td>\n",
       "      <td>0.0</td>\n",
       "      <td>0.000000</td>\n",
       "      <td>0.0</td>\n",
       "      <td>0.000000</td>\n",
       "      <td>0.000000</td>\n",
       "      <td>0.000000</td>\n",
       "    </tr>\n",
       "    <tr>\n",
       "      <th>1</th>\n",
       "      <td>1</td>\n",
       "      <td>-0.723412</td>\n",
       "      <td>-0.191943</td>\n",
       "      <td>-0.274226</td>\n",
       "      <td>-0.231332</td>\n",
       "      <td>-0.119911</td>\n",
       "      <td>1.089765</td>\n",
       "      <td>-0.851891</td>\n",
       "      <td>-1.373574</td>\n",
       "      <td>-1.819849</td>\n",
       "      <td>...</td>\n",
       "      <td>0.0</td>\n",
       "      <td>0.0</td>\n",
       "      <td>0.0</td>\n",
       "      <td>0.08408</td>\n",
       "      <td>0.0</td>\n",
       "      <td>0.032000</td>\n",
       "      <td>0.0</td>\n",
       "      <td>0.031747</td>\n",
       "      <td>0.000000</td>\n",
       "      <td>0.000000</td>\n",
       "    </tr>\n",
       "    <tr>\n",
       "      <th>2</th>\n",
       "      <td>1</td>\n",
       "      <td>-0.412939</td>\n",
       "      <td>0.186928</td>\n",
       "      <td>-0.153665</td>\n",
       "      <td>0.222795</td>\n",
       "      <td>0.201360</td>\n",
       "      <td>-0.256188</td>\n",
       "      <td>0.616797</td>\n",
       "      <td>-0.429324</td>\n",
       "      <td>0.806305</td>\n",
       "      <td>...</td>\n",
       "      <td>0.0</td>\n",
       "      <td>0.0</td>\n",
       "      <td>0.0</td>\n",
       "      <td>0.00000</td>\n",
       "      <td>0.0</td>\n",
       "      <td>0.000000</td>\n",
       "      <td>0.0</td>\n",
       "      <td>0.021743</td>\n",
       "      <td>0.026158</td>\n",
       "      <td>0.023409</td>\n",
       "    </tr>\n",
       "    <tr>\n",
       "      <th>3</th>\n",
       "      <td>1</td>\n",
       "      <td>0.596095</td>\n",
       "      <td>-0.159929</td>\n",
       "      <td>-0.300665</td>\n",
       "      <td>-0.252915</td>\n",
       "      <td>-0.280546</td>\n",
       "      <td>1.293697</td>\n",
       "      <td>0.690231</td>\n",
       "      <td>-0.429324</td>\n",
       "      <td>0.350306</td>\n",
       "      <td>...</td>\n",
       "      <td>0.0</td>\n",
       "      <td>0.0</td>\n",
       "      <td>0.0</td>\n",
       "      <td>0.00000</td>\n",
       "      <td>0.0</td>\n",
       "      <td>0.000000</td>\n",
       "      <td>0.0</td>\n",
       "      <td>0.000000</td>\n",
       "      <td>0.000000</td>\n",
       "      <td>0.000000</td>\n",
       "    </tr>\n",
       "    <tr>\n",
       "      <th>4</th>\n",
       "      <td>1</td>\n",
       "      <td>-1.150311</td>\n",
       "      <td>-0.187705</td>\n",
       "      <td>-0.372021</td>\n",
       "      <td>-0.254293</td>\n",
       "      <td>-0.288578</td>\n",
       "      <td>1.783135</td>\n",
       "      <td>0.469928</td>\n",
       "      <td>-0.429324</td>\n",
       "      <td>0.350306</td>\n",
       "      <td>...</td>\n",
       "      <td>0.0</td>\n",
       "      <td>0.0</td>\n",
       "      <td>0.0</td>\n",
       "      <td>0.00000</td>\n",
       "      <td>0.0</td>\n",
       "      <td>0.133787</td>\n",
       "      <td>0.0</td>\n",
       "      <td>0.265461</td>\n",
       "      <td>0.159683</td>\n",
       "      <td>0.000000</td>\n",
       "    </tr>\n",
       "  </tbody>\n",
       "</table>\n",
       "<p>5 rows × 2035 columns</p>\n",
       "</div>"
      ],
      "text/plain": [
       "   language_en   runtime    budget  box_office_gross     votes  review_count  \\\n",
       "0            1 -0.141276 -0.178912         -0.226741 -0.250093     -0.300626   \n",
       "1            1 -0.723412 -0.191943         -0.274226 -0.231332     -0.119911   \n",
       "2            1 -0.412939  0.186928         -0.153665  0.222795      0.201360   \n",
       "3            1  0.596095 -0.159929         -0.300665 -0.252915     -0.280546   \n",
       "4            1 -1.150311 -0.187705         -0.372021 -0.254293     -0.288578   \n",
       "\n",
       "   years_since_release  directors_max_score  actors_avg_score  \\\n",
       "0             1.293697             0.910534          0.514926   \n",
       "1             1.089765            -0.851891         -1.373574   \n",
       "2            -0.256188             0.616797         -0.429324   \n",
       "3             1.293697             0.690231         -0.429324   \n",
       "4             1.783135             0.469928         -0.429324   \n",
       "\n",
       "   production_companies_max_score  ...  bigram_youll probably  \\\n",
       "0                        0.681250  ...                    0.0   \n",
       "1                       -1.819849  ...                    0.0   \n",
       "2                        0.806305  ...                    0.0   \n",
       "3                        0.350306  ...                    0.0   \n",
       "4                        0.350306  ...                    0.0   \n",
       "\n",
       "   bigram_young actor  bigram_young boy  bigram_young child  \\\n",
       "0                 0.0               0.0             0.00000   \n",
       "1                 0.0               0.0             0.08408   \n",
       "2                 0.0               0.0             0.00000   \n",
       "3                 0.0               0.0             0.00000   \n",
       "4                 0.0               0.0             0.00000   \n",
       "\n",
       "   bigram_young girl  bigram_young man  bigram_young people  \\\n",
       "0                0.0          0.000000                  0.0   \n",
       "1                0.0          0.032000                  0.0   \n",
       "2                0.0          0.000000                  0.0   \n",
       "3                0.0          0.000000                  0.0   \n",
       "4                0.0          0.133787                  0.0   \n",
       "\n",
       "   bigram_young woman  bigram_youre fan  bigram_youre look  \n",
       "0            0.000000          0.000000           0.000000  \n",
       "1            0.031747          0.000000           0.000000  \n",
       "2            0.021743          0.026158           0.023409  \n",
       "3            0.000000          0.000000           0.000000  \n",
       "4            0.265461          0.159683           0.000000  \n",
       "\n",
       "[5 rows x 2035 columns]"
      ]
     },
     "execution_count": 65,
     "metadata": {},
     "output_type": "execute_result"
    }
   ],
   "source": [
    "X_test_final_df.head()"
   ]
  },
  {
   "cell_type": "markdown",
   "id": "0dccb1f1-d6ed-4418-b99f-b8ac4237136c",
   "metadata": {},
   "source": [
    "So, now we have our final dataframes that are ready to be plugged into models: \n",
    "- `X_train_final_df`\n",
    "- `X_test_final_df`\n",
    "- `y_train`\n",
    "- `y_test`"
   ]
  },
  {
   "cell_type": "code",
   "execution_count": null,
   "id": "654554c0-fd6a-452e-ad20-d52eb0601d01",
   "metadata": {},
   "outputs": [],
   "source": []
  },
  {
   "cell_type": "code",
   "execution_count": null,
   "id": "9d61be9d-5452-472f-b011-7fb1fa415659",
   "metadata": {},
   "outputs": [],
   "source": []
  },
  {
   "cell_type": "code",
   "execution_count": null,
   "id": "93f77234-02f7-4eea-9ee4-7f36c24cabeb",
   "metadata": {},
   "outputs": [],
   "source": []
  },
  {
   "cell_type": "code",
   "execution_count": null,
   "id": "c61a04d0-f149-43c3-956b-21f90acb3d55",
   "metadata": {},
   "outputs": [],
   "source": []
  },
  {
   "cell_type": "markdown",
   "id": "6669b83d-58f7-43d3-b7f6-b753105c4d35",
   "metadata": {
    "tags": []
   },
   "source": [
    "#### Baseline Models with text data"
   ]
  },
  {
   "cell_type": "markdown",
   "id": "4fd6b43b-b7b5-4ae2-8d8f-438333e77d0e",
   "metadata": {
    "jp-MarkdownHeadingCollapsed": true,
    "tags": []
   },
   "source": [
    "##### Logistic Regression"
   ]
  },
  {
   "cell_type": "markdown",
   "id": "baa6ea65-3f93-4b49-acf2-f20f6acc63a1",
   "metadata": {},
   "source": [
    "We'll first try a logistic regression model with C=0.5 (based on previous results)"
   ]
  },
  {
   "cell_type": "code",
   "execution_count": 85,
   "id": "dd8ac4e4-77ca-404d-8212-e8abb6d147a3",
   "metadata": {
    "tags": []
   },
   "outputs": [
    {
     "name": "stdout",
     "output_type": "stream",
     "text": [
      "Training Accuracy: 0.9739770867430442\n",
      "Test Accuracy: 0.9875589313776847\n"
     ]
    }
   ],
   "source": [
    "from sklearn.linear_model import LogisticRegression\n",
    "from sklearn.metrics import accuracy_score\n",
    "\n",
    "# Instantiate and train the model\n",
    "logreg_model = LogisticRegression(max_iter=1000, C=0.5)\n",
    "\n",
    "logreg_model.fit(X_train_final_df, y_train)\n",
    "\n",
    "# Make predictions\n",
    "y_pred_train = logreg_model.predict(X_train_final_df)\n",
    "y_pred_test = logreg_model.predict(X_test_final_df)\n",
    "\n",
    "# Evaluate the model\n",
    "train_accuracy = accuracy_score(y_train, y_pred_train)\n",
    "test_accuracy = accuracy_score(y_test, y_pred_test)\n",
    "\n",
    "print(f\"Training Accuracy: {train_accuracy}\")\n",
    "print(f\"Test Accuracy: {test_accuracy}\")"
   ]
  },
  {
   "cell_type": "code",
   "execution_count": 86,
   "id": "d219ebea-8642-4982-ade2-9d472afa54f5",
   "metadata": {
    "tags": []
   },
   "outputs": [
    {
     "name": "stdout",
     "output_type": "stream",
     "text": [
      "Classification Report for Training Data:\n",
      "              precision    recall  f1-score   support\n",
      "\n",
      "     Average       0.96      0.98      0.97      7679\n",
      "   Excellent       0.99      0.97      0.98      6939\n",
      "        Good       0.95      0.98      0.96      8027\n",
      "        Poor       1.00      0.98      0.99      7905\n",
      "\n",
      "    accuracy                           0.97     30550\n",
      "   macro avg       0.97      0.97      0.97     30550\n",
      "weighted avg       0.97      0.97      0.97     30550\n",
      "\n",
      "Classification Report for Test Data:\n",
      "              precision    recall  f1-score   support\n",
      "\n",
      "     Average       0.99      0.99      0.99      1899\n",
      "   Excellent       0.98      0.99      0.99      1762\n",
      "        Good       0.98      0.98      0.98      1980\n",
      "        Poor       1.00      0.99      0.99      1995\n",
      "\n",
      "    accuracy                           0.99      7636\n",
      "   macro avg       0.99      0.99      0.99      7636\n",
      "weighted avg       0.99      0.99      0.99      7636\n",
      "\n"
     ]
    }
   ],
   "source": [
    "from sklearn.metrics import classification_report\n",
    "\n",
    "# Generate and print the classification report for training data\n",
    "print(\"Classification Report for Training Data:\")\n",
    "print(classification_report(y_train, y_pred_train))\n",
    "\n",
    "# Generate and print the classification report for test data\n",
    "print(\"Classification Report for Test Data:\")\n",
    "print(classification_report(y_test, y_pred_test))"
   ]
  },
  {
   "cell_type": "markdown",
   "id": "848d8cc0-88cb-47f0-a2cc-6fbfd6e3be3b",
   "metadata": {},
   "source": [
    "Wow, these are very accurate results, and seem almost too good to be true. Let's try a random forest model as well."
   ]
  },
  {
   "cell_type": "markdown",
   "id": "b0c1309c-d7ae-4bab-9df2-2de7f184319e",
   "metadata": {
    "jp-MarkdownHeadingCollapsed": true,
    "tags": []
   },
   "source": [
    "##### Random Forest"
   ]
  },
  {
   "cell_type": "markdown",
   "id": "de469b8d-8f9e-4aec-bc27-46c5b67996c7",
   "metadata": {},
   "source": [
    "Next we'll try a Random Forest model. "
   ]
  },
  {
   "cell_type": "code",
   "execution_count": 87,
   "id": "5d020dee-1ffc-4e7a-a86b-425871bf5876",
   "metadata": {
    "tags": []
   },
   "outputs": [
    {
     "name": "stdout",
     "output_type": "stream",
     "text": [
      "Training Accuracy with Random Forest: 1.0\n",
      "Test Accuracy with Random Forest: 0.8766369827134626\n"
     ]
    }
   ],
   "source": [
    "from sklearn.ensemble import RandomForestClassifier\n",
    "\n",
    "# Instantiate and train model\n",
    "rf_model = RandomForestClassifier(n_estimators=100, random_state=42)  \n",
    "rf_model.fit(X_train_final_df, y_train)\n",
    "\n",
    "# Make predictions\n",
    "y_pred_train_rf = rf_model.predict(X_train_final_df)\n",
    "y_pred_test_rf = rf_model.predict(X_test_final_df)\n",
    "\n",
    "# Evaluate \n",
    "train_accuracy_rf = accuracy_score(y_train, y_pred_train_rf)\n",
    "test_accuracy_rf = accuracy_score(y_test, y_pred_test_rf)\n",
    "\n",
    "print(f\"Training Accuracy with Random Forest: {train_accuracy_rf}\")\n",
    "print(f\"Test Accuracy with Random Forest: {test_accuracy_rf}\")"
   ]
  },
  {
   "cell_type": "code",
   "execution_count": 89,
   "id": "e5c59551-6e3f-40f9-8fa5-ffad7621305e",
   "metadata": {
    "tags": []
   },
   "outputs": [
    {
     "name": "stdout",
     "output_type": "stream",
     "text": [
      "\n",
      "Classification Report for Random Forest Training Data:\n",
      "              precision    recall  f1-score   support\n",
      "\n",
      "     Average       1.00      1.00      1.00      7679\n",
      "   Excellent       1.00      1.00      1.00      6939\n",
      "        Good       1.00      1.00      1.00      8027\n",
      "        Poor       1.00      1.00      1.00      7905\n",
      "\n",
      "    accuracy                           1.00     30550\n",
      "   macro avg       1.00      1.00      1.00     30550\n",
      "weighted avg       1.00      1.00      1.00     30550\n",
      "\n",
      "\n",
      "Classification Report for Random Forest Test Data:\n",
      "              precision    recall  f1-score   support\n",
      "\n",
      "     Average       0.83      0.84      0.83      1899\n",
      "   Excellent       0.93      0.90      0.91      1762\n",
      "        Good       0.83      0.85      0.84      1980\n",
      "        Poor       0.93      0.93      0.93      1995\n",
      "\n",
      "    accuracy                           0.88      7636\n",
      "   macro avg       0.88      0.88      0.88      7636\n",
      "weighted avg       0.88      0.88      0.88      7636\n",
      "\n"
     ]
    }
   ],
   "source": [
    "# Classification Report\n",
    "print(\"\\nClassification Report for Random Forest Training Data:\")\n",
    "print(classification_report(y_train, y_pred_train_rf))\n",
    "\n",
    "print(\"\\nClassification Report for Random Forest Test Data:\")\n",
    "print(classification_report(y_test, y_pred_test_rf))"
   ]
  },
  {
   "cell_type": "markdown",
   "id": "c97fff62-6836-4aff-bfc9-f8e7da737de7",
   "metadata": {},
   "source": [
    "Looking at the results, the Random Forest model seems to overfit the training data. We could try tuning the hyperparameters.  The logistic regression model still appears to be the better-performing model based on test accuracy and the F1-score."
   ]
  },
  {
   "cell_type": "markdown",
   "id": "e7c7a1f4-89e3-40f9-bfc7-a33ee4acacde",
   "metadata": {
    "jp-MarkdownHeadingCollapsed": true,
    "tags": []
   },
   "source": [
    "##### XGBoost"
   ]
  },
  {
   "cell_type": "markdown",
   "id": "f9c09c3e-9ee2-44c1-a457-5d969c3624da",
   "metadata": {},
   "source": [
    "Let's try XGBoost to compare. First we must label encode the target variable. We'll start with some basic hyperparameters. \n",
    "\n",
    "- https://towardsdatascience.com/a-guide-to-xgboost-hyperparameters-87980c7f44a9\n",
    "- https://stackoverflow.com/questions/57986259/multiclass-classification-with-xgboost-classifier"
   ]
  },
  {
   "cell_type": "code",
   "execution_count": 42,
   "id": "a6612b44-6ca4-4c3b-8f1c-65bcf097f949",
   "metadata": {
    "tags": []
   },
   "outputs": [],
   "source": [
    "from sklearn.preprocessing import LabelEncoder\n",
    "\n",
    "# Initialize the LabelEncoder\n",
    "le = LabelEncoder()\n",
    "\n",
    "# Fit and transform training data\n",
    "y_train_encoded = le.fit_transform(y_train)\n",
    "\n",
    "# Transform test data\n",
    "y_test_encoded = le.transform(y_test)"
   ]
  },
  {
   "cell_type": "code",
   "execution_count": 90,
   "id": "1fdc5cc5-99c9-49e0-b16b-6480305db9af",
   "metadata": {
    "tags": []
   },
   "outputs": [
    {
     "name": "stdout",
     "output_type": "stream",
     "text": [
      "Training Accuracy with XGBoost: 0.9971194762684125\n",
      "Test Accuracy with XGBoost: 0.9896542692509167\n"
     ]
    }
   ],
   "source": [
    "from xgboost import XGBClassifier\n",
    "\n",
    "# Instantiate model\n",
    "xgb_model = XGBClassifier(\n",
    "    learning_rate=0.1,\n",
    "    n_estimators=100,\n",
    "    max_depth=5,\n",
    "    min_child_weight=1,\n",
    "    gamma=0,\n",
    "    subsample=0.8,\n",
    "    colsample_bytree=0.8,\n",
    "    objective='multi:softmax',\n",
    "    num_class=4, \n",
    "    nthread=4,\n",
    "    seed=42\n",
    ")\n",
    "\n",
    "# Fit the model\n",
    "xgb_model.fit(X_train_final_df, y_train_encoded)\n",
    "\n",
    "# Make predictions\n",
    "y_pred_train_xgb = xgb_model.predict(X_train_final_df)\n",
    "y_pred_test_xgb = xgb_model.predict(X_test_final_df)\n",
    "\n",
    "# Evaluate the model\n",
    "train_accuracy_xgb = accuracy_score(y_train_encoded, y_pred_train_xgb)\n",
    "test_accuracy_xgb = accuracy_score(y_test_encoded, y_pred_test_xgb)\n",
    "\n",
    "print(f\"Training Accuracy with XGBoost: {train_accuracy_xgb}\")\n",
    "print(f\"Test Accuracy with XGBoost: {test_accuracy_xgb}\")"
   ]
  },
  {
   "cell_type": "code",
   "execution_count": 91,
   "id": "88aad5e8-a087-4d1b-ac56-dc99c595ae35",
   "metadata": {
    "tags": []
   },
   "outputs": [
    {
     "name": "stdout",
     "output_type": "stream",
     "text": [
      "Classification Report for XGBoost Training Data:\n",
      "              precision    recall  f1-score   support\n",
      "\n",
      "     Average       0.99      1.00      1.00      7679\n",
      "   Excellent       1.00      0.99      1.00      6939\n",
      "        Good       0.99      1.00      1.00      8027\n",
      "        Poor       1.00      1.00      1.00      7905\n",
      "\n",
      "    accuracy                           1.00     30550\n",
      "   macro avg       1.00      1.00      1.00     30550\n",
      "weighted avg       1.00      1.00      1.00     30550\n",
      "\n",
      "Classification Report for XGBoost Test Data:\n",
      "              precision    recall  f1-score   support\n",
      "\n",
      "     Average       0.99      0.99      0.99      1899\n",
      "   Excellent       0.99      0.99      0.99      1762\n",
      "        Good       0.99      0.98      0.99      1980\n",
      "        Poor       0.99      0.99      0.99      1995\n",
      "\n",
      "    accuracy                           0.99      7636\n",
      "   macro avg       0.99      0.99      0.99      7636\n",
      "weighted avg       0.99      0.99      0.99      7636\n",
      "\n"
     ]
    }
   ],
   "source": [
    "# Decode the predictions\n",
    "y_pred_train_decoded = le.inverse_transform(y_pred_train_xgb)\n",
    "y_pred_test_decoded = le.inverse_transform(y_pred_test_xgb)\n",
    "\n",
    "# Classification report\n",
    "print(\"Classification Report for XGBoost Training Data:\")\n",
    "print(classification_report(y_train, y_pred_train_decoded))\n",
    "\n",
    "print(\"Classification Report for XGBoost Test Data:\")\n",
    "print(classification_report(y_test, y_pred_test_decoded))"
   ]
  },
  {
   "cell_type": "markdown",
   "id": "70ae0fc1-5b10-4c6d-92ec-dd833ef68f28",
   "metadata": {},
   "source": [
    "Since we are seeing extremely high scores on our models, let's try another simpler model to see how the accuracy compares. We will try a SVM since we are doing a classification problem. We'll also use the encoded classificaiton labels for this model."
   ]
  },
  {
   "cell_type": "markdown",
   "id": "3bdccbfa-fa3b-416c-b208-fbe03281f827",
   "metadata": {
    "jp-MarkdownHeadingCollapsed": true,
    "tags": []
   },
   "source": [
    "##### SVM"
   ]
  },
  {
   "cell_type": "code",
   "execution_count": 92,
   "id": "04d2a8da-40ea-4444-b453-1d13cea5ce0b",
   "metadata": {
    "tags": []
   },
   "outputs": [
    {
     "name": "stderr",
     "output_type": "stream",
     "text": [
      "/Users/sydneylindsay/anaconda3/lib/python3.11/site-packages/sklearn/svm/_base.py:1242: ConvergenceWarning: Liblinear failed to converge, increase the number of iterations.\n",
      "  warnings.warn(\n"
     ]
    },
    {
     "name": "stdout",
     "output_type": "stream",
     "text": [
      "Training Accuracy with LinearSVC: 0.9117839607201309\n",
      "Test Accuracy with LinearSVC: 0.8618386589837611\n"
     ]
    }
   ],
   "source": [
    "from sklearn.svm import LinearSVC\n",
    "\n",
    "# Instantiate and fit\n",
    "svc_model = LinearSVC(max_iter=10000, dual=True, random_state=42, C=0.5)\n",
    "svc_model.fit(X_train_final_df, y_train_encoded)\n",
    "\n",
    "# Make predictions\n",
    "y_pred_train_svc = svc_model.predict(X_train_final_df)\n",
    "y_pred_test_svc = svc_model.predict(X_test_final_df)\n",
    "\n",
    "# Evaluate\n",
    "train_accuracy_svc = accuracy_score(y_train_encoded, y_pred_train_svc)\n",
    "test_accuracy_svc = accuracy_score(y_test_encoded, y_pred_test_svc)\n",
    "\n",
    "print(f\"Training Accuracy with LinearSVC: {train_accuracy_svc}\")\n",
    "print(f\"Test Accuracy with LinearSVC: {test_accuracy_svc}\")"
   ]
  },
  {
   "cell_type": "code",
   "execution_count": 93,
   "id": "f4d0f1fd-6279-4af5-a417-84bebc2148c0",
   "metadata": {
    "tags": []
   },
   "outputs": [
    {
     "name": "stdout",
     "output_type": "stream",
     "text": [
      "Classification Report for SVC Training Data:\n",
      "              precision    recall  f1-score   support\n",
      "\n",
      "           0       0.85      0.83      0.84      7679\n",
      "           1       0.98      0.99      0.98      6939\n",
      "           2       0.84      0.84      0.84      8027\n",
      "           3       0.99      0.99      0.99      7905\n",
      "\n",
      "    accuracy                           0.91     30550\n",
      "   macro avg       0.91      0.91      0.91     30550\n",
      "weighted avg       0.91      0.91      0.91     30550\n",
      "\n",
      "Classification Report for SVC Test Data:\n",
      "              precision    recall  f1-score   support\n",
      "\n",
      "           0       0.76      0.73      0.75      1899\n",
      "           1       0.94      0.99      0.97      1762\n",
      "           2       0.77      0.74      0.75      1980\n",
      "           3       0.96      0.99      0.98      1995\n",
      "\n",
      "    accuracy                           0.86      7636\n",
      "   macro avg       0.86      0.86      0.86      7636\n",
      "weighted avg       0.86      0.86      0.86      7636\n",
      "\n"
     ]
    }
   ],
   "source": [
    "# Print Classification Report\n",
    "print(\"Classification Report for SVC Training Data:\")\n",
    "print(classification_report(y_train_encoded, y_pred_train_svc))\n",
    "\n",
    "print(\"Classification Report for SVC Test Data:\")\n",
    "print(classification_report(y_test_encoded, y_pred_test_svc))"
   ]
  },
  {
   "cell_type": "markdown",
   "id": "b29b3d6c-db8b-4154-a6a5-008a10363dd5",
   "metadata": {},
   "source": [
    "Even though the model failed to converge, we are still getting pretty good results. The precision, recall, and F1-scores are not as high as in the other models, but they still show reasonable performance across classes. \n",
    "\n",
    "However, the lower scores could also suggest that the data might not be inherently linear, meaning models like Logistic Regression and XGBoost could be capturing complex relationships that a linear SVM can't. "
   ]
  },
  {
   "cell_type": "markdown",
   "id": "68912a32-2cd1-44de-ba98-c871f39d7c0c",
   "metadata": {},
   "source": [
    "#### Feature Importance\n",
    "Let's take a look at the feature importance scores from our Random Forest model."
   ]
  },
  {
   "cell_type": "code",
   "execution_count": 94,
   "id": "4aa1995f-4774-47ef-8ac1-af8b4f6090ac",
   "metadata": {
    "tags": []
   },
   "outputs": [],
   "source": [
    "# Get feature importances\n",
    "importances = rf_model.feature_importances_\n",
    "\n",
    "# Sort feature importances in descending order and get the indices\n",
    "indices = np.argsort(importances)[::-1]\n",
    "\n",
    "# Rearrange feature names so they match the sorted feature importances\n",
    "names = [X_train_final_df.columns[i] for i in indices]"
   ]
  },
  {
   "cell_type": "code",
   "execution_count": 95,
   "id": "1170fab5-2600-4fed-ba36-ab6c5b2cb17a",
   "metadata": {
    "tags": []
   },
   "outputs": [],
   "source": [
    "# Create a DataFrame for the top 50 features\n",
    "top_50_features = pd.DataFrame({\n",
    "    'Feature': names[:50],\n",
    "    'Importance': importances[indices][:50]\n",
    "})"
   ]
  },
  {
   "cell_type": "code",
   "execution_count": 96,
   "id": "8ff630b6-44ff-472a-8b0b-95fcdcb955e3",
   "metadata": {
    "tags": []
   },
   "outputs": [
    {
     "data": {
      "text/html": [
       "<div>\n",
       "<style scoped>\n",
       "    .dataframe tbody tr th:only-of-type {\n",
       "        vertical-align: middle;\n",
       "    }\n",
       "\n",
       "    .dataframe tbody tr th {\n",
       "        vertical-align: top;\n",
       "    }\n",
       "\n",
       "    .dataframe thead th {\n",
       "        text-align: right;\n",
       "    }\n",
       "</style>\n",
       "<table border=\"1\" class=\"dataframe\">\n",
       "  <thead>\n",
       "    <tr style=\"text-align: right;\">\n",
       "      <th></th>\n",
       "      <th>Feature</th>\n",
       "      <th>Importance</th>\n",
       "    </tr>\n",
       "  </thead>\n",
       "  <tbody>\n",
       "    <tr>\n",
       "      <th>0</th>\n",
       "      <td>actors_avg_score</td>\n",
       "      <td>0.110062</td>\n",
       "    </tr>\n",
       "    <tr>\n",
       "      <th>1</th>\n",
       "      <td>directors_max_score</td>\n",
       "      <td>0.018166</td>\n",
       "    </tr>\n",
       "    <tr>\n",
       "      <th>2</th>\n",
       "      <td>unigram_bad</td>\n",
       "      <td>0.016826</td>\n",
       "    </tr>\n",
       "    <tr>\n",
       "      <th>3</th>\n",
       "      <td>production_companies_max_score</td>\n",
       "      <td>0.015221</td>\n",
       "    </tr>\n",
       "    <tr>\n",
       "      <th>4</th>\n",
       "      <td>unigram_awful</td>\n",
       "      <td>0.006787</td>\n",
       "    </tr>\n",
       "    <tr>\n",
       "      <th>5</th>\n",
       "      <td>unigram_waste</td>\n",
       "      <td>0.006042</td>\n",
       "    </tr>\n",
       "    <tr>\n",
       "      <th>6</th>\n",
       "      <td>unigram_terrible</td>\n",
       "      <td>0.005394</td>\n",
       "    </tr>\n",
       "    <tr>\n",
       "      <th>7</th>\n",
       "      <td>votes</td>\n",
       "      <td>0.005288</td>\n",
       "    </tr>\n",
       "    <tr>\n",
       "      <th>8</th>\n",
       "      <td>unigram_pretty</td>\n",
       "      <td>0.005110</td>\n",
       "    </tr>\n",
       "    <tr>\n",
       "      <th>9</th>\n",
       "      <td>unigram_low</td>\n",
       "      <td>0.004776</td>\n",
       "    </tr>\n",
       "    <tr>\n",
       "      <th>10</th>\n",
       "      <td>scaled_avg_sentiment_score</td>\n",
       "      <td>0.004509</td>\n",
       "    </tr>\n",
       "    <tr>\n",
       "      <th>11</th>\n",
       "      <td>unigram_decent</td>\n",
       "      <td>0.004285</td>\n",
       "    </tr>\n",
       "    <tr>\n",
       "      <th>12</th>\n",
       "      <td>unigram_excellent</td>\n",
       "      <td>0.004132</td>\n",
       "    </tr>\n",
       "    <tr>\n",
       "      <th>13</th>\n",
       "      <td>unigram_flick</td>\n",
       "      <td>0.004087</td>\n",
       "    </tr>\n",
       "    <tr>\n",
       "      <th>14</th>\n",
       "      <td>unigram_budget</td>\n",
       "      <td>0.004033</td>\n",
       "    </tr>\n",
       "    <tr>\n",
       "      <th>15</th>\n",
       "      <td>unigram_horrible</td>\n",
       "      <td>0.003776</td>\n",
       "    </tr>\n",
       "    <tr>\n",
       "      <th>16</th>\n",
       "      <td>unigram_life</td>\n",
       "      <td>0.003699</td>\n",
       "    </tr>\n",
       "    <tr>\n",
       "      <th>17</th>\n",
       "      <td>unigram_wonderful</td>\n",
       "      <td>0.003446</td>\n",
       "    </tr>\n",
       "    <tr>\n",
       "      <th>18</th>\n",
       "      <td>bigram_low budget</td>\n",
       "      <td>0.003445</td>\n",
       "    </tr>\n",
       "    <tr>\n",
       "      <th>19</th>\n",
       "      <td>unigram_best</td>\n",
       "      <td>0.003433</td>\n",
       "    </tr>\n",
       "    <tr>\n",
       "      <th>20</th>\n",
       "      <td>unigram_documentary</td>\n",
       "      <td>0.003428</td>\n",
       "    </tr>\n",
       "    <tr>\n",
       "      <th>21</th>\n",
       "      <td>unigram_superb</td>\n",
       "      <td>0.003163</td>\n",
       "    </tr>\n",
       "    <tr>\n",
       "      <th>22</th>\n",
       "      <td>runtime</td>\n",
       "      <td>0.002907</td>\n",
       "    </tr>\n",
       "    <tr>\n",
       "      <th>23</th>\n",
       "      <td>unigram_brilliant</td>\n",
       "      <td>0.002890</td>\n",
       "    </tr>\n",
       "    <tr>\n",
       "      <th>24</th>\n",
       "      <td>unigram_cheesy</td>\n",
       "      <td>0.002772</td>\n",
       "    </tr>\n",
       "    <tr>\n",
       "      <th>25</th>\n",
       "      <td>unigram_good</td>\n",
       "      <td>0.002676</td>\n",
       "    </tr>\n",
       "    <tr>\n",
       "      <th>26</th>\n",
       "      <td>unigram_stupid</td>\n",
       "      <td>0.002646</td>\n",
       "    </tr>\n",
       "    <tr>\n",
       "      <th>27</th>\n",
       "      <td>unigram_cheap</td>\n",
       "      <td>0.002532</td>\n",
       "    </tr>\n",
       "    <tr>\n",
       "      <th>28</th>\n",
       "      <td>unigram_beautifully</td>\n",
       "      <td>0.002403</td>\n",
       "    </tr>\n",
       "    <tr>\n",
       "      <th>29</th>\n",
       "      <td>genre_Documentary</td>\n",
       "      <td>0.002312</td>\n",
       "    </tr>\n",
       "    <tr>\n",
       "      <th>30</th>\n",
       "      <td>years_since_release</td>\n",
       "      <td>0.002297</td>\n",
       "    </tr>\n",
       "    <tr>\n",
       "      <th>31</th>\n",
       "      <td>unigram_actually</td>\n",
       "      <td>0.002293</td>\n",
       "    </tr>\n",
       "    <tr>\n",
       "      <th>32</th>\n",
       "      <td>language_en</td>\n",
       "      <td>0.002255</td>\n",
       "    </tr>\n",
       "    <tr>\n",
       "      <th>33</th>\n",
       "      <td>unigram_plot</td>\n",
       "      <td>0.002243</td>\n",
       "    </tr>\n",
       "    <tr>\n",
       "      <th>34</th>\n",
       "      <td>unigram_masterpiece</td>\n",
       "      <td>0.002234</td>\n",
       "    </tr>\n",
       "    <tr>\n",
       "      <th>35</th>\n",
       "      <td>budget</td>\n",
       "      <td>0.002196</td>\n",
       "    </tr>\n",
       "    <tr>\n",
       "      <th>36</th>\n",
       "      <td>unigram_ok</td>\n",
       "      <td>0.002135</td>\n",
       "    </tr>\n",
       "    <tr>\n",
       "      <th>37</th>\n",
       "      <td>unigram_powerful</td>\n",
       "      <td>0.002073</td>\n",
       "    </tr>\n",
       "    <tr>\n",
       "      <th>38</th>\n",
       "      <td>bigram_waste time</td>\n",
       "      <td>0.002070</td>\n",
       "    </tr>\n",
       "    <tr>\n",
       "      <th>39</th>\n",
       "      <td>unigram_crap</td>\n",
       "      <td>0.002016</td>\n",
       "    </tr>\n",
       "    <tr>\n",
       "      <th>40</th>\n",
       "      <td>unigram_world</td>\n",
       "      <td>0.001843</td>\n",
       "    </tr>\n",
       "    <tr>\n",
       "      <th>41</th>\n",
       "      <td>unigram_cinema</td>\n",
       "      <td>0.001828</td>\n",
       "    </tr>\n",
       "    <tr>\n",
       "      <th>42</th>\n",
       "      <td>unigram_great</td>\n",
       "      <td>0.001776</td>\n",
       "    </tr>\n",
       "    <tr>\n",
       "      <th>43</th>\n",
       "      <td>bigram_bad bad</td>\n",
       "      <td>0.001764</td>\n",
       "    </tr>\n",
       "    <tr>\n",
       "      <th>44</th>\n",
       "      <td>unigram_really</td>\n",
       "      <td>0.001746</td>\n",
       "    </tr>\n",
       "    <tr>\n",
       "      <th>45</th>\n",
       "      <td>unigram_character</td>\n",
       "      <td>0.001722</td>\n",
       "    </tr>\n",
       "    <tr>\n",
       "      <th>46</th>\n",
       "      <td>bigram_bad act</td>\n",
       "      <td>0.001705</td>\n",
       "    </tr>\n",
       "    <tr>\n",
       "      <th>47</th>\n",
       "      <td>unigram_play</td>\n",
       "      <td>0.001704</td>\n",
       "    </tr>\n",
       "    <tr>\n",
       "      <th>48</th>\n",
       "      <td>unigram_horror</td>\n",
       "      <td>0.001703</td>\n",
       "    </tr>\n",
       "    <tr>\n",
       "      <th>49</th>\n",
       "      <td>unigram_year</td>\n",
       "      <td>0.001701</td>\n",
       "    </tr>\n",
       "  </tbody>\n",
       "</table>\n",
       "</div>"
      ],
      "text/plain": [
       "                           Feature  Importance\n",
       "0                 actors_avg_score    0.110062\n",
       "1              directors_max_score    0.018166\n",
       "2                      unigram_bad    0.016826\n",
       "3   production_companies_max_score    0.015221\n",
       "4                    unigram_awful    0.006787\n",
       "5                    unigram_waste    0.006042\n",
       "6                 unigram_terrible    0.005394\n",
       "7                            votes    0.005288\n",
       "8                   unigram_pretty    0.005110\n",
       "9                      unigram_low    0.004776\n",
       "10      scaled_avg_sentiment_score    0.004509\n",
       "11                  unigram_decent    0.004285\n",
       "12               unigram_excellent    0.004132\n",
       "13                   unigram_flick    0.004087\n",
       "14                  unigram_budget    0.004033\n",
       "15                unigram_horrible    0.003776\n",
       "16                    unigram_life    0.003699\n",
       "17               unigram_wonderful    0.003446\n",
       "18               bigram_low budget    0.003445\n",
       "19                    unigram_best    0.003433\n",
       "20             unigram_documentary    0.003428\n",
       "21                  unigram_superb    0.003163\n",
       "22                         runtime    0.002907\n",
       "23               unigram_brilliant    0.002890\n",
       "24                  unigram_cheesy    0.002772\n",
       "25                    unigram_good    0.002676\n",
       "26                  unigram_stupid    0.002646\n",
       "27                   unigram_cheap    0.002532\n",
       "28             unigram_beautifully    0.002403\n",
       "29               genre_Documentary    0.002312\n",
       "30             years_since_release    0.002297\n",
       "31                unigram_actually    0.002293\n",
       "32                     language_en    0.002255\n",
       "33                    unigram_plot    0.002243\n",
       "34             unigram_masterpiece    0.002234\n",
       "35                          budget    0.002196\n",
       "36                      unigram_ok    0.002135\n",
       "37                unigram_powerful    0.002073\n",
       "38               bigram_waste time    0.002070\n",
       "39                    unigram_crap    0.002016\n",
       "40                   unigram_world    0.001843\n",
       "41                  unigram_cinema    0.001828\n",
       "42                   unigram_great    0.001776\n",
       "43                  bigram_bad bad    0.001764\n",
       "44                  unigram_really    0.001746\n",
       "45               unigram_character    0.001722\n",
       "46                  bigram_bad act    0.001705\n",
       "47                    unigram_play    0.001704\n",
       "48                  unigram_horror    0.001703\n",
       "49                    unigram_year    0.001701"
      ]
     },
     "execution_count": 96,
     "metadata": {},
     "output_type": "execute_result"
    }
   ],
   "source": [
    "top_50_features "
   ]
  },
  {
   "cell_type": "markdown",
   "id": "0fae7dcc-7a70-4477-b970-49cc9b9dd8aa",
   "metadata": {},
   "source": [
    "In looking at the top 50 important features, we see that some are similar in terms of unigrams and genre (Documentary). We can see that `actors_avg_score` is relatively important compared to the other features in the model. However, it seems that it's not so overwhelmingly important that it's the only thing driving the model's predictions. Hopefully this is a fairly balanced situation where the model is using a mix of features to make its decisions. \n",
    "\n",
    "Three of the top 4 features were engineered, confirming that those features are indeed very predictive.\n",
    "\n",
    "Let's take a look at a correlation matrix and filter out the lower correlations."
   ]
  },
  {
   "cell_type": "code",
   "execution_count": 77,
   "id": "e6360873-dab4-4e0d-b83a-ee9de08d1531",
   "metadata": {
    "tags": []
   },
   "outputs": [],
   "source": [
    "# Get correlation matrix\n",
    "corr = X_train_final_df.corr()"
   ]
  },
  {
   "cell_type": "code",
   "execution_count": 101,
   "id": "a6f05613-08d6-47ed-9283-1da158650236",
   "metadata": {
    "tags": []
   },
   "outputs": [
    {
     "data": {
      "image/png": "[encoded data removed]",
      "text/plain": [
       "<Figure size 1000x800 with 2 Axes>"
      ]
     },
     "metadata": {},
     "output_type": "display_data"
    }
   ],
   "source": [
    "# Get top 15 most important features based on previous importance dataframe\n",
    "top_15_features = top_50_features['Feature'][:15]\n",
    "\n",
    "# Compute the correlation matrix for the top 15 features\n",
    "corr_top_15 = X_train_final_df[top_15_features].corr()\n",
    "\n",
    "# Plot heatmap\n",
    "plt.figure(figsize=(10, 8))\n",
    "sns.heatmap(corr_top_15, annot=True, cmap='plasma', fmt='0.2f')\n",
    "\n",
    "plt.title('Correlation Matrix for Top 15 Features')\n",
    "plt.show()"
   ]
  },
  {
   "cell_type": "code",
   "execution_count": null,
   "id": "38770c3e-90fa-4a06-9b0e-a7d03de958b6",
   "metadata": {},
   "outputs": [],
   "source": []
  }
 ],
 "metadata": {
  "kernelspec": {
   "display_name": "Python 3 (ipykernel)",
   "language": "python",
   "name": "python3"
  },
  "language_info": {
   "codemirror_mode": {
    "name": "ipython",
    "version": 3
   },
   "file_extension": ".py",
   "mimetype": "text/x-python",
   "name": "python",
   "nbconvert_exporter": "python",
   "pygments_lexer": "ipython3",
   "version": "3.11.3"
  }
 },
 "nbformat": 4,
 "nbformat_minor": 5
}
