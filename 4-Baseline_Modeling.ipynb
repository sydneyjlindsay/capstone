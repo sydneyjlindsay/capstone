{
 "cells": [
  {
   "cell_type": "markdown",
   "id": "414d7473-5582-4329-a025-dda84f3f0612",
   "metadata": {},
   "source": [
    "# Baseline Modeling"
   ]
  },
  {
   "cell_type": "markdown",
   "id": "138824f9-6eda-4cde-b8f4-a965598ac652",
   "metadata": {},
   "source": [
    "We've completed our initial data cleaning and EDA, and now we'll be completing final data preparation/pre-processing, feature engineering, and running a baseline logistic regression model. "
   ]
  },
  {
   "cell_type": "markdown",
   "id": "b98a4c02-5f5c-438e-8645-775ce451a04f",
   "metadata": {},
   "source": [
    "Let's start by importing our two datasets."
   ]
  },
  {
   "cell_type": "code",
   "execution_count": 70,
   "id": "d98d230e-33ba-4734-bacd-3bb9e678d8fd",
   "metadata": {
    "tags": []
   },
   "outputs": [],
   "source": [
    "# Import basic packages \n",
    "import pandas as pd \n",
    "import numpy as np\n",
    "import matplotlib.pyplot as plt"
   ]
  },
  {
   "cell_type": "code",
   "execution_count": 71,
   "id": "47098666-7714-4deb-b87d-d8f78422578d",
   "metadata": {
    "tags": []
   },
   "outputs": [],
   "source": [
    "# Load metadata\n",
    "metadata = pd.read_json('data/model_data/metadata.json', lines=True)"
   ]
  },
  {
   "cell_type": "code",
   "execution_count": 72,
   "id": "b2dbd684-cf0c-49c2-88eb-e85ecef23f04",
   "metadata": {
    "tags": []
   },
   "outputs": [],
   "source": [
    "# Load reviews data\n",
    "reviews = pd.read_json('data/model_data/reviews.json', lines=True)"
   ]
  },
  {
   "cell_type": "code",
   "execution_count": 73,
   "id": "57815fdb-c683-4433-bcb0-f6bf71eedf52",
   "metadata": {
    "tags": []
   },
   "outputs": [
    {
     "name": "stdout",
     "output_type": "stream",
     "text": [
      "<class 'pandas.core.frame.DataFrame'>\n",
      "RangeIndex: 49378 entries, 0 to 49377\n",
      "Data columns (total 15 columns):\n",
      " #   Column                Non-Null Count  Dtype  \n",
      "---  ------                --------------  -----  \n",
      " 0   imdb_id               49378 non-null  object \n",
      " 1   title                 49378 non-null  object \n",
      " 2   actors                49378 non-null  object \n",
      " 3   directors             49378 non-null  object \n",
      " 4   genres                49378 non-null  object \n",
      " 5   language_en           49378 non-null  int64  \n",
      " 6   year                  49378 non-null  int64  \n",
      " 7   runtime               49378 non-null  int64  \n",
      " 8   budget                17818 non-null  float64\n",
      " 9   box_office_gross      21049 non-null  float64\n",
      " 10  production_companies  49378 non-null  object \n",
      " 11  votes                 49378 non-null  int64  \n",
      " 12  rating                49378 non-null  float64\n",
      " 13  rating_category       49378 non-null  object \n",
      " 14  decade                49378 non-null  int64  \n",
      "dtypes: float64(3), int64(5), object(7)\n",
      "memory usage: 5.7+ MB\n"
     ]
    }
   ],
   "source": [
    "# Sanity check \n",
    "metadata.info()"
   ]
  },
  {
   "cell_type": "code",
   "execution_count": 74,
   "id": "84396db8-811f-46d8-b765-d4af53e3cb6b",
   "metadata": {
    "tags": []
   },
   "outputs": [
    {
     "name": "stdout",
     "output_type": "stream",
     "text": [
      "<class 'pandas.core.frame.DataFrame'>\n",
      "RangeIndex: 3146437 entries, 0 to 3146436\n",
      "Data columns (total 5 columns):\n",
      " #   Column           Dtype  \n",
      "---  ------           -----  \n",
      " 0   imdb_id          object \n",
      " 1   review_text      object \n",
      " 2   rating           float64\n",
      " 3   rating_category  object \n",
      " 4   review_length    int64  \n",
      "dtypes: float64(1), int64(1), object(3)\n",
      "memory usage: 120.0+ MB\n"
     ]
    }
   ],
   "source": [
    "# Sanity check \n",
    "reviews.info()"
   ]
  },
  {
   "cell_type": "markdown",
   "id": "ae313974-2970-4d29-b769-696671a52ac3",
   "metadata": {},
   "source": [
    "We'll start by creating a new dataframe for our modeling data. The first step is for us to add a \"count of reviews\" feature to the final dataframe that we'll use to normalize the amount of review text per movie. \n",
    "\n",
    "Then we will combine our review text with our meatdata in a new dataframe."
   ]
  },
  {
   "cell_type": "code",
   "execution_count": 75,
   "id": "09965e98-edbb-4c74-b015-9ca854cb1caf",
   "metadata": {
    "tags": []
   },
   "outputs": [],
   "source": [
    "# Count the number of reviews per 'imdb_id'\n",
    "count_reviews = reviews.groupby('imdb_id')['review_text'].count().reset_index()\n",
    "count_reviews = count_reviews.rename(columns={'review_text': 'review_count'})"
   ]
  },
  {
   "cell_type": "code",
   "execution_count": 76,
   "id": "05f4aabf-48f2-4594-9f86-5dd826f12cc7",
   "metadata": {
    "tags": []
   },
   "outputs": [],
   "source": [
    "# Group reviews by 'imdb_id'\n",
    "grouped_reviews = reviews.groupby('imdb_id')['review_text'].agg(' '.join).reset_index()"
   ]
  },
  {
   "cell_type": "code",
   "execution_count": 77,
   "id": "f273ca27-7e50-476c-b4f2-47e46c398c80",
   "metadata": {
    "tags": []
   },
   "outputs": [],
   "source": [
    "# Add the review count to the grouped_reviews\n",
    "grouped_reviews = grouped_reviews.merge(count_reviews, on='imdb_id', how='left')"
   ]
  },
  {
   "cell_type": "code",
   "execution_count": 78,
   "id": "4fbd3ea5-96bc-420b-8178-a41174fd5f5b",
   "metadata": {
    "tags": []
   },
   "outputs": [],
   "source": [
    "# Join with metadata \n",
    "final_df = metadata.merge(grouped_reviews, on='imdb_id', how='inner')"
   ]
  },
  {
   "cell_type": "code",
   "execution_count": 79,
   "id": "faaf3573-59ab-4206-b168-bb209e0d2365",
   "metadata": {
    "tags": []
   },
   "outputs": [
    {
     "name": "stdout",
     "output_type": "stream",
     "text": [
      "<class 'pandas.core.frame.DataFrame'>\n",
      "RangeIndex: 49378 entries, 0 to 49377\n",
      "Data columns (total 17 columns):\n",
      " #   Column                Non-Null Count  Dtype  \n",
      "---  ------                --------------  -----  \n",
      " 0   imdb_id               49378 non-null  object \n",
      " 1   title                 49378 non-null  object \n",
      " 2   actors                49378 non-null  object \n",
      " 3   directors             49378 non-null  object \n",
      " 4   genres                49378 non-null  object \n",
      " 5   language_en           49378 non-null  int64  \n",
      " 6   year                  49378 non-null  int64  \n",
      " 7   runtime               49378 non-null  int64  \n",
      " 8   budget                17818 non-null  float64\n",
      " 9   box_office_gross      21049 non-null  float64\n",
      " 10  production_companies  49378 non-null  object \n",
      " 11  votes                 49378 non-null  int64  \n",
      " 12  rating                49378 non-null  float64\n",
      " 13  rating_category       49378 non-null  object \n",
      " 14  decade                49378 non-null  int64  \n",
      " 15  review_text           49378 non-null  object \n",
      " 16  review_count          49378 non-null  int64  \n",
      "dtypes: float64(3), int64(6), object(8)\n",
      "memory usage: 6.4+ MB\n"
     ]
    }
   ],
   "source": [
    "# Sanity check\n",
    "final_df.info()"
   ]
  },
  {
   "cell_type": "code",
   "execution_count": 80,
   "id": "6520abdc-c77a-4539-a990-ab2811e55f33",
   "metadata": {
    "tags": []
   },
   "outputs": [
    {
     "data": {
      "text/html": [
       "<div>\n",
       "<style scoped>\n",
       "    .dataframe tbody tr th:only-of-type {\n",
       "        vertical-align: middle;\n",
       "    }\n",
       "\n",
       "    .dataframe tbody tr th {\n",
       "        vertical-align: top;\n",
       "    }\n",
       "\n",
       "    .dataframe thead th {\n",
       "        text-align: right;\n",
       "    }\n",
       "</style>\n",
       "<table border=\"1\" class=\"dataframe\">\n",
       "  <thead>\n",
       "    <tr style=\"text-align: right;\">\n",
       "      <th></th>\n",
       "      <th>imdb_id</th>\n",
       "      <th>title</th>\n",
       "      <th>actors</th>\n",
       "      <th>directors</th>\n",
       "      <th>genres</th>\n",
       "      <th>language_en</th>\n",
       "      <th>year</th>\n",
       "      <th>runtime</th>\n",
       "      <th>budget</th>\n",
       "      <th>box_office_gross</th>\n",
       "      <th>production_companies</th>\n",
       "      <th>votes</th>\n",
       "      <th>rating</th>\n",
       "      <th>rating_category</th>\n",
       "      <th>decade</th>\n",
       "      <th>review_text</th>\n",
       "      <th>review_count</th>\n",
       "    </tr>\n",
       "  </thead>\n",
       "  <tbody>\n",
       "    <tr>\n",
       "      <th>0</th>\n",
       "      <td>tt0004972</td>\n",
       "      <td>The Birth of a Nation</td>\n",
       "      <td>[Lillian Gish,Mae Marsh,Henry B. Walthall,Miri...</td>\n",
       "      <td>[D.W. Griffith]</td>\n",
       "      <td>[Drama, History, War]</td>\n",
       "      <td>1</td>\n",
       "      <td>1915</td>\n",
       "      <td>195</td>\n",
       "      <td>100000.000</td>\n",
       "      <td>10000000.000</td>\n",
       "      <td>[Epoch Film Co.]</td>\n",
       "      <td>25782</td>\n",
       "      <td>6.200</td>\n",
       "      <td>Average</td>\n",
       "      <td>1910</td>\n",
       "      <td>unbelievable; I cannot understand how anyone c...</td>\n",
       "      <td>329</td>\n",
       "    </tr>\n",
       "    <tr>\n",
       "      <th>1</th>\n",
       "      <td>tt0023622</td>\n",
       "      <td>Trouble in Paradise</td>\n",
       "      <td>[Miriam Hopkins,Kay Francis,Herbert Marshall,C...</td>\n",
       "      <td>[Ernst Lubitsch]</td>\n",
       "      <td>[Comedy, Crime, Romance]</td>\n",
       "      <td>1</td>\n",
       "      <td>1932</td>\n",
       "      <td>83</td>\n",
       "      <td>519706.000</td>\n",
       "      <td>1035500.000</td>\n",
       "      <td>[Paramount]</td>\n",
       "      <td>15707</td>\n",
       "      <td>8.000</td>\n",
       "      <td>Excellent</td>\n",
       "      <td>1930</td>\n",
       "      <td>I'm still starry-eyed from it; I saw this last...</td>\n",
       "      <td>64</td>\n",
       "    </tr>\n",
       "    <tr>\n",
       "      <th>2</th>\n",
       "      <td>tt0118688</td>\n",
       "      <td>Batman &amp; Robin</td>\n",
       "      <td>[Arnold Schwarzenegger,George Clooney,Chris OD...</td>\n",
       "      <td>[Joel Schumacher]</td>\n",
       "      <td>[Action, Sci-Fi]</td>\n",
       "      <td>1</td>\n",
       "      <td>1997</td>\n",
       "      <td>125</td>\n",
       "      <td>125000000.000</td>\n",
       "      <td>107325195.000</td>\n",
       "      <td>[DC Comics, PolyGram Filmed Entertainment, War...</td>\n",
       "      <td>263149</td>\n",
       "      <td>3.800</td>\n",
       "      <td>Poor</td>\n",
       "      <td>1990</td>\n",
       "      <td>Failed on every Front; Joel Schumacher who did...</td>\n",
       "      <td>1675</td>\n",
       "    </tr>\n",
       "    <tr>\n",
       "      <th>3</th>\n",
       "      <td>tt0346491</td>\n",
       "      <td>Alexander</td>\n",
       "      <td>[Colin Farrell,Anthony Hopkins,Rosario Dawson,...</td>\n",
       "      <td>[Oliver Stone]</td>\n",
       "      <td>[Action, Biography, Drama]</td>\n",
       "      <td>1</td>\n",
       "      <td>2004</td>\n",
       "      <td>175</td>\n",
       "      <td>155000000.000</td>\n",
       "      <td>34297191.000</td>\n",
       "      <td>[France 3 Cinéma, WR Universal Group, Warner B...</td>\n",
       "      <td>173996</td>\n",
       "      <td>5.600</td>\n",
       "      <td>Average</td>\n",
       "      <td>2000</td>\n",
       "      <td>Poor Casting, Poor script Poor direction.; I h...</td>\n",
       "      <td>1399</td>\n",
       "    </tr>\n",
       "    <tr>\n",
       "      <th>4</th>\n",
       "      <td>tt0094721</td>\n",
       "      <td>Beetlejuice</td>\n",
       "      <td>[Alec Baldwin,Geena Davis,Michael Keaton,Annie...</td>\n",
       "      <td>[Tim Burton]</td>\n",
       "      <td>[Comedy, Fantasy]</td>\n",
       "      <td>1</td>\n",
       "      <td>1988</td>\n",
       "      <td>92</td>\n",
       "      <td>15000000.000</td>\n",
       "      <td>73707461.000</td>\n",
       "      <td>[Warner Bros. Pictures, Geffen Pictures]</td>\n",
       "      <td>321436</td>\n",
       "      <td>7.500</td>\n",
       "      <td>Excellent</td>\n",
       "      <td>1980</td>\n",
       "      <td>An Accomplished Tim Burton Movie; A Great Idea...</td>\n",
       "      <td>320</td>\n",
       "    </tr>\n",
       "  </tbody>\n",
       "</table>\n",
       "</div>"
      ],
      "text/plain": [
       "     imdb_id                  title  \\\n",
       "0  tt0004972  The Birth of a Nation   \n",
       "1  tt0023622    Trouble in Paradise   \n",
       "2  tt0118688         Batman & Robin   \n",
       "3  tt0346491              Alexander   \n",
       "4  tt0094721            Beetlejuice   \n",
       "\n",
       "                                              actors          directors  \\\n",
       "0  [Lillian Gish,Mae Marsh,Henry B. Walthall,Miri...    [D.W. Griffith]   \n",
       "1  [Miriam Hopkins,Kay Francis,Herbert Marshall,C...   [Ernst Lubitsch]   \n",
       "2  [Arnold Schwarzenegger,George Clooney,Chris OD...  [Joel Schumacher]   \n",
       "3  [Colin Farrell,Anthony Hopkins,Rosario Dawson,...     [Oliver Stone]   \n",
       "4  [Alec Baldwin,Geena Davis,Michael Keaton,Annie...       [Tim Burton]   \n",
       "\n",
       "                       genres  language_en  year  runtime        budget  \\\n",
       "0       [Drama, History, War]            1  1915      195    100000.000   \n",
       "1    [Comedy, Crime, Romance]            1  1932       83    519706.000   \n",
       "2            [Action, Sci-Fi]            1  1997      125 125000000.000   \n",
       "3  [Action, Biography, Drama]            1  2004      175 155000000.000   \n",
       "4           [Comedy, Fantasy]            1  1988       92  15000000.000   \n",
       "\n",
       "   box_office_gross                               production_companies  \\\n",
       "0      10000000.000                                   [Epoch Film Co.]   \n",
       "1       1035500.000                                        [Paramount]   \n",
       "2     107325195.000  [DC Comics, PolyGram Filmed Entertainment, War...   \n",
       "3      34297191.000  [France 3 Cinéma, WR Universal Group, Warner B...   \n",
       "4      73707461.000           [Warner Bros. Pictures, Geffen Pictures]   \n",
       "\n",
       "    votes  rating rating_category  decade  \\\n",
       "0   25782   6.200         Average    1910   \n",
       "1   15707   8.000       Excellent    1930   \n",
       "2  263149   3.800            Poor    1990   \n",
       "3  173996   5.600         Average    2000   \n",
       "4  321436   7.500       Excellent    1980   \n",
       "\n",
       "                                         review_text  review_count  \n",
       "0  unbelievable; I cannot understand how anyone c...           329  \n",
       "1  I'm still starry-eyed from it; I saw this last...            64  \n",
       "2  Failed on every Front; Joel Schumacher who did...          1675  \n",
       "3  Poor Casting, Poor script Poor direction.; I h...          1399  \n",
       "4  An Accomplished Tim Burton Movie; A Great Idea...           320  "
      ]
     },
     "execution_count": 80,
     "metadata": {},
     "output_type": "execute_result"
    }
   ],
   "source": [
    "# Check\n",
    "final_df.head()"
   ]
  },
  {
   "cell_type": "markdown",
   "id": "d64fd88b-bb4b-47b0-ac7d-43d4f8c1fdb1",
   "metadata": {},
   "source": [
    "##### Train Test Split \n",
    "Now that we have our final dataframe with concatenated review text for each movie, the next step is to complete our train test split before doing any feature engineering."
   ]
  },
  {
   "cell_type": "code",
   "execution_count": 81,
   "id": "74abe074-f8b3-4f50-bd7e-f7d50464e21d",
   "metadata": {
    "tags": []
   },
   "outputs": [],
   "source": [
    "from sklearn.model_selection import train_test_split\n",
    "\n",
    "# Splitting the data into 80% training and 20% testing\n",
    "train_df, test_df = train_test_split(final_df, test_size=0.2, random_state=42)"
   ]
  },
  {
   "cell_type": "markdown",
   "id": "9a98645a-9158-4a76-a8c5-e64d734ec522",
   "metadata": {
    "tags": []
   },
   "source": [
    "We'll bring over the feature engineering task list that we created during EDA: \n",
    "\n",
    "#### Feature Engineering Task List\n",
    "To summarize the decisioncs we've made regarding feature engineering: \n",
    "- ~Bin Ratings into categories using quantiles~ \n",
    "    - Drop `ratings` feature \n",
    "- ~Bin `year` into decades~ \n",
    "    - Drop `year` feature\n",
    "- For `actors`, `directors`, and `production_companies`, gather top 10 and one hot encode \n",
    "    - Drop original columns \n",
    "- For `genres`, explode out into columns and one hot encode to retain all genre information \n",
    "- Drop `title` \n",
    "- Keep `votes`, `budget`, and `box_office_gross` as integers \n",
    "- Keep `runtime` as integer "
   ]
  },
  {
   "cell_type": "markdown",
   "id": "a8a90bdf-0244-4907-8b4b-6b8f1ee1ccf3",
   "metadata": {},
   "source": [
    "We'll start by dropping the year, rating, and title columns. We have binned the ratings into categories (because we're focusing on classification), and binned the years into decades to simplify features. Title will not be a predictive feature in our model."
   ]
  },
  {
   "cell_type": "code",
   "execution_count": 82,
   "id": "eebc500c-0c88-4e49-81fb-d65730d98c51",
   "metadata": {
    "tags": []
   },
   "outputs": [],
   "source": [
    "# Drop ratings, year, and title features \n",
    "train_df = train_df.drop(columns=['year', 'rating', 'title'])\n",
    "test_df = test_df.drop(columns=['year', 'rating', 'title'])"
   ]
  },
  {
   "cell_type": "markdown",
   "id": "b626f8fa-5c76-43b7-a0cc-0859be993dc5",
   "metadata": {
    "tags": []
   },
   "source": [
    "#### Decade \n",
    "We decided to use decade as a categorical vs numerical feature, to attempt to capture non-linear relationships in the data. Since decade is currently stored as an integer, we'll first convert to a string and then one hot encode each of the decade columns."
   ]
  },
  {
   "cell_type": "code",
   "execution_count": 83,
   "id": "d6402a39-fe01-4b9e-8fdf-49df98478c0d",
   "metadata": {
    "tags": []
   },
   "outputs": [],
   "source": [
    "# Convert decade to strings\n",
    "train_df['decade'] = train_df['decade'].astype(str)\n",
    "test_df['decade'] = test_df['decade'].astype(str)"
   ]
  },
  {
   "cell_type": "code",
   "execution_count": 84,
   "id": "1f83f244-324e-4d14-a854-772529ea551a",
   "metadata": {
    "tags": []
   },
   "outputs": [],
   "source": [
    "# One hot encode decade \n",
    "\n",
    "# For train dataset\n",
    "train_decade_dummies = pd.get_dummies(train_df['decade'], prefix='decade')\n",
    "train_df = pd.concat([train_df, train_decade_dummies], axis=1)\n",
    "\n",
    "# For test dataset\n",
    "test_decade_dummies = pd.get_dummies(test_df['decade'], prefix='decade')\n",
    "test_df = pd.concat([test_df, test_decade_dummies], axis=1)"
   ]
  },
  {
   "cell_type": "code",
   "execution_count": 85,
   "id": "6482e8a4-26fb-4f05-9bb9-853a52a9f2ba",
   "metadata": {
    "tags": []
   },
   "outputs": [],
   "source": [
    "# Drop original decade column\n",
    "train_df.drop('decade', axis=1, inplace=True)\n",
    "test_df.drop('decade', axis=1, inplace=True)"
   ]
  },
  {
   "cell_type": "code",
   "execution_count": 86,
   "id": "5ef2c109-7cab-42ac-98a6-1c6e124a9614",
   "metadata": {
    "tags": []
   },
   "outputs": [
    {
     "name": "stdout",
     "output_type": "stream",
     "text": [
      "<class 'pandas.core.frame.DataFrame'>\n",
      "Index: 39502 entries, 21268 to 15795\n",
      "Data columns (total 25 columns):\n",
      " #   Column                Non-Null Count  Dtype  \n",
      "---  ------                --------------  -----  \n",
      " 0   imdb_id               39502 non-null  object \n",
      " 1   actors                39502 non-null  object \n",
      " 2   directors             39502 non-null  object \n",
      " 3   genres                39502 non-null  object \n",
      " 4   language_en           39502 non-null  int64  \n",
      " 5   runtime               39502 non-null  int64  \n",
      " 6   budget                14251 non-null  float64\n",
      " 7   box_office_gross      16792 non-null  float64\n",
      " 8   production_companies  39502 non-null  object \n",
      " 9   votes                 39502 non-null  int64  \n",
      " 10  rating_category       39502 non-null  object \n",
      " 11  review_text           39502 non-null  object \n",
      " 12  review_count          39502 non-null  int64  \n",
      " 13  decade_1900           39502 non-null  bool   \n",
      " 14  decade_1910           39502 non-null  bool   \n",
      " 15  decade_1920           39502 non-null  bool   \n",
      " 16  decade_1930           39502 non-null  bool   \n",
      " 17  decade_1940           39502 non-null  bool   \n",
      " 18  decade_1950           39502 non-null  bool   \n",
      " 19  decade_1960           39502 non-null  bool   \n",
      " 20  decade_1970           39502 non-null  bool   \n",
      " 21  decade_1980           39502 non-null  bool   \n",
      " 22  decade_1990           39502 non-null  bool   \n",
      " 23  decade_2000           39502 non-null  bool   \n",
      " 24  decade_2010           39502 non-null  bool   \n",
      "dtypes: bool(12), float64(2), int64(4), object(7)\n",
      "memory usage: 4.7+ MB\n"
     ]
    }
   ],
   "source": [
    "# Check\n",
    "train_df.info()"
   ]
  },
  {
   "cell_type": "markdown",
   "id": "cfa1ffe3-1535-45a4-b20e-7d148c6d7f6a",
   "metadata": {},
   "source": [
    "Let's convert decade to int instead of bool datatype for consistency."
   ]
  },
  {
   "cell_type": "code",
   "execution_count": 87,
   "id": "fd2913b6-96e1-45b1-82f8-7be51a8dcdec",
   "metadata": {
    "tags": []
   },
   "outputs": [],
   "source": [
    "# Convert decade columns to int instead of bool \n",
    "\n",
    "for col in train_df.columns:\n",
    "    if train_df[col].dtype == 'bool':\n",
    "        train_df[col] = train_df[col].astype(int)\n",
    "\n",
    "for col in test_df.columns:\n",
    "    if test_df[col].dtype == 'bool':\n",
    "        test_df[col] = test_df[col].astype(int)"
   ]
  },
  {
   "cell_type": "code",
   "execution_count": 88,
   "id": "55a915c0-410e-4320-a356-321ac393f473",
   "metadata": {
    "tags": []
   },
   "outputs": [
    {
     "name": "stdout",
     "output_type": "stream",
     "text": [
      "<class 'pandas.core.frame.DataFrame'>\n",
      "Index: 39502 entries, 21268 to 15795\n",
      "Data columns (total 25 columns):\n",
      " #   Column                Non-Null Count  Dtype  \n",
      "---  ------                --------------  -----  \n",
      " 0   imdb_id               39502 non-null  object \n",
      " 1   actors                39502 non-null  object \n",
      " 2   directors             39502 non-null  object \n",
      " 3   genres                39502 non-null  object \n",
      " 4   language_en           39502 non-null  int64  \n",
      " 5   runtime               39502 non-null  int64  \n",
      " 6   budget                14251 non-null  float64\n",
      " 7   box_office_gross      16792 non-null  float64\n",
      " 8   production_companies  39502 non-null  object \n",
      " 9   votes                 39502 non-null  int64  \n",
      " 10  rating_category       39502 non-null  object \n",
      " 11  review_text           39502 non-null  object \n",
      " 12  review_count          39502 non-null  int64  \n",
      " 13  decade_1900           39502 non-null  int64  \n",
      " 14  decade_1910           39502 non-null  int64  \n",
      " 15  decade_1920           39502 non-null  int64  \n",
      " 16  decade_1930           39502 non-null  int64  \n",
      " 17  decade_1940           39502 non-null  int64  \n",
      " 18  decade_1950           39502 non-null  int64  \n",
      " 19  decade_1960           39502 non-null  int64  \n",
      " 20  decade_1970           39502 non-null  int64  \n",
      " 21  decade_1980           39502 non-null  int64  \n",
      " 22  decade_1990           39502 non-null  int64  \n",
      " 23  decade_2000           39502 non-null  int64  \n",
      " 24  decade_2010           39502 non-null  int64  \n",
      "dtypes: float64(2), int64(16), object(7)\n",
      "memory usage: 7.8+ MB\n"
     ]
    }
   ],
   "source": [
    "# Check\n",
    "train_df.info()"
   ]
  },
  {
   "cell_type": "markdown",
   "id": "0e099f4e-1317-4228-9c76-daa6bf404fd5",
   "metadata": {
    "tags": []
   },
   "source": [
    "#### One Hot Encoding for Actors, Directors, Production Companies\n",
    "Now, we'll move on to retreiving the top 10 actors, directors, and production companies in Good and Excellent rated movies, for both datasets, and then one hot encode those into new columns. We'll define a function similar to the one we used in the EDA notebook to get the top 10 entities in each category. \n",
    "\n",
    "Theoretically, this shouldn't introduce any data leakage, since we'll use only the entities present in the training dataset to encode features for the test set. This is like simulating the real-world scenario: we are basing predictions solely on what we've seen so far, without peeking at data we shouldn’t have access to yet. What we learn from the training set should generalize to the test set and, by extension, to future data."
   ]
  },
  {
   "cell_type": "code",
   "execution_count": 89,
   "id": "367be6fa-ec60-4c42-9412-9dc935a46d00",
   "metadata": {
    "tags": []
   },
   "outputs": [],
   "source": [
    "from collections import Counter\n",
    "\n",
    "# Define function to get top entities\n",
    "def get_top_n_entities(train_df, column, n=10, high_ratings=['Good', 'Excellent']):\n",
    "    \n",
    "    # Filter to only include rows where 'rating_category' is in high_ratings\n",
    "    df_filtered = train_df[train_df['rating_category'].isin(high_ratings)]\n",
    "    \n",
    "    # Flatten the list of lists\n",
    "    all_entities = [entity for sublist in df_filtered[column].dropna() for entity in sublist]\n",
    "    \n",
    "    # Count occurrences of each entity\n",
    "    entity_counts = Counter(all_entities)\n",
    "    \n",
    "    # Get the top N entities\n",
    "    top_n_entities = [entity for entity, count in entity_counts.most_common(n)]\n",
    "    \n",
    "    return top_n_entities"
   ]
  },
  {
   "cell_type": "code",
   "execution_count": 90,
   "id": "a37d75ce-76ba-4e6b-b988-3ae131ee2d95",
   "metadata": {
    "tags": []
   },
   "outputs": [],
   "source": [
    "# Getting top 10 directors \n",
    "top_10_directors = get_top_n_entities(train_df, 'directors')"
   ]
  },
  {
   "cell_type": "code",
   "execution_count": 91,
   "id": "6385810b-ea23-4285-872b-aa5b8004be7d",
   "metadata": {
    "tags": []
   },
   "outputs": [],
   "source": [
    "# Getting top 10 actors \n",
    "top_10_actors = get_top_n_entities(train_df, 'actors')"
   ]
  },
  {
   "cell_type": "code",
   "execution_count": 92,
   "id": "65243675-dec6-4767-83a5-c9ab644e884d",
   "metadata": {
    "tags": []
   },
   "outputs": [],
   "source": [
    "# Get top 10 production companies\n",
    "top_10_producers = get_top_n_entities(train_df, 'production_companies')"
   ]
  },
  {
   "cell_type": "markdown",
   "id": "2264ac42-9de6-4e13-8bc5-90f7214f6b54",
   "metadata": {},
   "source": [
    "We've saved the top 10 entities for each category, based on the train data. Now we can one hot encode them and add new features to both datasets."
   ]
  },
  {
   "cell_type": "code",
   "execution_count": 93,
   "id": "210189a9-c168-4b64-ba3f-65b787557d0d",
   "metadata": {
    "tags": []
   },
   "outputs": [],
   "source": [
    "# Define function to one hot encode top entities with prefix\n",
    "def add_top_n_features(df, top_n_entities, column, prefix):\n",
    "    for entity in top_n_entities:\n",
    "        df[f'{prefix}_{entity}'] = df[column].apply(lambda x: 1 if entity in x else 0)"
   ]
  },
  {
   "cell_type": "code",
   "execution_count": 94,
   "id": "8ccb0a8a-c151-4194-845d-9985a092274d",
   "metadata": {
    "tags": []
   },
   "outputs": [],
   "source": [
    "# Add director features to train and test\n",
    "add_top_n_features(train_df, top_10_directors, 'directors', 'has_director')\n",
    "add_top_n_features(test_df, top_10_directors, 'directors', 'has_director')"
   ]
  },
  {
   "cell_type": "code",
   "execution_count": 95,
   "id": "0473627b-5296-4dce-9b72-0fde85323ff0",
   "metadata": {
    "tags": []
   },
   "outputs": [],
   "source": [
    "# Add actor features to train and test\n",
    "add_top_n_features(train_df, top_10_actors, 'actors', 'has_actor')\n",
    "add_top_n_features(test_df, top_10_actors, 'actors', 'has_actor')"
   ]
  },
  {
   "cell_type": "code",
   "execution_count": 96,
   "id": "8cbda21d-06c6-4780-9a82-6a55bdd96bb9",
   "metadata": {
    "tags": []
   },
   "outputs": [],
   "source": [
    "# Add production features to train and test\n",
    "add_top_n_features(train_df, top_10_producers, 'production_companies', 'has')\n",
    "add_top_n_features(test_df, top_10_producers, 'production_companies', 'has')"
   ]
  },
  {
   "cell_type": "code",
   "execution_count": 97,
   "id": "fedfae66-7a4a-45c8-b263-37f0af31d0cf",
   "metadata": {
    "tags": []
   },
   "outputs": [
    {
     "name": "stdout",
     "output_type": "stream",
     "text": [
      "<class 'pandas.core.frame.DataFrame'>\n",
      "Index: 9876 entries, 18148 to 12557\n",
      "Data columns (total 55 columns):\n",
      " #   Column                        Non-Null Count  Dtype  \n",
      "---  ------                        --------------  -----  \n",
      " 0   imdb_id                       9876 non-null   object \n",
      " 1   actors                        9876 non-null   object \n",
      " 2   directors                     9876 non-null   object \n",
      " 3   genres                        9876 non-null   object \n",
      " 4   language_en                   9876 non-null   int64  \n",
      " 5   runtime                       9876 non-null   int64  \n",
      " 6   budget                        3567 non-null   float64\n",
      " 7   box_office_gross              4257 non-null   float64\n",
      " 8   production_companies          9876 non-null   object \n",
      " 9   votes                         9876 non-null   int64  \n",
      " 10  rating_category               9876 non-null   object \n",
      " 11  review_text                   9876 non-null   object \n",
      " 12  review_count                  9876 non-null   int64  \n",
      " 13  decade_1900                   9876 non-null   int64  \n",
      " 14  decade_1910                   9876 non-null   int64  \n",
      " 15  decade_1920                   9876 non-null   int64  \n",
      " 16  decade_1930                   9876 non-null   int64  \n",
      " 17  decade_1940                   9876 non-null   int64  \n",
      " 18  decade_1950                   9876 non-null   int64  \n",
      " 19  decade_1960                   9876 non-null   int64  \n",
      " 20  decade_1970                   9876 non-null   int64  \n",
      " 21  decade_1980                   9876 non-null   int64  \n",
      " 22  decade_1990                   9876 non-null   int64  \n",
      " 23  decade_2000                   9876 non-null   int64  \n",
      " 24  decade_2010                   9876 non-null   int64  \n",
      " 25  has_director_Michael Curtiz   9876 non-null   int64  \n",
      " 26  has_director_John Ford        9876 non-null   int64  \n",
      " 27  has_director_Werner Herzog    9876 non-null   int64  \n",
      " 28  has_director_Mervyn LeRoy     9876 non-null   int64  \n",
      " 29  has_director_Woody Allen      9876 non-null   int64  \n",
      " 30  has_director_Ingmar Bergman   9876 non-null   int64  \n",
      " 31  has_director_Martin Scorsese  9876 non-null   int64  \n",
      " 32  has_director_Fritz Lang       9876 non-null   int64  \n",
      " 33  has_director_Raoul Walsh      9876 non-null   int64  \n",
      " 34  has_director_William Wyler    9876 non-null   int64  \n",
      " 35  has_actor_Clarence Nash       9876 non-null   int64  \n",
      " 36  has_actor_Bette Davis         9876 non-null   int64  \n",
      " 37  has_actor_Werner Herzog       9876 non-null   int64  \n",
      " 38  has_actor_Meryl Streep        9876 non-null   int64  \n",
      " 39  has_actor_Woody Allen         9876 non-null   int64  \n",
      " 40  has_actor_Mia Farrow          9876 non-null   int64  \n",
      " 41  has_actor_Jack Lemmon         9876 non-null   int64  \n",
      " 42  has_actor_Cary Grant          9876 non-null   int64  \n",
      " 43  has_actor_Julianne Moore      9876 non-null   int64  \n",
      " 44  has_actor_Masako Nozawa       9876 non-null   int64  \n",
      " 45  has_Metro-Goldwyn-Mayer       9876 non-null   int64  \n",
      " 46  has_Warner Bros. Pictures     9876 non-null   int64  \n",
      " 47  has_Paramount                 9876 non-null   int64  \n",
      " 48  has_20th Century Fox          9876 non-null   int64  \n",
      " 49  has_Columbia Pictures         9876 non-null   int64  \n",
      " 50  has_Universal Pictures        9876 non-null   int64  \n",
      " 51  has_Walt Disney Pictures      9876 non-null   int64  \n",
      " 52  has_United Artists            9876 non-null   int64  \n",
      " 53  has_RKO Radio Pictures        9876 non-null   int64  \n",
      " 54  has_Mosfilm                   9876 non-null   int64  \n",
      "dtypes: float64(2), int64(46), object(7)\n",
      "memory usage: 4.2+ MB\n"
     ]
    }
   ],
   "source": [
    "# Sanity check\n",
    "test_df.info()"
   ]
  },
  {
   "cell_type": "code",
   "execution_count": 98,
   "id": "17a2fba7-710c-4d68-a2ab-16afc815fb5d",
   "metadata": {
    "tags": []
   },
   "outputs": [
    {
     "data": {
      "text/html": [
       "<div>\n",
       "<style scoped>\n",
       "    .dataframe tbody tr th:only-of-type {\n",
       "        vertical-align: middle;\n",
       "    }\n",
       "\n",
       "    .dataframe tbody tr th {\n",
       "        vertical-align: top;\n",
       "    }\n",
       "\n",
       "    .dataframe thead th {\n",
       "        text-align: right;\n",
       "    }\n",
       "</style>\n",
       "<table border=\"1\" class=\"dataframe\">\n",
       "  <thead>\n",
       "    <tr style=\"text-align: right;\">\n",
       "      <th></th>\n",
       "      <th>imdb_id</th>\n",
       "      <th>actors</th>\n",
       "      <th>directors</th>\n",
       "      <th>genres</th>\n",
       "      <th>language_en</th>\n",
       "      <th>runtime</th>\n",
       "      <th>budget</th>\n",
       "      <th>box_office_gross</th>\n",
       "      <th>production_companies</th>\n",
       "      <th>votes</th>\n",
       "      <th>...</th>\n",
       "      <th>has_Metro-Goldwyn-Mayer</th>\n",
       "      <th>has_Warner Bros. Pictures</th>\n",
       "      <th>has_Paramount</th>\n",
       "      <th>has_20th Century Fox</th>\n",
       "      <th>has_Columbia Pictures</th>\n",
       "      <th>has_Universal Pictures</th>\n",
       "      <th>has_Walt Disney Pictures</th>\n",
       "      <th>has_United Artists</th>\n",
       "      <th>has_RKO Radio Pictures</th>\n",
       "      <th>has_Mosfilm</th>\n",
       "    </tr>\n",
       "  </thead>\n",
       "  <tbody>\n",
       "    <tr>\n",
       "      <th>21268</th>\n",
       "      <td>tt0052953</td>\n",
       "      <td>[Bourvil,Francis Blanche,Sandra Milo,Yves Robert]</td>\n",
       "      <td>[Claude Autant-Lara]</td>\n",
       "      <td>[Comedy, Drama, History]</td>\n",
       "      <td>0</td>\n",
       "      <td>94</td>\n",
       "      <td>NaN</td>\n",
       "      <td>NaN</td>\n",
       "      <td>[Raimbourg, Société Nouvelle des Établissement...</td>\n",
       "      <td>359</td>\n",
       "      <td>...</td>\n",
       "      <td>0</td>\n",
       "      <td>0</td>\n",
       "      <td>0</td>\n",
       "      <td>0</td>\n",
       "      <td>0</td>\n",
       "      <td>0</td>\n",
       "      <td>0</td>\n",
       "      <td>0</td>\n",
       "      <td>0</td>\n",
       "      <td>0</td>\n",
       "    </tr>\n",
       "    <tr>\n",
       "      <th>41864</th>\n",
       "      <td>tt1715336</td>\n",
       "      <td>[Mark Strong,Taissa Farmiga,Brian Cox,Saskia R...</td>\n",
       "      <td>[Jorge Dorado]</td>\n",
       "      <td>[Drama, Mystery, Sci-Fi]</td>\n",
       "      <td>1</td>\n",
       "      <td>99</td>\n",
       "      <td>4357373.000</td>\n",
       "      <td>4288.000</td>\n",
       "      <td>[The Safran Company, Vertical Entertainment, S...</td>\n",
       "      <td>24602</td>\n",
       "      <td>...</td>\n",
       "      <td>0</td>\n",
       "      <td>0</td>\n",
       "      <td>0</td>\n",
       "      <td>0</td>\n",
       "      <td>0</td>\n",
       "      <td>0</td>\n",
       "      <td>0</td>\n",
       "      <td>0</td>\n",
       "      <td>0</td>\n",
       "      <td>0</td>\n",
       "    </tr>\n",
       "    <tr>\n",
       "      <th>475</th>\n",
       "      <td>tt0067881</td>\n",
       "      <td>[Katharine Hepburn, Venessa Redgrave, Genevièv...</td>\n",
       "      <td>[Mihalis Kakogiannis]</td>\n",
       "      <td>[Drama]</td>\n",
       "      <td>1</td>\n",
       "      <td>105</td>\n",
       "      <td>NaN</td>\n",
       "      <td>NaN</td>\n",
       "      <td>[Josef Shaftel Productions]</td>\n",
       "      <td>1653</td>\n",
       "      <td>...</td>\n",
       "      <td>0</td>\n",
       "      <td>0</td>\n",
       "      <td>0</td>\n",
       "      <td>0</td>\n",
       "      <td>0</td>\n",
       "      <td>0</td>\n",
       "      <td>0</td>\n",
       "      <td>0</td>\n",
       "      <td>0</td>\n",
       "      <td>0</td>\n",
       "    </tr>\n",
       "    <tr>\n",
       "      <th>36328</th>\n",
       "      <td>tt0304072</td>\n",
       "      <td>[Makoto Tsumura,Sakura Tange,Shinobu Adachi,Br...</td>\n",
       "      <td>[Yoshio Kuroda]</td>\n",
       "      <td>[Animation, Drama, Family]</td>\n",
       "      <td>0</td>\n",
       "      <td>93</td>\n",
       "      <td>NaN</td>\n",
       "      <td>NaN</td>\n",
       "      <td>[Onkyo Eizo System Co., Nippon Animation]</td>\n",
       "      <td>691</td>\n",
       "      <td>...</td>\n",
       "      <td>0</td>\n",
       "      <td>0</td>\n",
       "      <td>0</td>\n",
       "      <td>0</td>\n",
       "      <td>0</td>\n",
       "      <td>0</td>\n",
       "      <td>0</td>\n",
       "      <td>0</td>\n",
       "      <td>0</td>\n",
       "      <td>0</td>\n",
       "    </tr>\n",
       "    <tr>\n",
       "      <th>38935</th>\n",
       "      <td>tt1698499</td>\n",
       "      <td>[David Fernández Fabu,Inés Castaño,Marina Kalo...</td>\n",
       "      <td>[Stathis Athanasiou]</td>\n",
       "      <td>[Drama, Fantasy, Romance]</td>\n",
       "      <td>0</td>\n",
       "      <td>97</td>\n",
       "      <td>NaN</td>\n",
       "      <td>NaN</td>\n",
       "      <td>[Yvonne Roman FIlms, Arktos, Bakis]</td>\n",
       "      <td>332</td>\n",
       "      <td>...</td>\n",
       "      <td>0</td>\n",
       "      <td>0</td>\n",
       "      <td>0</td>\n",
       "      <td>0</td>\n",
       "      <td>0</td>\n",
       "      <td>0</td>\n",
       "      <td>0</td>\n",
       "      <td>0</td>\n",
       "      <td>0</td>\n",
       "      <td>0</td>\n",
       "    </tr>\n",
       "  </tbody>\n",
       "</table>\n",
       "<p>5 rows × 55 columns</p>\n",
       "</div>"
      ],
      "text/plain": [
       "         imdb_id                                             actors  \\\n",
       "21268  tt0052953  [Bourvil,Francis Blanche,Sandra Milo,Yves Robert]   \n",
       "41864  tt1715336  [Mark Strong,Taissa Farmiga,Brian Cox,Saskia R...   \n",
       "475    tt0067881  [Katharine Hepburn, Venessa Redgrave, Genevièv...   \n",
       "36328  tt0304072  [Makoto Tsumura,Sakura Tange,Shinobu Adachi,Br...   \n",
       "38935  tt1698499  [David Fernández Fabu,Inés Castaño,Marina Kalo...   \n",
       "\n",
       "                   directors                      genres  language_en  \\\n",
       "21268   [Claude Autant-Lara]    [Comedy, Drama, History]            0   \n",
       "41864         [Jorge Dorado]    [Drama, Mystery, Sci-Fi]            1   \n",
       "475    [Mihalis Kakogiannis]                     [Drama]            1   \n",
       "36328        [Yoshio Kuroda]  [Animation, Drama, Family]            0   \n",
       "38935   [Stathis Athanasiou]   [Drama, Fantasy, Romance]            0   \n",
       "\n",
       "       runtime      budget  box_office_gross  \\\n",
       "21268       94         NaN               NaN   \n",
       "41864       99 4357373.000          4288.000   \n",
       "475        105         NaN               NaN   \n",
       "36328       93         NaN               NaN   \n",
       "38935       97         NaN               NaN   \n",
       "\n",
       "                                    production_companies  votes  ...  \\\n",
       "21268  [Raimbourg, Société Nouvelle des Établissement...    359  ...   \n",
       "41864  [The Safran Company, Vertical Entertainment, S...  24602  ...   \n",
       "475                          [Josef Shaftel Productions]   1653  ...   \n",
       "36328          [Onkyo Eizo System Co., Nippon Animation]    691  ...   \n",
       "38935                [Yvonne Roman FIlms, Arktos, Bakis]    332  ...   \n",
       "\n",
       "      has_Metro-Goldwyn-Mayer has_Warner Bros. Pictures  has_Paramount  \\\n",
       "21268                       0                         0              0   \n",
       "41864                       0                         0              0   \n",
       "475                         0                         0              0   \n",
       "36328                       0                         0              0   \n",
       "38935                       0                         0              0   \n",
       "\n",
       "       has_20th Century Fox  has_Columbia Pictures  has_Universal Pictures  \\\n",
       "21268                     0                      0                       0   \n",
       "41864                     0                      0                       0   \n",
       "475                       0                      0                       0   \n",
       "36328                     0                      0                       0   \n",
       "38935                     0                      0                       0   \n",
       "\n",
       "       has_Walt Disney Pictures  has_United Artists  has_RKO Radio Pictures  \\\n",
       "21268                         0                   0                       0   \n",
       "41864                         0                   0                       0   \n",
       "475                           0                   0                       0   \n",
       "36328                         0                   0                       0   \n",
       "38935                         0                   0                       0   \n",
       "\n",
       "       has_Mosfilm  \n",
       "21268            0  \n",
       "41864            0  \n",
       "475              0  \n",
       "36328            0  \n",
       "38935            0  \n",
       "\n",
       "[5 rows x 55 columns]"
      ]
     },
     "execution_count": 98,
     "metadata": {},
     "output_type": "execute_result"
    }
   ],
   "source": [
    "train_df.head()"
   ]
  },
  {
   "cell_type": "markdown",
   "id": "3b431a4d-e9cd-4e5e-9c05-ec0dc6c6440e",
   "metadata": {
    "tags": []
   },
   "source": [
    "Great, it looks like our columns have been correctly encoded. We can now drop our original columns for `director`, `actor`, and `production_companies`. "
   ]
  },
  {
   "cell_type": "code",
   "execution_count": 99,
   "id": "160a944d-a9f9-4989-865f-18a233e09b1c",
   "metadata": {
    "tags": []
   },
   "outputs": [],
   "source": [
    "# Drop original columns from both datasets \n",
    "train_df = train_df.drop(columns=['actors', 'directors', 'production_companies'])\n",
    "test_df = test_df.drop(columns=['actors', 'directors', 'production_companies'])"
   ]
  },
  {
   "cell_type": "code",
   "execution_count": 100,
   "id": "b3004147-45db-4789-bfc7-0753086383d6",
   "metadata": {
    "tags": []
   },
   "outputs": [
    {
     "name": "stdout",
     "output_type": "stream",
     "text": [
      "<class 'pandas.core.frame.DataFrame'>\n",
      "Index: 9876 entries, 18148 to 12557\n",
      "Data columns (total 52 columns):\n",
      " #   Column                        Non-Null Count  Dtype  \n",
      "---  ------                        --------------  -----  \n",
      " 0   imdb_id                       9876 non-null   object \n",
      " 1   genres                        9876 non-null   object \n",
      " 2   language_en                   9876 non-null   int64  \n",
      " 3   runtime                       9876 non-null   int64  \n",
      " 4   budget                        3567 non-null   float64\n",
      " 5   box_office_gross              4257 non-null   float64\n",
      " 6   votes                         9876 non-null   int64  \n",
      " 7   rating_category               9876 non-null   object \n",
      " 8   review_text                   9876 non-null   object \n",
      " 9   review_count                  9876 non-null   int64  \n",
      " 10  decade_1900                   9876 non-null   int64  \n",
      " 11  decade_1910                   9876 non-null   int64  \n",
      " 12  decade_1920                   9876 non-null   int64  \n",
      " 13  decade_1930                   9876 non-null   int64  \n",
      " 14  decade_1940                   9876 non-null   int64  \n",
      " 15  decade_1950                   9876 non-null   int64  \n",
      " 16  decade_1960                   9876 non-null   int64  \n",
      " 17  decade_1970                   9876 non-null   int64  \n",
      " 18  decade_1980                   9876 non-null   int64  \n",
      " 19  decade_1990                   9876 non-null   int64  \n",
      " 20  decade_2000                   9876 non-null   int64  \n",
      " 21  decade_2010                   9876 non-null   int64  \n",
      " 22  has_director_Michael Curtiz   9876 non-null   int64  \n",
      " 23  has_director_John Ford        9876 non-null   int64  \n",
      " 24  has_director_Werner Herzog    9876 non-null   int64  \n",
      " 25  has_director_Mervyn LeRoy     9876 non-null   int64  \n",
      " 26  has_director_Woody Allen      9876 non-null   int64  \n",
      " 27  has_director_Ingmar Bergman   9876 non-null   int64  \n",
      " 28  has_director_Martin Scorsese  9876 non-null   int64  \n",
      " 29  has_director_Fritz Lang       9876 non-null   int64  \n",
      " 30  has_director_Raoul Walsh      9876 non-null   int64  \n",
      " 31  has_director_William Wyler    9876 non-null   int64  \n",
      " 32  has_actor_Clarence Nash       9876 non-null   int64  \n",
      " 33  has_actor_Bette Davis         9876 non-null   int64  \n",
      " 34  has_actor_Werner Herzog       9876 non-null   int64  \n",
      " 35  has_actor_Meryl Streep        9876 non-null   int64  \n",
      " 36  has_actor_Woody Allen         9876 non-null   int64  \n",
      " 37  has_actor_Mia Farrow          9876 non-null   int64  \n",
      " 38  has_actor_Jack Lemmon         9876 non-null   int64  \n",
      " 39  has_actor_Cary Grant          9876 non-null   int64  \n",
      " 40  has_actor_Julianne Moore      9876 non-null   int64  \n",
      " 41  has_actor_Masako Nozawa       9876 non-null   int64  \n",
      " 42  has_Metro-Goldwyn-Mayer       9876 non-null   int64  \n",
      " 43  has_Warner Bros. Pictures     9876 non-null   int64  \n",
      " 44  has_Paramount                 9876 non-null   int64  \n",
      " 45  has_20th Century Fox          9876 non-null   int64  \n",
      " 46  has_Columbia Pictures         9876 non-null   int64  \n",
      " 47  has_Universal Pictures        9876 non-null   int64  \n",
      " 48  has_Walt Disney Pictures      9876 non-null   int64  \n",
      " 49  has_United Artists            9876 non-null   int64  \n",
      " 50  has_RKO Radio Pictures        9876 non-null   int64  \n",
      " 51  has_Mosfilm                   9876 non-null   int64  \n",
      "dtypes: float64(2), int64(46), object(4)\n",
      "memory usage: 4.0+ MB\n"
     ]
    }
   ],
   "source": [
    "# Sanity check\n",
    "test_df.info()"
   ]
  },
  {
   "cell_type": "markdown",
   "id": "88c2572e-9c82-4687-8940-ea7ad8e579a6",
   "metadata": {},
   "source": [
    "##### Genres \n",
    "Now let's move on to encoding our genres. We've made the decision to include all genres from the dataset, because genres on IMDb are assigned in alphabetical order, unlike the cast and crew, which are assigned in order of credit/importance. "
   ]
  },
  {
   "cell_type": "code",
   "execution_count": 101,
   "id": "46ecc8d1-cfcc-4348-b55c-77b1ab13b15c",
   "metadata": {
    "tags": []
   },
   "outputs": [],
   "source": [
    "# One-hot encode genres for train_df\n",
    "genres_dummies_train = train_df['genres'].str.join('|').str.get_dummies()\n",
    "genres_dummies_train = genres_dummies_train.add_prefix('genre_')\n",
    "train_df = pd.concat([train_df, genres_dummies_train], axis=1)\n",
    "\n",
    "# One-hot encode genres for test_df\n",
    "genres_dummies_test = test_df['genres'].str.join('|').str.get_dummies()\n",
    "genres_dummies_test = genres_dummies_test.add_prefix('genre_')\n",
    "test_df = pd.concat([test_df, genres_dummies_test], axis=1)"
   ]
  },
  {
   "cell_type": "code",
   "execution_count": 102,
   "id": "6f69da31-454c-452b-aeae-ab1b347c1008",
   "metadata": {
    "tags": []
   },
   "outputs": [],
   "source": [
    "# Drop the original 'genres' column from train_df and test_df\n",
    "train_df.drop('genres', axis=1, inplace=True)\n",
    "test_df.drop('genres', axis=1, inplace=True)"
   ]
  },
  {
   "cell_type": "code",
   "execution_count": 103,
   "id": "ebad9070-e993-43fb-ad8e-f1cd965d39db",
   "metadata": {
    "tags": []
   },
   "outputs": [
    {
     "name": "stdout",
     "output_type": "stream",
     "text": [
      "<class 'pandas.core.frame.DataFrame'>\n",
      "Index: 39502 entries, 21268 to 15795\n",
      "Data columns (total 78 columns):\n",
      " #   Column                        Non-Null Count  Dtype  \n",
      "---  ------                        --------------  -----  \n",
      " 0   imdb_id                       39502 non-null  object \n",
      " 1   language_en                   39502 non-null  int64  \n",
      " 2   runtime                       39502 non-null  int64  \n",
      " 3   budget                        14251 non-null  float64\n",
      " 4   box_office_gross              16792 non-null  float64\n",
      " 5   votes                         39502 non-null  int64  \n",
      " 6   rating_category               39502 non-null  object \n",
      " 7   review_text                   39502 non-null  object \n",
      " 8   review_count                  39502 non-null  int64  \n",
      " 9   decade_1900                   39502 non-null  int64  \n",
      " 10  decade_1910                   39502 non-null  int64  \n",
      " 11  decade_1920                   39502 non-null  int64  \n",
      " 12  decade_1930                   39502 non-null  int64  \n",
      " 13  decade_1940                   39502 non-null  int64  \n",
      " 14  decade_1950                   39502 non-null  int64  \n",
      " 15  decade_1960                   39502 non-null  int64  \n",
      " 16  decade_1970                   39502 non-null  int64  \n",
      " 17  decade_1980                   39502 non-null  int64  \n",
      " 18  decade_1990                   39502 non-null  int64  \n",
      " 19  decade_2000                   39502 non-null  int64  \n",
      " 20  decade_2010                   39502 non-null  int64  \n",
      " 21  has_director_Michael Curtiz   39502 non-null  int64  \n",
      " 22  has_director_John Ford        39502 non-null  int64  \n",
      " 23  has_director_Werner Herzog    39502 non-null  int64  \n",
      " 24  has_director_Mervyn LeRoy     39502 non-null  int64  \n",
      " 25  has_director_Woody Allen      39502 non-null  int64  \n",
      " 26  has_director_Ingmar Bergman   39502 non-null  int64  \n",
      " 27  has_director_Martin Scorsese  39502 non-null  int64  \n",
      " 28  has_director_Fritz Lang       39502 non-null  int64  \n",
      " 29  has_director_Raoul Walsh      39502 non-null  int64  \n",
      " 30  has_director_William Wyler    39502 non-null  int64  \n",
      " 31  has_actor_Clarence Nash       39502 non-null  int64  \n",
      " 32  has_actor_Bette Davis         39502 non-null  int64  \n",
      " 33  has_actor_Werner Herzog       39502 non-null  int64  \n",
      " 34  has_actor_Meryl Streep        39502 non-null  int64  \n",
      " 35  has_actor_Woody Allen         39502 non-null  int64  \n",
      " 36  has_actor_Mia Farrow          39502 non-null  int64  \n",
      " 37  has_actor_Jack Lemmon         39502 non-null  int64  \n",
      " 38  has_actor_Cary Grant          39502 non-null  int64  \n",
      " 39  has_actor_Julianne Moore      39502 non-null  int64  \n",
      " 40  has_actor_Masako Nozawa       39502 non-null  int64  \n",
      " 41  has_Metro-Goldwyn-Mayer       39502 non-null  int64  \n",
      " 42  has_Warner Bros. Pictures     39502 non-null  int64  \n",
      " 43  has_Paramount                 39502 non-null  int64  \n",
      " 44  has_20th Century Fox          39502 non-null  int64  \n",
      " 45  has_Columbia Pictures         39502 non-null  int64  \n",
      " 46  has_Universal Pictures        39502 non-null  int64  \n",
      " 47  has_Walt Disney Pictures      39502 non-null  int64  \n",
      " 48  has_United Artists            39502 non-null  int64  \n",
      " 49  has_RKO Radio Pictures        39502 non-null  int64  \n",
      " 50  has_Mosfilm                   39502 non-null  int64  \n",
      " 51  genre_Action                  39502 non-null  int64  \n",
      " 52  genre_Adventure               39502 non-null  int64  \n",
      " 53  genre_Animation               39502 non-null  int64  \n",
      " 54  genre_Biography               39502 non-null  int64  \n",
      " 55  genre_Comedy                  39502 non-null  int64  \n",
      " 56  genre_Crime                   39502 non-null  int64  \n",
      " 57  genre_Documentary             39502 non-null  int64  \n",
      " 58  genre_Drama                   39502 non-null  int64  \n",
      " 59  genre_Family                  39502 non-null  int64  \n",
      " 60  genre_Fantasy                 39502 non-null  int64  \n",
      " 61  genre_Film-Noir               39502 non-null  int64  \n",
      " 62  genre_History                 39502 non-null  int64  \n",
      " 63  genre_Horror                  39502 non-null  int64  \n",
      " 64  genre_Music                   39502 non-null  int64  \n",
      " 65  genre_Musical                 39502 non-null  int64  \n",
      " 66  genre_Mystery                 39502 non-null  int64  \n",
      " 67  genre_N/A                     39502 non-null  int64  \n",
      " 68  genre_News                    39502 non-null  int64  \n",
      " 69  genre_Reality-TV              39502 non-null  int64  \n",
      " 70  genre_Romance                 39502 non-null  int64  \n",
      " 71  genre_Sci-Fi                  39502 non-null  int64  \n",
      " 72  genre_Short                   39502 non-null  int64  \n",
      " 73  genre_Sport                   39502 non-null  int64  \n",
      " 74  genre_Talk-Show               39502 non-null  int64  \n",
      " 75  genre_Thriller                39502 non-null  int64  \n",
      " 76  genre_War                     39502 non-null  int64  \n",
      " 77  genre_Western                 39502 non-null  int64  \n",
      "dtypes: float64(2), int64(73), object(3)\n",
      "memory usage: 23.8+ MB\n"
     ]
    }
   ],
   "source": [
    "train_df.info()"
   ]
  },
  {
   "cell_type": "code",
   "execution_count": 104,
   "id": "3ae8d223-2098-4a40-a193-1a448b79cde5",
   "metadata": {
    "tags": []
   },
   "outputs": [
    {
     "data": {
      "text/html": [
       "<div>\n",
       "<style scoped>\n",
       "    .dataframe tbody tr th:only-of-type {\n",
       "        vertical-align: middle;\n",
       "    }\n",
       "\n",
       "    .dataframe tbody tr th {\n",
       "        vertical-align: top;\n",
       "    }\n",
       "\n",
       "    .dataframe thead th {\n",
       "        text-align: right;\n",
       "    }\n",
       "</style>\n",
       "<table border=\"1\" class=\"dataframe\">\n",
       "  <thead>\n",
       "    <tr style=\"text-align: right;\">\n",
       "      <th></th>\n",
       "      <th>imdb_id</th>\n",
       "      <th>language_en</th>\n",
       "      <th>runtime</th>\n",
       "      <th>budget</th>\n",
       "      <th>box_office_gross</th>\n",
       "      <th>votes</th>\n",
       "      <th>rating_category</th>\n",
       "      <th>review_text</th>\n",
       "      <th>review_count</th>\n",
       "      <th>decade_1900</th>\n",
       "      <th>...</th>\n",
       "      <th>genre_News</th>\n",
       "      <th>genre_Reality-TV</th>\n",
       "      <th>genre_Romance</th>\n",
       "      <th>genre_Sci-Fi</th>\n",
       "      <th>genre_Short</th>\n",
       "      <th>genre_Sport</th>\n",
       "      <th>genre_Talk-Show</th>\n",
       "      <th>genre_Thriller</th>\n",
       "      <th>genre_War</th>\n",
       "      <th>genre_Western</th>\n",
       "    </tr>\n",
       "  </thead>\n",
       "  <tbody>\n",
       "    <tr>\n",
       "      <th>21268</th>\n",
       "      <td>tt0052953</td>\n",
       "      <td>0</td>\n",
       "      <td>94</td>\n",
       "      <td>NaN</td>\n",
       "      <td>NaN</td>\n",
       "      <td>359</td>\n",
       "      <td>Average</td>\n",
       "      <td>p g  21?; There's a legend in my country about...</td>\n",
       "      <td>3</td>\n",
       "      <td>0</td>\n",
       "      <td>...</td>\n",
       "      <td>0</td>\n",
       "      <td>0</td>\n",
       "      <td>0</td>\n",
       "      <td>0</td>\n",
       "      <td>0</td>\n",
       "      <td>0</td>\n",
       "      <td>0</td>\n",
       "      <td>0</td>\n",
       "      <td>0</td>\n",
       "      <td>0</td>\n",
       "    </tr>\n",
       "    <tr>\n",
       "      <th>41864</th>\n",
       "      <td>tt1715336</td>\n",
       "      <td>1</td>\n",
       "      <td>99</td>\n",
       "      <td>4357373.000</td>\n",
       "      <td>4288.000</td>\n",
       "      <td>24602</td>\n",
       "      <td>Good</td>\n",
       "      <td>Fantastic slow burning thriller that delves in...</td>\n",
       "      <td>46</td>\n",
       "      <td>0</td>\n",
       "      <td>...</td>\n",
       "      <td>0</td>\n",
       "      <td>0</td>\n",
       "      <td>0</td>\n",
       "      <td>1</td>\n",
       "      <td>0</td>\n",
       "      <td>0</td>\n",
       "      <td>0</td>\n",
       "      <td>0</td>\n",
       "      <td>0</td>\n",
       "      <td>0</td>\n",
       "    </tr>\n",
       "    <tr>\n",
       "      <th>475</th>\n",
       "      <td>tt0067881</td>\n",
       "      <td>1</td>\n",
       "      <td>105</td>\n",
       "      <td>NaN</td>\n",
       "      <td>NaN</td>\n",
       "      <td>1653</td>\n",
       "      <td>Good</td>\n",
       "      <td>This film's statement is strong.; Now,last nig...</td>\n",
       "      <td>22</td>\n",
       "      <td>0</td>\n",
       "      <td>...</td>\n",
       "      <td>0</td>\n",
       "      <td>0</td>\n",
       "      <td>0</td>\n",
       "      <td>0</td>\n",
       "      <td>0</td>\n",
       "      <td>0</td>\n",
       "      <td>0</td>\n",
       "      <td>0</td>\n",
       "      <td>0</td>\n",
       "      <td>0</td>\n",
       "    </tr>\n",
       "    <tr>\n",
       "      <th>36328</th>\n",
       "      <td>tt0304072</td>\n",
       "      <td>0</td>\n",
       "      <td>93</td>\n",
       "      <td>NaN</td>\n",
       "      <td>NaN</td>\n",
       "      <td>691</td>\n",
       "      <td>Excellent</td>\n",
       "      <td>Compelling anime adaptation of a classic novel...</td>\n",
       "      <td>3</td>\n",
       "      <td>0</td>\n",
       "      <td>...</td>\n",
       "      <td>0</td>\n",
       "      <td>0</td>\n",
       "      <td>0</td>\n",
       "      <td>0</td>\n",
       "      <td>0</td>\n",
       "      <td>0</td>\n",
       "      <td>0</td>\n",
       "      <td>0</td>\n",
       "      <td>0</td>\n",
       "      <td>0</td>\n",
       "    </tr>\n",
       "    <tr>\n",
       "      <th>38935</th>\n",
       "      <td>tt1698499</td>\n",
       "      <td>0</td>\n",
       "      <td>97</td>\n",
       "      <td>NaN</td>\n",
       "      <td>NaN</td>\n",
       "      <td>332</td>\n",
       "      <td>Poor</td>\n",
       "      <td>A very good European movie; I've seen this mov...</td>\n",
       "      <td>1</td>\n",
       "      <td>0</td>\n",
       "      <td>...</td>\n",
       "      <td>0</td>\n",
       "      <td>0</td>\n",
       "      <td>1</td>\n",
       "      <td>0</td>\n",
       "      <td>0</td>\n",
       "      <td>0</td>\n",
       "      <td>0</td>\n",
       "      <td>0</td>\n",
       "      <td>0</td>\n",
       "      <td>0</td>\n",
       "    </tr>\n",
       "  </tbody>\n",
       "</table>\n",
       "<p>5 rows × 78 columns</p>\n",
       "</div>"
      ],
      "text/plain": [
       "         imdb_id  language_en  runtime      budget  box_office_gross  votes  \\\n",
       "21268  tt0052953            0       94         NaN               NaN    359   \n",
       "41864  tt1715336            1       99 4357373.000          4288.000  24602   \n",
       "475    tt0067881            1      105         NaN               NaN   1653   \n",
       "36328  tt0304072            0       93         NaN               NaN    691   \n",
       "38935  tt1698499            0       97         NaN               NaN    332   \n",
       "\n",
       "      rating_category                                        review_text  \\\n",
       "21268         Average  p g  21?; There's a legend in my country about...   \n",
       "41864            Good  Fantastic slow burning thriller that delves in...   \n",
       "475              Good  This film's statement is strong.; Now,last nig...   \n",
       "36328       Excellent  Compelling anime adaptation of a classic novel...   \n",
       "38935            Poor  A very good European movie; I've seen this mov...   \n",
       "\n",
       "       review_count  decade_1900  ...  genre_News  genre_Reality-TV  \\\n",
       "21268             3            0  ...           0                 0   \n",
       "41864            46            0  ...           0                 0   \n",
       "475              22            0  ...           0                 0   \n",
       "36328             3            0  ...           0                 0   \n",
       "38935             1            0  ...           0                 0   \n",
       "\n",
       "       genre_Romance  genre_Sci-Fi  genre_Short  genre_Sport  genre_Talk-Show  \\\n",
       "21268              0             0            0            0                0   \n",
       "41864              0             1            0            0                0   \n",
       "475                0             0            0            0                0   \n",
       "36328              0             0            0            0                0   \n",
       "38935              1             0            0            0                0   \n",
       "\n",
       "       genre_Thriller  genre_War  genre_Western  \n",
       "21268               0          0              0  \n",
       "41864               0          0              0  \n",
       "475                 0          0              0  \n",
       "36328               0          0              0  \n",
       "38935               0          0              0  \n",
       "\n",
       "[5 rows x 78 columns]"
      ]
     },
     "execution_count": 104,
     "metadata": {},
     "output_type": "execute_result"
    }
   ],
   "source": [
    "train_df.head()"
   ]
  },
  {
   "cell_type": "markdown",
   "id": "4c83826a-c644-4872-9915-f839cb5b1fc2",
   "metadata": {},
   "source": [
    "Despite doing extensive searches for missing genres in our previous cleaning and EDA steps, it seems that there are still missing genre data, and the rows are filled with N/A! Let's count the occurences in both datasets to see if it might be best to just drop them."
   ]
  },
  {
   "cell_type": "code",
   "execution_count": 105,
   "id": "85fe4472-fc50-46ab-850a-0cdf66a28d18",
   "metadata": {
    "tags": []
   },
   "outputs": [
    {
     "name": "stdout",
     "output_type": "stream",
     "text": [
      "Number of 'genre_N/A' in train_df: 19\n",
      "Number of 'genre_N/A' in test_df: 4\n"
     ]
    }
   ],
   "source": [
    "# Count the number of 'genre_N/A' in train_df\n",
    "train_na_count = train_df['genre_N/A'].sum()\n",
    "print(f\"Number of 'genre_N/A' in train_df: {train_na_count}\")\n",
    "\n",
    "# Count the number of 'genre_N/A' in test_df\n",
    "test_na_count = test_df['genre_N/A'].sum()\n",
    "print(f\"Number of 'genre_N/A' in test_df: {test_na_count}\")"
   ]
  },
  {
   "cell_type": "markdown",
   "id": "b4ca5d2c-fd72-4c2d-ba75-08df0e4f39dc",
   "metadata": {},
   "source": [
    "There are only a small number of rows with genre_N/A, so we'll go ahead and drop those."
   ]
  },
  {
   "cell_type": "code",
   "execution_count": 106,
   "id": "ab86b99e-775d-4cd9-912c-a541ec757801",
   "metadata": {
    "tags": []
   },
   "outputs": [],
   "source": [
    "# Find index of rows where 'genre_N/A' is 1 in train_df\n",
    "train_na_indexes = train_df[train_df['genre_N/A'] == 1].index\n",
    "\n",
    "# Drop these rows\n",
    "train_df.drop(train_na_indexes, inplace=True)\n",
    "\n",
    "# Reset index \n",
    "train_df.reset_index(drop=True, inplace=True)"
   ]
  },
  {
   "cell_type": "code",
   "execution_count": 107,
   "id": "a20ee122-e840-4026-a1ed-e14d38ab2227",
   "metadata": {
    "tags": []
   },
   "outputs": [],
   "source": [
    "# Find the index of rows where 'genre_N/A' is 1 in test_df\n",
    "test_na_indexes = test_df[test_df['genre_N/A'] == 1].index\n",
    "\n",
    "# Drop these rows\n",
    "test_df.drop(test_na_indexes, inplace=True)\n",
    "\n",
    "# Reset index \n",
    "test_df.reset_index(drop=True, inplace=True)"
   ]
  },
  {
   "cell_type": "code",
   "execution_count": 108,
   "id": "701fad7b-b1ae-4cc3-99d5-0d9d2e078d97",
   "metadata": {
    "tags": []
   },
   "outputs": [
    {
     "data": {
      "text/plain": [
       "genre_N/A\n",
       "0    39483\n",
       "Name: count, dtype: int64"
      ]
     },
     "execution_count": 108,
     "metadata": {},
     "output_type": "execute_result"
    }
   ],
   "source": [
    "# Check value counts before dropping column\n",
    "train_df['genre_N/A'].value_counts()"
   ]
  },
  {
   "cell_type": "code",
   "execution_count": 109,
   "id": "d09ef2f3-defe-454d-a325-3d352985bfce",
   "metadata": {
    "tags": []
   },
   "outputs": [
    {
     "data": {
      "text/plain": [
       "genre_N/A\n",
       "0    9872\n",
       "Name: count, dtype: int64"
      ]
     },
     "execution_count": 109,
     "metadata": {},
     "output_type": "execute_result"
    }
   ],
   "source": [
    "# Check value counts before dropping column\n",
    "test_df['genre_N/A'].value_counts()"
   ]
  },
  {
   "cell_type": "code",
   "execution_count": 110,
   "id": "aed2f383-a090-494c-9aa0-7b8cd693282c",
   "metadata": {
    "tags": []
   },
   "outputs": [],
   "source": [
    "# Drop genre_N/A column for both datasets \n",
    "train_df.drop('genre_N/A', axis=1, inplace=True)\n",
    "test_df.drop('genre_N/A', axis=1, inplace=True)"
   ]
  },
  {
   "cell_type": "markdown",
   "id": "5699c3cd-06e5-4901-8a11-29f85cf66f07",
   "metadata": {
    "tags": []
   },
   "source": [
    "Great, now we've successfully one hot encoded all of our genres for both train and test data."
   ]
  },
  {
   "cell_type": "markdown",
   "id": "0cef539e-b2d4-4a30-ba9e-1e093b88e6e6",
   "metadata": {
    "tags": []
   },
   "source": [
    "#### KNN Imputer for Budget and Gross Info \n",
    "Now that we've split our data into train and test, and one hot encoded the relevant features, we will be attempting to impute the missing values in our budget and box office gross columns using KNN imputer.\n",
    "\n",
    "Before we implement KNN, we will need to scale our numeric features, since KNN is a distance-based algorithm. "
   ]
  },
  {
   "cell_type": "code",
   "execution_count": 111,
   "id": "ec6f3257-827f-465a-b0d2-a9de663bcd53",
   "metadata": {
    "tags": []
   },
   "outputs": [],
   "source": [
    "# Import scaler\n",
    "from sklearn.preprocessing import StandardScaler"
   ]
  },
  {
   "cell_type": "code",
   "execution_count": 112,
   "id": "4b3ecd57-cb86-44ad-bc9b-69003d5b1e50",
   "metadata": {
    "tags": []
   },
   "outputs": [],
   "source": [
    "# Instantiate scaler \n",
    "scaler = StandardScaler()"
   ]
  },
  {
   "cell_type": "code",
   "execution_count": 113,
   "id": "7d6599bc-68f6-4289-ab85-9a3733eb45c5",
   "metadata": {
    "tags": []
   },
   "outputs": [],
   "source": [
    "# List of columns to scale\n",
    "columns_to_scale = ['runtime', 'votes', 'budget', 'box_office_gross', 'review_count']"
   ]
  },
  {
   "cell_type": "code",
   "execution_count": 114,
   "id": "e824d670-b0b4-493a-92e3-d67900b48a0c",
   "metadata": {
    "tags": []
   },
   "outputs": [],
   "source": [
    "# Fit and transform train\n",
    "train_df[columns_to_scale] = scaler.fit_transform(train_df[columns_to_scale])"
   ]
  },
  {
   "cell_type": "code",
   "execution_count": 115,
   "id": "abd73c8e-10d2-495d-8fd0-dbf194bc88d0",
   "metadata": {
    "tags": []
   },
   "outputs": [],
   "source": [
    "# Transform test\n",
    "test_df[columns_to_scale] = scaler.transform(test_df[columns_to_scale])"
   ]
  },
  {
   "cell_type": "markdown",
   "id": "4fb7d92c-5df3-4f5c-bbd8-e503bf5d7e4e",
   "metadata": {},
   "source": [
    "Now that we've scaled our numeric features, we can go ahead and use k-nearest neighbors to estimate and fill in the missing values for budget and box office gross. We'll use 5 neighbors for the first iteration of modeling, which will hopefully give us a good balance without being too sensitive to noise or smoothing over the data too much.\n",
    "\n",
    "For now, we will exclude the text data since we haven't converted it to numeric yet. Why? KNN is already computationally expensive, and processing text data will likely give us a huge number of features and because the number of reviews should not strictly be predictive of the budget or box office gross. "
   ]
  },
  {
   "cell_type": "code",
   "execution_count": 116,
   "id": "dd72fc4e-d54b-4bf6-9c64-59def6446496",
   "metadata": {
    "tags": []
   },
   "outputs": [],
   "source": [
    "# Import necessary libraries\n",
    "from sklearn.impute import KNNImputer"
   ]
  },
  {
   "cell_type": "code",
   "execution_count": 117,
   "id": "2a036af3-3d03-4fcb-8c0a-1529068364df",
   "metadata": {
    "tags": []
   },
   "outputs": [],
   "source": [
    "# Select only the numeric columns (excluding the text column)\n",
    "numeric_cols = train_df.select_dtypes(include=['float64', 'int64']).columns\n",
    "train_numeric = train_df[numeric_cols]\n",
    "test_numeric = test_df[numeric_cols]"
   ]
  },
  {
   "cell_type": "code",
   "execution_count": 118,
   "id": "26ae6d1a-426a-41d9-abc4-920a2f0a46b0",
   "metadata": {
    "tags": []
   },
   "outputs": [],
   "source": [
    "# Initialize KNNImputer\n",
    "imputer = KNNImputer(n_neighbors=5)"
   ]
  },
  {
   "cell_type": "code",
   "execution_count": 119,
   "id": "fb2a9235-65cb-480c-bdfc-b2c3ff139f85",
   "metadata": {
    "tags": []
   },
   "outputs": [],
   "source": [
    "# Perform imputation on the numeric columns\n",
    "# Fit and transform train \n",
    "train_imputed = imputer.fit_transform(train_numeric)\n",
    "\n",
    "# Transform test\n",
    "test_imputed = imputer.transform(test_numeric)"
   ]
  },
  {
   "cell_type": "code",
   "execution_count": 120,
   "id": "1b582e06-46f2-4d05-afea-f020ae7dee99",
   "metadata": {
    "tags": []
   },
   "outputs": [],
   "source": [
    "# Convert the results back to DataFrames\n",
    "train_imputed_df = pd.DataFrame(train_imputed, columns=numeric_cols)\n",
    "test_imputed_df = pd.DataFrame(test_imputed, columns=numeric_cols)"
   ]
  },
  {
   "cell_type": "code",
   "execution_count": 121,
   "id": "8f747d46-888e-4603-b2c0-72ce2bf643b3",
   "metadata": {
    "tags": []
   },
   "outputs": [
    {
     "name": "stdout",
     "output_type": "stream",
     "text": [
      "<class 'pandas.core.frame.DataFrame'>\n",
      "RangeIndex: 39483 entries, 0 to 39482\n",
      "Data columns (total 74 columns):\n",
      " #   Column                        Non-Null Count  Dtype  \n",
      "---  ------                        --------------  -----  \n",
      " 0   language_en                   39483 non-null  float64\n",
      " 1   runtime                       39483 non-null  float64\n",
      " 2   budget                        39483 non-null  float64\n",
      " 3   box_office_gross              39483 non-null  float64\n",
      " 4   votes                         39483 non-null  float64\n",
      " 5   review_count                  39483 non-null  float64\n",
      " 6   decade_1900                   39483 non-null  float64\n",
      " 7   decade_1910                   39483 non-null  float64\n",
      " 8   decade_1920                   39483 non-null  float64\n",
      " 9   decade_1930                   39483 non-null  float64\n",
      " 10  decade_1940                   39483 non-null  float64\n",
      " 11  decade_1950                   39483 non-null  float64\n",
      " 12  decade_1960                   39483 non-null  float64\n",
      " 13  decade_1970                   39483 non-null  float64\n",
      " 14  decade_1980                   39483 non-null  float64\n",
      " 15  decade_1990                   39483 non-null  float64\n",
      " 16  decade_2000                   39483 non-null  float64\n",
      " 17  decade_2010                   39483 non-null  float64\n",
      " 18  has_director_Michael Curtiz   39483 non-null  float64\n",
      " 19  has_director_John Ford        39483 non-null  float64\n",
      " 20  has_director_Werner Herzog    39483 non-null  float64\n",
      " 21  has_director_Mervyn LeRoy     39483 non-null  float64\n",
      " 22  has_director_Woody Allen      39483 non-null  float64\n",
      " 23  has_director_Ingmar Bergman   39483 non-null  float64\n",
      " 24  has_director_Martin Scorsese  39483 non-null  float64\n",
      " 25  has_director_Fritz Lang       39483 non-null  float64\n",
      " 26  has_director_Raoul Walsh      39483 non-null  float64\n",
      " 27  has_director_William Wyler    39483 non-null  float64\n",
      " 28  has_actor_Clarence Nash       39483 non-null  float64\n",
      " 29  has_actor_Bette Davis         39483 non-null  float64\n",
      " 30  has_actor_Werner Herzog       39483 non-null  float64\n",
      " 31  has_actor_Meryl Streep        39483 non-null  float64\n",
      " 32  has_actor_Woody Allen         39483 non-null  float64\n",
      " 33  has_actor_Mia Farrow          39483 non-null  float64\n",
      " 34  has_actor_Jack Lemmon         39483 non-null  float64\n",
      " 35  has_actor_Cary Grant          39483 non-null  float64\n",
      " 36  has_actor_Julianne Moore      39483 non-null  float64\n",
      " 37  has_actor_Masako Nozawa       39483 non-null  float64\n",
      " 38  has_Metro-Goldwyn-Mayer       39483 non-null  float64\n",
      " 39  has_Warner Bros. Pictures     39483 non-null  float64\n",
      " 40  has_Paramount                 39483 non-null  float64\n",
      " 41  has_20th Century Fox          39483 non-null  float64\n",
      " 42  has_Columbia Pictures         39483 non-null  float64\n",
      " 43  has_Universal Pictures        39483 non-null  float64\n",
      " 44  has_Walt Disney Pictures      39483 non-null  float64\n",
      " 45  has_United Artists            39483 non-null  float64\n",
      " 46  has_RKO Radio Pictures        39483 non-null  float64\n",
      " 47  has_Mosfilm                   39483 non-null  float64\n",
      " 48  genre_Action                  39483 non-null  float64\n",
      " 49  genre_Adventure               39483 non-null  float64\n",
      " 50  genre_Animation               39483 non-null  float64\n",
      " 51  genre_Biography               39483 non-null  float64\n",
      " 52  genre_Comedy                  39483 non-null  float64\n",
      " 53  genre_Crime                   39483 non-null  float64\n",
      " 54  genre_Documentary             39483 non-null  float64\n",
      " 55  genre_Drama                   39483 non-null  float64\n",
      " 56  genre_Family                  39483 non-null  float64\n",
      " 57  genre_Fantasy                 39483 non-null  float64\n",
      " 58  genre_Film-Noir               39483 non-null  float64\n",
      " 59  genre_History                 39483 non-null  float64\n",
      " 60  genre_Horror                  39483 non-null  float64\n",
      " 61  genre_Music                   39483 non-null  float64\n",
      " 62  genre_Musical                 39483 non-null  float64\n",
      " 63  genre_Mystery                 39483 non-null  float64\n",
      " 64  genre_News                    39483 non-null  float64\n",
      " 65  genre_Reality-TV              39483 non-null  float64\n",
      " 66  genre_Romance                 39483 non-null  float64\n",
      " 67  genre_Sci-Fi                  39483 non-null  float64\n",
      " 68  genre_Short                   39483 non-null  float64\n",
      " 69  genre_Sport                   39483 non-null  float64\n",
      " 70  genre_Talk-Show               39483 non-null  float64\n",
      " 71  genre_Thriller                39483 non-null  float64\n",
      " 72  genre_War                     39483 non-null  float64\n",
      " 73  genre_Western                 39483 non-null  float64\n",
      "dtypes: float64(74)\n",
      "memory usage: 22.3 MB\n"
     ]
    }
   ],
   "source": [
    "train_imputed_df.info()"
   ]
  },
  {
   "cell_type": "markdown",
   "id": "a19c7cfd-300e-466c-baaf-fcbb98247728",
   "metadata": {},
   "source": [
    "Great, it looks like we've successfully used KNN Imputer on our scaled data to fill in the missing budget and box office gross information. Let's take a look at the summary stats to make sure everything looks normal, keeping in mind that we've scaled our data."
   ]
  },
  {
   "cell_type": "code",
   "execution_count": 122,
   "id": "6bd424ff-fa94-4504-a666-51ad4f9a206e",
   "metadata": {
    "tags": []
   },
   "outputs": [
    {
     "name": "stdout",
     "output_type": "stream",
     "text": [
      "         budget  box_office_gross\n",
      "count 39483.000         39483.000\n",
      "mean     -0.068            -0.154\n",
      "std       0.919             0.676\n",
      "min      -0.186            -0.368\n",
      "25%      -0.176            -0.358\n",
      "50%      -0.157            -0.326\n",
      "75%      -0.104            -0.219\n",
      "max     111.534            46.329\n"
     ]
    }
   ],
   "source": [
    "# Display summary stats for newly imputed budget and box office gross data.\n",
    "pd.set_option('display.float_format', lambda x: '%.3f' % x)\n",
    "print(train_imputed_df[['budget', 'box_office_gross']].describe())"
   ]
  },
  {
   "cell_type": "markdown",
   "id": "4d8651e4-8de8-468c-be1a-7f13ebdf4831",
   "metadata": {},
   "source": [
    "The statistics seem reasonable, given that the data has been scaled.\n",
    "- The mean is slightly negative, but around 0 for both `budget` and `box_office_gross`, which is to be expected after scaling\n",
    "- The standard deviation is around 1 for both features, which is also what we expect after scaling.\n",
    "\n",
    "The maximum values for `budget` and `box_office_gross` are quite high compared to the other quartiles, which suggests there are some extreme values or outliers, but this isn't really surprising in features like budget and box office gross.\n",
    "\n",
    "All in all, it looks like the imputation was successful and reasonable."
   ]
  },
  {
   "cell_type": "markdown",
   "id": "83ababac-1d53-4b4c-8924-72a91d662397",
   "metadata": {},
   "source": [
    "Now we need to join our imputed columns back with the original non-numeric features from our original train and test dataframes."
   ]
  },
  {
   "cell_type": "code",
   "execution_count": 143,
   "id": "e3514ea4-ee93-4803-a42d-10687932c53b",
   "metadata": {
    "tags": []
   },
   "outputs": [],
   "source": [
    "# Identify non-numeric columns in original dataframe \n",
    "non_numeric_cols_train = train_df.select_dtypes(exclude=['float64', 'int64']).columns\n",
    "non_numeric_cols_test = test_df.select_dtypes(exclude=['float64', 'int64']).columns"
   ]
  },
  {
   "cell_type": "code",
   "execution_count": 144,
   "id": "d6e6c210-3dc2-4f96-be00-2aa96a7a1d8d",
   "metadata": {
    "tags": []
   },
   "outputs": [
    {
     "data": {
      "text/plain": [
       "Index(['imdb_id', 'rating_category', 'review_text'], dtype='object')"
      ]
     },
     "execution_count": 144,
     "metadata": {},
     "output_type": "execute_result"
    }
   ],
   "source": [
    "non_numeric_cols_train"
   ]
  },
  {
   "cell_type": "code",
   "execution_count": 145,
   "id": "5b01c636-c0fc-42ad-865d-96902c9d5e3c",
   "metadata": {
    "tags": []
   },
   "outputs": [],
   "source": [
    "# Concatenate imputed dataframe with the non-numeric columns from the original dataframe\n",
    "train_final_df = pd.concat([train_imputed_df, train_df[non_numeric_cols_train]], axis=1)\n",
    "test_final_df = pd.concat([test_imputed_df, test_df[non_numeric_cols_test]], axis=1)"
   ]
  },
  {
   "cell_type": "code",
   "execution_count": 146,
   "id": "20040a50-21b7-4705-81a0-c4915367c334",
   "metadata": {
    "tags": []
   },
   "outputs": [
    {
     "name": "stdout",
     "output_type": "stream",
     "text": [
      "Shape of original DataFrame: (39483, 77)\n",
      "Shape of imputed DataFrame: (39483, 74)\n",
      "Shape of final DataFrame: (39483, 77)\n"
     ]
    }
   ],
   "source": [
    "# Check the shapes\n",
    "print(\"Shape of original DataFrame:\", train_df.shape)\n",
    "print(\"Shape of imputed DataFrame:\", train_imputed_df.shape)\n",
    "print(\"Shape of final DataFrame:\", train_final_df.shape)"
   ]
  },
  {
   "cell_type": "code",
   "execution_count": 147,
   "id": "c8d26419-f603-4004-a47c-fb693804b2e8",
   "metadata": {
    "tags": []
   },
   "outputs": [
    {
     "name": "stdout",
     "output_type": "stream",
     "text": [
      "True\n",
      "True\n"
     ]
    }
   ],
   "source": [
    "# Check indices align\n",
    "print((train_final_df.index == train_df.index).all())\n",
    "print((test_final_df.index == test_df.index).all())"
   ]
  },
  {
   "cell_type": "code",
   "execution_count": 148,
   "id": "078812fd-450c-4783-bfd4-01e44138a33c",
   "metadata": {
    "tags": []
   },
   "outputs": [
    {
     "name": "stdout",
     "output_type": "stream",
     "text": [
      "<class 'pandas.core.frame.DataFrame'>\n",
      "RangeIndex: 39483 entries, 0 to 39482\n",
      "Data columns (total 77 columns):\n",
      " #   Column                        Non-Null Count  Dtype  \n",
      "---  ------                        --------------  -----  \n",
      " 0   language_en                   39483 non-null  float64\n",
      " 1   runtime                       39483 non-null  float64\n",
      " 2   budget                        39483 non-null  float64\n",
      " 3   box_office_gross              39483 non-null  float64\n",
      " 4   votes                         39483 non-null  float64\n",
      " 5   review_count                  39483 non-null  float64\n",
      " 6   decade_1900                   39483 non-null  float64\n",
      " 7   decade_1910                   39483 non-null  float64\n",
      " 8   decade_1920                   39483 non-null  float64\n",
      " 9   decade_1930                   39483 non-null  float64\n",
      " 10  decade_1940                   39483 non-null  float64\n",
      " 11  decade_1950                   39483 non-null  float64\n",
      " 12  decade_1960                   39483 non-null  float64\n",
      " 13  decade_1970                   39483 non-null  float64\n",
      " 14  decade_1980                   39483 non-null  float64\n",
      " 15  decade_1990                   39483 non-null  float64\n",
      " 16  decade_2000                   39483 non-null  float64\n",
      " 17  decade_2010                   39483 non-null  float64\n",
      " 18  has_director_Michael Curtiz   39483 non-null  float64\n",
      " 19  has_director_John Ford        39483 non-null  float64\n",
      " 20  has_director_Werner Herzog    39483 non-null  float64\n",
      " 21  has_director_Mervyn LeRoy     39483 non-null  float64\n",
      " 22  has_director_Woody Allen      39483 non-null  float64\n",
      " 23  has_director_Ingmar Bergman   39483 non-null  float64\n",
      " 24  has_director_Martin Scorsese  39483 non-null  float64\n",
      " 25  has_director_Fritz Lang       39483 non-null  float64\n",
      " 26  has_director_Raoul Walsh      39483 non-null  float64\n",
      " 27  has_director_William Wyler    39483 non-null  float64\n",
      " 28  has_actor_Clarence Nash       39483 non-null  float64\n",
      " 29  has_actor_Bette Davis         39483 non-null  float64\n",
      " 30  has_actor_Werner Herzog       39483 non-null  float64\n",
      " 31  has_actor_Meryl Streep        39483 non-null  float64\n",
      " 32  has_actor_Woody Allen         39483 non-null  float64\n",
      " 33  has_actor_Mia Farrow          39483 non-null  float64\n",
      " 34  has_actor_Jack Lemmon         39483 non-null  float64\n",
      " 35  has_actor_Cary Grant          39483 non-null  float64\n",
      " 36  has_actor_Julianne Moore      39483 non-null  float64\n",
      " 37  has_actor_Masako Nozawa       39483 non-null  float64\n",
      " 38  has_Metro-Goldwyn-Mayer       39483 non-null  float64\n",
      " 39  has_Warner Bros. Pictures     39483 non-null  float64\n",
      " 40  has_Paramount                 39483 non-null  float64\n",
      " 41  has_20th Century Fox          39483 non-null  float64\n",
      " 42  has_Columbia Pictures         39483 non-null  float64\n",
      " 43  has_Universal Pictures        39483 non-null  float64\n",
      " 44  has_Walt Disney Pictures      39483 non-null  float64\n",
      " 45  has_United Artists            39483 non-null  float64\n",
      " 46  has_RKO Radio Pictures        39483 non-null  float64\n",
      " 47  has_Mosfilm                   39483 non-null  float64\n",
      " 48  genre_Action                  39483 non-null  float64\n",
      " 49  genre_Adventure               39483 non-null  float64\n",
      " 50  genre_Animation               39483 non-null  float64\n",
      " 51  genre_Biography               39483 non-null  float64\n",
      " 52  genre_Comedy                  39483 non-null  float64\n",
      " 53  genre_Crime                   39483 non-null  float64\n",
      " 54  genre_Documentary             39483 non-null  float64\n",
      " 55  genre_Drama                   39483 non-null  float64\n",
      " 56  genre_Family                  39483 non-null  float64\n",
      " 57  genre_Fantasy                 39483 non-null  float64\n",
      " 58  genre_Film-Noir               39483 non-null  float64\n",
      " 59  genre_History                 39483 non-null  float64\n",
      " 60  genre_Horror                  39483 non-null  float64\n",
      " 61  genre_Music                   39483 non-null  float64\n",
      " 62  genre_Musical                 39483 non-null  float64\n",
      " 63  genre_Mystery                 39483 non-null  float64\n",
      " 64  genre_News                    39483 non-null  float64\n",
      " 65  genre_Reality-TV              39483 non-null  float64\n",
      " 66  genre_Romance                 39483 non-null  float64\n",
      " 67  genre_Sci-Fi                  39483 non-null  float64\n",
      " 68  genre_Short                   39483 non-null  float64\n",
      " 69  genre_Sport                   39483 non-null  float64\n",
      " 70  genre_Talk-Show               39483 non-null  float64\n",
      " 71  genre_Thriller                39483 non-null  float64\n",
      " 72  genre_War                     39483 non-null  float64\n",
      " 73  genre_Western                 39483 non-null  float64\n",
      " 74  imdb_id                       39483 non-null  object \n",
      " 75  rating_category               39483 non-null  object \n",
      " 76  review_text                   39483 non-null  object \n",
      "dtypes: float64(74), object(3)\n",
      "memory usage: 23.2+ MB\n"
     ]
    }
   ],
   "source": [
    "train_final_df.info()"
   ]
  },
  {
   "cell_type": "code",
   "execution_count": 149,
   "id": "7e011941-1f85-4c64-86e0-61b51eae46aa",
   "metadata": {
    "tags": []
   },
   "outputs": [
    {
     "name": "stdout",
     "output_type": "stream",
     "text": [
      "<class 'pandas.core.frame.DataFrame'>\n",
      "RangeIndex: 9872 entries, 0 to 9871\n",
      "Data columns (total 77 columns):\n",
      " #   Column                        Non-Null Count  Dtype  \n",
      "---  ------                        --------------  -----  \n",
      " 0   language_en                   9872 non-null   float64\n",
      " 1   runtime                       9872 non-null   float64\n",
      " 2   budget                        9872 non-null   float64\n",
      " 3   box_office_gross              9872 non-null   float64\n",
      " 4   votes                         9872 non-null   float64\n",
      " 5   review_count                  9872 non-null   float64\n",
      " 6   decade_1900                   9872 non-null   float64\n",
      " 7   decade_1910                   9872 non-null   float64\n",
      " 8   decade_1920                   9872 non-null   float64\n",
      " 9   decade_1930                   9872 non-null   float64\n",
      " 10  decade_1940                   9872 non-null   float64\n",
      " 11  decade_1950                   9872 non-null   float64\n",
      " 12  decade_1960                   9872 non-null   float64\n",
      " 13  decade_1970                   9872 non-null   float64\n",
      " 14  decade_1980                   9872 non-null   float64\n",
      " 15  decade_1990                   9872 non-null   float64\n",
      " 16  decade_2000                   9872 non-null   float64\n",
      " 17  decade_2010                   9872 non-null   float64\n",
      " 18  has_director_Michael Curtiz   9872 non-null   float64\n",
      " 19  has_director_John Ford        9872 non-null   float64\n",
      " 20  has_director_Werner Herzog    9872 non-null   float64\n",
      " 21  has_director_Mervyn LeRoy     9872 non-null   float64\n",
      " 22  has_director_Woody Allen      9872 non-null   float64\n",
      " 23  has_director_Ingmar Bergman   9872 non-null   float64\n",
      " 24  has_director_Martin Scorsese  9872 non-null   float64\n",
      " 25  has_director_Fritz Lang       9872 non-null   float64\n",
      " 26  has_director_Raoul Walsh      9872 non-null   float64\n",
      " 27  has_director_William Wyler    9872 non-null   float64\n",
      " 28  has_actor_Clarence Nash       9872 non-null   float64\n",
      " 29  has_actor_Bette Davis         9872 non-null   float64\n",
      " 30  has_actor_Werner Herzog       9872 non-null   float64\n",
      " 31  has_actor_Meryl Streep        9872 non-null   float64\n",
      " 32  has_actor_Woody Allen         9872 non-null   float64\n",
      " 33  has_actor_Mia Farrow          9872 non-null   float64\n",
      " 34  has_actor_Jack Lemmon         9872 non-null   float64\n",
      " 35  has_actor_Cary Grant          9872 non-null   float64\n",
      " 36  has_actor_Julianne Moore      9872 non-null   float64\n",
      " 37  has_actor_Masako Nozawa       9872 non-null   float64\n",
      " 38  has_Metro-Goldwyn-Mayer       9872 non-null   float64\n",
      " 39  has_Warner Bros. Pictures     9872 non-null   float64\n",
      " 40  has_Paramount                 9872 non-null   float64\n",
      " 41  has_20th Century Fox          9872 non-null   float64\n",
      " 42  has_Columbia Pictures         9872 non-null   float64\n",
      " 43  has_Universal Pictures        9872 non-null   float64\n",
      " 44  has_Walt Disney Pictures      9872 non-null   float64\n",
      " 45  has_United Artists            9872 non-null   float64\n",
      " 46  has_RKO Radio Pictures        9872 non-null   float64\n",
      " 47  has_Mosfilm                   9872 non-null   float64\n",
      " 48  genre_Action                  9872 non-null   float64\n",
      " 49  genre_Adventure               9872 non-null   float64\n",
      " 50  genre_Animation               9872 non-null   float64\n",
      " 51  genre_Biography               9872 non-null   float64\n",
      " 52  genre_Comedy                  9872 non-null   float64\n",
      " 53  genre_Crime                   9872 non-null   float64\n",
      " 54  genre_Documentary             9872 non-null   float64\n",
      " 55  genre_Drama                   9872 non-null   float64\n",
      " 56  genre_Family                  9872 non-null   float64\n",
      " 57  genre_Fantasy                 9872 non-null   float64\n",
      " 58  genre_Film-Noir               9872 non-null   float64\n",
      " 59  genre_History                 9872 non-null   float64\n",
      " 60  genre_Horror                  9872 non-null   float64\n",
      " 61  genre_Music                   9872 non-null   float64\n",
      " 62  genre_Musical                 9872 non-null   float64\n",
      " 63  genre_Mystery                 9872 non-null   float64\n",
      " 64  genre_News                    9872 non-null   float64\n",
      " 65  genre_Reality-TV              9872 non-null   float64\n",
      " 66  genre_Romance                 9872 non-null   float64\n",
      " 67  genre_Sci-Fi                  9872 non-null   float64\n",
      " 68  genre_Short                   9872 non-null   float64\n",
      " 69  genre_Sport                   9872 non-null   float64\n",
      " 70  genre_Talk-Show               9872 non-null   float64\n",
      " 71  genre_Thriller                9872 non-null   float64\n",
      " 72  genre_War                     9872 non-null   float64\n",
      " 73  genre_Western                 9872 non-null   float64\n",
      " 74  imdb_id                       9872 non-null   object \n",
      " 75  rating_category               9872 non-null   object \n",
      " 76  review_text                   9872 non-null   object \n",
      "dtypes: float64(74), object(3)\n",
      "memory usage: 5.8+ MB\n"
     ]
    }
   ],
   "source": [
    "test_final_df.info()"
   ]
  },
  {
   "cell_type": "markdown",
   "id": "6bbd9ff2-0dd7-4d03-b53b-77ed3117802a",
   "metadata": {},
   "source": [
    "Let's move our `imdb_id` and target feature, `rating_category` to the top of the feature list for both dataframes."
   ]
  },
  {
   "cell_type": "code",
   "execution_count": 150,
   "id": "842857e1-1357-46dd-9d90-02a4fa3796bd",
   "metadata": {
    "tags": []
   },
   "outputs": [],
   "source": [
    "# Get the list of all column names except 'rating_category' and 'imdb_id'\n",
    "cols = [col for col in train_final_df.columns if col not in ['rating_category', 'imdb_id']]\n",
    "\n",
    "# Reorder the columns so that 'rating_category' and 'imdb_id' are at the front\n",
    "train_final_df = train_final_df[['rating_category', 'imdb_id'] + cols]\n",
    "\n",
    "# Do the same for the test dataframe\n",
    "cols_test = [col for col in test_final_df.columns if col not in ['rating_category', 'imdb_id']]\n",
    "test_final_df = test_final_df[['rating_category', 'imdb_id'] + cols_test]\n"
   ]
  },
  {
   "cell_type": "code",
   "execution_count": 151,
   "id": "bdfa4980-f387-4b1a-8dec-74a6d8b17e2b",
   "metadata": {
    "tags": []
   },
   "outputs": [
    {
     "name": "stdout",
     "output_type": "stream",
     "text": [
      "<class 'pandas.core.frame.DataFrame'>\n",
      "RangeIndex: 9872 entries, 0 to 9871\n",
      "Data columns (total 77 columns):\n",
      " #   Column                        Non-Null Count  Dtype  \n",
      "---  ------                        --------------  -----  \n",
      " 0   rating_category               9872 non-null   object \n",
      " 1   imdb_id                       9872 non-null   object \n",
      " 2   language_en                   9872 non-null   float64\n",
      " 3   runtime                       9872 non-null   float64\n",
      " 4   budget                        9872 non-null   float64\n",
      " 5   box_office_gross              9872 non-null   float64\n",
      " 6   votes                         9872 non-null   float64\n",
      " 7   review_count                  9872 non-null   float64\n",
      " 8   decade_1900                   9872 non-null   float64\n",
      " 9   decade_1910                   9872 non-null   float64\n",
      " 10  decade_1920                   9872 non-null   float64\n",
      " 11  decade_1930                   9872 non-null   float64\n",
      " 12  decade_1940                   9872 non-null   float64\n",
      " 13  decade_1950                   9872 non-null   float64\n",
      " 14  decade_1960                   9872 non-null   float64\n",
      " 15  decade_1970                   9872 non-null   float64\n",
      " 16  decade_1980                   9872 non-null   float64\n",
      " 17  decade_1990                   9872 non-null   float64\n",
      " 18  decade_2000                   9872 non-null   float64\n",
      " 19  decade_2010                   9872 non-null   float64\n",
      " 20  has_director_Michael Curtiz   9872 non-null   float64\n",
      " 21  has_director_John Ford        9872 non-null   float64\n",
      " 22  has_director_Werner Herzog    9872 non-null   float64\n",
      " 23  has_director_Mervyn LeRoy     9872 non-null   float64\n",
      " 24  has_director_Woody Allen      9872 non-null   float64\n",
      " 25  has_director_Ingmar Bergman   9872 non-null   float64\n",
      " 26  has_director_Martin Scorsese  9872 non-null   float64\n",
      " 27  has_director_Fritz Lang       9872 non-null   float64\n",
      " 28  has_director_Raoul Walsh      9872 non-null   float64\n",
      " 29  has_director_William Wyler    9872 non-null   float64\n",
      " 30  has_actor_Clarence Nash       9872 non-null   float64\n",
      " 31  has_actor_Bette Davis         9872 non-null   float64\n",
      " 32  has_actor_Werner Herzog       9872 non-null   float64\n",
      " 33  has_actor_Meryl Streep        9872 non-null   float64\n",
      " 34  has_actor_Woody Allen         9872 non-null   float64\n",
      " 35  has_actor_Mia Farrow          9872 non-null   float64\n",
      " 36  has_actor_Jack Lemmon         9872 non-null   float64\n",
      " 37  has_actor_Cary Grant          9872 non-null   float64\n",
      " 38  has_actor_Julianne Moore      9872 non-null   float64\n",
      " 39  has_actor_Masako Nozawa       9872 non-null   float64\n",
      " 40  has_Metro-Goldwyn-Mayer       9872 non-null   float64\n",
      " 41  has_Warner Bros. Pictures     9872 non-null   float64\n",
      " 42  has_Paramount                 9872 non-null   float64\n",
      " 43  has_20th Century Fox          9872 non-null   float64\n",
      " 44  has_Columbia Pictures         9872 non-null   float64\n",
      " 45  has_Universal Pictures        9872 non-null   float64\n",
      " 46  has_Walt Disney Pictures      9872 non-null   float64\n",
      " 47  has_United Artists            9872 non-null   float64\n",
      " 48  has_RKO Radio Pictures        9872 non-null   float64\n",
      " 49  has_Mosfilm                   9872 non-null   float64\n",
      " 50  genre_Action                  9872 non-null   float64\n",
      " 51  genre_Adventure               9872 non-null   float64\n",
      " 52  genre_Animation               9872 non-null   float64\n",
      " 53  genre_Biography               9872 non-null   float64\n",
      " 54  genre_Comedy                  9872 non-null   float64\n",
      " 55  genre_Crime                   9872 non-null   float64\n",
      " 56  genre_Documentary             9872 non-null   float64\n",
      " 57  genre_Drama                   9872 non-null   float64\n",
      " 58  genre_Family                  9872 non-null   float64\n",
      " 59  genre_Fantasy                 9872 non-null   float64\n",
      " 60  genre_Film-Noir               9872 non-null   float64\n",
      " 61  genre_History                 9872 non-null   float64\n",
      " 62  genre_Horror                  9872 non-null   float64\n",
      " 63  genre_Music                   9872 non-null   float64\n",
      " 64  genre_Musical                 9872 non-null   float64\n",
      " 65  genre_Mystery                 9872 non-null   float64\n",
      " 66  genre_News                    9872 non-null   float64\n",
      " 67  genre_Reality-TV              9872 non-null   float64\n",
      " 68  genre_Romance                 9872 non-null   float64\n",
      " 69  genre_Sci-Fi                  9872 non-null   float64\n",
      " 70  genre_Short                   9872 non-null   float64\n",
      " 71  genre_Sport                   9872 non-null   float64\n",
      " 72  genre_Talk-Show               9872 non-null   float64\n",
      " 73  genre_Thriller                9872 non-null   float64\n",
      " 74  genre_War                     9872 non-null   float64\n",
      " 75  genre_Western                 9872 non-null   float64\n",
      " 76  review_text                   9872 non-null   object \n",
      "dtypes: float64(74), object(3)\n",
      "memory usage: 5.8+ MB\n"
     ]
    }
   ],
   "source": [
    "test_final_df.info()"
   ]
  },
  {
   "cell_type": "markdown",
   "id": "4ec479c2-9e9f-41bc-8ab9-7b154933598a",
   "metadata": {
    "tags": []
   },
   "source": [
    "---"
   ]
  },
  {
   "cell_type": "markdown",
   "id": "35849de2-fe24-4507-a770-f0950ea313bc",
   "metadata": {
    "tags": []
   },
   "source": [
    "#### Text Pre-Processing \n",
    "Now that we've imputed the missing values, we can move on to pre-processing our text data.\n",
    "\n",
    "1. **Tokenization**\n",
    "    - Using `nltk.word_tokenize()` to split text into words.\n",
    "\n",
    "2. **Lowercasing**\n",
    "    - Using Python's `.lower()` method.\n",
    "\n",
    "3. **Removing Punctuation**\n",
    "    - Using `string.punctuation` to define punctuation characters.\n",
    "\n",
    "4. **Removing Stop Words**\n",
    "    - Using `nltk.corpus.stopwords` for a basic list of English stop words.\n",
    "    - Additional stop words: \"movie,\" \"movies,\" \"film,\" \"films.\"\n",
    "\n",
    "5. **Lemmatization**\n",
    "    - Using `WordNetLemmatizer` from `nltk.stem`.\n",
    "\n",
    "6. **TF-IDF Vectorization**\n",
    "    - Using `TfidfVectorizer` from `sklearn.feature_extraction.text`.\n",
    "    - Parameters:\n",
    "      - `min_df=100`: Words must appear in at least 100 documents (100 different reviews).\n",
    "      - `max_features=5000`: Limiting the number of features (words) to 5,000.\n",
    "      - `ngram_range=(1,1)`: Only considering unigrams (single words).\n",
    "\n",
    "Given the large size of the dataset and the number of reviews we have, setting the `max_features` parameter to 5,000 will hopefully strike a balance between capturing enough textual information and keeping the feature space manageable."
   ]
  },
  {
   "cell_type": "code",
   "execution_count": 132,
   "id": "066fa40a-a7fe-4678-b218-d90b1c2cc4d2",
   "metadata": {
    "tags": []
   },
   "outputs": [
    {
     "name": "stderr",
     "output_type": "stream",
     "text": [
      "[nltk_data] Downloading package stopwords to\n",
      "[nltk_data]     /Users/sydneylindsay/nltk_data...\n",
      "[nltk_data]   Package stopwords is already up-to-date!\n",
      "[nltk_data] Downloading package wordnet to\n",
      "[nltk_data]     /Users/sydneylindsay/nltk_data...\n",
      "[nltk_data]   Package wordnet is already up-to-date!\n",
      "[nltk_data] Downloading package punkt to\n",
      "[nltk_data]     /Users/sydneylindsay/nltk_data...\n",
      "[nltk_data]   Package punkt is already up-to-date!\n"
     ]
    }
   ],
   "source": [
    "# Import libraries \n",
    "import nltk\n",
    "nltk.download('stopwords')\n",
    "nltk.download('wordnet')\n",
    "nltk.download('punkt')\n",
    "from sklearn.feature_extraction.text import TfidfVectorizer\n",
    "from nltk.corpus import stopwords\n",
    "from nltk.stem import WordNetLemmatizer"
   ]
  },
  {
   "cell_type": "code",
   "execution_count": 133,
   "id": "69dad6fd-a716-4833-8cd5-5482ef2c4496",
   "metadata": {
    "tags": []
   },
   "outputs": [],
   "source": [
    "# Initiatlize lemmatizer and stop words \n",
    "lemmatizer = WordNetLemmatizer()\n",
    "\n",
    "stop_words = set(stopwords.words('english'))\n",
    "\n",
    "additional_stopwords = [\"movie\", \"movies\", \"film\", \"films\"]\n",
    "\n",
    "stop_words.update(additional_stopwords)"
   ]
  },
  {
   "cell_type": "markdown",
   "id": "9fac59b1-2ce8-4aaf-9b05-a10523a68d66",
   "metadata": {},
   "source": [
    "We can define a function to tokenize, lemmatize, and remove stopwords."
   ]
  },
  {
   "cell_type": "code",
   "execution_count": 134,
   "id": "d8f3df91-80e8-4d6c-ab17-d3a31719c684",
   "metadata": {
    "tags": []
   },
   "outputs": [],
   "source": [
    "def preprocess_text(text):\n",
    "    # Tokenize and lemmatize\n",
    "    words = nltk.word_tokenize(text)\n",
    "    words = [lemmatizer.lemmatize(word.lower()) for word in words if word.isalnum()]\n",
    "    \n",
    "    # Remove stopwords\n",
    "    words = [word for word in words if word not in stop_words]\n",
    "    \n",
    "    return ' '.join(words)"
   ]
  },
  {
   "cell_type": "code",
   "execution_count": 135,
   "id": "4d7790b4-476a-473e-9776-1e0a513f6ab3",
   "metadata": {
    "tags": []
   },
   "outputs": [],
   "source": [
    "# Apply pre-processing to dataframe\n",
    "train_final_df['cleaned_review_text'] = train_final_df['review_text'].apply(preprocess_text)"
   ]
  },
  {
   "cell_type": "code",
   "execution_count": 136,
   "id": "8e043976-a7ea-42d7-8560-c1d95afe923c",
   "metadata": {
    "tags": []
   },
   "outputs": [],
   "source": [
    "# Vectorize text data with TF-IDF and limit features \n",
    "vectorizer = TfidfVectorizer(min_df=100)  \n",
    "X_text = vectorizer.fit_transform(train_final_df['cleaned_review_text'])"
   ]
  },
  {
   "cell_type": "markdown",
   "id": "65736c8f-9e19-4f2d-bd1b-79cc9fcc655c",
   "metadata": {},
   "source": [
    "The TF-IDF vectorizer returns a sparse matrix, and we need to check the shape get the feature names so we can concatenate them with our dataframe."
   ]
  },
  {
   "cell_type": "code",
   "execution_count": 137,
   "id": "68699910-b26b-4404-8c08-cba881de6544",
   "metadata": {
    "tags": []
   },
   "outputs": [],
   "source": [
    "# Convert the sparse matrix to a dataframe with appropriate column names\n",
    "text_features_df = pd.DataFrame(X_text.toarray(), columns=vectorizer.get_feature_names_out())"
   ]
  },
  {
   "cell_type": "code",
   "execution_count": 138,
   "id": "a24f546b-8d27-4cea-b7c6-b27759d961fa",
   "metadata": {
    "tags": []
   },
   "outputs": [],
   "source": [
    "# Concatenate the dataframe\n",
    "train_final_with_text_df = pd.concat([train_final_df, text_features_df], axis=1)"
   ]
  },
  {
   "cell_type": "code",
   "execution_count": 139,
   "id": "44121886-febe-4766-9bfb-39a1b0bebf5c",
   "metadata": {
    "tags": []
   },
   "outputs": [
    {
     "data": {
      "text/html": [
       "<div>\n",
       "<style scoped>\n",
       "    .dataframe tbody tr th:only-of-type {\n",
       "        vertical-align: middle;\n",
       "    }\n",
       "\n",
       "    .dataframe tbody tr th {\n",
       "        vertical-align: top;\n",
       "    }\n",
       "\n",
       "    .dataframe thead th {\n",
       "        text-align: right;\n",
       "    }\n",
       "</style>\n",
       "<table border=\"1\" class=\"dataframe\">\n",
       "  <thead>\n",
       "    <tr style=\"text-align: right;\">\n",
       "      <th></th>\n",
       "      <th>rating_category</th>\n",
       "      <th>imdb_id</th>\n",
       "      <th>language_en</th>\n",
       "      <th>runtime</th>\n",
       "      <th>budget</th>\n",
       "      <th>box_office_gross</th>\n",
       "      <th>votes</th>\n",
       "      <th>review_count</th>\n",
       "      <th>decade_1900</th>\n",
       "      <th>decade_1910</th>\n",
       "      <th>...</th>\n",
       "      <th>zoomed</th>\n",
       "      <th>zooming</th>\n",
       "      <th>zorro</th>\n",
       "      <th>zucker</th>\n",
       "      <th>zulu</th>\n",
       "      <th>zzzzz</th>\n",
       "      <th>zzzzzz</th>\n",
       "      <th>élan</th>\n",
       "      <th>émigré</th>\n",
       "      <th>über</th>\n",
       "    </tr>\n",
       "  </thead>\n",
       "  <tbody>\n",
       "    <tr>\n",
       "      <th>0</th>\n",
       "      <td>Average</td>\n",
       "      <td>tt0052953</td>\n",
       "      <td>0.000</td>\n",
       "      <td>-0.115</td>\n",
       "      <td>-0.162</td>\n",
       "      <td>-0.353</td>\n",
       "      <td>-0.222</td>\n",
       "      <td>-0.276</td>\n",
       "      <td>0.000</td>\n",
       "      <td>0.000</td>\n",
       "      <td>...</td>\n",
       "      <td>0.000</td>\n",
       "      <td>0.000</td>\n",
       "      <td>0.000</td>\n",
       "      <td>0.000</td>\n",
       "      <td>0.000</td>\n",
       "      <td>0.000</td>\n",
       "      <td>0.000</td>\n",
       "      <td>0.000</td>\n",
       "      <td>0.000</td>\n",
       "      <td>0.000</td>\n",
       "    </tr>\n",
       "    <tr>\n",
       "      <th>1</th>\n",
       "      <td>Good</td>\n",
       "      <td>tt1715336</td>\n",
       "      <td>1.000</td>\n",
       "      <td>0.079</td>\n",
       "      <td>-0.128</td>\n",
       "      <td>-0.368</td>\n",
       "      <td>0.072</td>\n",
       "      <td>-0.082</td>\n",
       "      <td>0.000</td>\n",
       "      <td>0.000</td>\n",
       "      <td>...</td>\n",
       "      <td>0.000</td>\n",
       "      <td>0.000</td>\n",
       "      <td>0.000</td>\n",
       "      <td>0.000</td>\n",
       "      <td>0.000</td>\n",
       "      <td>0.000</td>\n",
       "      <td>0.000</td>\n",
       "      <td>0.000</td>\n",
       "      <td>0.000</td>\n",
       "      <td>0.000</td>\n",
       "    </tr>\n",
       "    <tr>\n",
       "      <th>2</th>\n",
       "      <td>Good</td>\n",
       "      <td>tt0067881</td>\n",
       "      <td>1.000</td>\n",
       "      <td>0.311</td>\n",
       "      <td>-0.181</td>\n",
       "      <td>-0.192</td>\n",
       "      <td>-0.207</td>\n",
       "      <td>-0.190</td>\n",
       "      <td>0.000</td>\n",
       "      <td>0.000</td>\n",
       "      <td>...</td>\n",
       "      <td>0.000</td>\n",
       "      <td>0.000</td>\n",
       "      <td>0.000</td>\n",
       "      <td>0.000</td>\n",
       "      <td>0.000</td>\n",
       "      <td>0.000</td>\n",
       "      <td>0.000</td>\n",
       "      <td>0.000</td>\n",
       "      <td>0.000</td>\n",
       "      <td>0.000</td>\n",
       "    </tr>\n",
       "    <tr>\n",
       "      <th>3</th>\n",
       "      <td>Excellent</td>\n",
       "      <td>tt0304072</td>\n",
       "      <td>0.000</td>\n",
       "      <td>-0.154</td>\n",
       "      <td>-0.140</td>\n",
       "      <td>-0.141</td>\n",
       "      <td>-0.218</td>\n",
       "      <td>-0.276</td>\n",
       "      <td>0.000</td>\n",
       "      <td>0.000</td>\n",
       "      <td>...</td>\n",
       "      <td>0.000</td>\n",
       "      <td>0.000</td>\n",
       "      <td>0.000</td>\n",
       "      <td>0.000</td>\n",
       "      <td>0.000</td>\n",
       "      <td>0.000</td>\n",
       "      <td>0.000</td>\n",
       "      <td>0.000</td>\n",
       "      <td>0.000</td>\n",
       "      <td>0.000</td>\n",
       "    </tr>\n",
       "    <tr>\n",
       "      <th>4</th>\n",
       "      <td>Poor</td>\n",
       "      <td>tt1698499</td>\n",
       "      <td>0.000</td>\n",
       "      <td>0.001</td>\n",
       "      <td>-0.154</td>\n",
       "      <td>-0.368</td>\n",
       "      <td>-0.223</td>\n",
       "      <td>-0.285</td>\n",
       "      <td>0.000</td>\n",
       "      <td>0.000</td>\n",
       "      <td>...</td>\n",
       "      <td>0.000</td>\n",
       "      <td>0.000</td>\n",
       "      <td>0.000</td>\n",
       "      <td>0.000</td>\n",
       "      <td>0.000</td>\n",
       "      <td>0.000</td>\n",
       "      <td>0.000</td>\n",
       "      <td>0.000</td>\n",
       "      <td>0.000</td>\n",
       "      <td>0.000</td>\n",
       "    </tr>\n",
       "  </tbody>\n",
       "</table>\n",
       "<p>5 rows × 32498 columns</p>\n",
       "</div>"
      ],
      "text/plain": [
       "  rating_category    imdb_id  language_en  runtime  budget  box_office_gross  \\\n",
       "0         Average  tt0052953        0.000   -0.115  -0.162            -0.353   \n",
       "1            Good  tt1715336        1.000    0.079  -0.128            -0.368   \n",
       "2            Good  tt0067881        1.000    0.311  -0.181            -0.192   \n",
       "3       Excellent  tt0304072        0.000   -0.154  -0.140            -0.141   \n",
       "4            Poor  tt1698499        0.000    0.001  -0.154            -0.368   \n",
       "\n",
       "   votes  review_count  decade_1900  decade_1910  ...  zoomed  zooming  zorro  \\\n",
       "0 -0.222        -0.276        0.000        0.000  ...   0.000    0.000  0.000   \n",
       "1  0.072        -0.082        0.000        0.000  ...   0.000    0.000  0.000   \n",
       "2 -0.207        -0.190        0.000        0.000  ...   0.000    0.000  0.000   \n",
       "3 -0.218        -0.276        0.000        0.000  ...   0.000    0.000  0.000   \n",
       "4 -0.223        -0.285        0.000        0.000  ...   0.000    0.000  0.000   \n",
       "\n",
       "   zucker  zulu  zzzzz  zzzzzz  élan  émigré  über  \n",
       "0   0.000 0.000  0.000   0.000 0.000   0.000 0.000  \n",
       "1   0.000 0.000  0.000   0.000 0.000   0.000 0.000  \n",
       "2   0.000 0.000  0.000   0.000 0.000   0.000 0.000  \n",
       "3   0.000 0.000  0.000   0.000 0.000   0.000 0.000  \n",
       "4   0.000 0.000  0.000   0.000 0.000   0.000 0.000  \n",
       "\n",
       "[5 rows x 32498 columns]"
      ]
     },
     "execution_count": 139,
     "metadata": {},
     "output_type": "execute_result"
    }
   ],
   "source": [
    "train_final_with_text_df.head()"
   ]
  },
  {
   "cell_type": "code",
   "execution_count": 140,
   "id": "a610d7ae-fd6d-4b5b-8ea6-9816c5281ad3",
   "metadata": {
    "tags": []
   },
   "outputs": [
    {
     "name": "stdout",
     "output_type": "stream",
     "text": [
      "(39483, 32420)\n"
     ]
    }
   ],
   "source": [
    "# Print shape of sparse matrix: (number_of_documents, number_of_features)\n",
    "print(X_text.shape)\n"
   ]
  },
  {
   "cell_type": "code",
   "execution_count": 141,
   "id": "80a63213-3b1b-45e2-b21e-79258f527022",
   "metadata": {
    "tags": []
   },
   "outputs": [
    {
     "name": "stdout",
     "output_type": "stream",
     "text": [
      "['00' '000' '007' '00s' '01' '02' '03' '04' '05' '06' '07' '08' '0f' '10'\n",
      " '100' '1000' '10000' '1001' '100k' '100m' '100th' '100x' '101' '102'\n",
      " '103' '104' '105' '106' '107' '108' '1080p' '109' '10min' '10mins' '10th'\n",
      " '10x' '11' '110' '111' '112' '113' '114' '115' '116' '117' '118' '119'\n",
      " '11th' '12' '120' '1200' '121' '122' '123' '124' '125' '126' '127' '128'\n",
      " '129' '12a' '12th' '13' '130' '131' '132' '133' '134' '135' '137' '138'\n",
      " '13th' '14' '140' '1408' '142' '145' '14th' '15' '150' '1500' '15min'\n",
      " '15mins' '15th' '16' '160' '1600' '165' '16mm' '16th' '17' '170' '1700'\n",
      " '175' '17th' '18' '180' '1800' '1800s' '1850']\n"
     ]
    }
   ],
   "source": [
    "# Get feature names\n",
    "feature_names = vectorizer.get_feature_names_out()\n",
    "\n",
    "# Print them out \n",
    "print(feature_names[:100])  "
   ]
  },
  {
   "cell_type": "markdown",
   "id": "cb02d994-06e9-44c3-8c84-99a028fb40e3",
   "metadata": {},
   "source": [
    "Wow, It looks like we probably didn't include enough parameters in our lemmatizer and need to fix that. We will likely need to add part of speech tagging to the lemmatizer to refine these results. Ref: https://stackoverflow.com/questions/15586721/wordnet-lemmatization-and-pos-tagging-in-python. Additionally, we forgot to set the `max_features` in the vectorizer, so we ended up with over 32k features. We'll correct this in our next iteration.\n",
    "\n",
    "We need to download an additional package, and then define a new function to tage the correct parts of speech. Then we'll initiatlize the lemmatizer again. We also went back up to reset our `train_final_df` with the original columns before any text pre-processing. "
   ]
  },
  {
   "cell_type": "code",
   "execution_count": 152,
   "id": "1aa5f415-e865-44fc-a12f-e757bdf09862",
   "metadata": {
    "tags": []
   },
   "outputs": [
    {
     "name": "stderr",
     "output_type": "stream",
     "text": [
      "[nltk_data] Downloading package averaged_perceptron_tagger to\n",
      "[nltk_data]     /Users/sydneylindsay/nltk_data...\n",
      "[nltk_data]   Package averaged_perceptron_tagger is already up-to-\n",
      "[nltk_data]       date!\n"
     ]
    }
   ],
   "source": [
    "from nltk.corpus import wordnet\n",
    "from nltk import pos_tag\n",
    "from nltk.stem import WordNetLemmatizer\n",
    "from nltk.corpus import stopwords\n",
    "from nltk.tokenize import word_tokenize\n",
    "import nltk\n",
    "nltk.download('averaged_perceptron_tagger')\n",
    "\n",
    "# Map POS tag to first character used by WordNetLemmatizer\n",
    "\n",
    "def get_wordnet_pos(tag):\n",
    "    tag = tag[0].upper()  # Take the first character and make it uppercase\n",
    "    tag_dict = {\"J\": wordnet.ADJ,\n",
    "                \"N\": wordnet.NOUN,\n",
    "                \"V\": wordnet.VERB,\n",
    "                \"R\": wordnet.ADV}\n",
    "    return tag_dict.get(tag, wordnet.NOUN)\n",
    "\n",
    "# Initialize lemmatizer and stop words\n",
    "lemmatizer = WordNetLemmatizer()\n",
    "stop_words = set(stopwords.words('english'))\n",
    "\n",
    "# Additional stopwords\n",
    "additional_stopwords = [\"movie\", \"movies\", \"film\", \"films\"]\n",
    "\n",
    "stop_words.update(additional_stopwords)"
   ]
  },
  {
   "cell_type": "markdown",
   "id": "f1c56f44-8d04-484c-9f1a-8431a3023108",
   "metadata": {},
   "source": [
    "Now that we've set up our lemmatizer with POS tagging, we'll create a new function for text cleaning, with the existing steps from before, but adding the POS tagging."
   ]
  },
  {
   "cell_type": "code",
   "execution_count": 153,
   "id": "854d5837-af30-40eb-a3b9-aad2515087f0",
   "metadata": {
    "tags": []
   },
   "outputs": [],
   "source": [
    "# Text cleaning function\n",
    "\n",
    "def clean_text(text):\n",
    "    # Existing cleaning steps, such as lower-casing, removing punctuations, etc.\n",
    "\n",
    "    # Tokenize\n",
    "    words = word_tokenize(text)\n",
    "    \n",
    "    # Get POS tags\n",
    "    pos_tags = pos_tag(words)\n",
    "\n",
    "    # Lemmatize with POS tagging\n",
    "    lemmatized_words = [lemmatizer.lemmatize(word, get_wordnet_pos(pos)) for word, pos in pos_tags]\n",
    "    \n",
    "    # Remove stop words\n",
    "    lemmatized_words = [word for word in lemmatized_words if word.lower() not in stop_words]\n",
    "\n",
    "    # Reassemble back into a string\n",
    "    return ' '.join(lemmatized_words)"
   ]
  },
  {
   "cell_type": "markdown",
   "id": "e030e30a-fa8b-41b7-befb-162ad1d8ee7f",
   "metadata": {},
   "source": [
    "Now we have our new clean text function and lemmatizer, we can apply the clean text function to our `train_final_df`. We've also changed the settings for our vectorizer to limit the total number of features to 5000, and use only alphabetic characters, rather than alphanumeric, since we saw so many references to years in our original sparse matrix."
   ]
  },
  {
   "cell_type": "code",
   "execution_count": 154,
   "id": "6dd0c9d5-0422-4c23-955a-f0f9e274c639",
   "metadata": {
    "tags": []
   },
   "outputs": [],
   "source": [
    "# Apply pre-processing to dataframe\n",
    "train_final_df['cleaned_review_text'] = train_final_df['review_text'].apply(clean_text)"
   ]
  },
  {
   "cell_type": "code",
   "execution_count": 155,
   "id": "42d68dfc-f658-4301-9849-7e78ab4d2358",
   "metadata": {
    "tags": []
   },
   "outputs": [],
   "source": [
    "# Vectorize text data with TF-IDF and limit features \n",
    "vectorizer = TfidfVectorizer(min_df=100, max_features=5000, token_pattern='[a-zA-Z]+')\n",
    "X_text = vectorizer.fit_transform(train_final_df['cleaned_review_text'])"
   ]
  },
  {
   "cell_type": "markdown",
   "id": "d97d2ecc-80ee-4009-9606-324f1029ac80",
   "metadata": {},
   "source": [
    "Checking the shape of our new matrix:"
   ]
  },
  {
   "cell_type": "code",
   "execution_count": 156,
   "id": "35b19d2d-5b82-48b0-a6a1-3f6f1169e879",
   "metadata": {
    "tags": []
   },
   "outputs": [
    {
     "name": "stdout",
     "output_type": "stream",
     "text": [
      "(39483, 5000)\n"
     ]
    }
   ],
   "source": [
    "# Print shape of sparse matrix: (number_of_documents, number_of_features)\n",
    "print(X_text.shape)"
   ]
  },
  {
   "cell_type": "code",
   "execution_count": 157,
   "id": "192ebab9-2225-4d1e-82bf-4fe1819ea16c",
   "metadata": {
    "tags": []
   },
   "outputs": [],
   "source": [
    "# Convert the sparse matrix to a dataframe with appropriate column names\n",
    "text_features_df = pd.DataFrame(X_text.toarray(), columns=vectorizer.get_feature_names_out())"
   ]
  },
  {
   "cell_type": "markdown",
   "id": "5d234dd0-94b4-408b-8549-395fe60efc4f",
   "metadata": {},
   "source": [
    "We saw that the word \"budget\" was included in the sparse matrix, and the new feature will also be named \"budget\". We'll rename it here so it doesn't get confused with our original numeric `budget` feature."
   ]
  },
  {
   "cell_type": "code",
   "execution_count": 158,
   "id": "4685e65f-4840-4fad-90c2-a1144c9d9514",
   "metadata": {
    "tags": []
   },
   "outputs": [],
   "source": [
    "# Rename text budget feature so as not to confuse it with numerical budget feature\n",
    "text_features_df.rename(columns={'budget': 'budget_text_feature'}, inplace=True)"
   ]
  },
  {
   "cell_type": "code",
   "execution_count": 159,
   "id": "db9630bd-28f6-44ac-80da-0ac554d8c909",
   "metadata": {
    "tags": []
   },
   "outputs": [
    {
     "name": "stdout",
     "output_type": "stream",
     "text": [
      "['a' 'aaron' 'abandon' 'ability' 'able' 'aboard' 'abrams' 'abrupt'\n",
      " 'absence' 'absent' 'absolute' 'absolutely' 'absorb' 'absurd' 'absurdity'\n",
      " 'abuse' 'abusive' 'academy' 'accent' 'accept' 'acceptable' 'acceptance'\n",
      " 'access' 'accident' 'accidentally' 'acclaim' 'accompany' 'accomplish'\n",
      " 'accord' 'account' 'accuracy' 'accurate' 'accurately' 'accuse' 'ace'\n",
      " 'achieve' 'achievement' 'acknowledge' 'acquire' 'across' 'act' 'acted'\n",
      " 'acting' 'action' 'activity' 'actor' 'actors' 'actress' 'actual'\n",
      " 'actually' 'ad' 'adam' 'adams' 'adapt' 'adaptation' 'adaption' 'add'\n",
      " 'added' 'addict' 'addiction' 'addition' 'additional' 'address' 'adequate'\n",
      " 'admirable' 'admire' 'admission' 'admit' 'admittedly' 'adolescent'\n",
      " 'adopt' 'adorable' 'adore' 'adrenaline' 'adult' 'advance' 'advanced'\n",
      " 'advantage' 'adventure' 'advertising' 'advice' 'advise' 'aesthetic'\n",
      " 'affair' 'affect' 'affection' 'affleck' 'afford' 'aforementioned'\n",
      " 'afraid' 'africa' 'african' 'after' 'afternoon' 'afterwards' 'again'\n",
      " 'age' 'aged' 'agency' 'agenda']\n"
     ]
    }
   ],
   "source": [
    "# Get feature names\n",
    "feature_names = vectorizer.get_feature_names_out()\n",
    "\n",
    "# Print them\n",
    "print(feature_names[:100])  "
   ]
  },
  {
   "cell_type": "markdown",
   "id": "d9e7fbd5-15cf-4e77-b8b3-aba46e6355d0",
   "metadata": {},
   "source": [
    "It seems like we had much better results with lemmatization this time, and ended up with only 5k features, as expected."
   ]
  },
  {
   "cell_type": "code",
   "execution_count": 160,
   "id": "321a4dd1-221a-4b4c-ab66-fa720fe91b34",
   "metadata": {
    "tags": []
   },
   "outputs": [],
   "source": [
    "# Reset indices \n",
    "text_features_df.reset_index(drop=True, inplace=True)\n",
    "train_final_df.reset_index(drop=True, inplace=True)"
   ]
  },
  {
   "cell_type": "code",
   "execution_count": 161,
   "id": "72e5d780-92ce-4bdb-808a-31364c5babd7",
   "metadata": {
    "tags": []
   },
   "outputs": [],
   "source": [
    "# Concatenate the dataframe\n",
    "train_final_with_text_df = pd.concat([train_final_df, text_features_df], axis=1)"
   ]
  },
  {
   "cell_type": "code",
   "execution_count": 162,
   "id": "94bb20a6-3db3-49c7-97de-af945d4d99ca",
   "metadata": {
    "tags": []
   },
   "outputs": [
    {
     "data": {
      "text/html": [
       "<div>\n",
       "<style scoped>\n",
       "    .dataframe tbody tr th:only-of-type {\n",
       "        vertical-align: middle;\n",
       "    }\n",
       "\n",
       "    .dataframe tbody tr th {\n",
       "        vertical-align: top;\n",
       "    }\n",
       "\n",
       "    .dataframe thead th {\n",
       "        text-align: right;\n",
       "    }\n",
       "</style>\n",
       "<table border=\"1\" class=\"dataframe\">\n",
       "  <thead>\n",
       "    <tr style=\"text-align: right;\">\n",
       "      <th></th>\n",
       "      <th>rating_category</th>\n",
       "      <th>imdb_id</th>\n",
       "      <th>language_en</th>\n",
       "      <th>runtime</th>\n",
       "      <th>budget</th>\n",
       "      <th>box_office_gross</th>\n",
       "      <th>votes</th>\n",
       "      <th>review_count</th>\n",
       "      <th>decade_1900</th>\n",
       "      <th>decade_1910</th>\n",
       "      <th>...</th>\n",
       "      <th>young</th>\n",
       "      <th>youngster</th>\n",
       "      <th>your</th>\n",
       "      <th>youth</th>\n",
       "      <th>youtube</th>\n",
       "      <th>z</th>\n",
       "      <th>zero</th>\n",
       "      <th>zombie</th>\n",
       "      <th>zone</th>\n",
       "      <th>zoom</th>\n",
       "    </tr>\n",
       "  </thead>\n",
       "  <tbody>\n",
       "    <tr>\n",
       "      <th>0</th>\n",
       "      <td>Average</td>\n",
       "      <td>tt0052953</td>\n",
       "      <td>0.000</td>\n",
       "      <td>-0.115</td>\n",
       "      <td>-0.162</td>\n",
       "      <td>-0.353</td>\n",
       "      <td>-0.222</td>\n",
       "      <td>-0.276</td>\n",
       "      <td>0.000</td>\n",
       "      <td>0.000</td>\n",
       "      <td>...</td>\n",
       "      <td>0.025</td>\n",
       "      <td>0.000</td>\n",
       "      <td>0.000</td>\n",
       "      <td>0.000</td>\n",
       "      <td>0.000</td>\n",
       "      <td>0.000</td>\n",
       "      <td>0.000</td>\n",
       "      <td>0.000</td>\n",
       "      <td>0.000</td>\n",
       "      <td>0.000</td>\n",
       "    </tr>\n",
       "    <tr>\n",
       "      <th>1</th>\n",
       "      <td>Good</td>\n",
       "      <td>tt1715336</td>\n",
       "      <td>1.000</td>\n",
       "      <td>0.079</td>\n",
       "      <td>-0.128</td>\n",
       "      <td>-0.368</td>\n",
       "      <td>0.072</td>\n",
       "      <td>-0.082</td>\n",
       "      <td>0.000</td>\n",
       "      <td>0.000</td>\n",
       "      <td>...</td>\n",
       "      <td>0.038</td>\n",
       "      <td>0.000</td>\n",
       "      <td>0.000</td>\n",
       "      <td>0.000</td>\n",
       "      <td>0.000</td>\n",
       "      <td>0.000</td>\n",
       "      <td>0.008</td>\n",
       "      <td>0.000</td>\n",
       "      <td>0.000</td>\n",
       "      <td>0.000</td>\n",
       "    </tr>\n",
       "    <tr>\n",
       "      <th>2</th>\n",
       "      <td>Good</td>\n",
       "      <td>tt0067881</td>\n",
       "      <td>1.000</td>\n",
       "      <td>0.311</td>\n",
       "      <td>-0.181</td>\n",
       "      <td>-0.192</td>\n",
       "      <td>-0.207</td>\n",
       "      <td>-0.190</td>\n",
       "      <td>0.000</td>\n",
       "      <td>0.000</td>\n",
       "      <td>...</td>\n",
       "      <td>0.019</td>\n",
       "      <td>0.000</td>\n",
       "      <td>0.000</td>\n",
       "      <td>0.000</td>\n",
       "      <td>0.012</td>\n",
       "      <td>0.000</td>\n",
       "      <td>0.000</td>\n",
       "      <td>0.000</td>\n",
       "      <td>0.011</td>\n",
       "      <td>0.000</td>\n",
       "    </tr>\n",
       "    <tr>\n",
       "      <th>3</th>\n",
       "      <td>Excellent</td>\n",
       "      <td>tt0304072</td>\n",
       "      <td>0.000</td>\n",
       "      <td>-0.154</td>\n",
       "      <td>-0.140</td>\n",
       "      <td>-0.141</td>\n",
       "      <td>-0.218</td>\n",
       "      <td>-0.276</td>\n",
       "      <td>0.000</td>\n",
       "      <td>0.000</td>\n",
       "      <td>...</td>\n",
       "      <td>0.059</td>\n",
       "      <td>0.000</td>\n",
       "      <td>0.000</td>\n",
       "      <td>0.000</td>\n",
       "      <td>0.000</td>\n",
       "      <td>0.000</td>\n",
       "      <td>0.000</td>\n",
       "      <td>0.000</td>\n",
       "      <td>0.000</td>\n",
       "      <td>0.000</td>\n",
       "    </tr>\n",
       "    <tr>\n",
       "      <th>4</th>\n",
       "      <td>Poor</td>\n",
       "      <td>tt1698499</td>\n",
       "      <td>0.000</td>\n",
       "      <td>0.001</td>\n",
       "      <td>-0.154</td>\n",
       "      <td>-0.368</td>\n",
       "      <td>-0.223</td>\n",
       "      <td>-0.285</td>\n",
       "      <td>0.000</td>\n",
       "      <td>0.000</td>\n",
       "      <td>...</td>\n",
       "      <td>0.000</td>\n",
       "      <td>0.000</td>\n",
       "      <td>0.000</td>\n",
       "      <td>0.000</td>\n",
       "      <td>0.000</td>\n",
       "      <td>0.000</td>\n",
       "      <td>0.000</td>\n",
       "      <td>0.000</td>\n",
       "      <td>0.000</td>\n",
       "      <td>0.000</td>\n",
       "    </tr>\n",
       "  </tbody>\n",
       "</table>\n",
       "<p>5 rows × 5078 columns</p>\n",
       "</div>"
      ],
      "text/plain": [
       "  rating_category    imdb_id  language_en  runtime  budget  box_office_gross  \\\n",
       "0         Average  tt0052953        0.000   -0.115  -0.162            -0.353   \n",
       "1            Good  tt1715336        1.000    0.079  -0.128            -0.368   \n",
       "2            Good  tt0067881        1.000    0.311  -0.181            -0.192   \n",
       "3       Excellent  tt0304072        0.000   -0.154  -0.140            -0.141   \n",
       "4            Poor  tt1698499        0.000    0.001  -0.154            -0.368   \n",
       "\n",
       "   votes  review_count  decade_1900  decade_1910  ...  young  youngster  your  \\\n",
       "0 -0.222        -0.276        0.000        0.000  ...  0.025      0.000 0.000   \n",
       "1  0.072        -0.082        0.000        0.000  ...  0.038      0.000 0.000   \n",
       "2 -0.207        -0.190        0.000        0.000  ...  0.019      0.000 0.000   \n",
       "3 -0.218        -0.276        0.000        0.000  ...  0.059      0.000 0.000   \n",
       "4 -0.223        -0.285        0.000        0.000  ...  0.000      0.000 0.000   \n",
       "\n",
       "   youth  youtube     z  zero  zombie  zone  zoom  \n",
       "0  0.000    0.000 0.000 0.000   0.000 0.000 0.000  \n",
       "1  0.000    0.000 0.000 0.008   0.000 0.000 0.000  \n",
       "2  0.000    0.012 0.000 0.000   0.000 0.011 0.000  \n",
       "3  0.000    0.000 0.000 0.000   0.000 0.000 0.000  \n",
       "4  0.000    0.000 0.000 0.000   0.000 0.000 0.000  \n",
       "\n",
       "[5 rows x 5078 columns]"
      ]
     },
     "execution_count": 162,
     "metadata": {},
     "output_type": "execute_result"
    }
   ],
   "source": [
    "train_final_with_text_df.head()"
   ]
  },
  {
   "cell_type": "markdown",
   "id": "0602377b-cf7e-4789-b6f7-3211d76fd235",
   "metadata": {},
   "source": [
    "We can go ahead and apply the same transformation to our test dataset to add the text features."
   ]
  },
  {
   "cell_type": "code",
   "execution_count": 163,
   "id": "95890cc4-a91e-4b9c-a09d-dfe98549ac39",
   "metadata": {
    "tags": []
   },
   "outputs": [],
   "source": [
    "# Apply text cleaning function to test data \n",
    "test_final_df['cleaned_review_text'] = test_final_df['review_text'].apply(clean_text)"
   ]
  },
  {
   "cell_type": "code",
   "execution_count": 164,
   "id": "a5a6e314-ae75-499f-af8d-0e6434ea7068",
   "metadata": {
    "tags": []
   },
   "outputs": [],
   "source": [
    "# Transform test text data \n",
    "X_text_test = vectorizer.transform(test_final_df['cleaned_review_text'])"
   ]
  },
  {
   "cell_type": "code",
   "execution_count": 165,
   "id": "cef6dd0c-43ad-4d8b-b297-da579303477c",
   "metadata": {
    "tags": []
   },
   "outputs": [
    {
     "name": "stdout",
     "output_type": "stream",
     "text": [
      "(9872, 5000)\n"
     ]
    }
   ],
   "source": [
    "# Print shape of sparse matrix: (number_of_documents, number_of_features)\n",
    "print(X_text_test.shape)"
   ]
  },
  {
   "cell_type": "code",
   "execution_count": 166,
   "id": "a60b2417-381a-4bd6-999f-be925194b2f9",
   "metadata": {
    "tags": []
   },
   "outputs": [],
   "source": [
    "# Convert the sparse matrix to a dataframe with appropriate column names\n",
    "test_text_features_df = pd.DataFrame(X_text_test.toarray(), columns=vectorizer.get_feature_names_out())"
   ]
  },
  {
   "cell_type": "code",
   "execution_count": 167,
   "id": "8fa8636d-304d-4dc3-b157-2526c74eebb9",
   "metadata": {
    "tags": []
   },
   "outputs": [],
   "source": [
    "# Rename text budget feature so as not to confuse it with numerical budget feature\n",
    "test_text_features_df.rename(columns={'budget': 'budget_text_feature'}, inplace=True)"
   ]
  },
  {
   "cell_type": "code",
   "execution_count": 168,
   "id": "f34fbd59-b44b-437b-a1e6-26fd1925204d",
   "metadata": {
    "tags": []
   },
   "outputs": [],
   "source": [
    "# Reset indices \n",
    "test_text_features_df.reset_index(drop=True, inplace=True)\n",
    "test_final_df.reset_index(drop=True, inplace=True)"
   ]
  },
  {
   "cell_type": "code",
   "execution_count": 169,
   "id": "7e901468-b007-4d37-820d-5c017848c0ec",
   "metadata": {
    "tags": []
   },
   "outputs": [],
   "source": [
    "# Concatenate the dataframe\n",
    "test_final_with_text_df = pd.concat([test_final_df, test_text_features_df], axis=1)"
   ]
  },
  {
   "cell_type": "code",
   "execution_count": 170,
   "id": "e316d951-560f-4615-b7a8-6748c4612421",
   "metadata": {
    "tags": []
   },
   "outputs": [
    {
     "data": {
      "text/html": [
       "<div>\n",
       "<style scoped>\n",
       "    .dataframe tbody tr th:only-of-type {\n",
       "        vertical-align: middle;\n",
       "    }\n",
       "\n",
       "    .dataframe tbody tr th {\n",
       "        vertical-align: top;\n",
       "    }\n",
       "\n",
       "    .dataframe thead th {\n",
       "        text-align: right;\n",
       "    }\n",
       "</style>\n",
       "<table border=\"1\" class=\"dataframe\">\n",
       "  <thead>\n",
       "    <tr style=\"text-align: right;\">\n",
       "      <th></th>\n",
       "      <th>rating_category</th>\n",
       "      <th>imdb_id</th>\n",
       "      <th>language_en</th>\n",
       "      <th>runtime</th>\n",
       "      <th>budget</th>\n",
       "      <th>box_office_gross</th>\n",
       "      <th>votes</th>\n",
       "      <th>review_count</th>\n",
       "      <th>decade_1900</th>\n",
       "      <th>decade_1910</th>\n",
       "      <th>...</th>\n",
       "      <th>young</th>\n",
       "      <th>youngster</th>\n",
       "      <th>your</th>\n",
       "      <th>youth</th>\n",
       "      <th>youtube</th>\n",
       "      <th>z</th>\n",
       "      <th>zero</th>\n",
       "      <th>zombie</th>\n",
       "      <th>zone</th>\n",
       "      <th>zoom</th>\n",
       "    </tr>\n",
       "  </thead>\n",
       "  <tbody>\n",
       "    <tr>\n",
       "      <th>0</th>\n",
       "      <td>Average</td>\n",
       "      <td>tt0024933</td>\n",
       "      <td>1.000</td>\n",
       "      <td>-0.968</td>\n",
       "      <td>-0.183</td>\n",
       "      <td>-0.253</td>\n",
       "      <td>-0.222</td>\n",
       "      <td>-0.222</td>\n",
       "      <td>0.000</td>\n",
       "      <td>0.000</td>\n",
       "      <td>...</td>\n",
       "      <td>0.021</td>\n",
       "      <td>0.000</td>\n",
       "      <td>0.000</td>\n",
       "      <td>0.000</td>\n",
       "      <td>0.000</td>\n",
       "      <td>0.000</td>\n",
       "      <td>0.000</td>\n",
       "      <td>0.000</td>\n",
       "      <td>0.000</td>\n",
       "      <td>0.000</td>\n",
       "    </tr>\n",
       "    <tr>\n",
       "      <th>1</th>\n",
       "      <td>Excellent</td>\n",
       "      <td>tt0057809</td>\n",
       "      <td>1.000</td>\n",
       "      <td>0.699</td>\n",
       "      <td>-0.158</td>\n",
       "      <td>-0.274</td>\n",
       "      <td>-0.172</td>\n",
       "      <td>-0.109</td>\n",
       "      <td>0.000</td>\n",
       "      <td>0.000</td>\n",
       "      <td>...</td>\n",
       "      <td>0.009</td>\n",
       "      <td>0.000</td>\n",
       "      <td>0.000</td>\n",
       "      <td>0.000</td>\n",
       "      <td>0.000</td>\n",
       "      <td>0.000</td>\n",
       "      <td>0.000</td>\n",
       "      <td>0.000</td>\n",
       "      <td>0.005</td>\n",
       "      <td>0.000</td>\n",
       "    </tr>\n",
       "    <tr>\n",
       "      <th>2</th>\n",
       "      <td>Poor</td>\n",
       "      <td>tt2737926</td>\n",
       "      <td>1.000</td>\n",
       "      <td>-0.192</td>\n",
       "      <td>-0.171</td>\n",
       "      <td>-0.291</td>\n",
       "      <td>-0.186</td>\n",
       "      <td>-0.181</td>\n",
       "      <td>0.000</td>\n",
       "      <td>0.000</td>\n",
       "      <td>...</td>\n",
       "      <td>0.005</td>\n",
       "      <td>0.000</td>\n",
       "      <td>0.000</td>\n",
       "      <td>0.000</td>\n",
       "      <td>0.086</td>\n",
       "      <td>0.000</td>\n",
       "      <td>0.000</td>\n",
       "      <td>0.000</td>\n",
       "      <td>0.000</td>\n",
       "      <td>0.000</td>\n",
       "    </tr>\n",
       "    <tr>\n",
       "      <th>3</th>\n",
       "      <td>Good</td>\n",
       "      <td>tt2051941</td>\n",
       "      <td>0.000</td>\n",
       "      <td>0.699</td>\n",
       "      <td>-0.171</td>\n",
       "      <td>-0.226</td>\n",
       "      <td>-0.172</td>\n",
       "      <td>-0.280</td>\n",
       "      <td>0.000</td>\n",
       "      <td>0.000</td>\n",
       "      <td>...</td>\n",
       "      <td>0.000</td>\n",
       "      <td>0.000</td>\n",
       "      <td>0.000</td>\n",
       "      <td>0.000</td>\n",
       "      <td>0.000</td>\n",
       "      <td>0.000</td>\n",
       "      <td>0.000</td>\n",
       "      <td>0.000</td>\n",
       "      <td>0.000</td>\n",
       "      <td>0.000</td>\n",
       "    </tr>\n",
       "    <tr>\n",
       "      <th>4</th>\n",
       "      <td>Good</td>\n",
       "      <td>tt1100089</td>\n",
       "      <td>1.000</td>\n",
       "      <td>1.435</td>\n",
       "      <td>0.134</td>\n",
       "      <td>-0.110</td>\n",
       "      <td>1.554</td>\n",
       "      <td>1.075</td>\n",
       "      <td>0.000</td>\n",
       "      <td>0.000</td>\n",
       "      <td>...</td>\n",
       "      <td>0.014</td>\n",
       "      <td>0.001</td>\n",
       "      <td>0.000</td>\n",
       "      <td>0.000</td>\n",
       "      <td>0.001</td>\n",
       "      <td>0.000</td>\n",
       "      <td>0.003</td>\n",
       "      <td>0.000</td>\n",
       "      <td>0.003</td>\n",
       "      <td>0.000</td>\n",
       "    </tr>\n",
       "  </tbody>\n",
       "</table>\n",
       "<p>5 rows × 5078 columns</p>\n",
       "</div>"
      ],
      "text/plain": [
       "  rating_category    imdb_id  language_en  runtime  budget  box_office_gross  \\\n",
       "0         Average  tt0024933        1.000   -0.968  -0.183            -0.253   \n",
       "1       Excellent  tt0057809        1.000    0.699  -0.158            -0.274   \n",
       "2            Poor  tt2737926        1.000   -0.192  -0.171            -0.291   \n",
       "3            Good  tt2051941        0.000    0.699  -0.171            -0.226   \n",
       "4            Good  tt1100089        1.000    1.435   0.134            -0.110   \n",
       "\n",
       "   votes  review_count  decade_1900  decade_1910  ...  young  youngster  your  \\\n",
       "0 -0.222        -0.222        0.000        0.000  ...  0.021      0.000 0.000   \n",
       "1 -0.172        -0.109        0.000        0.000  ...  0.009      0.000 0.000   \n",
       "2 -0.186        -0.181        0.000        0.000  ...  0.005      0.000 0.000   \n",
       "3 -0.172        -0.280        0.000        0.000  ...  0.000      0.000 0.000   \n",
       "4  1.554         1.075        0.000        0.000  ...  0.014      0.001 0.000   \n",
       "\n",
       "   youth  youtube     z  zero  zombie  zone  zoom  \n",
       "0  0.000    0.000 0.000 0.000   0.000 0.000 0.000  \n",
       "1  0.000    0.000 0.000 0.000   0.000 0.005 0.000  \n",
       "2  0.000    0.086 0.000 0.000   0.000 0.000 0.000  \n",
       "3  0.000    0.000 0.000 0.000   0.000 0.000 0.000  \n",
       "4  0.000    0.001 0.000 0.003   0.000 0.003 0.000  \n",
       "\n",
       "[5 rows x 5078 columns]"
      ]
     },
     "execution_count": 170,
     "metadata": {},
     "output_type": "execute_result"
    }
   ],
   "source": [
    "test_final_with_text_df.head()"
   ]
  },
  {
   "cell_type": "markdown",
   "id": "66cfeeb7-f3b6-4553-9824-435b9b108b8a",
   "metadata": {
    "tags": []
   },
   "source": [
    "---"
   ]
  },
  {
   "cell_type": "markdown",
   "id": "6d7af914-2358-4985-ab23-961156cc9566",
   "metadata": {},
   "source": [
    "#### Logistic Regression Baseline Model \n",
    "Now that we've completed initial feature engineering and transformed our text data, we can go ahead and run a baseline logistic regression model, in the hope that it will be able to capture some of the of the non-linear relationships that might exist in the data. "
   ]
  },
  {
   "cell_type": "code",
   "execution_count": 171,
   "id": "05ac8839-c4f8-4b11-855c-987eec4f83fb",
   "metadata": {
    "tags": []
   },
   "outputs": [],
   "source": [
    "# Import libraries \n",
    "from sklearn.linear_model import LogisticRegression\n",
    "from sklearn.metrics import accuracy_score, confusion_matrix, classification_report"
   ]
  },
  {
   "cell_type": "markdown",
   "id": "399c8f7e-8d23-4381-9cf4-a97ddbf1dee5",
   "metadata": {},
   "source": [
    "Now we'll prepare each of our dataset for modeling by setting up our variables."
   ]
  },
  {
   "cell_type": "code",
   "execution_count": 172,
   "id": "bec6977e-3600-4484-9f55-12dae14220f5",
   "metadata": {
    "tags": []
   },
   "outputs": [],
   "source": [
    "# Drop the target variable, the identifier, and the text columns from the training set\n",
    "X_train = train_final_with_text_df.drop(['rating_category', 'imdb_id', 'review_text', 'cleaned_review_text'], axis=1)\n",
    "\n",
    "# Target variable for training set\n",
    "y_train = train_final_with_text_df['rating_category']"
   ]
  },
  {
   "cell_type": "code",
   "execution_count": 173,
   "id": "3116ccdd-1be5-46a3-9b4f-67bde71a344d",
   "metadata": {
    "tags": []
   },
   "outputs": [],
   "source": [
    "# Drop the target variable, the identifier, and the text columns from the test set\n",
    "X_test = test_final_with_text_df.drop(['rating_category', 'imdb_id', 'review_text', 'cleaned_review_text'], axis=1)\n",
    "\n",
    "# Target variable for test set\n",
    "y_test = test_final_with_text_df['rating_category']"
   ]
  },
  {
   "cell_type": "markdown",
   "id": "e54422f9-a704-4997-9cad-cb6cf227b3a3",
   "metadata": {},
   "source": [
    "Now we'll instantiate our logistic regression model with a c-value of 0.5. "
   ]
  },
  {
   "cell_type": "code",
   "execution_count": 174,
   "id": "5daa0cda-b4f8-43e9-9605-0a105dc66386",
   "metadata": {
    "tags": []
   },
   "outputs": [],
   "source": [
    "# Instantiate model \n",
    "logreg = LogisticRegression(max_iter=1000, C=0.5)\n",
    "\n",
    "# Fit model \n",
    "logreg.fit(X_train, y_train)\n",
    "\n",
    "# Make predictions\n",
    "train_predictions = logreg.predict(X_train)\n",
    "y_pred = logreg.predict(X_test)"
   ]
  },
  {
   "cell_type": "code",
   "execution_count": 175,
   "id": "a3f5409c-02f8-4ec2-9ecf-5afafa77df96",
   "metadata": {
    "tags": []
   },
   "outputs": [
    {
     "name": "stdout",
     "output_type": "stream",
     "text": [
      "Training Accuracy: 0.6790010890763113\n",
      "Test Accuracy: 0.6115275526742301\n"
     ]
    }
   ],
   "source": [
    "# Evaluate\n",
    "train_accuracy = accuracy_score(y_train, train_predictions)\n",
    "test_accuracy = accuracy_score(y_test, y_pred)\n",
    "\n",
    "print(f\"Training Accuracy: {train_accuracy}\")\n",
    "print(f'Test Accuracy: {test_accuracy}')"
   ]
  },
  {
   "cell_type": "markdown",
   "id": "adfc998d-ca85-4899-91a2-040b82c5cc62",
   "metadata": {
    "tags": []
   },
   "source": [
    "Not too bad! Let's get some additional evaluation metrics. "
   ]
  },
  {
   "cell_type": "code",
   "execution_count": 176,
   "id": "2bba2d94-5d69-4405-94c8-2a025c033170",
   "metadata": {
    "tags": []
   },
   "outputs": [],
   "source": [
    "# Classification report \n",
    "report = classification_report(y_test, y_pred, output_dict=True)\n",
    "\n",
    "# Convert to dataframe \n",
    "report_df = pd.DataFrame(report).transpose()"
   ]
  },
  {
   "cell_type": "code",
   "execution_count": 177,
   "id": "82881b18-0a66-44fa-b85b-91de1c18a311",
   "metadata": {
    "tags": []
   },
   "outputs": [
    {
     "data": {
      "text/html": [
       "<div>\n",
       "<style scoped>\n",
       "    .dataframe tbody tr th:only-of-type {\n",
       "        vertical-align: middle;\n",
       "    }\n",
       "\n",
       "    .dataframe tbody tr th {\n",
       "        vertical-align: top;\n",
       "    }\n",
       "\n",
       "    .dataframe thead th {\n",
       "        text-align: right;\n",
       "    }\n",
       "</style>\n",
       "<table border=\"1\" class=\"dataframe\">\n",
       "  <thead>\n",
       "    <tr style=\"text-align: right;\">\n",
       "      <th></th>\n",
       "      <th>precision</th>\n",
       "      <th>recall</th>\n",
       "      <th>f1-score</th>\n",
       "      <th>support</th>\n",
       "    </tr>\n",
       "  </thead>\n",
       "  <tbody>\n",
       "    <tr>\n",
       "      <th>Average</th>\n",
       "      <td>0.522</td>\n",
       "      <td>0.488</td>\n",
       "      <td>0.504</td>\n",
       "      <td>2601.000</td>\n",
       "    </tr>\n",
       "    <tr>\n",
       "      <th>Excellent</th>\n",
       "      <td>0.708</td>\n",
       "      <td>0.686</td>\n",
       "      <td>0.697</td>\n",
       "      <td>2207.000</td>\n",
       "    </tr>\n",
       "    <tr>\n",
       "      <th>Good</th>\n",
       "      <td>0.509</td>\n",
       "      <td>0.529</td>\n",
       "      <td>0.519</td>\n",
       "      <td>2599.000</td>\n",
       "    </tr>\n",
       "    <tr>\n",
       "      <th>Poor</th>\n",
       "      <td>0.722</td>\n",
       "      <td>0.762</td>\n",
       "      <td>0.741</td>\n",
       "      <td>2465.000</td>\n",
       "    </tr>\n",
       "    <tr>\n",
       "      <th>accuracy</th>\n",
       "      <td>0.612</td>\n",
       "      <td>0.612</td>\n",
       "      <td>0.612</td>\n",
       "      <td>0.612</td>\n",
       "    </tr>\n",
       "    <tr>\n",
       "      <th>macro avg</th>\n",
       "      <td>0.615</td>\n",
       "      <td>0.616</td>\n",
       "      <td>0.615</td>\n",
       "      <td>9872.000</td>\n",
       "    </tr>\n",
       "    <tr>\n",
       "      <th>weighted avg</th>\n",
       "      <td>0.610</td>\n",
       "      <td>0.612</td>\n",
       "      <td>0.610</td>\n",
       "      <td>9872.000</td>\n",
       "    </tr>\n",
       "  </tbody>\n",
       "</table>\n",
       "</div>"
      ],
      "text/plain": [
       "              precision  recall  f1-score  support\n",
       "Average           0.522   0.488     0.504 2601.000\n",
       "Excellent         0.708   0.686     0.697 2207.000\n",
       "Good              0.509   0.529     0.519 2599.000\n",
       "Poor              0.722   0.762     0.741 2465.000\n",
       "accuracy          0.612   0.612     0.612    0.612\n",
       "macro avg         0.615   0.616     0.615 9872.000\n",
       "weighted avg      0.610   0.612     0.610 9872.000"
      ]
     },
     "execution_count": 177,
     "metadata": {},
     "output_type": "execute_result"
    }
   ],
   "source": [
    "report_df"
   ]
  },
  {
   "cell_type": "code",
   "execution_count": 178,
   "id": "29ec90ff-c84f-4ce2-beaf-2fbc32155b14",
   "metadata": {
    "tags": []
   },
   "outputs": [
    {
     "data": {
      "image/png": "[encoded data removed]",
      "text/plain": [
       "<Figure size 1000x800 with 2 Axes>"
      ]
     },
     "metadata": {},
     "output_type": "display_data"
    }
   ],
   "source": [
    "# Plotting heatmap of confusion matrix \n",
    "\n",
    "import seaborn as sns\n",
    "import matplotlib.pyplot as plt\n",
    "\n",
    "# Confusion matrix\n",
    "conf_matrix = confusion_matrix(y_test, y_pred)\n",
    "\n",
    "# Class labels\n",
    "class_labels = ['Average', 'Excellent', 'Good', 'Poor']\n",
    "\n",
    "plt.figure(figsize=(10, 8))\n",
    "sns.heatmap(conf_matrix, annot=True, fmt='d', cmap='plasma', xticklabels=class_labels, yticklabels=class_labels)\n",
    "\n",
    "plt.ylabel('Actual')\n",
    "plt.xlabel('Predicted')\n",
    "plt.title('Confusion Matrix Heatmap')\n",
    "\n",
    "plt.show()"
   ]
  },
  {
   "cell_type": "markdown",
   "id": "01396793-c8fe-40eb-a083-56e5ab880b5f",
   "metadata": {
    "tags": []
   },
   "source": [
    "Our logistic regression model ran, and we got a test accuracy abou6 67% and a train accuracy of about 61%. This seems like a good start since we haven't done any hyperparameter tuning or more advanced feature selection. Additionally, the gap between the train and test accuracy is fairly small, which indicates the model is not overfitting. The confusion matrix and the classification report also provide additional insights into how well the model is performing for each category. \n",
    "\n",
    "#### Classification Report Summary:\n",
    "\n",
    "**Accuracy**: 61.1%.\n",
    "\n",
    "**Precision**: True positive predictions vs total predicted positives \n",
    "  - **Excellent**: 0.71\n",
    "  - **Poor**: 0.72\n",
    "  - **Good**: 0.51\n",
    "  - **Average**: 0.52\n",
    "  \n",
    "**Recall**: True positive predictions vs total actual positives\n",
    "\n",
    "  - **Excellent**: 0.69\n",
    "  - **Poor**: 0.76\n",
    "  - **Good**: 0.53\n",
    "  - **Average**: 0.49\n",
    "  \n",
    "**F1-Score**: \n",
    "  - **Excellent**: 0.70\n",
    "  - **Poor**: 0.74\n",
    "  - **Good**: 0.52\n",
    "  - **Average**: 0.50\n",
    "\n",
    "\n",
    "#### Observations:\n",
    "\n",
    "- The model has a higher precision and recall for the \"Excellent\" and \"Poor\" categories, indicating that it can identify these classes more reliably.\n",
    "- The model struggles a bit more with the \"Good\" and \"Average\" categories, suggesting that these reviews may contain features that are harder for the model to distinguish.\n",
    "- The F1-scores also reflect this trend, being higher for the \"Excellent\" and \"Poor\" categories and lower for \"Good\" and \"Average.\"\n",
    "\n",
    "Overall, the model performs decently with an accuracy of about 61%, but there is room for improvement, especially in correctly classifying \"Good\" and \"Average\" reviews."
   ]
  },
  {
   "cell_type": "markdown",
   "id": "53ebdfcd-c45a-431a-b05b-0449886dd00b",
   "metadata": {},
   "source": [
    "#### Next Steps \n",
    "1. Try more advanced algorithms to improve accuracy.\n",
    "2. Perform hyperparameter tuning to optimize the model.\n",
    "3. Investigate why some categories are not as well-classified "
   ]
  },
  {
   "cell_type": "code",
   "execution_count": null,
   "id": "fc68e860-33bf-4c1e-b8bd-c0c11c973fff",
   "metadata": {
    "tags": []
   },
   "outputs": [],
   "source": []
  },
  {
   "cell_type": "code",
   "execution_count": null,
   "id": "4ce2978a-6fd5-43cb-a79f-06f40d2be397",
   "metadata": {
    "tags": []
   },
   "outputs": [],
   "source": []
  },
  {
   "cell_type": "code",
   "execution_count": null,
   "id": "4cff9863-2653-4dc5-a6b3-f67574a49a32",
   "metadata": {
    "tags": []
   },
   "outputs": [],
   "source": []
  },
  {
   "cell_type": "code",
   "execution_count": null,
   "id": "9e621bd4-a88b-44ec-88d9-2986dfb1c5fb",
   "metadata": {},
   "outputs": [],
   "source": []
  }
 ],
 "metadata": {
  "kernelspec": {
   "display_name": "Python 3 (ipykernel)",
   "language": "python",
   "name": "python3"
  },
  "language_info": {
   "codemirror_mode": {
    "name": "ipython",
    "version": 3
   },
   "file_extension": ".py",
   "mimetype": "text/x-python",
   "name": "python",
   "nbconvert_exporter": "python",
   "pygments_lexer": "ipython3",
   "version": "3.11.3"
  }
 },
 "nbformat": 4,
 "nbformat_minor": 5
}
