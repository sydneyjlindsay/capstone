{
 "cells": [
  {
   "cell_type": "code",
   "execution_count": 1,
   "id": "4880b6c5-7026-4711-bbd1-75bc0a733ac3",
   "metadata": {
    "tags": []
   },
   "outputs": [],
   "source": [
    "#Importing the packages we will be using\n",
    "# Basic Packages\n",
    "import numpy as np\n",
    "import pandas as pd\n",
    "import matplotlib.pyplot as plt\n",
    "from matplotlib.ticker import FixedLocator\n",
    "import seaborn as sns\n",
    "import re\n",
    "import string\n",
    "from collections import Counter\n",
    "\n",
    "# SK Packages\n",
    "from sklearn.linear_model import LogisticRegression\n",
    "from sklearn.model_selection import train_test_split\n",
    "from sklearn.feature_extraction.text import ENGLISH_STOP_WORDS\n",
    "from sklearn.metrics import accuracy_score\n",
    "\n",
    "## Vectorizers\n",
    "from sklearn.feature_extraction.text import CountVectorizer"
   ]
  },
  {
   "cell_type": "markdown",
   "id": "65750848-ff40-4f38-ab11-0286aac63d5f",
   "metadata": {},
   "source": [
    "In this notebook, we will be creating our final dataframe to be used for modeling, as well as doing some EDA."
   ]
  },
  {
   "cell_type": "markdown",
   "id": "3764c80f-2446-4d69-987a-1c6a173a3c41",
   "metadata": {},
   "source": [
    "We will start by loading our two JSON files containing our data. "
   ]
  },
  {
   "cell_type": "markdown",
   "id": "08d0f4b9-664d-4709-936c-2dfab8dd32b1",
   "metadata": {},
   "source": [
    "Yes, you would ideally create a column that counts the number of reviews per movie before you aggregate (concatenate) the reviews. This way, you'll have that information readily available when you're normalizing later on.\n",
    "\n",
    "Here's how you could go about it:\n",
    "\n",
    "1. **Count the number of reviews per movie**: Use the `groupby` method on your `reviews_df` DataFrame to count the number of reviews for each `imdb_id`.\n",
    "\n",
    "    ```python\n",
    "    review_counts = reviews_df.groupby('imdb_id').size().reset_index(name='num_reviews')\n",
    "    ```\n",
    "\n",
    "2. **Merge this information back into your main DataFrame**: Before or after you concatenate the reviews, merge this count back into your main DataFrame (`clean_metadata_df`).\n",
    "\n",
    "    ```python\n",
    "    clean_metadata_df = pd.merge(clean_metadata_df, review_counts, on='imdb_id', how='left')\n",
    "    ```\n",
    "\n",
    "3. **Concatenate the reviews**: Assuming you have a DataFrame like `final_reviews_df_filtered`, where each row represents an `imdb_id` and its concatenated reviews:\n",
    "\n",
    "    ```python\n",
    "    aggregated_reviews = reviews_df.groupby('imdb_id')['review_text'].apply(' '.join).reset_index()\n",
    "    ```\n",
    "\n",
    "4. **Merge this aggregated data back into your main DataFrame**:\n",
    "\n",
    "    ```python\n",
    "    clean_metadata_df = pd.merge(clean_metadata_df, aggregated_reviews, on='imdb_id', how='left')\n",
    "    ```\n",
    "\n",
    "5. **Normalize after vectorization**: Once you've applied CountVectorizer to the concatenated reviews, divide the word counts by the number of reviews (the `num_reviews` column you created) for each movie.\n",
    "\n",
    "By keeping track of the number of reviews in this manner, you'll be able to normalize your text features effectively."
   ]
  },
  {
   "cell_type": "markdown",
   "id": "e475b998-c04a-47f5-a707-84bf48299b52",
   "metadata": {},
   "source": [
    "Yes, your teacher's suggestion makes sense in certain contexts. Here's a breakdown of the two points:\n",
    "\n",
    "1. **Normalizing Review Text Based on the Number of Reviews per Movie**: If some movies have a large number of reviews compared to others, they could dominate the feature space when you aggregate the review text. By normalizing, you're essentially \"leveling the playing field\" so that each movie's reviews have roughly the same weight, irrespective of the number of individual reviews. You could achieve this by calculating some sort of average for each movie's reviews rather than a total sum.\n",
    "\n",
    "2. **Dividing Count Vectorizer Columns by the Number of Reviews**: When you apply a technique like Count Vectorizer, each column represents the frequency of a particular word across all reviews for a movie. However, if one movie has many more reviews than another, the word counts will naturally be higher, even if the word isn't particularly more relevant for that movie. By dividing the counts by the total number of reviews for each movie, you turn those raw counts into averages, making them more comparable across movies with differing numbers of reviews.\n",
    "\n",
    "Here's a simplified example for point 2:\n",
    "\n",
    "```python\n",
    "from sklearn.feature_extraction.text import CountVectorizer\n",
    "import pandas as pd\n",
    "\n",
    "# Sample data (each row represents aggregated review text for a movie)\n",
    "data = {'imdb_id': ['id1', 'id2'], 'reviews': ['good good bad', 'bad good']}\n",
    "df = pd.DataFrame(data)\n",
    "\n",
    "# Number of reviews for each movie\n",
    "num_reviews = {'id1': 3, 'id2': 2}\n",
    "\n",
    "# Applying CountVectorizer\n",
    "vectorizer = CountVectorizer()\n",
    "X = vectorizer.fit_transform(df['reviews'])\n",
    "count_df = pd.DataFrame(X.toarray(), columns=vectorizer.get_feature_names())\n",
    "\n",
    "# Dividing by the number of reviews for each movie\n",
    "for index, row in count_df.iterrows():\n",
    "    count_df.loc[index] = row / num_reviews[df.loc[index, 'imdb_id']]\n",
    "\n",
    "# Adding back the imdb_id for reference\n",
    "count_df['imdb_id'] = df['imdb_id']\n",
    "\n",
    "print(count_df)\n",
    "```\n",
    "\n",
    "This normalization can make it easier to identify which words are truly indicative of a movie's characteristics, as it scales down the impact of movies that simply have more reviews."
   ]
  },
  {
   "cell_type": "code",
   "execution_count": null,
   "id": "8b2e07ba-a66a-43b9-bb14-99e36dcc4208",
   "metadata": {},
   "outputs": [],
   "source": []
  },
  {
   "cell_type": "code",
   "execution_count": 95,
   "id": "3402d0d4-ded9-4178-89d4-03eddeb782e2",
   "metadata": {
    "tags": []
   },
   "outputs": [
    {
     "name": "stdout",
     "output_type": "stream",
     "text": [
      "The minimum number of reviews for a movie is: 1\n",
      "The maximum number of reviews for a movie is: 5109\n",
      "The mean number of reviews per movie is: 50.30396881780304\n"
     ]
    }
   ],
   "source": [
    "# Group by 'item_id' and count the number of reviews ('txt') for each movie\n",
    "reviews_count_per_movie = clean_reviews_df.groupby('item_id')['txt'].count()\n",
    "\n",
    "# Calculate the minimum, maximum, and mean number of reviews\n",
    "min_reviews_count = reviews_count_per_movie.min()\n",
    "max_reviews_count = reviews_count_per_movie.max()\n",
    "mean_reviews_count = np.mean(reviews_count_per_movie)\n",
    "\n",
    "print(f'The minimum number of reviews for a movie is: {min_reviews_count}')\n",
    "print(f'The maximum number of reviews for a movie is: {max_reviews_count}')\n",
    "print(f'The mean number of reviews per movie is: {mean_reviews_count}')"
   ]
  },
  {
   "cell_type": "code",
   "execution_count": null,
   "id": "c5704d5a-9b4a-4b46-8bfc-2eae0a0bdb9b",
   "metadata": {},
   "outputs": [],
   "source": [
    "plt.figure(figsize=(15, 5))\n",
    "\n",
    "# Loop through each numerical column\n",
    "for i, col in enumerate(numerical_columns):\n",
    "    plt.subplot(1, len(numerical_columns), i + 1)\n",
    "    final_merged_df[col].hist()\n",
    "    plt.title(f'Distribution of {col}')\n",
    "    plt.xlabel(col)\n",
    "    plt.ylabel('Frequency')\n",
    "    \n",
    "plt.tight_layout()\n",
    "plt.show()"
   ]
  },
  {
   "cell_type": "code",
   "execution_count": null,
   "id": "14c3aacc-d49e-49c4-961b-46f89ac0b1c9",
   "metadata": {},
   "outputs": [],
   "source": [
    "# Pairplot to see relationships between each feature\n",
    "sns.pairplot(final_merged_df[numerical_columns])\n",
    "plt.show()"
   ]
  },
  {
   "cell_type": "code",
   "execution_count": null,
   "id": "005b0c4a-88cf-4f37-a591-2854d971393a",
   "metadata": {},
   "outputs": [],
   "source": [
    "# Create correlation matrix\n",
    "corr = final_merged_df[numerical_columns].corr()\n",
    "sns.heatmap(corr, annot=True, cmap='coolwarm')\n",
    "plt.title('Correlation Matrix')\n",
    "plt.show()"
   ]
  },
  {
   "cell_type": "code",
   "execution_count": null,
   "id": "c678e2dd-e553-4d13-89e1-14f77235b35f",
   "metadata": {},
   "outputs": [],
   "source": [
    "# Taking a closer look at ratings distribution\n",
    "plt.figure(figsize=(10, 6))\n",
    "sns.histplot(final_merged_df['rating'], bins=20, kde=True)\n",
    "plt.title('Distribution of Ratings')\n",
    "plt.xlabel('Rating')\n",
    "plt.ylabel('Frequency')\n",
    "plt.show()"
   ]
  },
  {
   "cell_type": "code",
   "execution_count": null,
   "id": "a67a5656-b44b-4cdf-9696-2d2b62f534e5",
   "metadata": {},
   "outputs": [],
   "source": [
    "# Calculate word counts in review text\n",
    "word_counts = clean_reviews_df['txt'].apply(lambda x: len(str(x).split()))\n",
    "\n",
    "# Plot the histogram\n",
    "plt.figure(figsize=(10, 6))\n",
    "word_counts.hist(bins=50)\n",
    "plt.title('Distribution of Word Counts in Reviews')\n",
    "plt.xlabel('Word Count')\n",
    "plt.ylabel('Frequency')\n",
    "plt.show()"
   ]
  },
  {
   "cell_type": "code",
   "execution_count": null,
   "id": "1de67fb0-2e53-46b4-941c-cf3ec6118dd3",
   "metadata": {},
   "outputs": [],
   "source": [
    "Q1 = word_counts.quantile(0.25)\n",
    "Q3 = word_counts.quantile(0.75)\n",
    "IQR = Q3 - Q1\n",
    "\n",
    "# Filter for data within 1.5 IQR of Q1 and Q3\n",
    "filtered_word_counts = word_counts[(word_counts >= (Q1 - 1.5 * IQR)) & (word_counts <= (Q3 + 1.5 * IQR))]\n",
    "\n",
    "plt.figure(figsize=(10, 6))\n",
    "filtered_word_counts.hist(bins=50)\n",
    "plt.title('Filtered Distribution of Word Counts in Reviews')\n",
    "plt.xlabel('Word Count')\n",
    "plt.ylabel('Frequency')\n",
    "plt.show()"
   ]
  },
  {
   "cell_type": "code",
   "execution_count": null,
   "id": "159a70ef-8542-4228-8ebf-e01efb9e8d16",
   "metadata": {},
   "outputs": [],
   "source": [
    "# Filter out rows where budget is 0\n",
    "filtered_budget = final_merged_df[final_merged_df['budget'] > 0]\n",
    "\n",
    "plt.figure(figsize=(10, 6))\n",
    "\n",
    "# Plot the scatter plot\n",
    "plt.scatter(filtered_budget['budget'], filtered_budget['rating'], alpha=0.5)\n",
    "\n",
    "plt.title('Relationship Between Rating and Budget')\n",
    "plt.xlabel('Budget')\n",
    "plt.ylabel('Rating')\n",
    "\n",
    "plt.show()"
   ]
  },
  {
   "cell_type": "code",
   "execution_count": 126,
   "id": "d58140ea-daa2-4e0c-a59f-df8272bcfe07",
   "metadata": {
    "tags": []
   },
   "outputs": [
    {
     "name": "stdout",
     "output_type": "stream",
     "text": [
      "Counter({'Drama': 16327, 'Thriller': 10755, 'Action': 8990, 'Comedy': 8361, 'Horror': 7400, 'Crime': 6331, 'Adventure': 4760, 'Science Fiction': 4075, 'Romance': 4018, 'Mystery': 3683, 'Fantasy': 3142, 'Family': 2771, 'Music': 2197, 'Documentary': 2194, 'History': 1964, 'Animation': 1932, 'War': 1894, 'TV Movie': 1524, 'Western': 1489})\n"
     ]
    }
   ],
   "source": [
    "from collections import Counter\n",
    "\n",
    "# Flatten the list of lists and count occurrences of each genre\n",
    "all_genres = [genre for sublist in final_merged_df['genre_names'].tolist() for genre in sublist]\n",
    "genre_counts = Counter(all_genres)\n",
    "\n",
    "print(genre_counts)"
   ]
  },
  {
   "cell_type": "code",
   "execution_count": 127,
   "id": "e974df7c-3436-4d5b-a1b7-14ff3644b5b8",
   "metadata": {
    "tags": []
   },
   "outputs": [],
   "source": [
    "# Count occurrences of each unique combination\n",
    "combo_counts = Counter(tuple(sorted(combo)) for combo in final_merged_df['genre_names'])"
   ]
  },
  {
   "cell_type": "code",
   "execution_count": 128,
   "id": "5f6f16b1-9482-4f48-a126-3e996dcf8c34",
   "metadata": {
    "tags": []
   },
   "outputs": [
    {
     "data": {
      "image/png": "[encoded data removed]",
      "text/plain": [
       "<Figure size 1000x600 with 1 Axes>"
      ]
     },
     "metadata": {},
     "output_type": "display_data"
    }
   ],
   "source": [
    "# Plotting the 10 most common individual genres\n",
    "common_genres = genre_counts.most_common(10)\n",
    "labels, values = zip(*common_genres)\n",
    "\n",
    "plt.figure(figsize=(10, 6))\n",
    "plt.barh(labels, values)\n",
    "plt.xlabel('Frequency')\n",
    "plt.title('Top 10 Most Common Genres')\n",
    "plt.show()"
   ]
  },
  {
   "cell_type": "code",
   "execution_count": 129,
   "id": "ecdda5b2-d11f-45c1-9849-609e285df456",
   "metadata": {
    "tags": []
   },
   "outputs": [],
   "source": [
    "# Flatten the list of actors and count occurrences\n",
    "all_actors = [actor for sublist in final_merged_df['actor_names'].tolist() for actor in sublist]\n",
    "actor_counts = Counter(all_actors)"
   ]
  },
  {
   "cell_type": "code",
   "execution_count": 130,
   "id": "8c2832ae-cb22-412b-9574-2547b56dc8f0",
   "metadata": {
    "tags": []
   },
   "outputs": [],
   "source": [
    "# Extract top 10 actors\n",
    "top_actors = [actor for actor, _ in actor_counts.most_common(10)]"
   ]
  },
  {
   "cell_type": "code",
   "execution_count": 131,
   "id": "91ab11e1-8195-4fd0-8702-7debb8470efe",
   "metadata": {
    "tags": []
   },
   "outputs": [
    {
     "data": {
      "image/png": "[encoded data removed]",
      "text/plain": [
       "<Figure size 1000x600 with 1 Axes>"
      ]
     },
     "metadata": {},
     "output_type": "display_data"
    }
   ],
   "source": [
    "# Plotting top 10 actors\n",
    "plt.figure(figsize=(10, 6))\n",
    "labels, values = zip(*actor_counts.most_common(10))\n",
    "plt.barh(labels, values)\n",
    "plt.xlabel('Frequency')\n",
    "plt.title('Top 10 Most Frequent Actors')\n",
    "plt.show()"
   ]
  }
 ],
 "metadata": {
  "kernelspec": {
   "display_name": "Python 3 (ipykernel)",
   "language": "python",
   "name": "python3"
  },
  "language_info": {
   "codemirror_mode": {
    "name": "ipython",
    "version": 3
   },
   "file_extension": ".py",
   "mimetype": "text/x-python",
   "name": "python",
   "nbconvert_exporter": "python",
   "pygments_lexer": "ipython3",
   "version": "3.11.3"
  }
 },
 "nbformat": 4,
 "nbformat_minor": 5
}
