{
 "cells": [
  {
   "cell_type": "markdown",
   "id": "889a5794-4706-46c0-8cf1-7f790fbafd70",
   "metadata": {},
   "source": [
    "# Supplemental Data - Additional Metadata"
   ]
  },
  {
   "cell_type": "markdown",
   "id": "a778118f-6dd6-4a93-8f94-9d459d0f9256",
   "metadata": {},
   "source": [
    "1. [Introduction](#intro)\n",
    "2. [Load & Inspect Metadata Dataset](#metadata-loading)\n",
    "3. [Clean Metadata Dataset](#metadata-cleaning)"
   ]
  },
  {
   "cell_type": "markdown",
   "id": "0f62a66e-28b6-427a-bb36-d5a743a04cc8",
   "metadata": {},
   "source": [
    "## Introduction <a name=\"intro\"></a>"
   ]
  },
  {
   "cell_type": "markdown",
   "id": "e1051e21-bfb9-458c-9054-aa3a54d23a84",
   "metadata": {},
   "source": [
    "In this notebook we will be cleaning a dataset from TMDB. This will be the primary source of metadata for our list of ~52k movies from our MovieLens user review text dataset. We verified that the majority of movies from the MovieLens dataset are contained within this dataset.\n",
    "\n",
    "This dataset has rich information on title, synposis, year of release, budget, revenue , popularity, original language in which movie/tv show was produced, production companies, production countries, user vote averages, runtime, release date, tagline, actors & directors. It has a pipe delimiter and a complex structure, with JSON-like objects inside each row. To simplify things, we'll filter for the columns we are interested in.\n",
    "\n",
    "Link to dataset: https://www.kaggle.com/datasets/kakarlaramcharan/tmdb-data-0920"
   ]
  },
  {
   "cell_type": "markdown",
   "id": "bf600e62-c300-4c96-ae18-cbd1654066ec",
   "metadata": {
    "tags": []
   },
   "source": [
    "### Load & Inspect Metadata Dataset <a name=\"metadata-loading\"></a>"
   ]
  },
  {
   "cell_type": "code",
   "execution_count": 1,
   "id": "069f9893-b1e5-4609-b4bc-332930a7ee5a",
   "metadata": {
    "tags": []
   },
   "outputs": [],
   "source": [
    "# Importing libraries\n",
    "import pandas as pd\n",
    "import numpy as np\n",
    "\n",
    "import seaborn as sns\n",
    "import matplotlib.pyplot as plt\n",
    "\n",
    "# To read dataset in JSON format\n",
    "import json"
   ]
  },
  {
   "cell_type": "code",
   "execution_count": 2,
   "id": "d1976cdc-e2d4-4d96-b661-7eca6cf31625",
   "metadata": {
    "tags": []
   },
   "outputs": [
    {
     "ename": "ParserError",
     "evalue": "Error tokenizing data. C error: Buffer overflow caught - possible malformed input file.\n",
     "output_type": "error",
     "traceback": [
      "\u001b[0;31m---------------------------------------------------------------------------\u001b[0m",
      "\u001b[0;31mParserError\u001b[0m                               Traceback (most recent call last)",
      "Cell \u001b[0;32mIn[2], line 2\u001b[0m\n\u001b[1;32m      1\u001b[0m \u001b[38;5;66;03m# Read in TMDB file with only the columns we need\u001b[39;00m\n\u001b[0;32m----> 2\u001b[0m metadata_df \u001b[38;5;241m=\u001b[39m pd\u001b[38;5;241m.\u001b[39mread_csv(\u001b[38;5;124m\"\u001b[39m\u001b[38;5;124mdata/movie_data_tmbd.csv\u001b[39m\u001b[38;5;124m\"\u001b[39m, delimiter\u001b[38;5;241m=\u001b[39m\u001b[38;5;124m\"\u001b[39m\u001b[38;5;124m|\u001b[39m\u001b[38;5;124m\"\u001b[39m, usecols\u001b[38;5;241m=\u001b[39m[\u001b[38;5;124m\"\u001b[39m\u001b[38;5;124madult\u001b[39m\u001b[38;5;124m\"\u001b[39m, \u001b[38;5;124m\"\u001b[39m\u001b[38;5;124mbudget\u001b[39m\u001b[38;5;124m\"\u001b[39m, \u001b[38;5;124m\"\u001b[39m\u001b[38;5;124mgenres\u001b[39m\u001b[38;5;124m\"\u001b[39m, \u001b[38;5;124m\"\u001b[39m\u001b[38;5;124mimdb_id\u001b[39m\u001b[38;5;124m\"\u001b[39m, \u001b[38;5;124m\"\u001b[39m\u001b[38;5;124moriginal_language\u001b[39m\u001b[38;5;124m\"\u001b[39m, \u001b[38;5;124m\"\u001b[39m\u001b[38;5;124moriginal_title\u001b[39m\u001b[38;5;124m\"\u001b[39m, \u001b[38;5;124m\"\u001b[39m\u001b[38;5;124mproduction_companies\u001b[39m\u001b[38;5;124m\"\u001b[39m, \u001b[38;5;124m\"\u001b[39m\u001b[38;5;124mrelease_date\u001b[39m\u001b[38;5;124m\"\u001b[39m, \u001b[38;5;124m\"\u001b[39m\u001b[38;5;124mrevenue\u001b[39m\u001b[38;5;124m\"\u001b[39m, \u001b[38;5;124m\"\u001b[39m\u001b[38;5;124mruntime\u001b[39m\u001b[38;5;124m\"\u001b[39m, \u001b[38;5;124m\"\u001b[39m\u001b[38;5;124mtitle\u001b[39m\u001b[38;5;124m\"\u001b[39m, \u001b[38;5;124m\"\u001b[39m\u001b[38;5;124mvote_average\u001b[39m\u001b[38;5;124m\"\u001b[39m, \u001b[38;5;124m\"\u001b[39m\u001b[38;5;124mvote_count\u001b[39m\u001b[38;5;124m\"\u001b[39m])\n",
      "File \u001b[0;32m~/anaconda3/lib/python3.11/site-packages/pandas/io/parsers/readers.py:912\u001b[0m, in \u001b[0;36mread_csv\u001b[0;34m(filepath_or_buffer, sep, delimiter, header, names, index_col, usecols, dtype, engine, converters, true_values, false_values, skipinitialspace, skiprows, skipfooter, nrows, na_values, keep_default_na, na_filter, verbose, skip_blank_lines, parse_dates, infer_datetime_format, keep_date_col, date_parser, date_format, dayfirst, cache_dates, iterator, chunksize, compression, thousands, decimal, lineterminator, quotechar, quoting, doublequote, escapechar, comment, encoding, encoding_errors, dialect, on_bad_lines, delim_whitespace, low_memory, memory_map, float_precision, storage_options, dtype_backend)\u001b[0m\n\u001b[1;32m    899\u001b[0m kwds_defaults \u001b[38;5;241m=\u001b[39m _refine_defaults_read(\n\u001b[1;32m    900\u001b[0m     dialect,\n\u001b[1;32m    901\u001b[0m     delimiter,\n\u001b[0;32m   (...)\u001b[0m\n\u001b[1;32m    908\u001b[0m     dtype_backend\u001b[38;5;241m=\u001b[39mdtype_backend,\n\u001b[1;32m    909\u001b[0m )\n\u001b[1;32m    910\u001b[0m kwds\u001b[38;5;241m.\u001b[39mupdate(kwds_defaults)\n\u001b[0;32m--> 912\u001b[0m \u001b[38;5;28;01mreturn\u001b[39;00m _read(filepath_or_buffer, kwds)\n",
      "File \u001b[0;32m~/anaconda3/lib/python3.11/site-packages/pandas/io/parsers/readers.py:583\u001b[0m, in \u001b[0;36m_read\u001b[0;34m(filepath_or_buffer, kwds)\u001b[0m\n\u001b[1;32m    580\u001b[0m     \u001b[38;5;28;01mreturn\u001b[39;00m parser\n\u001b[1;32m    582\u001b[0m \u001b[38;5;28;01mwith\u001b[39;00m parser:\n\u001b[0;32m--> 583\u001b[0m     \u001b[38;5;28;01mreturn\u001b[39;00m parser\u001b[38;5;241m.\u001b[39mread(nrows)\n",
      "File \u001b[0;32m~/anaconda3/lib/python3.11/site-packages/pandas/io/parsers/readers.py:1704\u001b[0m, in \u001b[0;36mTextFileReader.read\u001b[0;34m(self, nrows)\u001b[0m\n\u001b[1;32m   1697\u001b[0m nrows \u001b[38;5;241m=\u001b[39m validate_integer(\u001b[38;5;124m\"\u001b[39m\u001b[38;5;124mnrows\u001b[39m\u001b[38;5;124m\"\u001b[39m, nrows)\n\u001b[1;32m   1698\u001b[0m \u001b[38;5;28;01mtry\u001b[39;00m:\n\u001b[1;32m   1699\u001b[0m     \u001b[38;5;66;03m# error: \"ParserBase\" has no attribute \"read\"\u001b[39;00m\n\u001b[1;32m   1700\u001b[0m     (\n\u001b[1;32m   1701\u001b[0m         index,\n\u001b[1;32m   1702\u001b[0m         columns,\n\u001b[1;32m   1703\u001b[0m         col_dict,\n\u001b[0;32m-> 1704\u001b[0m     ) \u001b[38;5;241m=\u001b[39m \u001b[38;5;28mself\u001b[39m\u001b[38;5;241m.\u001b[39m_engine\u001b[38;5;241m.\u001b[39mread(  \u001b[38;5;66;03m# type: ignore[attr-defined]\u001b[39;00m\n\u001b[1;32m   1705\u001b[0m         nrows\n\u001b[1;32m   1706\u001b[0m     )\n\u001b[1;32m   1707\u001b[0m \u001b[38;5;28;01mexcept\u001b[39;00m \u001b[38;5;167;01mException\u001b[39;00m:\n\u001b[1;32m   1708\u001b[0m     \u001b[38;5;28mself\u001b[39m\u001b[38;5;241m.\u001b[39mclose()\n",
      "File \u001b[0;32m~/anaconda3/lib/python3.11/site-packages/pandas/io/parsers/c_parser_wrapper.py:234\u001b[0m, in \u001b[0;36mCParserWrapper.read\u001b[0;34m(self, nrows)\u001b[0m\n\u001b[1;32m    232\u001b[0m \u001b[38;5;28;01mtry\u001b[39;00m:\n\u001b[1;32m    233\u001b[0m     \u001b[38;5;28;01mif\u001b[39;00m \u001b[38;5;28mself\u001b[39m\u001b[38;5;241m.\u001b[39mlow_memory:\n\u001b[0;32m--> 234\u001b[0m         chunks \u001b[38;5;241m=\u001b[39m \u001b[38;5;28mself\u001b[39m\u001b[38;5;241m.\u001b[39m_reader\u001b[38;5;241m.\u001b[39mread_low_memory(nrows)\n\u001b[1;32m    235\u001b[0m         \u001b[38;5;66;03m# destructive to chunks\u001b[39;00m\n\u001b[1;32m    236\u001b[0m         data \u001b[38;5;241m=\u001b[39m _concatenate_chunks(chunks)\n",
      "File \u001b[0;32m~/anaconda3/lib/python3.11/site-packages/pandas/_libs/parsers.pyx:814\u001b[0m, in \u001b[0;36mpandas._libs.parsers.TextReader.read_low_memory\u001b[0;34m()\u001b[0m\n",
      "File \u001b[0;32m~/anaconda3/lib/python3.11/site-packages/pandas/_libs/parsers.pyx:875\u001b[0m, in \u001b[0;36mpandas._libs.parsers.TextReader._read_rows\u001b[0;34m()\u001b[0m\n",
      "File \u001b[0;32m~/anaconda3/lib/python3.11/site-packages/pandas/_libs/parsers.pyx:850\u001b[0m, in \u001b[0;36mpandas._libs.parsers.TextReader._tokenize_rows\u001b[0;34m()\u001b[0m\n",
      "File \u001b[0;32m~/anaconda3/lib/python3.11/site-packages/pandas/_libs/parsers.pyx:861\u001b[0m, in \u001b[0;36mpandas._libs.parsers.TextReader._check_tokenize_status\u001b[0;34m()\u001b[0m\n",
      "File \u001b[0;32m~/anaconda3/lib/python3.11/site-packages/pandas/_libs/parsers.pyx:2029\u001b[0m, in \u001b[0;36mpandas._libs.parsers.raise_parser_error\u001b[0;34m()\u001b[0m\n",
      "\u001b[0;31mParserError\u001b[0m: Error tokenizing data. C error: Buffer overflow caught - possible malformed input file.\n"
     ]
    }
   ],
   "source": [
    "# Read in TMDB file with only the columns we need\n",
    "metadata_df = pd.read_csv(\"data/movie_data_tmbd.csv\", delimiter=\"|\", usecols=[\"adult\", \"budget\", \"genres\", \"imdb_id\", \"original_language\", \"original_title\", \"production_companies\", \"release_date\", \"revenue\", \"runtime\", \"title\", \"vote_average\", \"vote_count\"])"
   ]
  },
  {
   "cell_type": "markdown",
   "id": "42269cfe-8c17-4d42-a215-aab24459c671",
   "metadata": {
    "tags": []
   },
   "source": [
    "This gives us an error, so we will try limiting the number of rows we're importing until we get an error."
   ]
  },
  {
   "cell_type": "code",
   "execution_count": 4,
   "id": "98b689e9-8657-4a1c-b612-0dfd6f31d570",
   "metadata": {
    "tags": []
   },
   "outputs": [],
   "source": [
    "# Limit rows until we get an error\n",
    "metadata_df = pd.read_csv(\"data/movie_data_tmbd.csv\", delimiter=\"|\", usecols=[\"adult\", \"budget\", \"genres\", \"imdb_id\", \"original_language\", \"original_title\", \"production_companies\", \"revenue\", \"runtime\", \"title\", \"vote_average\", \"vote_count\"], nrows=17000)"
   ]
  },
  {
   "cell_type": "markdown",
   "id": "4446a166-f4bb-4da9-a211-e9ee8b02a169",
   "metadata": {},
   "source": [
    "We can import up to 17,000 rows before getting an error. If we change nrows to 18,000, we get an error. \n",
    "\n",
    "Let's try using the built-in python csv module and reading the file line-by-line, process each line, and append it to a list. Then, we can create a DataFrame from that list."
   ]
  },
  {
   "cell_type": "code",
   "execution_count": 179,
   "id": "4fcfb739-92c5-416d-9add-ac8af67b44ed",
   "metadata": {
    "tags": []
   },
   "outputs": [],
   "source": [
    "import csv\n",
    "\n",
    "lines = []\n",
    "header = None\n",
    "\n",
    "with open(\"data/movie_data_tmbd.csv\", \"r\") as f:\n",
    "    csv_reader = csv.reader(f, delimiter=\"|\")\n",
    "    for i, line in enumerate(csv_reader):\n",
    "        if i == 0:\n",
    "            header = line\n",
    "        else:\n",
    "            try:\n",
    "                lines.append(line)\n",
    "            except Exception as e:\n",
    "                print(f\"Skipping line {i} due to error: {e}\")\n",
    "                \n",
    "# Create DataFrame from list\n",
    "metadata_df = pd.DataFrame(lines, columns=header)\n",
    "\n",
    "# Filter for columns we need\n",
    "metadata_df = metadata_df[[\"adult\", \"budget\", \"genres\", \"imdb_id\", \"original_language\", \"original_title\", \"production_companies\", \"release_date\", \"revenue\", \"runtime\", \"title\", \"vote_average\", \"vote_count\", \"cast\", \"directors\"]]"
   ]
  },
  {
   "cell_type": "code",
   "execution_count": 180,
   "id": "189e9ebc-9fad-40ce-9335-198aa8cec440",
   "metadata": {
    "tags": []
   },
   "outputs": [
    {
     "data": {
      "text/html": [
       "<div>\n",
       "<style scoped>\n",
       "    .dataframe tbody tr th:only-of-type {\n",
       "        vertical-align: middle;\n",
       "    }\n",
       "\n",
       "    .dataframe tbody tr th {\n",
       "        vertical-align: top;\n",
       "    }\n",
       "\n",
       "    .dataframe thead th {\n",
       "        text-align: right;\n",
       "    }\n",
       "</style>\n",
       "<table border=\"1\" class=\"dataframe\">\n",
       "  <thead>\n",
       "    <tr style=\"text-align: right;\">\n",
       "      <th></th>\n",
       "      <th>adult</th>\n",
       "      <th>budget</th>\n",
       "      <th>genres</th>\n",
       "      <th>imdb_id</th>\n",
       "      <th>original_language</th>\n",
       "      <th>original_title</th>\n",
       "      <th>production_companies</th>\n",
       "      <th>release_date</th>\n",
       "      <th>revenue</th>\n",
       "      <th>runtime</th>\n",
       "      <th>title</th>\n",
       "      <th>vote_average</th>\n",
       "      <th>vote_count</th>\n",
       "      <th>cast</th>\n",
       "      <th>directors</th>\n",
       "    </tr>\n",
       "  </thead>\n",
       "  <tbody>\n",
       "    <tr>\n",
       "      <th>0</th>\n",
       "      <td>False</td>\n",
       "      <td>0</td>\n",
       "      <td>[{'id': 35, 'name': 'Comedy'}, {'id': 18, 'nam...</td>\n",
       "      <td>tt0055827</td>\n",
       "      <td>fr</td>\n",
       "      <td>Le Caporal épinglé</td>\n",
       "      <td>[{'id': 16059, 'logo_path': None, 'name': 'Les...</td>\n",
       "      <td>1962-05-23</td>\n",
       "      <td>0</td>\n",
       "      <td>90</td>\n",
       "      <td>The Elusive Corporal</td>\n",
       "      <td>5.9</td>\n",
       "      <td>10</td>\n",
       "      <td>[{'cast_id': 3, 'character': 'Caporal', 'credi...</td>\n",
       "      <td>[{'credit_id': '52fe4626c3a36847f80ef68b', 'de...</td>\n",
       "    </tr>\n",
       "    <tr>\n",
       "      <th>1</th>\n",
       "      <td>False</td>\n",
       "      <td>0</td>\n",
       "      <td>[{'id': 18, 'name': 'Drama'}]</td>\n",
       "      <td>tt0055910</td>\n",
       "      <td>fr</td>\n",
       "      <td>Cybèle ou les dimanches de ville d'Avray</td>\n",
       "      <td>[{'id': 7808, 'logo_path': None, 'name': 'Fidè...</td>\n",
       "      <td>1962-11-12</td>\n",
       "      <td>0</td>\n",
       "      <td>110</td>\n",
       "      <td>Sundays and Cybele</td>\n",
       "      <td>7.4</td>\n",
       "      <td>28</td>\n",
       "      <td>[{'cast_id': 4, 'character': 'Pierre', 'credit...</td>\n",
       "      <td>[{'credit_id': '52fe4626c3a36847f80ef6c7', 'de...</td>\n",
       "    </tr>\n",
       "    <tr>\n",
       "      <th>2</th>\n",
       "      <td>False</td>\n",
       "      <td>0</td>\n",
       "      <td>[{'id': 18, 'name': 'Drama'}, {'id': 37, 'name...</td>\n",
       "      <td>tt0056195</td>\n",
       "      <td>en</td>\n",
       "      <td>Lonely Are the Brave</td>\n",
       "      <td>[{'id': 3810, 'logo_path': None, 'name': 'Joel...</td>\n",
       "      <td>1962-05-24</td>\n",
       "      <td>0</td>\n",
       "      <td>107</td>\n",
       "      <td>Lonely Are the Brave</td>\n",
       "      <td>7.5</td>\n",
       "      <td>70</td>\n",
       "      <td>[{'cast_id': 1, 'character': 'John W. \"Jack\" B...</td>\n",
       "      <td>[{'credit_id': '52fe4626c3a36847f80ef733', 'de...</td>\n",
       "    </tr>\n",
       "    <tr>\n",
       "      <th>3</th>\n",
       "      <td>False</td>\n",
       "      <td>0</td>\n",
       "      <td>[{'id': 99, 'name': 'Documentary'}]</td>\n",
       "      <td>tt0072962</td>\n",
       "      <td>fr</td>\n",
       "      <td>Vérités et Mensonges</td>\n",
       "      <td>[{'id': 36547, 'logo_path': None, 'name': 'SAC...</td>\n",
       "      <td>1975-03-12</td>\n",
       "      <td>0</td>\n",
       "      <td>89</td>\n",
       "      <td>F for Fake</td>\n",
       "      <td>7.5</td>\n",
       "      <td>178</td>\n",
       "      <td>[{'cast_id': 3, 'character': 'Himself', 'credi...</td>\n",
       "      <td>[{'credit_id': '52fe4626c3a36847f80ef75b', 'de...</td>\n",
       "    </tr>\n",
       "    <tr>\n",
       "      <th>4</th>\n",
       "      <td>False</td>\n",
       "      <td>500000</td>\n",
       "      <td>[{'id': 18, 'name': 'Drama'}, {'id': 36, 'name...</td>\n",
       "      <td>tt0056196</td>\n",
       "      <td>en</td>\n",
       "      <td>Long Day's Journey Into Night</td>\n",
       "      <td>[{'id': 77598, 'logo_path': None, 'name': 'Fir...</td>\n",
       "      <td>1962-10-09</td>\n",
       "      <td>0</td>\n",
       "      <td>174</td>\n",
       "      <td>Long Day's Journey Into Night</td>\n",
       "      <td>6.9</td>\n",
       "      <td>32</td>\n",
       "      <td>[{'cast_id': 1, 'character': 'Mary Tyrone', 'c...</td>\n",
       "      <td>[{'credit_id': '52fe4626c3a36847f80ef791', 'de...</td>\n",
       "    </tr>\n",
       "  </tbody>\n",
       "</table>\n",
       "</div>"
      ],
      "text/plain": [
       "   adult  budget                                             genres  \\\n",
       "0  False       0  [{'id': 35, 'name': 'Comedy'}, {'id': 18, 'nam...   \n",
       "1  False       0                      [{'id': 18, 'name': 'Drama'}]   \n",
       "2  False       0  [{'id': 18, 'name': 'Drama'}, {'id': 37, 'name...   \n",
       "3  False       0                [{'id': 99, 'name': 'Documentary'}]   \n",
       "4  False  500000  [{'id': 18, 'name': 'Drama'}, {'id': 36, 'name...   \n",
       "\n",
       "     imdb_id original_language                            original_title  \\\n",
       "0  tt0055827                fr                        Le Caporal épinglé   \n",
       "1  tt0055910                fr  Cybèle ou les dimanches de ville d'Avray   \n",
       "2  tt0056195                en                      Lonely Are the Brave   \n",
       "3  tt0072962                fr                      Vérités et Mensonges   \n",
       "4  tt0056196                en             Long Day's Journey Into Night   \n",
       "\n",
       "                                production_companies release_date revenue  \\\n",
       "0  [{'id': 16059, 'logo_path': None, 'name': 'Les...   1962-05-23       0   \n",
       "1  [{'id': 7808, 'logo_path': None, 'name': 'Fidè...   1962-11-12       0   \n",
       "2  [{'id': 3810, 'logo_path': None, 'name': 'Joel...   1962-05-24       0   \n",
       "3  [{'id': 36547, 'logo_path': None, 'name': 'SAC...   1975-03-12       0   \n",
       "4  [{'id': 77598, 'logo_path': None, 'name': 'Fir...   1962-10-09       0   \n",
       "\n",
       "  runtime                          title vote_average vote_count  \\\n",
       "0      90           The Elusive Corporal          5.9         10   \n",
       "1     110             Sundays and Cybele          7.4         28   \n",
       "2     107           Lonely Are the Brave          7.5         70   \n",
       "3      89                     F for Fake          7.5        178   \n",
       "4     174  Long Day's Journey Into Night          6.9         32   \n",
       "\n",
       "                                                cast  \\\n",
       "0  [{'cast_id': 3, 'character': 'Caporal', 'credi...   \n",
       "1  [{'cast_id': 4, 'character': 'Pierre', 'credit...   \n",
       "2  [{'cast_id': 1, 'character': 'John W. \"Jack\" B...   \n",
       "3  [{'cast_id': 3, 'character': 'Himself', 'credi...   \n",
       "4  [{'cast_id': 1, 'character': 'Mary Tyrone', 'c...   \n",
       "\n",
       "                                           directors  \n",
       "0  [{'credit_id': '52fe4626c3a36847f80ef68b', 'de...  \n",
       "1  [{'credit_id': '52fe4626c3a36847f80ef6c7', 'de...  \n",
       "2  [{'credit_id': '52fe4626c3a36847f80ef733', 'de...  \n",
       "3  [{'credit_id': '52fe4626c3a36847f80ef75b', 'de...  \n",
       "4  [{'credit_id': '52fe4626c3a36847f80ef791', 'de...  "
      ]
     },
     "execution_count": 180,
     "metadata": {},
     "output_type": "execute_result"
    }
   ],
   "source": [
    "# Check file was imported correctly\n",
    "metadata_df.head()"
   ]
  },
  {
   "cell_type": "markdown",
   "id": "f7e39141-272d-420b-942a-6491715a42de",
   "metadata": {},
   "source": [
    "The errors were resolved! We still have the JSON like objects stored inside, so we'll need to extract the parts that we will be using for analysis."
   ]
  },
  {
   "cell_type": "code",
   "execution_count": 181,
   "id": "3b56fcec-a769-4b24-bba5-7c6689cff8db",
   "metadata": {
    "tags": []
   },
   "outputs": [
    {
     "data": {
      "text/plain": [
       "(119938, 15)"
      ]
     },
     "execution_count": 181,
     "metadata": {},
     "output_type": "execute_result"
    }
   ],
   "source": [
    "# Check the shape\n",
    "metadata_df.shape"
   ]
  },
  {
   "cell_type": "code",
   "execution_count": 182,
   "id": "60bc469b-603e-4f80-b33b-ee18e8f52ae4",
   "metadata": {
    "tags": []
   },
   "outputs": [
    {
     "name": "stdout",
     "output_type": "stream",
     "text": [
      "<class 'pandas.core.frame.DataFrame'>\n",
      "RangeIndex: 119938 entries, 0 to 119937\n",
      "Data columns (total 15 columns):\n",
      " #   Column                Non-Null Count   Dtype \n",
      "---  ------                --------------   ----- \n",
      " 0   adult                 119938 non-null  object\n",
      " 1   budget                119394 non-null  object\n",
      " 2   genres                119394 non-null  object\n",
      " 3   imdb_id               119394 non-null  object\n",
      " 4   original_language     119394 non-null  object\n",
      " 5   original_title        119394 non-null  object\n",
      " 6   production_companies  119073 non-null  object\n",
      " 7   release_date          119073 non-null  object\n",
      " 8   revenue               119073 non-null  object\n",
      " 9   runtime               118752 non-null  object\n",
      " 10  title                 118752 non-null  object\n",
      " 11  vote_average          118752 non-null  object\n",
      " 12  vote_count            118752 non-null  object\n",
      " 13  cast                  118752 non-null  object\n",
      " 14  directors             118752 non-null  object\n",
      "dtypes: object(15)\n",
      "memory usage: 13.7+ MB\n"
     ]
    }
   ],
   "source": [
    "# Check dtypes and nulls\n",
    "metadata_df.info()"
   ]
  },
  {
   "cell_type": "code",
   "execution_count": 183,
   "id": "2398f2b0-e9ac-4858-acf9-ceff325f3972",
   "metadata": {
    "tags": []
   },
   "outputs": [
    {
     "data": {
      "text/plain": [
       "adult                      0\n",
       "budget                   544\n",
       "genres                   544\n",
       "imdb_id                  544\n",
       "original_language        544\n",
       "original_title           544\n",
       "production_companies     865\n",
       "release_date             865\n",
       "revenue                  865\n",
       "runtime                 1186\n",
       "title                   1186\n",
       "vote_average            1186\n",
       "vote_count              1186\n",
       "cast                    1186\n",
       "directors               1186\n",
       "dtype: int64"
      ]
     },
     "execution_count": 183,
     "metadata": {},
     "output_type": "execute_result"
    }
   ],
   "source": [
    "# Check null values in each column\n",
    "metadata_df.isna().sum()"
   ]
  },
  {
   "cell_type": "code",
   "execution_count": 184,
   "id": "b6f99a6b-90ad-40f7-b6cf-ac894deae866",
   "metadata": {
    "tags": []
   },
   "outputs": [
    {
     "data": {
      "text/plain": [
       "0"
      ]
     },
     "execution_count": 184,
     "metadata": {},
     "output_type": "execute_result"
    }
   ],
   "source": [
    "# Check for duplicates\n",
    "metadata_df.duplicated().sum()"
   ]
  },
  {
   "cell_type": "markdown",
   "id": "13ae35ac-48a9-4ee2-b1af-f67f85012d0d",
   "metadata": {},
   "source": [
    "Let's drop the null `imdb_id` values, since we won't be able to easily join to our other dataset without it."
   ]
  },
  {
   "cell_type": "code",
   "execution_count": 185,
   "id": "070294db-4b3a-451a-bba3-09217055a006",
   "metadata": {
    "tags": []
   },
   "outputs": [],
   "source": [
    "# Create a copy and drop just the null imdb_ids\n",
    "metadata_df_dropna = metadata_df.dropna(subset='imdb_id')"
   ]
  },
  {
   "cell_type": "code",
   "execution_count": 186,
   "id": "fc9ffc1d-c052-408d-84c8-eaa8edabd7c9",
   "metadata": {
    "tags": []
   },
   "outputs": [
    {
     "data": {
      "text/plain": [
       "adult                     0\n",
       "budget                    0\n",
       "genres                    0\n",
       "imdb_id                   0\n",
       "original_language         0\n",
       "original_title            0\n",
       "production_companies    321\n",
       "release_date            321\n",
       "revenue                 321\n",
       "runtime                 642\n",
       "title                   642\n",
       "vote_average            642\n",
       "vote_count              642\n",
       "cast                    642\n",
       "directors               642\n",
       "dtype: int64"
      ]
     },
     "execution_count": 186,
     "metadata": {},
     "output_type": "execute_result"
    }
   ],
   "source": [
    "# Sanity check\n",
    "metadata_df_dropna.isna().sum()"
   ]
  },
  {
   "cell_type": "markdown",
   "id": "32885daa-943d-48b8-bc78-3d22ed1ab250",
   "metadata": {},
   "source": [
    "We already dropped the duplicates, so we'll create a clean_df copy and proceed with the rest of the cleaning. "
   ]
  },
  {
   "cell_type": "code",
   "execution_count": 187,
   "id": "aee72bf4-149c-4bd3-ad1d-63d47fcd11f1",
   "metadata": {
    "tags": []
   },
   "outputs": [],
   "source": [
    "# Create a copy before altering our dataframe\n",
    "clean_metadata_df = metadata_df_dropna.copy()"
   ]
  },
  {
   "cell_type": "code",
   "execution_count": 188,
   "id": "fc63cfee-6fe9-4f3f-ac7a-f5b3a5cc7cfe",
   "metadata": {
    "tags": []
   },
   "outputs": [
    {
     "data": {
      "text/plain": [
       "(119394, 15)"
      ]
     },
     "execution_count": 188,
     "metadata": {},
     "output_type": "execute_result"
    }
   ],
   "source": [
    "# Check shape\n",
    "\n",
    "clean_metadata_df.shape"
   ]
  },
  {
   "cell_type": "markdown",
   "id": "df416d19-7ef6-4ba2-ba00-8fde84ab0d48",
   "metadata": {
    "tags": []
   },
   "source": [
    "### Clean Metadata Dataset <a name=\"metadata-cleaning\"></a>"
   ]
  },
  {
   "cell_type": "markdown",
   "id": "ad08eab9-3e1e-4858-9936-b2f4edecc007",
   "metadata": {},
   "source": [
    "As mentioned, we have already dropped the duplicates and confirmed there are no null values. Now we need to extract the appropriate info from the `genres`, `production_companies`, `directors`, and `cast` columns. "
   ]
  },
  {
   "cell_type": "code",
   "execution_count": 189,
   "id": "d6e4fa3d-31bc-476c-93e2-b3b292d074c3",
   "metadata": {
    "tags": []
   },
   "outputs": [],
   "source": [
    "import ast\n",
    "\n",
    "# Convert the 'genres' column to Python objects\n",
    "\n",
    "clean_metadata_df['genres'] = clean_metadata_df['genres'].apply(lambda x: ast.literal_eval(x) if x is not None and isinstance(x, str) else x)\n",
    "\n",
    "# Extract the genre names, skipping None values\n",
    "\n",
    "clean_metadata_df['genre_names'] = clean_metadata_df['genres'].apply(lambda x: [d['name'] for d in x] if x is not None else x)"
   ]
  },
  {
   "cell_type": "code",
   "execution_count": 190,
   "id": "216ed31e-2770-4d84-83ba-b14172243a0f",
   "metadata": {
    "tags": []
   },
   "outputs": [
    {
     "data": {
      "text/html": [
       "<div>\n",
       "<style scoped>\n",
       "    .dataframe tbody tr th:only-of-type {\n",
       "        vertical-align: middle;\n",
       "    }\n",
       "\n",
       "    .dataframe tbody tr th {\n",
       "        vertical-align: top;\n",
       "    }\n",
       "\n",
       "    .dataframe thead th {\n",
       "        text-align: right;\n",
       "    }\n",
       "</style>\n",
       "<table border=\"1\" class=\"dataframe\">\n",
       "  <thead>\n",
       "    <tr style=\"text-align: right;\">\n",
       "      <th></th>\n",
       "      <th>adult</th>\n",
       "      <th>budget</th>\n",
       "      <th>genres</th>\n",
       "      <th>imdb_id</th>\n",
       "      <th>original_language</th>\n",
       "      <th>original_title</th>\n",
       "      <th>production_companies</th>\n",
       "      <th>release_date</th>\n",
       "      <th>revenue</th>\n",
       "      <th>runtime</th>\n",
       "      <th>title</th>\n",
       "      <th>vote_average</th>\n",
       "      <th>vote_count</th>\n",
       "      <th>cast</th>\n",
       "      <th>directors</th>\n",
       "      <th>genre_names</th>\n",
       "    </tr>\n",
       "  </thead>\n",
       "  <tbody>\n",
       "    <tr>\n",
       "      <th>29511</th>\n",
       "      <td>False</td>\n",
       "      <td>0</td>\n",
       "      <td>[{'id': 99, 'name': 'Documentary'}]</td>\n",
       "      <td>tt4009728</td>\n",
       "      <td>en</td>\n",
       "      <td>United Skates</td>\n",
       "      <td>[{'id': 110433, 'logo_path': None, 'name': 'Sw...</td>\n",
       "      <td>2018-04-19</td>\n",
       "      <td>0</td>\n",
       "      <td>89</td>\n",
       "      <td>United Skates</td>\n",
       "      <td>7.8</td>\n",
       "      <td>13</td>\n",
       "      <td>[{'cast_id': 3, 'character': 'Himself', 'credi...</td>\n",
       "      <td>[{'credit_id': '5aa5e04e0e0a263dc1000b88', 'de...</td>\n",
       "      <td>[Documentary]</td>\n",
       "    </tr>\n",
       "  </tbody>\n",
       "</table>\n",
       "</div>"
      ],
      "text/plain": [
       "       adult budget                               genres    imdb_id  \\\n",
       "29511  False      0  [{'id': 99, 'name': 'Documentary'}]  tt4009728   \n",
       "\n",
       "      original_language original_title  \\\n",
       "29511                en  United Skates   \n",
       "\n",
       "                                    production_companies release_date revenue  \\\n",
       "29511  [{'id': 110433, 'logo_path': None, 'name': 'Sw...   2018-04-19       0   \n",
       "\n",
       "      runtime          title vote_average vote_count  \\\n",
       "29511      89  United Skates          7.8         13   \n",
       "\n",
       "                                                    cast  \\\n",
       "29511  [{'cast_id': 3, 'character': 'Himself', 'credi...   \n",
       "\n",
       "                                               directors    genre_names  \n",
       "29511  [{'credit_id': '5aa5e04e0e0a263dc1000b88', 'de...  [Documentary]  "
      ]
     },
     "execution_count": 190,
     "metadata": {},
     "output_type": "execute_result"
    }
   ],
   "source": [
    "# Check that it worked\n",
    "\n",
    "clean_metadata_df.sample()"
   ]
  },
  {
   "cell_type": "code",
   "execution_count": 191,
   "id": "b12c24ba-ff31-4b08-b6c6-009fdf2ea3a3",
   "metadata": {
    "tags": []
   },
   "outputs": [],
   "source": [
    "# Convert the 'production_companies' column to Python objects\n",
    "\n",
    "clean_metadata_df['production_companies'] = clean_metadata_df['production_companies'].apply(lambda x: ast.literal_eval(x) if x is not None and isinstance(x, str) else x)\n",
    "\n",
    "# Extract the company names, adding additional check for list type\n",
    "\n",
    "clean_metadata_df['company_names'] = clean_metadata_df['production_companies'].apply(lambda x: [d['name'] for d in x] if x is not None and isinstance(x, list) else x)"
   ]
  },
  {
   "cell_type": "code",
   "execution_count": 192,
   "id": "6c2fe6c8-125c-42fb-b00b-a719d0f1fd30",
   "metadata": {
    "tags": []
   },
   "outputs": [
    {
     "data": {
      "text/html": [
       "<div>\n",
       "<style scoped>\n",
       "    .dataframe tbody tr th:only-of-type {\n",
       "        vertical-align: middle;\n",
       "    }\n",
       "\n",
       "    .dataframe tbody tr th {\n",
       "        vertical-align: top;\n",
       "    }\n",
       "\n",
       "    .dataframe thead th {\n",
       "        text-align: right;\n",
       "    }\n",
       "</style>\n",
       "<table border=\"1\" class=\"dataframe\">\n",
       "  <thead>\n",
       "    <tr style=\"text-align: right;\">\n",
       "      <th></th>\n",
       "      <th>adult</th>\n",
       "      <th>budget</th>\n",
       "      <th>genres</th>\n",
       "      <th>imdb_id</th>\n",
       "      <th>original_language</th>\n",
       "      <th>original_title</th>\n",
       "      <th>production_companies</th>\n",
       "      <th>release_date</th>\n",
       "      <th>revenue</th>\n",
       "      <th>runtime</th>\n",
       "      <th>title</th>\n",
       "      <th>vote_average</th>\n",
       "      <th>vote_count</th>\n",
       "      <th>cast</th>\n",
       "      <th>directors</th>\n",
       "      <th>genre_names</th>\n",
       "      <th>company_names</th>\n",
       "    </tr>\n",
       "  </thead>\n",
       "  <tbody>\n",
       "    <tr>\n",
       "      <th>25596</th>\n",
       "      <td>False</td>\n",
       "      <td>0</td>\n",
       "      <td>[{'id': 18, 'name': 'Drama'}]</td>\n",
       "      <td>tt0084390</td>\n",
       "      <td>ja</td>\n",
       "      <td>楢山節考</td>\n",
       "      <td>[{'id': 5822, 'logo_path': '/qyTbRgCyU9NLKvKai...</td>\n",
       "      <td>1983-04-29</td>\n",
       "      <td>0</td>\n",
       "      <td>130</td>\n",
       "      <td>The Ballad of Narayama</td>\n",
       "      <td>7.2</td>\n",
       "      <td>77</td>\n",
       "      <td>[{'cast_id': 2, 'character': 'Tatsuhei', 'cred...</td>\n",
       "      <td>[{'credit_id': '52fe45eec3a36847f80e2acd', 'de...</td>\n",
       "      <td>[Drama]</td>\n",
       "      <td>[Toei Company, Ltd.]</td>\n",
       "    </tr>\n",
       "  </tbody>\n",
       "</table>\n",
       "</div>"
      ],
      "text/plain": [
       "       adult budget                         genres    imdb_id  \\\n",
       "25596  False      0  [{'id': 18, 'name': 'Drama'}]  tt0084390   \n",
       "\n",
       "      original_language original_title  \\\n",
       "25596                ja           楢山節考   \n",
       "\n",
       "                                    production_companies release_date revenue  \\\n",
       "25596  [{'id': 5822, 'logo_path': '/qyTbRgCyU9NLKvKai...   1983-04-29       0   \n",
       "\n",
       "      runtime                   title vote_average vote_count  \\\n",
       "25596     130  The Ballad of Narayama          7.2         77   \n",
       "\n",
       "                                                    cast  \\\n",
       "25596  [{'cast_id': 2, 'character': 'Tatsuhei', 'cred...   \n",
       "\n",
       "                                               directors genre_names  \\\n",
       "25596  [{'credit_id': '52fe45eec3a36847f80e2acd', 'de...     [Drama]   \n",
       "\n",
       "              company_names  \n",
       "25596  [Toei Company, Ltd.]  "
      ]
     },
     "execution_count": 192,
     "metadata": {},
     "output_type": "execute_result"
    }
   ],
   "source": [
    "# Check that it worked\n",
    "\n",
    "clean_metadata_df.sample()"
   ]
  },
  {
   "cell_type": "code",
   "execution_count": 193,
   "id": "9f90e26b-d0a1-41fa-b664-cd15dfadad10",
   "metadata": {
    "tags": []
   },
   "outputs": [],
   "source": [
    "# Convert the 'directors' column to Python objects\n",
    "\n",
    "clean_metadata_df['directors'] = clean_metadata_df['directors'].apply(lambda x: ast.literal_eval(x) if x is not None and isinstance(x, str) else x)\n",
    "\n",
    "# Extract the director names\n",
    "clean_metadata_df['director_names'] = clean_metadata_df['directors'].apply(lambda x: [d['name'] for d in x] if x is not None else x)"
   ]
  },
  {
   "cell_type": "code",
   "execution_count": 194,
   "id": "ae7550a0-80ab-4236-8215-77e6710ef1ba",
   "metadata": {
    "tags": []
   },
   "outputs": [
    {
     "data": {
      "text/html": [
       "<div>\n",
       "<style scoped>\n",
       "    .dataframe tbody tr th:only-of-type {\n",
       "        vertical-align: middle;\n",
       "    }\n",
       "\n",
       "    .dataframe tbody tr th {\n",
       "        vertical-align: top;\n",
       "    }\n",
       "\n",
       "    .dataframe thead th {\n",
       "        text-align: right;\n",
       "    }\n",
       "</style>\n",
       "<table border=\"1\" class=\"dataframe\">\n",
       "  <thead>\n",
       "    <tr style=\"text-align: right;\">\n",
       "      <th></th>\n",
       "      <th>adult</th>\n",
       "      <th>budget</th>\n",
       "      <th>genres</th>\n",
       "      <th>imdb_id</th>\n",
       "      <th>original_language</th>\n",
       "      <th>original_title</th>\n",
       "      <th>production_companies</th>\n",
       "      <th>release_date</th>\n",
       "      <th>revenue</th>\n",
       "      <th>runtime</th>\n",
       "      <th>title</th>\n",
       "      <th>vote_average</th>\n",
       "      <th>vote_count</th>\n",
       "      <th>cast</th>\n",
       "      <th>directors</th>\n",
       "      <th>genre_names</th>\n",
       "      <th>company_names</th>\n",
       "      <th>director_names</th>\n",
       "    </tr>\n",
       "  </thead>\n",
       "  <tbody>\n",
       "    <tr>\n",
       "      <th>32859</th>\n",
       "      <td>False</td>\n",
       "      <td>0</td>\n",
       "      <td>[{'id': 18, 'name': 'Drama'}]</td>\n",
       "      <td>tt1552436</td>\n",
       "      <td>pt</td>\n",
       "      <td>Olhos Azuis</td>\n",
       "      <td>[{'id': 2425, 'logo_path': None, 'name': 'Coev...</td>\n",
       "      <td>2010-05-28</td>\n",
       "      <td>37470</td>\n",
       "      <td>111</td>\n",
       "      <td>Blue Eyes</td>\n",
       "      <td>6.5</td>\n",
       "      <td>11</td>\n",
       "      <td>[{'cast_id': 1, 'character': 'Marshall', 'cred...</td>\n",
       "      <td>[{'credit_id': '52fe49a0c3a36847f81a4781', 'de...</td>\n",
       "      <td>[Drama]</td>\n",
       "      <td>[Coevos Filmes]</td>\n",
       "      <td>[José Joffily]</td>\n",
       "    </tr>\n",
       "  </tbody>\n",
       "</table>\n",
       "</div>"
      ],
      "text/plain": [
       "       adult budget                         genres    imdb_id  \\\n",
       "32859  False      0  [{'id': 18, 'name': 'Drama'}]  tt1552436   \n",
       "\n",
       "      original_language original_title  \\\n",
       "32859                pt    Olhos Azuis   \n",
       "\n",
       "                                    production_companies release_date revenue  \\\n",
       "32859  [{'id': 2425, 'logo_path': None, 'name': 'Coev...   2010-05-28   37470   \n",
       "\n",
       "      runtime      title vote_average vote_count  \\\n",
       "32859     111  Blue Eyes          6.5         11   \n",
       "\n",
       "                                                    cast  \\\n",
       "32859  [{'cast_id': 1, 'character': 'Marshall', 'cred...   \n",
       "\n",
       "                                               directors genre_names  \\\n",
       "32859  [{'credit_id': '52fe49a0c3a36847f81a4781', 'de...     [Drama]   \n",
       "\n",
       "         company_names  director_names  \n",
       "32859  [Coevos Filmes]  [José Joffily]  "
      ]
     },
     "execution_count": 194,
     "metadata": {},
     "output_type": "execute_result"
    }
   ],
   "source": [
    "# Check that it worked\n",
    "\n",
    "clean_metadata_df.sample()"
   ]
  },
  {
   "cell_type": "code",
   "execution_count": 195,
   "id": "80608d4f-dd10-45cd-82bd-f9e1c674accc",
   "metadata": {
    "tags": []
   },
   "outputs": [],
   "source": [
    "# Convert the 'cast' column to Python objects\n",
    "\n",
    "clean_metadata_df['cast'] = clean_metadata_df['cast'].apply(lambda x: ast.literal_eval(x) if x is not None and isinstance(x, str) else x)\n",
    "\n",
    "# Extract the actor names\n",
    "\n",
    "clean_metadata_df['actor_names'] = clean_metadata_df['cast'].apply(lambda x: [d['name'] for d in x] if x is not None else x)"
   ]
  },
  {
   "cell_type": "code",
   "execution_count": 196,
   "id": "00d3c9bb-c40e-46c3-bcd3-870ee01f2657",
   "metadata": {
    "tags": []
   },
   "outputs": [
    {
     "data": {
      "text/html": [
       "<div>\n",
       "<style scoped>\n",
       "    .dataframe tbody tr th:only-of-type {\n",
       "        vertical-align: middle;\n",
       "    }\n",
       "\n",
       "    .dataframe tbody tr th {\n",
       "        vertical-align: top;\n",
       "    }\n",
       "\n",
       "    .dataframe thead th {\n",
       "        text-align: right;\n",
       "    }\n",
       "</style>\n",
       "<table border=\"1\" class=\"dataframe\">\n",
       "  <thead>\n",
       "    <tr style=\"text-align: right;\">\n",
       "      <th></th>\n",
       "      <th>adult</th>\n",
       "      <th>budget</th>\n",
       "      <th>genres</th>\n",
       "      <th>imdb_id</th>\n",
       "      <th>original_language</th>\n",
       "      <th>original_title</th>\n",
       "      <th>production_companies</th>\n",
       "      <th>release_date</th>\n",
       "      <th>revenue</th>\n",
       "      <th>runtime</th>\n",
       "      <th>title</th>\n",
       "      <th>vote_average</th>\n",
       "      <th>vote_count</th>\n",
       "      <th>cast</th>\n",
       "      <th>directors</th>\n",
       "      <th>genre_names</th>\n",
       "      <th>company_names</th>\n",
       "      <th>director_names</th>\n",
       "      <th>actor_names</th>\n",
       "    </tr>\n",
       "  </thead>\n",
       "  <tbody>\n",
       "    <tr>\n",
       "      <th>45785</th>\n",
       "      <td>False</td>\n",
       "      <td>0</td>\n",
       "      <td>[{'id': 27, 'name': 'Horror'}, {'id': 53, 'nam...</td>\n",
       "      <td>tt0095728</td>\n",
       "      <td>it</td>\n",
       "      <td>Il nido del ragno</td>\n",
       "      <td>[{'id': 69093, 'logo_path': None, 'name': 'Spl...</td>\n",
       "      <td>1988-08-25</td>\n",
       "      <td>0</td>\n",
       "      <td>86</td>\n",
       "      <td>The Spider Labyrinth</td>\n",
       "      <td>7.0</td>\n",
       "      <td>11</td>\n",
       "      <td>[{'cast_id': 2, 'character': 'Professor Alan W...</td>\n",
       "      <td>[{'credit_id': '52fe4a32c3a36847f81c0177', 'de...</td>\n",
       "      <td>[Horror, Thriller]</td>\n",
       "      <td>[Splendida, Reteitalia]</td>\n",
       "      <td>[Gianfranco Giagni]</td>\n",
       "      <td>[Roland Wybenga, Claudio Capone, Paola Rinaldi...</td>\n",
       "    </tr>\n",
       "  </tbody>\n",
       "</table>\n",
       "</div>"
      ],
      "text/plain": [
       "       adult budget                                             genres  \\\n",
       "45785  False      0  [{'id': 27, 'name': 'Horror'}, {'id': 53, 'nam...   \n",
       "\n",
       "         imdb_id original_language     original_title  \\\n",
       "45785  tt0095728                it  Il nido del ragno   \n",
       "\n",
       "                                    production_companies release_date revenue  \\\n",
       "45785  [{'id': 69093, 'logo_path': None, 'name': 'Spl...   1988-08-25       0   \n",
       "\n",
       "      runtime                 title vote_average vote_count  \\\n",
       "45785      86  The Spider Labyrinth          7.0         11   \n",
       "\n",
       "                                                    cast  \\\n",
       "45785  [{'cast_id': 2, 'character': 'Professor Alan W...   \n",
       "\n",
       "                                               directors         genre_names  \\\n",
       "45785  [{'credit_id': '52fe4a32c3a36847f81c0177', 'de...  [Horror, Thriller]   \n",
       "\n",
       "                 company_names       director_names  \\\n",
       "45785  [Splendida, Reteitalia]  [Gianfranco Giagni]   \n",
       "\n",
       "                                             actor_names  \n",
       "45785  [Roland Wybenga, Claudio Capone, Paola Rinaldi...  "
      ]
     },
     "execution_count": 196,
     "metadata": {},
     "output_type": "execute_result"
    }
   ],
   "source": [
    "# Check that it worked\n",
    "\n",
    "clean_metadata_df.sample()"
   ]
  },
  {
   "cell_type": "markdown",
   "id": "ac250e3a-d8d7-4be4-8290-d832cf67e827",
   "metadata": {},
   "source": [
    "Great, now we've extracted the needed info from the genre, production company, director, and actor columns and created new columns to store the information. We can drop the other columns from our clean df."
   ]
  },
  {
   "cell_type": "code",
   "execution_count": 197,
   "id": "0a097c9c-81b2-4680-aca3-aabd78a0a9a7",
   "metadata": {
    "tags": []
   },
   "outputs": [],
   "source": [
    "# Drop the redundant messy columns\n",
    "\n",
    "clean_metadata_df = clean_metadata_df.drop(['genres', 'production_companies', 'cast', 'directors'], axis=1)"
   ]
  },
  {
   "cell_type": "code",
   "execution_count": 198,
   "id": "5b23122a-f3dc-48e4-b1fc-33437bcf6551",
   "metadata": {
    "tags": []
   },
   "outputs": [
    {
     "name": "stdout",
     "output_type": "stream",
     "text": [
      "<class 'pandas.core.frame.DataFrame'>\n",
      "Index: 119394 entries, 0 to 119937\n",
      "Data columns (total 15 columns):\n",
      " #   Column             Non-Null Count   Dtype \n",
      "---  ------             --------------   ----- \n",
      " 0   adult              119394 non-null  object\n",
      " 1   budget             119394 non-null  object\n",
      " 2   imdb_id            119394 non-null  object\n",
      " 3   original_language  119394 non-null  object\n",
      " 4   original_title     119394 non-null  object\n",
      " 5   release_date       119073 non-null  object\n",
      " 6   revenue            119073 non-null  object\n",
      " 7   runtime            118752 non-null  object\n",
      " 8   title              118752 non-null  object\n",
      " 9   vote_average       118752 non-null  object\n",
      " 10  vote_count         118752 non-null  object\n",
      " 11  genre_names        119394 non-null  object\n",
      " 12  company_names      119073 non-null  object\n",
      " 13  director_names     118752 non-null  object\n",
      " 14  actor_names        118752 non-null  object\n",
      "dtypes: object(15)\n",
      "memory usage: 14.6+ MB\n"
     ]
    }
   ],
   "source": [
    "# Sanity check\n",
    "\n",
    "clean_metadata_df.info()"
   ]
  },
  {
   "cell_type": "markdown",
   "id": "0374c11e-3424-40e5-8c73-601752925bf5",
   "metadata": {},
   "source": [
    "Finally, we will also check and filter out any titles where `Adult` = False, since we won't be using those titles for this analysis."
   ]
  },
  {
   "cell_type": "code",
   "execution_count": 212,
   "id": "61394584-fc8e-4252-93c5-d6500ad3aad1",
   "metadata": {
    "tags": []
   },
   "outputs": [],
   "source": [
    "# Filter to only include rows where 'adult' is 'False'\n",
    "\n",
    "clean_metadata_df = clean_metadata_df[clean_metadata_df['adult'] == 'False']"
   ]
  },
  {
   "cell_type": "markdown",
   "id": "daf64807-d825-4463-aa68-decf7868d68a",
   "metadata": {},
   "source": [
    "We'll convert revenue, runtime, and budget to float values."
   ]
  },
  {
   "cell_type": "code",
   "execution_count": 215,
   "id": "c36952b0-994f-4a3f-8761-6b22d79f032f",
   "metadata": {
    "tags": []
   },
   "outputs": [],
   "source": [
    "# Convert 'runtime' column to float\n",
    "\n",
    "clean_metadata_df['runtime'] = clean_metadata_df['runtime'].astype(float)"
   ]
  },
  {
   "cell_type": "code",
   "execution_count": 216,
   "id": "acf37594-4853-4b10-823a-dde89f87cc22",
   "metadata": {
    "tags": []
   },
   "outputs": [],
   "source": [
    "# Convert 'budget' column to float\n",
    "\n",
    "clean_metadata_df['budget'] = clean_metadata_df['budget'].astype(float)"
   ]
  },
  {
   "cell_type": "code",
   "execution_count": 217,
   "id": "664fa239-d294-4abc-ab3c-18ca9d6f99e5",
   "metadata": {
    "tags": []
   },
   "outputs": [],
   "source": [
    "# Convert 'revenue' column to float\n",
    "\n",
    "clean_metadata_df['revenue'] = clean_metadata_df['revenue'].astype(float)"
   ]
  },
  {
   "cell_type": "markdown",
   "id": "2b74a862-dc41-470c-b81e-e601f2087f42",
   "metadata": {},
   "source": [
    "Let's convert `release_date` to datetime and extract the year."
   ]
  },
  {
   "cell_type": "code",
   "execution_count": 220,
   "id": "053e313a-eb73-483e-b914-eb9d8bebcf55",
   "metadata": {
    "tags": []
   },
   "outputs": [],
   "source": [
    "# Convert 'release_date' to datetime\n",
    "\n",
    "clean_metadata_df['release_date'] = pd.to_datetime(clean_metadata_df['release_date'], errors='coerce')"
   ]
  },
  {
   "cell_type": "code",
   "execution_count": 223,
   "id": "cd385668-5c51-4202-aa2c-42e4d4c19192",
   "metadata": {
    "tags": []
   },
   "outputs": [],
   "source": [
    "# Extract just the year and create a new column for it\n",
    "\n",
    "clean_metadata_df['year'] = clean_metadata_df['release_date'].dt.year"
   ]
  },
  {
   "cell_type": "code",
   "execution_count": 224,
   "id": "9314692d-31de-4e05-9f0d-05922b232f23",
   "metadata": {
    "tags": []
   },
   "outputs": [
    {
     "name": "stdout",
     "output_type": "stream",
     "text": [
      "<class 'pandas.core.frame.DataFrame'>\n",
      "Index: 119073 entries, 0 to 119937\n",
      "Data columns (total 17 columns):\n",
      " #   Column             Non-Null Count   Dtype         \n",
      "---  ------             --------------   -----         \n",
      " 0   adult              119073 non-null  object        \n",
      " 1   budget             119073 non-null  float64       \n",
      " 2   imdb_id            119073 non-null  object        \n",
      " 3   original_language  119073 non-null  object        \n",
      " 4   original_title     119073 non-null  object        \n",
      " 5   release_date       118323 non-null  datetime64[ns]\n",
      " 6   revenue            118752 non-null  float64       \n",
      " 7   runtime            118752 non-null  float64       \n",
      " 8   title              118752 non-null  object        \n",
      " 9   vote_average       118752 non-null  object        \n",
      " 10  vote_count         118752 non-null  object        \n",
      " 11  genre_names        119073 non-null  object        \n",
      " 12  company_names      118752 non-null  object        \n",
      " 13  director_names     118752 non-null  object        \n",
      " 14  actor_names        118752 non-null  object        \n",
      " 15  release_year       118323 non-null  float64       \n",
      " 16  year               118323 non-null  float64       \n",
      "dtypes: datetime64[ns](1), float64(5), object(11)\n",
      "memory usage: 16.4+ MB\n"
     ]
    }
   ],
   "source": [
    "# Sanity check\n",
    "\n",
    "clean_metadata_df.info()"
   ]
  },
  {
   "cell_type": "markdown",
   "id": "19727048-71b1-470e-b0e8-a2e609472a97",
   "metadata": {},
   "source": [
    "Let's drop the `adult` and `original_title` columns, since we don't need them. We'll also re-order and rename some of our columns."
   ]
  },
  {
   "cell_type": "code",
   "execution_count": 225,
   "id": "f4d06352-3613-42b6-b50f-be98f3ee3284",
   "metadata": {
    "tags": []
   },
   "outputs": [],
   "source": [
    "# Drop adult column \n",
    "\n",
    "clean_metadata_df = clean_metadata_df.drop(['adult'], axis=1)"
   ]
  },
  {
   "cell_type": "code",
   "execution_count": 226,
   "id": "b3f91388-187d-45b3-af06-867b19ce8fc9",
   "metadata": {
    "tags": []
   },
   "outputs": [],
   "source": [
    "# Drop original_title column \n",
    "\n",
    "clean_metadata_df = clean_metadata_df.drop(['original_title'], axis=1)"
   ]
  },
  {
   "cell_type": "code",
   "execution_count": 227,
   "id": "164d3960-6be8-408e-b57a-c7ce932fb886",
   "metadata": {
    "tags": []
   },
   "outputs": [
    {
     "name": "stdout",
     "output_type": "stream",
     "text": [
      "<class 'pandas.core.frame.DataFrame'>\n",
      "Index: 119073 entries, 0 to 119937\n",
      "Data columns (total 15 columns):\n",
      " #   Column             Non-Null Count   Dtype         \n",
      "---  ------             --------------   -----         \n",
      " 0   budget             119073 non-null  float64       \n",
      " 1   imdb_id            119073 non-null  object        \n",
      " 2   original_language  119073 non-null  object        \n",
      " 3   release_date       118323 non-null  datetime64[ns]\n",
      " 4   revenue            118752 non-null  float64       \n",
      " 5   runtime            118752 non-null  float64       \n",
      " 6   title              118752 non-null  object        \n",
      " 7   vote_average       118752 non-null  object        \n",
      " 8   vote_count         118752 non-null  object        \n",
      " 9   genre_names        119073 non-null  object        \n",
      " 10  company_names      118752 non-null  object        \n",
      " 11  director_names     118752 non-null  object        \n",
      " 12  actor_names        118752 non-null  object        \n",
      " 13  release_year       118323 non-null  float64       \n",
      " 14  year               118323 non-null  float64       \n",
      "dtypes: datetime64[ns](1), float64(5), object(9)\n",
      "memory usage: 14.5+ MB\n"
     ]
    }
   ],
   "source": [
    "# Check \n",
    "\n",
    "clean_metadata_df.info()"
   ]
  },
  {
   "cell_type": "code",
   "execution_count": 228,
   "id": "db328e38-4bb9-4e90-a458-8ccbe0af898e",
   "metadata": {
    "tags": []
   },
   "outputs": [],
   "source": [
    "# Rename columns \n",
    "\n",
    "clean_metadata_df = clean_metadata_df.rename(columns={\n",
    "    'director_names': 'directors',\n",
    "    'actor_names': 'actors', \n",
    "    'vote_average': 'rating',\n",
    "    'vote_count': 'votes',\n",
    "    'company_names': 'production_companies',\n",
    "    'genre_names': 'genres',\n",
    "    'revenue': 'box_office_gross'\n",
    "})"
   ]
  },
  {
   "cell_type": "code",
   "execution_count": 235,
   "id": "e2f0f0a4-a81b-4769-aa0c-ec4f5cf2608f",
   "metadata": {
    "tags": []
   },
   "outputs": [],
   "source": [
    "# Save new column order \n",
    "\n",
    "new_column_order = ['imdb_id', \n",
    "                    'title', \n",
    "                    'actors',\n",
    "                    'directors',\n",
    "                    'genres',\n",
    "                    'original_language',\n",
    "                    'year',\n",
    "                    'runtime',   \n",
    "                    'budget', \n",
    "                    'box_office_gross',\n",
    "                    'production_companies',\n",
    "                    'votes',\n",
    "                    'rating'\n",
    "                   ]"
   ]
  },
  {
   "cell_type": "code",
   "execution_count": 236,
   "id": "1633dc66-208e-4c31-8bed-3cfa467d63a8",
   "metadata": {
    "tags": []
   },
   "outputs": [],
   "source": [
    "# Change column order \n",
    "\n",
    "clean_metadata_df = clean_metadata_df[new_column_order]"
   ]
  },
  {
   "cell_type": "code",
   "execution_count": 239,
   "id": "02bcf824-6746-4ac0-81c7-b56d26b1239e",
   "metadata": {
    "tags": []
   },
   "outputs": [
    {
     "name": "stdout",
     "output_type": "stream",
     "text": [
      "<class 'pandas.core.frame.DataFrame'>\n",
      "Index: 119073 entries, 0 to 119937\n",
      "Data columns (total 13 columns):\n",
      " #   Column                Non-Null Count   Dtype  \n",
      "---  ------                --------------   -----  \n",
      " 0   imdb_id               119073 non-null  object \n",
      " 1   title                 118752 non-null  object \n",
      " 2   actors                118752 non-null  object \n",
      " 3   directors             118752 non-null  object \n",
      " 4   genres                119073 non-null  object \n",
      " 5   original_language     119073 non-null  object \n",
      " 6   year                  118323 non-null  float64\n",
      " 7   runtime               118752 non-null  float64\n",
      " 8   budget                119073 non-null  float64\n",
      " 9   box_office_gross      118752 non-null  float64\n",
      " 10  production_companies  118752 non-null  object \n",
      " 11  votes                 118752 non-null  object \n",
      " 12  rating                118752 non-null  object \n",
      "dtypes: float64(4), object(9)\n",
      "memory usage: 12.7+ MB\n"
     ]
    }
   ],
   "source": [
    "# Check \n",
    "\n",
    "clean_metadata_df.info()"
   ]
  },
  {
   "cell_type": "markdown",
   "id": "937e7cf0-a1da-43a0-818f-accc985c1e8c",
   "metadata": {
    "tags": []
   },
   "source": [
    "Let's filter this list based on the list of IDs that we extracted and saved to a text file in our main MovieLens cleaning notebook."
   ]
  },
  {
   "cell_type": "code",
   "execution_count": 240,
   "id": "5e697c24-bb68-487f-82c6-f5d4553750ea",
   "metadata": {
    "tags": []
   },
   "outputs": [],
   "source": [
    "with open('data/cleaned_csv/final_ids.txt', 'r') as f:\n",
    "    final_ids = [line.strip() for line in f.readlines()]"
   ]
  },
  {
   "cell_type": "code",
   "execution_count": 241,
   "id": "e9b37741-c91d-4614-b3c4-c3f45ed7c513",
   "metadata": {
    "tags": []
   },
   "outputs": [],
   "source": [
    "# Filter the DataFrame to only include rows whose 'imdb_id' is in the list 'final_ids'\n",
    "filtered_df = clean_metadata_df[clean_metadata_df['imdb_id'].isin(final_ids)]"
   ]
  },
  {
   "cell_type": "code",
   "execution_count": 246,
   "id": "8e9244bc-3723-4983-bb64-281a728c3c18",
   "metadata": {
    "tags": []
   },
   "outputs": [
    {
     "name": "stdout",
     "output_type": "stream",
     "text": [
      "<class 'pandas.core.frame.DataFrame'>\n",
      "RangeIndex: 52078 entries, 0 to 52077\n",
      "Data columns (total 13 columns):\n",
      " #   Column                Non-Null Count  Dtype  \n",
      "---  ------                --------------  -----  \n",
      " 0   imdb_id               52078 non-null  object \n",
      " 1   title                 52078 non-null  object \n",
      " 2   actors                51764 non-null  object \n",
      " 3   directors             52013 non-null  object \n",
      " 4   genres                52078 non-null  object \n",
      " 5   original_language     51346 non-null  object \n",
      " 6   year                  52077 non-null  float64\n",
      " 7   runtime               52030 non-null  float64\n",
      " 8   budget                18166 non-null  float64\n",
      " 9   box_office_gross      21525 non-null  float64\n",
      " 10  production_companies  50883 non-null  object \n",
      " 11  votes                 52078 non-null  int64  \n",
      " 12  rating                52078 non-null  float64\n",
      "dtypes: float64(5), int64(1), object(7)\n",
      "memory usage: 5.2+ MB\n"
     ]
    }
   ],
   "source": [
    "filtered_df.info()"
   ]
  },
  {
   "cell_type": "markdown",
   "id": "59d561e3-c730-4101-b7e2-f887f9441397",
   "metadata": {},
   "source": [
    "Let's now save `clean_metadata_df` to a JSON file so we can preserve the cleaning we've done. We'll be using this to fill in missing vaules from our main data."
   ]
  },
  {
   "cell_type": "code",
   "execution_count": 247,
   "id": "889c21ae-1357-4fae-8cde-46b322a0c287",
   "metadata": {
    "tags": []
   },
   "outputs": [],
   "source": [
    "# RUN ONLY ONCE\n",
    "# Save filtered_df to a JSON file\n",
    "\n",
    "filtered_df.to_json('data/cleaned_csv/clean_metadata.json', orient='records', lines=True)"
   ]
  },
  {
   "cell_type": "markdown",
   "id": "33531570-7e5a-4696-88fd-6511b8f4f318",
   "metadata": {},
   "source": [
    "Great! Now we have our reasonably clean metadata. We'll open the JSON file in our main notebook to create our final dataframe for EDA and modeling."
   ]
  },
  {
   "cell_type": "code",
   "execution_count": null,
   "id": "cc258c95-e74f-4494-9594-29652266c608",
   "metadata": {},
   "outputs": [],
   "source": []
  }
 ],
 "metadata": {
  "kernelspec": {
   "display_name": "Python 3 (ipykernel)",
   "language": "python",
   "name": "python3"
  },
  "language_info": {
   "codemirror_mode": {
    "name": "ipython",
    "version": 3
   },
   "file_extension": ".py",
   "mimetype": "text/x-python",
   "name": "python",
   "nbconvert_exporter": "python",
   "pygments_lexer": "ipython3",
   "version": "3.11.3"
  }
 },
 "nbformat": 4,
 "nbformat_minor": 5
}
